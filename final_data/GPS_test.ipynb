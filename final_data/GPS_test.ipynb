{
 "cells": [
  {
   "cell_type": "code",
   "execution_count": 1,
   "metadata": {},
   "outputs": [],
   "source": [
    "import pandas as pd\n",
    "import numpy as np\n",
    "import os"
   ]
  },
  {
   "cell_type": "code",
   "execution_count": 2,
   "metadata": {},
   "outputs": [
    {
     "name": "stdout",
     "output_type": "stream",
     "text": [
      "c:\\Users\\sydwi\\Desktop\\QSML\\data\\QS4ML-VU-100\\final_data\n"
     ]
    }
   ],
   "source": [
    "print(os.getcwd())"
   ]
  },
  {
   "cell_type": "code",
   "execution_count": 12,
   "metadata": {},
   "outputs": [
    {
     "name": "stderr",
     "output_type": "stream",
     "text": [
      "C:\\Users\\sydwi\\AppData\\Local\\Temp\\ipykernel_28792\\692278334.py:13: DtypeWarning: Columns (16,17) have mixed types. Specify dtype option on import or set low_memory=False.\n",
      "  merged_data = pd.read_csv(os.getcwd()+merged_file_path+raw_marge_file[i])\n"
     ]
    },
    {
     "name": "stdout",
     "output_type": "stream",
     "text": [
      "对于 walk 数据集中的 altitude 列，原始数据集中的非空值个数为 1，合并数据集中的非空值个数为 1\n",
      "对于 walk 数据集中的 course 列，原始数据集中的非空值个数为 1，合并数据集中的非空值个数为 1\n",
      "对于 walk 数据集中的 hacc 列，原始数据集中的非空值个数为 1，合并数据集中的非空值个数为 1\n",
      "对于 walk 数据集中的 latitude 列，原始数据集中的非空值个数为 1，合并数据集中的非空值个数为 1\n",
      "对于 walk 数据集中的 longitude 列，原始数据集中的非空值个数为 1，合并数据集中的非空值个数为 1\n",
      "对于 walk 数据集中的 speed 列，原始数据集中的非空值个数为 1，合并数据集中的非空值个数为 1\n",
      "对于 bike 数据集中的 altitude 列，原始数据集中的非空值个数为 7，合并数据集中的非空值个数为 7\n",
      "对于 bike 数据集中的 course 列，原始数据集中的非空值个数为 7，合并数据集中的非空值个数为 7\n",
      "对于 bike 数据集中的 hacc 列，原始数据集中的非空值个数为 7，合并数据集中的非空值个数为 7\n",
      "对于 bike 数据集中的 latitude 列，原始数据集中的非空值个数为 7，合并数据集中的非空值个数为 7\n",
      "对于 bike 数据集中的 longitude 列，原始数据集中的非空值个数为 7，合并数据集中的非空值个数为 7\n",
      "对于 bike 数据集中的 speed 列，原始数据集中的非空值个数为 7，合并数据集中的非空值个数为 7\n",
      "对于 run 数据集中的 altitude 列，原始数据集中的非空值个数为 7，合并数据集中的非空值个数为 7\n",
      "对于 run 数据集中的 course 列，原始数据集中的非空值个数为 7，合并数据集中的非空值个数为 7\n",
      "对于 run 数据集中的 hacc 列，原始数据集中的非空值个数为 7，合并数据集中的非空值个数为 7\n",
      "对于 run 数据集中的 latitude 列，原始数据集中的非空值个数为 7，合并数据集中的非空值个数为 7\n",
      "对于 run 数据集中的 longitude 列，原始数据集中的非空值个数为 7，合并数据集中的非空值个数为 7\n",
      "对于 run 数据集中的 speed 列，原始数据集中的非空值个数为 7，合并数据集中的非空值个数为 7\n",
      "对于 sit 数据集中的 altitude 列，原始数据集中的非空值个数为 6，合并数据集中的非空值个数为 9\n",
      "对于 sit 数据集中的 course 列，原始数据集中的非空值个数为 6，合并数据集中的非空值个数为 9\n",
      "对于 sit 数据集中的 hacc 列，原始数据集中的非空值个数为 6，合并数据集中的非空值个数为 9\n",
      "对于 sit 数据集中的 latitude 列，原始数据集中的非空值个数为 6，合并数据集中的非空值个数为 9\n",
      "对于 sit 数据集中的 longitude 列，原始数据集中的非空值个数为 6，合并数据集中的非空值个数为 9\n",
      "对于 sit 数据集中的 speed 列，原始数据集中的非空值个数为 6，合并数据集中的非空值个数为 9\n",
      "对于 syn 数据集中的 altitude 列，原始数据集中的非空值个数为 7，合并数据集中的非空值个数为 7\n",
      "对于 syn 数据集中的 course 列，原始数据集中的非空值个数为 7，合并数据集中的非空值个数为 7\n",
      "对于 syn 数据集中的 hacc 列，原始数据集中的非空值个数为 7，合并数据集中的非空值个数为 7\n",
      "对于 syn 数据集中的 latitude 列，原始数据集中的非空值个数为 7，合并数据集中的非空值个数为 7\n",
      "对于 syn 数据集中的 longitude 列，原始数据集中的非空值个数为 7，合并数据集中的非空值个数为 7\n",
      "对于 syn 数据集中的 speed 列，原始数据集中的非空值个数为 7，合并数据集中的非空值个数为 7\n"
     ]
    },
    {
     "name": "stderr",
     "output_type": "stream",
     "text": [
      "C:\\Users\\sydwi\\AppData\\Local\\Temp\\ipykernel_28792\\692278334.py:13: DtypeWarning: Columns (16,17) have mixed types. Specify dtype option on import or set low_memory=False.\n",
      "  merged_data = pd.read_csv(os.getcwd()+merged_file_path+raw_marge_file[i])\n"
     ]
    }
   ],
   "source": [
    "raw_mat_file_path = '\\\\mat_data\\\\raw\\\\'\n",
    "raw_mat_file =['sensorlog_20240606_114748 walk-raw.csv','sensorlog_20240606_115847 cycling-raw.csv',\n",
    "           'sensorlog_20240606_120745 run-raw.csv','sensorlog_20240606_121202 sit-raw.csv','sensorlog_20240606_121611 synthesis-raw.csv']\n",
    "\n",
    "merged_file_path = '\\\\raw_merge_data\\\\'\n",
    "raw_marge_file=['walk_merge_raw.csv','bike_merge_raw.csv','run_merge_raw.csv','sit_merge_raw.csv','syn_merge_raw.csv']\n",
    "\n",
    "colums=['altitude','course','hacc','latitude','longitude','speed']\n",
    "tablename = ['walk','bike','run','sit','syn']\n",
    "\n",
    "for i in range(5):\n",
    "    mat_data = pd.read_csv(os.getcwd().replace('\\\\final_data','')+raw_mat_file_path+raw_mat_file[i])\n",
    "    merged_data = pd.read_csv(os.getcwd()+merged_file_path+raw_marge_file[i])\n",
    "    for j in range(6):\n",
    "        non_nan_count_mat = mat_data[colums[j]].notna().sum()\n",
    "        non_nan_count_merge = merged_data[colums[j]].notna().sum()\n",
    "        print(f\"对于 {tablename[i]} 数据集中的 {colums[j]} 列，原始数据集中的非空值个数为 {non_nan_count_mat}，合并数据集中的非空值个数为 {non_nan_count_merge}\")\n",
    "\n",
    "\n",
    "\n"
   ]
  }
 ],
 "metadata": {
  "kernelspec": {
   "display_name": "Env1",
   "language": "python",
   "name": "python3"
  },
  "language_info": {
   "codemirror_mode": {
    "name": "ipython",
    "version": 3
   },
   "file_extension": ".py",
   "mimetype": "text/x-python",
   "name": "python",
   "nbconvert_exporter": "python",
   "pygments_lexer": "ipython3",
   "version": "3.10.13"
  }
 },
 "nbformat": 4,
 "nbformat_minor": 2
}
