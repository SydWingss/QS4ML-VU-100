{
 "cells": [
  {
   "cell_type": "code",
   "execution_count": 36,
   "metadata": {},
   "outputs": [],
   "source": [
    "import pandas as pd \n",
    "import numpy as np\n",
    "import os"
   ]
  },
  {
   "cell_type": "code",
   "execution_count": 3,
   "metadata": {},
   "outputs": [
    {
     "name": "stdout",
     "output_type": "stream",
     "text": [
      "c:\\Users\\sydwi\\Desktop\\QSML\\data\\QS4ML-VU-100\\final_data\n"
     ]
    }
   ],
   "source": [
    "print(os.getcwd())"
   ]
  },
  {
   "cell_type": "code",
   "execution_count": 38,
   "metadata": {},
   "outputs": [],
   "source": [
    "#此处所有文件都是raw文件\n",
    "\n",
    "heart_file_path = 'band_data\\\\raw\\\\'\n",
    "heart_rate_file = 'heart-rate-raw.csv'\n",
    "\n",
    "band_file_path = 'band_data\\\\raw\\\\'\n",
    "band_file=['band-walk-raw.csv','band-bike-raw.csv','band-run-raw.csv','band-sit-raw.csv','band-syn-raw.csv']\n",
    "\n",
    "mat_file_path = 'mat_data\\\\raw\\\\'\n",
    "mat_file =['sensorlog_20240606_114748 walk-raw.csv','sensorlog_20240606_115847 cycling-raw.csv',\n",
    "           'sensorlog_20240606_120745 run-raw.csv','sensorlog_20240606_121202 sit-raw.csv','sensorlog_20240606_121611 synthesis-raw.csv']\n",
    "\n",
    "phone_file_path = 'phone_data\\\\raw\\\\'\n",
    "phone_file = ['test_phone.csv','train_phone.csv']\n",
    "\n"
   ]
  },
  {
   "cell_type": "code",
   "execution_count": 26,
   "metadata": {},
   "outputs": [
    {
     "name": "stdout",
     "output_type": "stream",
     "text": [
      "check band data-------------------------\n",
      "(2124, 4)\n",
      "dateTime     object\n",
      "BandAccX    float64\n",
      "BandAccY    float64\n",
      "BandAccZ    float64\n",
      "dtype: object\n",
      "2024-06-06 11:48:12.529\n",
      "Index(['dateTime', 'BandAccX', 'BandAccY', 'BandAccZ'], dtype='object')\n",
      "check band data-------------------------\n",
      "(1792, 4)\n",
      "dateTime     object\n",
      "BandAccX    float64\n",
      "BandAccY    float64\n",
      "BandAccZ    float64\n",
      "dtype: object\n",
      "2024-06-06 11:59:14.317\n",
      "Index(['dateTime', 'BandAccX', 'BandAccY', 'BandAccZ'], dtype='object')\n",
      "check band data-------------------------\n",
      "(716, 4)\n",
      "dateTime     object\n",
      "BandAccX    float64\n",
      "BandAccY    float64\n",
      "BandAccZ    float64\n",
      "dtype: object\n",
      "2024-06-06 12:08:02.725\n",
      "Index(['dateTime', 'BandAccX', 'BandAccY', 'BandAccZ'], dtype='object')\n",
      "check band data-------------------------\n",
      "(827, 4)\n",
      "dateTime     object\n",
      "BandAccX    float64\n",
      "BandAccY    float64\n",
      "BandAccZ    float64\n",
      "dtype: object\n",
      "2024-06-06 12:12:22.375\n",
      "Index(['dateTime', 'BandAccX', 'BandAccY', 'BandAccZ'], dtype='object')\n",
      "check band data-------------------------\n",
      "(2351, 4)\n",
      "dateTime     object\n",
      "BandAccX    float64\n",
      "BandAccY    float64\n",
      "BandAccZ    float64\n",
      "dtype: object\n",
      "2024-06-06 12:16:35.141\n",
      "Index(['dateTime', 'BandAccX', 'BandAccY', 'BandAccZ'], dtype='object')\n"
     ]
    }
   ],
   "source": [
    "\n",
    "#检查一下读取后的文件\n",
    "for i in range(0,5):\n",
    "    df_band=pd.read_csv(os.getcwd().replace('final_data',band_file_path)+ band_file[i])\n",
    "    print('check band data-------------------------')\n",
    "    print(df_band.shape)\n",
    "    print(df_band.dtypes)\n",
    "    print(df_band.iloc[0,0])\n",
    "    print(df_band.columns)"
   ]
  },
  {
   "cell_type": "code",
   "execution_count": null,
   "metadata": {},
   "outputs": [],
   "source": [
    "df_heart_rate = pd.read_csv(os.getcwd().replace('final_data',heart_file_path)+heart_rate_file) \n",
    "print('check heart data-------------------------')\n",
    "print(df_heart_rate.shape)\n",
    "print(df_heart_rate.dtypes)\n",
    "print(df_heart_rate.iloc[0,0])\n",
    "print(df_heart_rate.columns)"
   ]
  },
  {
   "cell_type": "code",
   "execution_count": 30,
   "metadata": {},
   "outputs": [
    {
     "name": "stdout",
     "output_type": "stream",
     "text": [
      "check mat data-------------------------\n",
      "(32297, 11)\n",
      "Timestamp     object\n",
      "X            float64\n",
      "Y            float64\n",
      "Z            float64\n",
      "Type          object\n",
      "altitude     float64\n",
      "course       float64\n",
      "hacc         float64\n",
      "latitude     float64\n",
      "longitude    float64\n",
      "speed        float64\n",
      "dtype: object\n",
      "06-Jun-2024 11:47:48.119\n",
      "Index(['Timestamp', 'X', 'Y', 'Z', 'Type', 'altitude', 'course', 'hacc',\n",
      "       'latitude', 'longitude', 'speed'],\n",
      "      dtype='object')\n",
      "check mat data-------------------------\n",
      "(28120, 11)\n",
      "Timestamp     object\n",
      "X            float64\n",
      "Y            float64\n",
      "Z            float64\n",
      "Type          object\n",
      "altitude     float64\n",
      "course       float64\n",
      "hacc         float64\n",
      "latitude     float64\n",
      "longitude    float64\n",
      "speed        float64\n",
      "dtype: object\n",
      "06-Jun-2024 11:58:47.466\n",
      "Index(['Timestamp', 'X', 'Y', 'Z', 'Type', 'altitude', 'course', 'hacc',\n",
      "       'latitude', 'longitude', 'speed'],\n",
      "      dtype='object')\n",
      "check mat data-------------------------\n",
      "(12080, 11)\n",
      "Timestamp     object\n",
      "X            float64\n",
      "Y            float64\n",
      "Z            float64\n",
      "Type          object\n",
      "altitude     float64\n",
      "course       float64\n",
      "hacc         float64\n",
      "latitude     float64\n",
      "longitude    float64\n",
      "speed        float64\n",
      "dtype: object\n",
      "06-Jun-2024 12:07:45.790\n",
      "Index(['Timestamp', 'X', 'Y', 'Z', 'Type', 'altitude', 'course', 'hacc',\n",
      "       'latitude', 'longitude', 'speed'],\n",
      "      dtype='object')\n",
      "check mat data-------------------------\n",
      "(13903, 11)\n",
      "Timestamp     object\n",
      "X            float64\n",
      "Y            float64\n",
      "Z            float64\n",
      "Type          object\n",
      "altitude     float64\n",
      "course       float64\n",
      "hacc         float64\n",
      "latitude     float64\n",
      "longitude    float64\n",
      "speed        float64\n",
      "dtype: object\n",
      "06-Jun-2024 12:12:02.585\n",
      "Index(['Timestamp', 'X', 'Y', 'Z', 'Type', 'altitude', 'course', 'hacc',\n",
      "       'latitude', 'longitude', 'speed'],\n",
      "      dtype='object')\n",
      "check mat data-------------------------\n",
      "(35580, 11)\n",
      "Timestamp     object\n",
      "X            float64\n",
      "Y            float64\n",
      "Z            float64\n",
      "Type          object\n",
      "altitude     float64\n",
      "course       float64\n",
      "hacc         float64\n",
      "latitude     float64\n",
      "longitude    float64\n",
      "speed        float64\n",
      "dtype: object\n",
      "06-Jun-2024 12:16:11.345\n",
      "Index(['Timestamp', 'X', 'Y', 'Z', 'Type', 'altitude', 'course', 'hacc',\n",
      "       'latitude', 'longitude', 'speed'],\n",
      "      dtype='object')\n"
     ]
    }
   ],
   "source": [
    "for i in range(0,5):\n",
    "    df_mat=pd.read_csv(os.getcwd().replace('final_data',mat_file_path)+ mat_file[i])\n",
    "    print('check mat data-------------------------')\n",
    "    print(df_mat.shape)\n",
    "    print(df_mat.dtypes)\n",
    "    print(df_mat.iloc[0,0])\n",
    "    print(df_mat.columns)"
   ]
  },
  {
   "cell_type": "code",
   "execution_count": 32,
   "metadata": {},
   "outputs": [
    {
     "name": "stdout",
     "output_type": "stream",
     "text": [
      "check phone data-------------------------\n",
      "(67, 3)\n",
      "time     object\n",
      "usage    object\n",
      "type     object\n",
      "dtype: object\n",
      "2024-06-06 12:17:17\n",
      "Index(['time', 'usage', 'type'], dtype='object')\n",
      "check phone data-------------------------\n",
      "(177, 3)\n",
      "time     object\n",
      "usage    object\n",
      "type     object\n",
      "dtype: object\n",
      "2024-06-06 11:48:01\n",
      "Index(['time', 'usage', 'type'], dtype='object')\n"
     ]
    }
   ],
   "source": [
    "\n",
    "for i in range(0,2):\n",
    "    df_phone = pd.read_csv(os.getcwd().replace('final_data',phone_file_path)+ phone_file[i])\n",
    "    print('check phone data-------------------------')\n",
    "    print(df_phone.shape)\n",
    "    print(df_phone.dtypes)\n",
    "    print(df_phone.iloc[0,0])\n",
    "    print(df_phone.columns)"
   ]
  },
  {
   "cell_type": "code",
   "execution_count": 34,
   "metadata": {},
   "outputs": [
    {
     "name": "stdout",
     "output_type": "stream",
     "text": [
      "dateTime    datetime64[ns]\n",
      "usage               object\n",
      "type                object\n",
      "dtype: object\n"
     ]
    }
   ],
   "source": [
    "#合并tain data，即 walk，bike，run，sit，syn产生的数据\n",
    "df_phone = pd.read_csv(os.getcwd().replace('final_data',phone_file_path)+ phone_file[0])\n",
    "\n",
    "#处理phone数据\n",
    "# 重命名时间戳，统一为dateTime\n",
    "df_phone.rename(columns={'time': 'dateTime'}, inplace=True)\n",
    "# 把时间戳转化为datetime格式\n",
    "df_phone['dateTime'] = pd.to_datetime(df_phone['dateTime'])\n",
    "\n",
    "#处理heart数据\n",
    "df_heart_rate = pd.read_csv(os.getcwd().replace('final_data',heart_file_path)+heart_rate_file)\n",
    "\n",
    "df_heart_rate['dateTime'] = pd.to_datetime(df_heart_rate['dateTime'])\n",
    "print(df_heart_rate.dtypes)"
   ]
  },
  {
   "cell_type": "code",
   "execution_count": 46,
   "metadata": {},
   "outputs": [
    {
     "ename": "TypeError",
     "evalue": "merge() got multiple values for argument 'on'",
     "output_type": "error",
     "traceback": [
      "\u001b[1;31m---------------------------------------------------------------------------\u001b[0m",
      "\u001b[1;31mTypeError\u001b[0m                                 Traceback (most recent call last)",
      "Cell \u001b[1;32mIn[46], line 25\u001b[0m\n\u001b[0;32m     22\u001b[0m heart_temp \u001b[38;5;241m=\u001b[39m df_heart_rate[(df_heart_rate[\u001b[38;5;124m'\u001b[39m\u001b[38;5;124mdateTime\u001b[39m\u001b[38;5;124m'\u001b[39m]\u001b[38;5;241m>\u001b[39m\u001b[38;5;241m=\u001b[39mmerge_time_start) \u001b[38;5;241m&\u001b[39m (df_heart_rate[\u001b[38;5;124m'\u001b[39m\u001b[38;5;124mdateTime\u001b[39m\u001b[38;5;124m'\u001b[39m]\u001b[38;5;241m<\u001b[39m\u001b[38;5;241m=\u001b[39mmerge_time_end)]\n\u001b[0;32m     23\u001b[0m phone_temp \u001b[38;5;241m=\u001b[39m df_phone[(df_phone[\u001b[38;5;124m'\u001b[39m\u001b[38;5;124mdateTime\u001b[39m\u001b[38;5;124m'\u001b[39m]\u001b[38;5;241m>\u001b[39m\u001b[38;5;241m=\u001b[39mmerge_time_start) \u001b[38;5;241m&\u001b[39m (df_phone[\u001b[38;5;124m'\u001b[39m\u001b[38;5;124mdateTime\u001b[39m\u001b[38;5;124m'\u001b[39m]\u001b[38;5;241m<\u001b[39m\u001b[38;5;241m=\u001b[39mmerge_time_end)]\n\u001b[1;32m---> 25\u001b[0m merge_result \u001b[38;5;241m=\u001b[39m \u001b[43mpd\u001b[49m\u001b[38;5;241;43m.\u001b[39;49m\u001b[43mmerge\u001b[49m\u001b[43m(\u001b[49m\u001b[43mdf_mat\u001b[49m\u001b[43m,\u001b[49m\u001b[43m \u001b[49m\u001b[43mdf_band\u001b[49m\u001b[43m,\u001b[49m\u001b[43mheart_temp\u001b[49m\u001b[43m,\u001b[49m\u001b[43mphone_temp\u001b[49m\u001b[43m,\u001b[49m\u001b[43m \u001b[49m\u001b[43mon\u001b[49m\u001b[38;5;241;43m=\u001b[39;49m\u001b[38;5;124;43m'\u001b[39;49m\u001b[38;5;124;43mdateTime\u001b[39;49m\u001b[38;5;124;43m'\u001b[39;49m\u001b[43m,\u001b[49m\u001b[43m \u001b[49m\u001b[43mhow\u001b[49m\u001b[38;5;241;43m=\u001b[39;49m\u001b[38;5;124;43m'\u001b[39;49m\u001b[38;5;124;43mouter\u001b[39;49m\u001b[38;5;124;43m'\u001b[39;49m\u001b[43m)\u001b[49m\n\u001b[0;32m     26\u001b[0m merge_result \u001b[38;5;241m=\u001b[39m merge_result[(df_mat_band[\u001b[38;5;124m'\u001b[39m\u001b[38;5;124mdateTime\u001b[39m\u001b[38;5;124m'\u001b[39m]\u001b[38;5;241m>\u001b[39m\u001b[38;5;241m=\u001b[39mmerge_time_start) \u001b[38;5;241m&\u001b[39m (df_mat_band[\u001b[38;5;124m'\u001b[39m\u001b[38;5;124mdateTime\u001b[39m\u001b[38;5;124m'\u001b[39m]\u001b[38;5;241m<\u001b[39m\u001b[38;5;241m=\u001b[39mmerge_time_end)]\n\u001b[0;32m     31\u001b[0m \u001b[38;5;66;03m#merge_data = pd.merge(df_phone, df_heart_rate, on='dateTime', how='inner')\u001b[39;00m\n\u001b[0;32m     32\u001b[0m \n\u001b[0;32m     33\u001b[0m \u001b[38;5;66;03m#merge_data.to_csv(os.getcwd()+'//raw_data_merge'+raw_marge_file[i],index=False)\u001b[39;00m\n",
      "\u001b[1;31mTypeError\u001b[0m: merge() got multiple values for argument 'on'"
     ]
    }
   ],
   "source": [
    "#合并后数据的存储路径\n",
    "raw_marge_file=['walk_merge_raw.csv','bike_merge_raw.csv','run_merge_raw.csv','sit_merge_raw.csv','syn_merge_raw.csv']\n",
    "\n",
    "for i in range(0,1):\n",
    "    #读取band数据\n",
    "    df_band=pd.read_csv(os.getcwd().replace('final_data',band_file_path)+ band_file[i])\n",
    "    df_band['dateTime'] = pd.to_datetime(df_band['dateTime'])\n",
    "    #读取mat数据\n",
    "    df_mat=pd.read_csv(os.getcwd().replace('final_data',mat_file_path)+ mat_file[i])\n",
    "    df_mat.rename(columns={'Timestamp': 'dateTime'}, inplace=True)\n",
    "    df_mat['dateTime'] = pd.to_datetime(df_mat['dateTime'])\n",
    "    \n",
    "    #计算时间起始\n",
    "    band_start = df_band['dateTime'][0]\n",
    "    band_end = df_band['dateTime'][len(df_band)-1]\n",
    "    mat_start = df_mat['dateTime'][0]\n",
    "    mat_end = df_mat['dateTime'][len(df_mat)-1]\n",
    "    #计算合并时间起始\n",
    "    merge_time_start = max(band_start,mat_start)\n",
    "    merge_time_end = min(band_end,mat_end)\n",
    "    \n",
    "    heart_temp = df_heart_rate[(df_heart_rate['dateTime']>=merge_time_start) & (df_heart_rate['dateTime']<=merge_time_end)]\n",
    "    phone_temp = df_phone[(df_phone['dateTime']>=merge_time_start) & (df_phone['dateTime']<=merge_time_end)]\n",
    "    \n",
    "    dfs=[df_band,df_mat,heart_temp,phone_temp]\n",
    "    merge_result = pd.concat(dfs)\n",
    "    merge_result = merge_result[(df_mat_band['dateTime']>=merge_time_start) & (df_mat_band['dateTime']<=merge_time_end)]\n",
    "    \n",
    "    \n",
    "    \n",
    "    \n",
    "    \n",
    "    #merge_data = pd.merge(df_phone, df_heart_rate, on='dateTime', how='inner')\n",
    "    \n",
    "    #merge_data.to_csv(os.getcwd()+'//raw_data_merge'+raw_marge_file[i],index=False)\n",
    "    \n",
    "    \n",
    "      "
   ]
  }
 ],
 "metadata": {
  "kernelspec": {
   "display_name": "Env1",
   "language": "python",
   "name": "python3"
  },
  "language_info": {
   "codemirror_mode": {
    "name": "ipython",
    "version": 3
   },
   "file_extension": ".py",
   "mimetype": "text/x-python",
   "name": "python",
   "nbconvert_exporter": "python",
   "pygments_lexer": "ipython3",
   "version": "3.10.13"
  }
 },
 "nbformat": 4,
 "nbformat_minor": 2
}
