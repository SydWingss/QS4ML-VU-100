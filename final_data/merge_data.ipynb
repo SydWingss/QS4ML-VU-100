{
 "cells": [
  {
   "cell_type": "code",
   "execution_count": 9,
   "metadata": {},
   "outputs": [],
   "source": [
    "import pandas as pd \n",
    "import numpy as np\n",
    "import os\n",
    "from functools import reduce"
   ]
  },
  {
   "cell_type": "code",
   "execution_count": 2,
   "metadata": {},
   "outputs": [
    {
     "name": "stdout",
     "output_type": "stream",
     "text": [
      "c:\\Users\\sydwi\\Desktop\\QSML\\data\\QS4ML-VU-100\\final_data\n"
     ]
    }
   ],
   "source": [
    "print(os.getcwd())"
   ]
  },
  {
   "cell_type": "code",
   "execution_count": 3,
   "metadata": {},
   "outputs": [],
   "source": [
    "#此处所有文件都是raw文件\n",
    "\n",
    "heart_file_path = 'band_data\\\\raw\\\\'\n",
    "heart_rate_file = 'heart-rate-raw.csv'\n",
    "\n",
    "band_file_path = 'band_data\\\\raw\\\\'\n",
    "band_file=['band-walk-raw.csv','band-bike-raw.csv','band-run-raw.csv','band-sit-raw.csv','band-syn-raw.csv']\n",
    "\n",
    "mat_file_path = 'mat_data\\\\raw\\\\'\n",
    "mat_file =['sensorlog_20240606_114748 walk-raw.csv','sensorlog_20240606_115847 cycling-raw.csv',\n",
    "           'sensorlog_20240606_120745 run-raw.csv','sensorlog_20240606_121202 sit-raw.csv','sensorlog_20240606_121611 synthesis-raw.csv']\n",
    "\n",
    "phone_file_path = 'phone_data\\\\raw\\\\'\n",
    "phone_file = ['test_phone.csv','train_phone.csv']\n",
    "\n"
   ]
  },
  {
   "cell_type": "code",
   "execution_count": 4,
   "metadata": {},
   "outputs": [],
   "source": [
    "#处理phone数据\n",
    "df_phone_test = pd.read_csv(os.getcwd().replace('final_data',phone_file_path)+ phone_file[0])\n",
    "df_phone_train = pd.read_csv(os.getcwd().replace('final_data',phone_file_path)+ phone_file[1])\n",
    "#合并两个表\n",
    "df_phone = pd.concat([df_phone_test,df_phone_train],ignore_index=True)\n",
    "# 重命名时间戳，统一为dateTime\n",
    "df_phone.rename(columns={'time': 'dateTime'}, inplace=True)\n",
    "df_phone.rename(columns={'type': 'deviceStatus'}, inplace=True)\n",
    "# 把时间戳转化为datetime格式\n",
    "df_phone['dateTime'] = pd.to_datetime(df_phone['dateTime'])\n",
    "# 按时间戳排序\n",
    "df_phone = df_phone.sort_values(by='dateTime')\n",
    "# 重置索引\n",
    "df_phone = df_phone.reset_index(drop=True)\n",
    "\n",
    "#处理heart数据\n",
    "df_heart_rate = pd.read_csv(os.getcwd().replace('final_data',heart_file_path)+heart_rate_file)\n",
    "\n",
    "df_heart_rate['dateTime'] = pd.to_datetime(df_heart_rate['dateTime'])\n"
   ]
  },
  {
   "cell_type": "code",
   "execution_count": 11,
   "metadata": {},
   "outputs": [],
   "source": [
    "#合并后数据的存储路径\n",
    "raw_marge_file=['walk_merge_raw.csv','bike_merge_raw.csv','run_merge_raw.csv','sit_merge_raw.csv','syn_merge_raw.csv']\n",
    "\n",
    "for i in range(0,5):\n",
    "    #读取band数据\n",
    "    df_band=pd.read_csv(os.getcwd().replace('final_data',band_file_path)+ band_file[i])\n",
    "    df_band['dateTime'] = pd.to_datetime(df_band['dateTime'])\n",
    "    #读取mat数据\n",
    "    df_mat=pd.read_csv(os.getcwd().replace('final_data',mat_file_path)+ mat_file[i])\n",
    "    df_mat.rename(columns={'Timestamp': 'dateTime'}, inplace=True)\n",
    "    df_mat['dateTime'] = pd.to_datetime(df_mat['dateTime'])\n",
    "    \n",
    "    \n",
    "    #计算时间起始\n",
    "    band_start = df_band['dateTime'][0]\n",
    "    band_end = df_band['dateTime'][len(df_band)-1]\n",
    "    mat_start = df_mat['dateTime'][0]\n",
    "    mat_end = df_mat['dateTime'][len(df_mat)-1]\n",
    "    #计算合并时间起始\n",
    "    merge_time_start = min(band_start,mat_start)\n",
    "    merge_time_end = max(band_end,mat_end)\n",
    "    \n",
    "    #筛选心跳和手机数据的时间段\n",
    "    heart_temp = df_heart_rate[(df_heart_rate['dateTime']>=merge_time_start) & (df_heart_rate['dateTime']<=merge_time_end)]\n",
    "    phone_temp = df_phone[(df_phone['dateTime']>=merge_time_start) & (df_phone['dateTime']<=merge_time_end)]\n",
    "    \n",
    "    dfs=[df_band,df_mat,heart_temp,phone_temp]\n",
    "    #合并数据\n",
    "    merge_result = reduce(lambda left, right: pd.merge(left, right, on='dateTime', how='outer'), dfs)\n",
    "    #筛选合并后的数据时间段\n",
    "    merge_result = merge_result[(merge_result['dateTime']>=merge_time_start) & (merge_result['dateTime']<=merge_time_end)]\n",
    "    #保存合并后的数据\n",
    "    merge_result.to_csv(os.getcwd()+'//raw_merge_data//'+raw_marge_file[i],index=False)\n",
    "      "
   ]
  }
 ],
 "metadata": {
  "kernelspec": {
   "display_name": "Env1",
   "language": "python",
   "name": "python3"
  },
  "language_info": {
   "codemirror_mode": {
    "name": "ipython",
    "version": 3
   },
   "file_extension": ".py",
   "mimetype": "text/x-python",
   "name": "python",
   "nbconvert_exporter": "python",
   "pygments_lexer": "ipython3",
   "version": "3.10.13"
  }
 },
 "nbformat": 4,
 "nbformat_minor": 2
}
