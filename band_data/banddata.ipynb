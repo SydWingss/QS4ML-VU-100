{
 "cells": [
  {
   "cell_type": "code",
   "execution_count": 18,
   "metadata": {},
   "outputs": [],
   "source": [
    "import pandas as pd\n",
    "import numpy as np\n",
    "import os"
   ]
  },
  {
   "cell_type": "code",
   "execution_count": 56,
   "metadata": {},
   "outputs": [],
   "source": [
    "file_name = ['heart-rate-raw.csv','band-walk-raw.csv','band-run-raw.csv','band-bike-raw.csv','band-sit-raw.csv','band-syn-raw.csv']\n",
    "path = os.getcwd()"
   ]
  },
  {
   "cell_type": "markdown",
   "metadata": {},
   "source": [
    "对心率数据的格式转换"
   ]
  },
  {
   "cell_type": "code",
   "execution_count": 60,
   "metadata": {},
   "outputs": [
    {
     "name": "stdout",
     "output_type": "stream",
     "text": [
      "dateTime    datetime64[ns]\n",
      "rate                 int64\n",
      "rateZone           float64\n",
      "dtype: object\n"
     ]
    }
   ],
   "source": [
    "df_heart=pd.read_csv(path+'\\\\'+file_name[0])\n",
    "\n",
    "# 将dateTime列转换为datetime格式\n",
    "df_heart['dateTime'] = pd.to_datetime(df_heart['dateTime'], format='%d.%m.%Y %H:%M:%S')\n",
    "# 将rateZone列转换为浮点数\n",
    "df_heart['rateZone'] = df_heart['rateZone'].str.rstrip('%').astype(float) / 100\n",
    "\n",
    "print(df_heart.dtypes)\n",
    "\n",
    "df_heart = df_heart.sort_values('dateTime')\n",
    "df_heart.to_csv(path+'\\\\'+'heart-rate.csv',index=False)"
   ]
  },
  {
   "cell_type": "markdown",
   "metadata": {},
   "source": [
    "对加速度传感器的格式转换,并合并心率"
   ]
  },
  {
   "cell_type": "code",
   "execution_count": 106,
   "metadata": {},
   "outputs": [
    {
     "name": "stdout",
     "output_type": "stream",
     "text": [
      "band-walk-raw.csv\n",
      "                 dateTime  BandAccX     BandAccY     BandAccZ\n",
      "0 2024-06-06 11:48:12.529   -1755.4  3500.200000 -1207.000000\n",
      "1 2024-06-06 11:48:12.709   -1781.8  3567.800000 -1245.200000\n",
      "2 2024-06-06 11:48:12.905   -1778.4  3496.200000 -1227.600000\n",
      "3 2024-06-06 11:48:13.099   -1790.6  3504.600000 -1205.800000\n",
      "4 2024-06-06 11:48:13.318   -1744.0  3488.166667  -994.666667\n",
      "                dateTime  rate  rateZone\n",
      "1293 2024-06-06 10:31:48    84      0.44\n",
      "1292 2024-06-06 10:31:49    84      0.44\n",
      "1291 2024-06-06 10:31:58    84      0.44\n",
      "1290 2024-06-06 10:32:04    83      0.43\n",
      "1289 2024-06-06 10:32:10    82      0.43\n",
      "                 dateTime  BandAccX     BandAccY     BandAccZ  rate  rateZone\n",
      "0 2024-06-06 11:48:12.529   -1755.4  3500.200000 -1207.000000    80      0.42\n",
      "1 2024-06-06 11:48:12.709   -1781.8  3567.800000 -1245.200000    80      0.42\n",
      "2 2024-06-06 11:48:12.905   -1778.4  3496.200000 -1227.600000    80      0.42\n",
      "3 2024-06-06 11:48:13.099   -1790.6  3504.600000 -1205.800000    80      0.42\n",
      "4 2024-06-06 11:48:13.318   -1744.0  3488.166667  -994.666667    80      0.42\n",
      "band-run-raw.csv\n",
      "                 dateTime     BandAccX     BandAccY  BandAccZ\n",
      "0 2024-06-06 12:08:02.725   805.600000  7436.400000     658.0\n",
      "1 2024-06-06 12:08:02.933  2236.600000   292.600000     285.4\n",
      "2 2024-06-06 12:08:03.129  1759.000000  7999.800000    1163.0\n",
      "3 2024-06-06 12:08:03.386 -1742.800000  1296.800000    1109.4\n",
      "4 2024-06-06 12:08:03.537   726.166667  7518.833333      15.5\n",
      "                dateTime  rate  rateZone\n",
      "1293 2024-06-06 10:31:48    84      0.44\n",
      "1292 2024-06-06 10:31:49    84      0.44\n",
      "1291 2024-06-06 10:31:58    84      0.44\n",
      "1290 2024-06-06 10:32:04    83      0.43\n",
      "1289 2024-06-06 10:32:10    82      0.43\n",
      "                 dateTime     BandAccX     BandAccY  BandAccZ  rate  rateZone\n",
      "0 2024-06-06 12:08:02.725   805.600000  7436.400000     658.0   108      0.56\n",
      "1 2024-06-06 12:08:02.933  2236.600000   292.600000     285.4   108      0.56\n",
      "2 2024-06-06 12:08:03.129  1759.000000  7999.800000    1163.0   108      0.56\n",
      "3 2024-06-06 12:08:03.386 -1742.800000  1296.800000    1109.4   108      0.56\n",
      "4 2024-06-06 12:08:03.537   726.166667  7518.833333      15.5   108      0.56\n",
      "band-bike-raw.csv\n",
      "                 dateTime  BandAccX  BandAccY     BandAccZ\n",
      "0 2024-06-06 11:59:14.317  -1124.25   3483.25 -1898.750000\n",
      "1 2024-06-06 11:59:14.528  -1136.40   3492.20 -1903.400000\n",
      "2 2024-06-06 11:59:14.724  -1113.60   3489.40 -1903.600000\n",
      "3 2024-06-06 11:59:14.950  -1092.00   3555.50 -1874.166667\n",
      "4 2024-06-06 11:59:15.131  -1302.20   3281.00 -2073.800000\n",
      "                dateTime  rate  rateZone\n",
      "1293 2024-06-06 10:31:48    84      0.44\n",
      "1292 2024-06-06 10:31:49    84      0.44\n",
      "1291 2024-06-06 10:31:58    84      0.44\n",
      "1290 2024-06-06 10:32:04    83      0.43\n",
      "1289 2024-06-06 10:32:10    82      0.43\n",
      "                 dateTime  BandAccX  BandAccY     BandAccZ  rate  rateZone\n",
      "0 2024-06-06 11:59:14.317  -1124.25   3483.25 -1898.750000   104      0.54\n",
      "1 2024-06-06 11:59:14.528  -1136.40   3492.20 -1903.400000   104      0.54\n",
      "2 2024-06-06 11:59:14.724  -1113.60   3489.40 -1903.600000   104      0.54\n",
      "3 2024-06-06 11:59:14.950  -1092.00   3555.50 -1874.166667   104      0.54\n",
      "4 2024-06-06 11:59:15.131  -1302.20   3281.00 -2073.800000   104      0.54\n",
      "band-sit-raw.csv\n",
      "                 dateTime    BandAccX  BandAccY    BandAccZ\n",
      "0 2024-06-06 12:12:22.375  591.000000   4041.75 -821.250000\n",
      "1 2024-06-06 12:12:22.554  577.000000   4010.80 -812.600000\n",
      "2 2024-06-06 12:12:22.735  587.333333   4002.00 -844.666667\n",
      "3 2024-06-06 12:12:22.929  586.200000   4002.00 -852.200000\n",
      "4 2024-06-06 12:12:23.155  577.800000   4010.80 -874.200000\n",
      "                dateTime  rate  rateZone\n",
      "1293 2024-06-06 10:31:48    84      0.44\n",
      "1292 2024-06-06 10:31:49    84      0.44\n",
      "1291 2024-06-06 10:31:58    84      0.44\n",
      "1290 2024-06-06 10:32:04    83      0.43\n",
      "1289 2024-06-06 10:32:10    82      0.43\n",
      "                 dateTime    BandAccX  BandAccY    BandAccZ  rate  rateZone\n",
      "0 2024-06-06 12:12:22.375  591.000000   4041.75 -821.250000   125      0.65\n",
      "1 2024-06-06 12:12:22.554  577.000000   4010.80 -812.600000   125      0.65\n",
      "2 2024-06-06 12:12:22.735  587.333333   4002.00 -844.666667   125      0.65\n",
      "3 2024-06-06 12:12:22.929  586.200000   4002.00 -852.200000   125      0.65\n",
      "4 2024-06-06 12:12:23.155  577.800000   4010.80 -874.200000   125      0.65\n",
      "band-syn-raw.csv\n",
      "                 dateTime     BandAccX  BandAccY    BandAccZ\n",
      "0 2024-06-06 12:16:35.141   720.000000    4088.0 -282.600000\n",
      "1 2024-06-06 12:16:35.336   907.600000    4098.6  -82.000000\n",
      "2 2024-06-06 12:16:35.532  1116.200000    3983.2  381.200000\n",
      "3 2024-06-06 12:16:35.742  1202.666667    3944.0  241.833333\n",
      "4 2024-06-06 12:16:35.936   954.400000    3928.6   15.400000\n",
      "                dateTime  rate  rateZone\n",
      "1293 2024-06-06 10:31:48    84      0.44\n",
      "1292 2024-06-06 10:31:49    84      0.44\n",
      "1291 2024-06-06 10:31:58    84      0.44\n",
      "1290 2024-06-06 10:32:04    83      0.43\n",
      "1289 2024-06-06 10:32:10    82      0.43\n",
      "                 dateTime     BandAccX  BandAccY    BandAccZ  rate  rateZone\n",
      "0 2024-06-06 12:16:35.141   720.000000    4088.0 -282.600000   105      0.55\n",
      "1 2024-06-06 12:16:35.336   907.600000    4098.6  -82.000000   105      0.55\n",
      "2 2024-06-06 12:16:35.532  1116.200000    3983.2  381.200000   105      0.55\n",
      "3 2024-06-06 12:16:35.742  1202.666667    3944.0  241.833333   105      0.55\n",
      "4 2024-06-06 12:16:35.936   954.400000    3928.6   15.400000   105      0.55\n"
     ]
    }
   ],
   "source": [
    "for i in range(1,6):\n",
    "    df = pd.read_csv(path+'\\\\'+file_name[i])\n",
    "    df = df.iloc[:,0].str.split(';', expand=True)\n",
    "    df.columns = ['dateTime', 'BandAccX', 'BandAccY', 'BandAccZ']\n",
    "    df['dateTime'] = pd.to_datetime(df['dateTime'].astype('int64'), unit='ms')\n",
    "    df['dateTime'] = df['dateTime'] + pd.DateOffset(hours=2)\n",
    "    df['BandAccX'] = df['BandAccX'].astype('float64')\n",
    "    df['BandAccY'] = df['BandAccY'].astype('float64')\n",
    "    df['BandAccZ'] = df['BandAccZ'].astype('float64')\n",
    "    df = df.groupby('dateTime').mean().reset_index()\n",
    "    df = df.sort_values('dateTime')\n",
    "    print(file_name[i])\n",
    "    print(df.head(5))\n",
    "\n",
    "    \n",
    "    print(df_heart.head(5))\n",
    "    result_left = pd.merge_asof(df, df_heart, on='dateTime', direction='nearest',tolerance=pd.Timedelta('60s'))\n",
    "    print(result_left.head(5))\n",
    "    result_left.to_csv(path+'\\\\'+file_name[i].replace(\"-raw.csv\",\"\")+'.csv',index=False)\n",
    "\n",
    " \n",
    "\n"
   ]
  }
 ],
 "metadata": {
  "kernelspec": {
   "display_name": "Env1",
   "language": "python",
   "name": "python3"
  },
  "language_info": {
   "codemirror_mode": {
    "name": "ipython",
    "version": 3
   },
   "file_extension": ".py",
   "mimetype": "text/x-python",
   "name": "python",
   "nbconvert_exporter": "python",
   "pygments_lexer": "ipython3",
   "version": "3.10.13"
  }
 },
 "nbformat": 4,
 "nbformat_minor": 2
}
