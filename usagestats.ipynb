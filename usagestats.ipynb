{
 "cells": [
  {
   "cell_type": "code",
   "execution_count": 1,
   "metadata": {},
   "outputs": [],
   "source": [
    "import pandas as pd\n",
    "import re\n",
    "import subprocess"
   ]
  },
  {
   "cell_type": "code",
   "execution_count": 2,
   "metadata": {},
   "outputs": [
    {
     "name": "stdout",
     "output_type": "stream",
     "text": [
      "b'List of devices attached\\r\\n143028c2\\tdevice\\r\\n\\r\\n'\n"
     ]
    },
    {
     "data": {
      "text/plain": [
       "CompletedProcess(args='adb shell dumpsys usagestats > usagestats.log', returncode=0)"
      ]
     },
     "execution_count": 2,
     "metadata": {},
     "output_type": "execute_result"
    }
   ],
   "source": [
    "command_devices = \"adb devices\"\n",
    "print(subprocess.check_output(command_devices, shell=True))\n",
    "\n",
    "command = \"adb shell dumpsys usagestats > usagestats.log\"\n",
    "subprocess.run(command, shell=True, check=True)"
   ]
  },
  {
   "cell_type": "code",
   "execution_count": 3,
   "metadata": {},
   "outputs": [],
   "source": [
    "# 打开文件并读取内容，指定编码方式为\"utf-8\"\n",
    "with open('usagestats.log', 'r', encoding='utf-8') as file:\n",
    "    lines = file.readlines()\n",
    "\n",
    "# 找到包含\"Last 24 hour events\"和\"In-memory daily stats\"的行，获取这两行之间的所有行\n",
    "start_index = next(i for i, line in enumerate(lines) if 'Last 24 hour events' in line) + 1\n",
    "end_index = next(i for i, line in enumerate(lines) if 'In-memory daily stats' in line)\n",
    "selected_lines = lines[start_index:end_index]"
   ]
  },
  {
   "cell_type": "code",
   "execution_count": 4,
   "metadata": {},
   "outputs": [],
   "source": [
    "# 初始化DataFrame\n",
    "df = pd.DataFrame(columns=['time', 'type', 'package'])\n",
    "\n",
    "# 对每一行使用正则表达式匹配time、type和package的值，并将匹配的值添加到DataFrame中\n",
    "for line in selected_lines:\n",
    "    match = re.search(r'time=\"(.*?)\" type=(.*?) package=(.*?) ', line)\n",
    "    if match:\n",
    "        new_row = {'time': match.group(1), 'type': match.group(2), 'package': match.group(3)}\n",
    "        df.loc[len(df)] = new_row"
   ]
  },
  {
   "cell_type": "code",
   "execution_count": 5,
   "metadata": {},
   "outputs": [],
   "source": [
    "# 将DataFrame保存为csv文件\n",
    "df.to_csv('usagestats.csv', index=False, encoding='utf-8')"
   ]
  }
 ],
 "metadata": {
  "kernelspec": {
   "display_name": "ML4QS",
   "language": "python",
   "name": "python3"
  },
  "language_info": {
   "codemirror_mode": {
    "name": "ipython",
    "version": 3
   },
   "file_extension": ".py",
   "mimetype": "text/x-python",
   "name": "python",
   "nbconvert_exporter": "python",
   "pygments_lexer": "ipython3",
   "version": "3.10.11"
  }
 },
 "nbformat": 4,
 "nbformat_minor": 2
}
