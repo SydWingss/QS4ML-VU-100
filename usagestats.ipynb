{
 "cells": [
  {
   "cell_type": "markdown",
   "metadata": {},
   "source": [
    "#### 数据收集"
   ]
  },
  {
   "cell_type": "code",
   "execution_count": 1,
   "metadata": {},
   "outputs": [],
   "source": [
    "import pandas as pd\n",
    "import re\n",
    "import subprocess"
   ]
  },
  {
   "cell_type": "code",
   "execution_count": 2,
   "metadata": {},
   "outputs": [
    {
     "name": "stdout",
     "output_type": "stream",
     "text": [
      "b'List of devices attached\\r\\n143028c2\\tdevice\\r\\n\\r\\n'\n"
     ]
    },
    {
     "data": {
      "text/plain": [
       "CompletedProcess(args='adb shell dumpsys usagestats > usagestats.log', returncode=0)"
      ]
     },
     "execution_count": 2,
     "metadata": {},
     "output_type": "execute_result"
    }
   ],
   "source": [
    "command_devices = \"adb devices\"\n",
    "print(subprocess.check_output(command_devices, shell=True))\n",
    "\n",
    "command = \"adb shell dumpsys usagestats > usagestats.log\"\n",
    "subprocess.run(command, shell=True, check=True)"
   ]
  },
  {
   "cell_type": "code",
   "execution_count": 3,
   "metadata": {},
   "outputs": [],
   "source": [
    "# 打开文件并读取内容，指定编码方式为\"utf-8\"\n",
    "with open('usagestats.log', 'r', encoding='utf-8') as file:\n",
    "    lines = file.readlines()\n",
    "\n",
    "# 找到包含\"Last 24 hour events\"和\"In-memory daily stats\"的行，获取这两行之间的所有行\n",
    "start_index = next(i for i, line in enumerate(lines) if 'Last 24 hour events' in line) + 1\n",
    "end_index = next(i for i, line in enumerate(lines) if 'In-memory daily stats' in line)\n",
    "selected_lines = lines[start_index:end_index]"
   ]
  },
  {
   "cell_type": "code",
   "execution_count": 4,
   "metadata": {},
   "outputs": [],
   "source": [
    "# 初始化DataFrame\n",
    "df = pd.DataFrame(columns=['time', 'type', 'package'])\n",
    "\n",
    "# 对每一行使用正则表达式匹配time、type和package的值，并将匹配的值添加到DataFrame中\n",
    "for line in selected_lines:\n",
    "    match = re.search(r'time=\"(.*?)\" type=(.*?) package=(.*?) ', line)\n",
    "    if match:\n",
    "        new_row = {'time': match.group(1), 'type': match.group(2), 'package': match.group(3)}\n",
    "        df.loc[len(df)] = new_row"
   ]
  },
  {
   "cell_type": "code",
   "execution_count": 5,
   "metadata": {},
   "outputs": [],
   "source": [
    "# 将DataFrame保存为csv文件\n",
    "df.to_csv('usagestats.csv', index=False, encoding='utf-8')"
   ]
  },
  {
   "cell_type": "markdown",
   "metadata": {},
   "source": [
    "#### 数据清洗"
   ]
  },
  {
   "cell_type": "code",
   "execution_count": 10,
   "metadata": {},
   "outputs": [],
   "source": [
    "import pandas as pd\n",
    "\n",
    "# 读取CSV文件到dataframe_temp\n",
    "dataframe_temp = pd.read_csv('usagestats.csv')\n",
    "\n",
    "# 删除'package'列，添加新的'status'列\n",
    "# dataframe_temp = dataframe_temp.drop(columns='package')\n",
    "dataframe_temp['status'] = ''\n",
    "dataframe_temp = dataframe_temp.reindex(columns=['time', 'status', 'type', 'package'])\n",
    "\n",
    "# 创建新的dataframe_train\n",
    "dataframe_train = pd.DataFrame()\n",
    "\n",
    "# 从dataframe_temp中提取特定时间段的数据，将这些数据的'status'设置为特定的状态\n",
    "dataframe_temp['time'] = pd.to_datetime(dataframe_temp['time'])\n",
    "dataframe_train_list = [\n",
    "    dataframe_temp[(dataframe_temp['time'] >= '2024-06-06 11:48:00') & (dataframe_temp['time'] <= '2024-06-06 11:55:00')].assign(status='walk'),\n",
    "    dataframe_temp[(dataframe_temp['time'] >= '2024-06-06 11:59:00') & (dataframe_temp['time'] <= '2024-06-06 12:05:00')].assign(status='bike'),\n",
    "    dataframe_temp[(dataframe_temp['time'] >= '2024-06-06 12:08:00') & (dataframe_temp['time'] <= '2024-06-06 12:10:00')].assign(status='run'),\n",
    "    dataframe_temp[(dataframe_temp['time'] >= '2024-06-06 12:12:00') & (dataframe_temp['time'] <= '2024-06-06 12:15:00')].assign(status='sit')\n",
    "]\n",
    "dataframe_train = pd.concat(dataframe_train_list)\n",
    "\n",
    "# 创建新的dataframe_test\n",
    "dataframe_test = pd.DataFrame()\n",
    "\n",
    "# 从dataframe_temp中提取特定时间段的数据，将这些数据的'status'设置为特定的状态\n",
    "dataframe_test_list = [\n",
    "    dataframe_temp[(dataframe_temp['time'] >= '2024-06-06 12:17:00') & (dataframe_temp['time'] <= '2024-06-06 12:18:00')].assign(status='sit'),\n",
    "    dataframe_temp[(dataframe_temp['time'] >= '2024-06-06 12:18:00') & (dataframe_temp['time'] <= '2024-06-06 12:19:00')].assign(status='run'),\n",
    "    dataframe_temp[(dataframe_temp['time'] >= '2024-06-06 12:19:00') & (dataframe_temp['time'] <= '2024-06-06 12:20:20')].assign(status='walk'),\n",
    "    dataframe_temp[(dataframe_temp['time'] >= '2024-06-06 12:20:20') & (dataframe_temp['time'] <= '2024-06-06 12:24:00')].assign(status='bike')\n",
    "]\n",
    "dataframe_test = pd.concat(dataframe_test_list)\n",
    "\n",
    "dataframe_train.to_csv('train_usagestats.csv', index=False, encoding='utf-8')\n",
    "dataframe_test.to_csv('test_usagestats.csv', index=False, encoding='utf-8')"
   ]
  }
 ],
 "metadata": {
  "kernelspec": {
   "display_name": "ML4QS",
   "language": "python",
   "name": "python3"
  },
  "language_info": {
   "codemirror_mode": {
    "name": "ipython",
    "version": 3
   },
   "file_extension": ".py",
   "mimetype": "text/x-python",
   "name": "python",
   "nbconvert_exporter": "python",
   "pygments_lexer": "ipython3",
   "version": "3.10.11"
  }
 },
 "nbformat": 4,
 "nbformat_minor": 2
}
