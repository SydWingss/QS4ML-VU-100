{
 "cells": [
  {
   "cell_type": "code",
   "execution_count": 21,
   "metadata": {},
   "outputs": [],
   "source": [
    "import pandas as pd\n",
    "import numpy as np"
   ]
  },
  {
   "cell_type": "code",
   "execution_count": 22,
   "metadata": {},
   "outputs": [],
   "source": [
    "def modified_z_score(series):\n",
    "    median = series.median()\n",
    "    mad = np.median(np.abs(series - median))\n",
    "    modified_z_scores = 0.6745 * (series - median) / mad\n",
    "    return modified_z_scores\n",
    "\n",
    "def remove_outliers_and_apply_thresholds(df, columns, thresholds, z_threshold=3.5):\n",
    "    for col in columns:\n",
    "        # Remove outliers using Modified Z-Score\n",
    "        modified_z_scores = modified_z_score(df[col])\n",
    "        df = df[np.abs(modified_z_scores) <= z_threshold]\n",
    "        \n",
    "        # Apply thresholds\n",
    "        if col in thresholds:\n",
    "            lower, upper = thresholds[col]\n",
    "            df = df[(df[col] >= lower) & (df[col] <= upper)]\n",
    "    \n",
    "    return df\n",
    "\n",
    "# Define thresholds for specific columns\n",
    "thresholds = {\n",
    "    \"latitude\": (-90, 90),\n",
    "    \"longitude\": (-180, 180),\n",
    "    \"altitude\": (-500, 12000),\n",
    "    \"course\": (0, 360),\n",
    "    \"hacc\": (0, 100),  # Assuming max horizontal accuracy of 100 meters\n",
    "    \"speed\": (0, 300)  # Assuming max speed of 300 m/s\n",
    "}\n",
    "\n"
   ]
  },
  {
   "cell_type": "code",
   "execution_count": 23,
   "metadata": {},
   "outputs": [],
   "source": [
    "def merge_and_average(df):\n",
    "    # Convert Timestamp to datetime and remove milliseconds\n",
    "    df[\"Timestamp\"] = pd.to_datetime(df[\"Timestamp\"]).dt.floor(\"S\")\n",
    "\n",
    "    # Keep the relevant columns\n",
    "    # Including extra columns: 'altitude', 'course', 'hacc', 'latitude', 'longitude', 'speed'\n",
    "    df = df[[\"Timestamp\", \"X\", \"Y\", \"Z\", \"Type\", \"altitude\", \"course\", \"hacc\", \"latitude\", \"longitude\", \"speed\"]].copy()\n",
    "\n",
    "    # Create columns for each type\n",
    "    types = df[\"Type\"].unique()\n",
    "    for t in types:\n",
    "        for col in [\"X\", \"Y\", \"Z\"]:\n",
    "            df.loc[:, f\"{t}_{col}\"] = df.apply(\n",
    "                lambda row: row[col] if row[\"Type\"] == t else None, axis=1\n",
    "            )\n",
    "\n",
    "    # Group by Timestamp and calculate mean for numeric columns\n",
    "    df_grouped = df.groupby(\"Timestamp\").mean(numeric_only=True).reset_index()\n",
    "\n",
    "    # Explicitly list columns to retain\n",
    "    columns_to_keep = [\"Timestamp\", \"altitude\", \"course\", \"hacc\", \"latitude\", \"longitude\", \"speed\"] + [\n",
    "        f\"{t}_{col}\"\n",
    "        for t in types\n",
    "        for col in [\"X\", \"Y\", \"Z\"]\n",
    "        if f\"{t}_{col}\" in df_grouped.columns\n",
    "    ]\n",
    "    df_grouped = df_grouped[columns_to_keep]\n",
    "\n",
    "    # Round the numeric columns to the desired decimal places\n",
    "    # Uncomment and modify the line below to set the desired decimal places\n",
    "    df_grouped = df_grouped.round(6)\n",
    "\n",
    "    return df_grouped"
   ]
  },
  {
   "cell_type": "code",
   "execution_count": 55,
   "metadata": {},
   "outputs": [
    {
     "name": "stderr",
     "output_type": "stream",
     "text": [
      "/home/taoyida/miniconda3/envs/ML4QS/lib/python3.8/site-packages/numpy/core/fromnumeric.py:3464: RuntimeWarning: Mean of empty slice.\n",
      "  return _methods._mean(a, axis=axis, dtype=dtype,\n",
      "/home/taoyida/miniconda3/envs/ML4QS/lib/python3.8/site-packages/numpy/core/_methods.py:192: RuntimeWarning: invalid value encountered in scalar divide\n",
      "  ret = ret.dtype.type(ret / rcount)\n",
      "/home/taoyida/miniconda3/envs/ML4QS/lib/python3.8/site-packages/numpy/core/fromnumeric.py:3464: RuntimeWarning: Mean of empty slice.\n",
      "  return _methods._mean(a, axis=axis, dtype=dtype,\n",
      "/home/taoyida/miniconda3/envs/ML4QS/lib/python3.8/site-packages/numpy/core/_methods.py:192: RuntimeWarning: invalid value encountered in scalar divide\n",
      "  ret = ret.dtype.type(ret / rcount)\n",
      "/home/taoyida/miniconda3/envs/ML4QS/lib/python3.8/site-packages/numpy/core/fromnumeric.py:3464: RuntimeWarning: Mean of empty slice.\n",
      "  return _methods._mean(a, axis=axis, dtype=dtype,\n",
      "/home/taoyida/miniconda3/envs/ML4QS/lib/python3.8/site-packages/numpy/core/_methods.py:192: RuntimeWarning: invalid value encountered in scalar divide\n",
      "  ret = ret.dtype.type(ret / rcount)\n",
      "/home/taoyida/miniconda3/envs/ML4QS/lib/python3.8/site-packages/numpy/core/fromnumeric.py:3464: RuntimeWarning: Mean of empty slice.\n",
      "  return _methods._mean(a, axis=axis, dtype=dtype,\n",
      "/home/taoyida/miniconda3/envs/ML4QS/lib/python3.8/site-packages/numpy/core/_methods.py:192: RuntimeWarning: invalid value encountered in scalar divide\n",
      "  ret = ret.dtype.type(ret / rcount)\n",
      "/home/taoyida/miniconda3/envs/ML4QS/lib/python3.8/site-packages/numpy/core/fromnumeric.py:3464: RuntimeWarning: Mean of empty slice.\n",
      "  return _methods._mean(a, axis=axis, dtype=dtype,\n",
      "/home/taoyida/miniconda3/envs/ML4QS/lib/python3.8/site-packages/numpy/core/_methods.py:192: RuntimeWarning: invalid value encountered in scalar divide\n",
      "  ret = ret.dtype.type(ret / rcount)\n"
     ]
    }
   ],
   "source": [
    "import os\n",
    "\n",
    "files=os.listdir('./raw/')\n",
    "for file in files:\n",
    "    original_file = file\n",
    "    data=pd.read_csv('./raw/'+original_file)\n",
    "    '''\n",
    "    注意，未来有标签，字符串类型\n",
    "    '''\n",
    "    columns_to_check = [\"X\", \"Y\", \"Z\", \"altitude\", \"course\", \"hacc\", \"latitude\", \"longitude\", \"speed\"]\n",
    "    cleaned_data = remove_outliers_and_apply_thresholds(data, columns_to_check, thresholds)\n",
    "    # Apply the function to the data\n",
    "    cleaned_merged_data = merge_and_average(data)\n",
    "    cleaned_merged_data = cleaned_merged_data.drop(['Position_X', 'Position_Y', 'Position_Z'], axis=1)\n",
    "    cleaned_merged_data = cleaned_merged_data.bfill().interpolate()\n",
    "    file_name=original_file.replace('-raw','')\n",
    "    cleaned_merged_data.to_csv(file_name,index=False)\n"
   ]
  },
  {
   "cell_type": "code",
   "execution_count": 51,
   "metadata": {},
   "outputs": [],
   "source": []
  }
 ],
 "metadata": {
  "kernelspec": {
   "display_name": "ML4QS",
   "language": "python",
   "name": "python3"
  },
  "language_info": {
   "codemirror_mode": {
    "name": "ipython",
    "version": 3
   },
   "file_extension": ".py",
   "mimetype": "text/x-python",
   "name": "python",
   "nbconvert_exporter": "python",
   "pygments_lexer": "ipython3",
   "version": "3.8.19"
  }
 },
 "nbformat": 4,
 "nbformat_minor": 2
}
