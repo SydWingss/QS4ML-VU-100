{
 "cells": [
  {
   "cell_type": "code",
   "execution_count": 23,
   "metadata": {},
   "outputs": [],
   "source": [
    "import os, datetime\n",
    "import torch\n",
    "import torch.nn as nn\n",
    "import torch.optim as optim\n",
    "import pandas as pd\n",
    "from torch.utils.data import Dataset, DataLoader\n",
    "from sklearn.preprocessing import StandardScaler\n",
    "from rich.progress import Progress\n",
    "from sklearn.metrics import f1_score, confusion_matrix\n",
    "import matplotlib.pyplot as plt\n",
    "import seaborn as sns\n",
    "import numpy as np"
   ]
  },
  {
   "cell_type": "code",
   "execution_count": 6,
   "metadata": {},
   "outputs": [],
   "source": [
    "# Load Data\n",
    "train_data = pd.read_csv('../Dataset/train.csv')\n",
    "test_data = pd.read_csv('../Dataset/test.csv')"
   ]
  },
  {
   "cell_type": "code",
   "execution_count": 7,
   "metadata": {},
   "outputs": [],
   "source": [
    "# Split features and labels\n",
    "train_features = train_data.drop('act', axis=1)\n",
    "test_features = test_data.drop('act', axis=1)\n",
    "train_labels = train_data['act']\n",
    "test_labels = test_data['act']\n",
    "\n",
    "# Data preparation\n",
    "# scaler = StandardScaler()\n",
    "# train_features = scaler.fit_transform(train_features)\n",
    "# test_features = scaler.transform(test_features)"
   ]
  },
  {
   "cell_type": "code",
   "execution_count": 8,
   "metadata": {},
   "outputs": [],
   "source": [
    "# Define dataset class\n",
    "class Data(Dataset):\n",
    "    def __init__(self, X_data, y_data):\n",
    "        self.X_data = X_data\n",
    "        self.y_data = y_data\n",
    "        \n",
    "    def __getitem__(self, index):\n",
    "        return self.X_data[index], self.y_data[index]\n",
    "        \n",
    "    def __len__ (self):\n",
    "        return len(self.X_data)\n",
    "    \n",
    "# train_data = Data(torch.FloatTensor(train_features), torch.FloatTensor(train_labels))\n",
    "# test_data = Data(torch.FloatTensor(test_features), torch.FloatTensor(test_labels))\n",
    "\n",
    "train_data = Data(torch.FloatTensor(train_features.to_numpy()), torch.FloatTensor(train_labels.to_numpy()))\n",
    "test_data = Data(torch.FloatTensor(test_features.to_numpy()), torch.FloatTensor(test_labels.to_numpy()))"
   ]
  },
  {
   "cell_type": "code",
   "execution_count": 11,
   "metadata": {},
   "outputs": [],
   "source": [
    "class ResidualBlock(nn.Module):\n",
    "    def __init__(self, in_channels, out_channels):\n",
    "        super(ResidualBlock, self).__init__()\n",
    "        self.linear = nn.Linear(in_channels, out_channels)\n",
    "        self.relu = nn.ReLU()\n",
    "        if in_channels != out_channels:\n",
    "            self.linear_shortcut = nn.Linear(in_channels, out_channels)\n",
    "        else:\n",
    "            self.linear_shortcut = nn.Identity()\n",
    "        self.dropout = nn.Dropout(0.5)\n",
    "\n",
    "    def forward(self, x):\n",
    "        out = self.linear(x)\n",
    "        out = self.relu(out)\n",
    "        out = self.dropout(out)\n",
    "        shortcut = self.linear_shortcut(x)\n",
    "        out += shortcut\n",
    "        return out\n",
    "\n",
    "class Net(nn.Module):\n",
    "    def __init__(self):\n",
    "        super(Net, self).__init__()\n",
    "        self.layer = nn.Sequential(\n",
    "            ResidualBlock(train_features.shape[1], 128),  # 增加每层的单元数\n",
    "            ResidualBlock(128, 128),\n",
    "            ResidualBlock(128, 64),\n",
    "            ResidualBlock(64, 32),\n",
    "            nn.Dropout(0.5),\n",
    "            nn.Linear(32, 4)  # num_classes是你的类别数量\n",
    "        )\n",
    "        \n",
    "    def forward(self, x):\n",
    "        x = self.layer(x)\n",
    "        return nn.functional.softmax(x, dim=1)"
   ]
  },
  {
   "cell_type": "code",
   "execution_count": 12,
   "metadata": {},
   "outputs": [],
   "source": [
    "# Define hyperparameters\n",
    "EPOCHS = 600\n",
    "BATCH_SIZE = 16384\n",
    "LEARNING_RATE = 1e-05\n",
    "WEIGHT_DECAY = 1e-05 # L2 regularization"
   ]
  },
  {
   "cell_type": "code",
   "execution_count": 13,
   "metadata": {},
   "outputs": [],
   "source": [
    "# Check CUDA\n",
    "device = torch.device(\"cuda\" if torch.cuda.is_available() else \"cpu\")\n",
    "# Create model\n",
    "model = Net().to(device)"
   ]
  },
  {
   "cell_type": "code",
   "execution_count": 14,
   "metadata": {},
   "outputs": [],
   "source": [
    "# Define loss and optimizer\n",
    "criterion = nn.CrossEntropyLoss()\n",
    "optimizer = optim.Adam(model.parameters(), lr=LEARNING_RATE, weight_decay=WEIGHT_DECAY)"
   ]
  },
  {
   "cell_type": "code",
   "execution_count": 11,
   "metadata": {},
   "outputs": [
    {
     "data": {
      "application/vnd.jupyter.widget-view+json": {
       "model_id": "df9120eea6d34ad1be7a8cc0bfb5d0d0",
       "version_major": 2,
       "version_minor": 0
      },
      "text/plain": [
       "Output()"
      ]
     },
     "metadata": {},
     "output_type": "display_data"
    },
    {
     "data": {
      "text/html": [
       "<pre style=\"white-space:pre;overflow-x:auto;line-height:normal;font-family:Menlo,'DejaVu Sans Mono',consolas,'Courier New',monospace\">Epoch 1, Loss: 0.00011332256831101023, Accuracy: 0.3272066416091859\n",
       "</pre>\n"
      ],
      "text/plain": [
       "Epoch 1, Loss: 0.00011332256831101023, Accuracy: 0.3272066416091859\n"
      ]
     },
     "metadata": {},
     "output_type": "display_data"
    },
    {
     "data": {
      "text/html": [
       "<pre style=\"white-space:pre;overflow-x:auto;line-height:normal;font-family:Menlo,'DejaVu Sans Mono',consolas,'Courier New',monospace\">Epoch 2, Loss: 0.00011321296528819414, Accuracy: 0.3269588203709058\n",
       "</pre>\n"
      ],
      "text/plain": [
       "Epoch 2, Loss: 0.00011321296528819414, Accuracy: 0.3269588203709058\n"
      ]
     },
     "metadata": {},
     "output_type": "display_data"
    },
    {
     "data": {
      "text/html": [
       "<pre style=\"white-space:pre;overflow-x:auto;line-height:normal;font-family:Menlo,'DejaVu Sans Mono',consolas,'Courier New',monospace\">Epoch 3, Loss: 0.0001131453866049888, Accuracy: 0.33051092478625416\n",
       "</pre>\n"
      ],
      "text/plain": [
       "Epoch 3, Loss: 0.0001131453866049888, Accuracy: 0.33051092478625416\n"
      ]
     },
     "metadata": {},
     "output_type": "display_data"
    },
    {
     "data": {
      "text/html": [
       "<pre style=\"white-space:pre;overflow-x:auto;line-height:normal;font-family:Menlo,'DejaVu Sans Mono',consolas,'Courier New',monospace\">Epoch 4, Loss: 0.00011315513566092662, Accuracy: 0.33158481681880136\n",
       "</pre>\n"
      ],
      "text/plain": [
       "Epoch 4, Loss: 0.00011315513566092662, Accuracy: 0.33158481681880136\n"
      ]
     },
     "metadata": {},
     "output_type": "display_data"
    },
    {
     "data": {
      "text/html": [
       "<pre style=\"white-space:pre;overflow-x:auto;line-height:normal;font-family:Menlo,'DejaVu Sans Mono',consolas,'Courier New',monospace\">Epoch 5, Loss: 0.0001130293236016725, Accuracy: 0.3376977406963777\n",
       "</pre>\n"
      ],
      "text/plain": [
       "Epoch 5, Loss: 0.0001130293236016725, Accuracy: 0.3376977406963777\n"
      ]
     },
     "metadata": {},
     "output_type": "display_data"
    },
    {
     "data": {
      "text/html": [
       "<pre style=\"white-space:pre;overflow-x:auto;line-height:normal;font-family:Menlo,'DejaVu Sans Mono',consolas,'Courier New',monospace\">Epoch 6, Loss: 0.00011282846350675966, Accuracy: 0.34414109289166084\n",
       "</pre>\n"
      ],
      "text/plain": [
       "Epoch 6, Loss: 0.00011282846350675966, Accuracy: 0.34414109289166084\n"
      ]
     },
     "metadata": {},
     "output_type": "display_data"
    },
    {
     "data": {
      "text/html": [
       "<pre style=\"white-space:pre;overflow-x:auto;line-height:normal;font-family:Menlo,'DejaVu Sans Mono',consolas,'Courier New',monospace\">Epoch 7, Loss: 0.00011266032183442603, Accuracy: 0.350584445086944\n",
       "</pre>\n"
      ],
      "text/plain": [
       "Epoch 7, Loss: 0.00011266032183442603, Accuracy: 0.350584445086944\n"
      ]
     },
     "metadata": {},
     "output_type": "display_data"
    },
    {
     "data": {
      "text/html": [
       "<pre style=\"white-space:pre;overflow-x:auto;line-height:normal;font-family:Menlo,'DejaVu Sans Mono',consolas,'Courier New',monospace\">Epoch 8, Loss: 0.00011259036497242373, Accuracy: 0.3562843335673867\n",
       "</pre>\n"
      ],
      "text/plain": [
       "Epoch 8, Loss: 0.00011259036497242373, Accuracy: 0.3562843335673867\n"
      ]
     },
     "metadata": {},
     "output_type": "display_data"
    },
    {
     "data": {
      "text/html": [
       "<pre style=\"white-space:pre;overflow-x:auto;line-height:normal;font-family:Menlo,'DejaVu Sans Mono',consolas,'Courier New',monospace\">Epoch 9, Loss: 0.00011255119641687558, Accuracy: 0.35806038577506094\n",
       "</pre>\n"
      ],
      "text/plain": [
       "Epoch 9, Loss: 0.00011255119641687558, Accuracy: 0.35806038577506094\n"
      ]
     },
     "metadata": {},
     "output_type": "display_data"
    },
    {
     "data": {
      "text/html": [
       "<pre style=\"white-space:pre;overflow-x:auto;line-height:normal;font-family:Menlo,'DejaVu Sans Mono',consolas,'Courier New',monospace\">Epoch 10, Loss: 0.00011252691732857791, Accuracy: 0.3584321176324811\n",
       "</pre>\n"
      ],
      "text/plain": [
       "Epoch 10, Loss: 0.00011252691732857791, Accuracy: 0.3584321176324811\n"
      ]
     },
     "metadata": {},
     "output_type": "display_data"
    },
    {
     "data": {
      "text/html": [
       "<pre style=\"white-space:pre;overflow-x:auto;line-height:normal;font-family:Menlo,'DejaVu Sans Mono',consolas,'Courier New',monospace\">Epoch 11, Loss: 0.00011249716793667068, Accuracy: 0.35909297426789477\n",
       "</pre>\n"
      ],
      "text/plain": [
       "Epoch 11, Loss: 0.00011249716793667068, Accuracy: 0.35909297426789477\n"
      ]
     },
     "metadata": {},
     "output_type": "display_data"
    },
    {
     "data": {
      "text/html": [
       "<pre style=\"white-space:pre;overflow-x:auto;line-height:normal;font-family:Menlo,'DejaVu Sans Mono',consolas,'Courier New',monospace\">Epoch 12, Loss: 0.00011231188663619586, Accuracy: 0.36264507868324314\n",
       "</pre>\n"
      ],
      "text/plain": [
       "Epoch 12, Loss: 0.00011231188663619586, Accuracy: 0.36264507868324314\n"
      ]
     },
     "metadata": {},
     "output_type": "display_data"
    },
    {
     "data": {
      "text/html": [
       "<pre style=\"white-space:pre;overflow-x:auto;line-height:normal;font-family:Menlo,'DejaVu Sans Mono',consolas,'Courier New',monospace\">Epoch 13, Loss: 0.00011226396362536617, Accuracy: 0.3685101813225393\n",
       "</pre>\n"
      ],
      "text/plain": [
       "Epoch 13, Loss: 0.00011226396362536617, Accuracy: 0.3685101813225393\n"
      ]
     },
     "metadata": {},
     "output_type": "display_data"
    },
    {
     "data": {
      "text/html": [
       "<pre style=\"white-space:pre;overflow-x:auto;line-height:normal;font-family:Menlo,'DejaVu Sans Mono',consolas,'Courier New',monospace\">Epoch 14, Loss: 0.00011209835276856387, Accuracy: 0.37677088926521\n",
       "</pre>\n"
      ],
      "text/plain": [
       "Epoch 14, Loss: 0.00011209835276856387, Accuracy: 0.37677088926521\n"
      ]
     },
     "metadata": {},
     "output_type": "display_data"
    },
    {
     "data": {
      "text/html": [
       "<pre style=\"white-space:pre;overflow-x:auto;line-height:normal;font-family:Menlo,'DejaVu Sans Mono',consolas,'Courier New',monospace\">Epoch 15, Loss: 0.0001120581059083438, Accuracy: 0.373962248564702\n",
       "</pre>\n"
      ],
      "text/plain": [
       "Epoch 15, Loss: 0.0001120581059083438, Accuracy: 0.373962248564702\n"
      ]
     },
     "metadata": {},
     "output_type": "display_data"
    },
    {
     "data": {
      "text/html": [
       "<pre style=\"white-space:pre;overflow-x:auto;line-height:normal;font-family:Menlo,'DejaVu Sans Mono',consolas,'Courier New',monospace\">Epoch 16, Loss: 0.00011190798521819825, Accuracy: 0.3841642228739003\n",
       "</pre>\n"
      ],
      "text/plain": [
       "Epoch 16, Loss: 0.00011190798521819825, Accuracy: 0.3841642228739003\n"
      ]
     },
     "metadata": {},
     "output_type": "display_data"
    },
    {
     "data": {
      "text/html": [
       "<pre style=\"white-space:pre;overflow-x:auto;line-height:normal;font-family:Menlo,'DejaVu Sans Mono',consolas,'Courier New',monospace\">Epoch 17, Loss: 0.00011179001671758501, Accuracy: 0.3851142042873074\n",
       "</pre>\n"
      ],
      "text/plain": [
       "Epoch 17, Loss: 0.00011179001671758501, Accuracy: 0.3851142042873074\n"
      ]
     },
     "metadata": {},
     "output_type": "display_data"
    },
    {
     "data": {
      "text/html": [
       "<pre style=\"white-space:pre;overflow-x:auto;line-height:normal;font-family:Menlo,'DejaVu Sans Mono',consolas,'Courier New',monospace\">Epoch 18, Loss: 0.00011185634968808718, Accuracy: 0.3839990087150469\n",
       "</pre>\n"
      ],
      "text/plain": [
       "Epoch 18, Loss: 0.00011185634968808718, Accuracy: 0.3839990087150469\n"
      ]
     },
     "metadata": {},
     "output_type": "display_data"
    },
    {
     "data": {
      "text/html": [
       "<pre style=\"white-space:pre;overflow-x:auto;line-height:normal;font-family:Menlo,'DejaVu Sans Mono',consolas,'Courier New',monospace\">Epoch 19, Loss: 0.00011166368273917462, Accuracy: 0.3906901821486101\n",
       "</pre>\n"
      ],
      "text/plain": [
       "Epoch 19, Loss: 0.00011166368273917462, Accuracy: 0.3906901821486101\n"
      ]
     },
     "metadata": {},
     "output_type": "display_data"
    },
    {
     "data": {
      "text/html": [
       "<pre style=\"white-space:pre;overflow-x:auto;line-height:normal;font-family:Menlo,'DejaVu Sans Mono',consolas,'Courier New',monospace\">Epoch 20, Loss: 0.00011155659576059299, Accuracy: 0.3950270538185122\n",
       "</pre>\n"
      ],
      "text/plain": [
       "Epoch 20, Loss: 0.00011155659576059299, Accuracy: 0.3950270538185122\n"
      ]
     },
     "metadata": {},
     "output_type": "display_data"
    },
    {
     "data": {
      "text/html": [
       "<pre style=\"white-space:pre;overflow-x:auto;line-height:normal;font-family:Menlo,'DejaVu Sans Mono',consolas,'Courier New',monospace\">Epoch 21, Loss: 0.00011147884457760606, Accuracy: 0.39758787328074013\n",
       "</pre>\n"
      ],
      "text/plain": [
       "Epoch 21, Loss: 0.00011147884457760606, Accuracy: 0.39758787328074013\n"
      ]
     },
     "metadata": {},
     "output_type": "display_data"
    },
    {
     "data": {
      "text/html": [
       "<pre style=\"white-space:pre;overflow-x:auto;line-height:normal;font-family:Menlo,'DejaVu Sans Mono',consolas,'Courier New',monospace\">Epoch 22, Loss: 0.00011136132413966471, Accuracy: 0.40407252901573665\n",
       "</pre>\n"
      ],
      "text/plain": [
       "Epoch 22, Loss: 0.00011136132413966471, Accuracy: 0.40407252901573665\n"
      ]
     },
     "metadata": {},
     "output_type": "display_data"
    },
    {
     "data": {
      "text/html": [
       "<pre style=\"white-space:pre;overflow-x:auto;line-height:normal;font-family:Menlo,'DejaVu Sans Mono',consolas,'Courier New',monospace\">Epoch 23, Loss: 0.00011115788891532993, Accuracy: 0.40708768741481144\n",
       "</pre>\n"
      ],
      "text/plain": [
       "Epoch 23, Loss: 0.00011115788891532993, Accuracy: 0.40708768741481144\n"
      ]
     },
     "metadata": {},
     "output_type": "display_data"
    },
    {
     "data": {
      "text/html": [
       "<pre style=\"white-space:pre;overflow-x:auto;line-height:normal;font-family:Menlo,'DejaVu Sans Mono',consolas,'Courier New',monospace\">Epoch 24, Loss: 0.00011104088054901358, Accuracy: 0.42047003428193797\n",
       "</pre>\n"
      ],
      "text/plain": [
       "Epoch 24, Loss: 0.00011104088054901358, Accuracy: 0.42047003428193797\n"
      ]
     },
     "metadata": {},
     "output_type": "display_data"
    },
    {
     "data": {
      "text/html": [
       "<pre style=\"white-space:pre;overflow-x:auto;line-height:normal;font-family:Menlo,'DejaVu Sans Mono',consolas,'Courier New',monospace\">Epoch 25, Loss: 0.00011095986490941718, Accuracy: 0.4183635537565569\n",
       "</pre>\n"
      ],
      "text/plain": [
       "Epoch 25, Loss: 0.00011095986490941718, Accuracy: 0.4183635537565569\n"
      ]
     },
     "metadata": {},
     "output_type": "display_data"
    },
    {
     "data": {
      "text/html": [
       "<pre style=\"white-space:pre;overflow-x:auto;line-height:normal;font-family:Menlo,'DejaVu Sans Mono',consolas,'Courier New',monospace\">Epoch 26, Loss: 0.00011074639012697269, Accuracy: 0.4263764404609475\n",
       "</pre>\n"
      ],
      "text/plain": [
       "Epoch 26, Loss: 0.00011074639012697269, Accuracy: 0.4263764404609475\n"
      ]
     },
     "metadata": {},
     "output_type": "display_data"
    },
    {
     "data": {
      "text/html": [
       "<pre style=\"white-space:pre;overflow-x:auto;line-height:normal;font-family:Menlo,'DejaVu Sans Mono',consolas,'Courier New',monospace\">Epoch 27, Loss: 0.00011078832583880219, Accuracy: 0.4272025112552146\n",
       "</pre>\n"
      ],
      "text/plain": [
       "Epoch 27, Loss: 0.00011078832583880219, Accuracy: 0.4272025112552146\n"
      ]
     },
     "metadata": {},
     "output_type": "display_data"
    },
    {
     "data": {
      "text/html": [
       "<pre style=\"white-space:pre;overflow-x:auto;line-height:normal;font-family:Menlo,'DejaVu Sans Mono',consolas,'Courier New',monospace\">Epoch 28, Loss: 0.00011062372927771867, Accuracy: 0.43323282805336416\n",
       "</pre>\n"
      ],
      "text/plain": [
       "Epoch 28, Loss: 0.00011062372927771867, Accuracy: 0.43323282805336416\n"
      ]
     },
     "metadata": {},
     "output_type": "display_data"
    },
    {
     "data": {
      "text/html": [
       "<pre style=\"white-space:pre;overflow-x:auto;line-height:normal;font-family:Menlo,'DejaVu Sans Mono',consolas,'Courier New',monospace\">Epoch 29, Loss: 0.00011051602190466826, Accuracy: 0.43835446697782\n",
       "</pre>\n"
      ],
      "text/plain": [
       "Epoch 29, Loss: 0.00011051602190466826, Accuracy: 0.43835446697782\n"
      ]
     },
     "metadata": {},
     "output_type": "display_data"
    },
    {
     "data": {
      "text/html": [
       "<pre style=\"white-space:pre;overflow-x:auto;line-height:normal;font-family:Menlo,'DejaVu Sans Mono',consolas,'Courier New',monospace\">Epoch 30, Loss: 0.00011040317904407082, Accuracy: 0.43728057494527284\n",
       "</pre>\n"
      ],
      "text/plain": [
       "Epoch 30, Loss: 0.00011040317904407082, Accuracy: 0.43728057494527284\n"
      ]
     },
     "metadata": {},
     "output_type": "display_data"
    },
    {
     "data": {
      "text/html": [
       "<pre style=\"white-space:pre;overflow-x:auto;line-height:normal;font-family:Menlo,'DejaVu Sans Mono',consolas,'Courier New',monospace\">Epoch 31, Loss: 0.00011022618936490876, Accuracy: 0.4504151005741192\n",
       "</pre>\n"
      ],
      "text/plain": [
       "Epoch 31, Loss: 0.00011022618936490876, Accuracy: 0.4504151005741192\n"
      ]
     },
     "metadata": {},
     "output_type": "display_data"
    },
    {
     "data": {
      "text/html": [
       "<pre style=\"white-space:pre;overflow-x:auto;line-height:normal;font-family:Menlo,'DejaVu Sans Mono',consolas,'Courier New',monospace\">Epoch 32, Loss: 0.00011014153013874974, Accuracy: 0.44859774482673165\n",
       "</pre>\n"
      ],
      "text/plain": [
       "Epoch 32, Loss: 0.00011014153013874974, Accuracy: 0.44859774482673165\n"
      ]
     },
     "metadata": {},
     "output_type": "display_data"
    },
    {
     "data": {
      "text/html": [
       "<pre style=\"white-space:pre;overflow-x:auto;line-height:normal;font-family:Menlo,'DejaVu Sans Mono',consolas,'Courier New',monospace\">Epoch 33, Loss: 0.00011006303546715342, Accuracy: 0.4539672049894676\n",
       "</pre>\n"
      ],
      "text/plain": [
       "Epoch 33, Loss: 0.00011006303546715342, Accuracy: 0.4539672049894676\n"
      ]
     },
     "metadata": {},
     "output_type": "display_data"
    },
    {
     "data": {
      "text/html": [
       "<pre style=\"white-space:pre;overflow-x:auto;line-height:normal;font-family:Menlo,'DejaVu Sans Mono',consolas,'Courier New',monospace\">Epoch 34, Loss: 0.00010999772171613565, Accuracy: 0.4575606129445293\n",
       "</pre>\n"
      ],
      "text/plain": [
       "Epoch 34, Loss: 0.00010999772171613565, Accuracy: 0.4575606129445293\n"
      ]
     },
     "metadata": {},
     "output_type": "display_data"
    },
    {
     "data": {
      "text/html": [
       "<pre style=\"white-space:pre;overflow-x:auto;line-height:normal;font-family:Menlo,'DejaVu Sans Mono',consolas,'Courier New',monospace\">Epoch 35, Loss: 0.00010980572932311374, Accuracy: 0.4658626244269134\n",
       "</pre>\n"
      ],
      "text/plain": [
       "Epoch 35, Loss: 0.00010980572932311374, Accuracy: 0.4658626244269134\n"
      ]
     },
     "metadata": {},
     "output_type": "display_data"
    },
    {
     "data": {
      "text/html": [
       "<pre style=\"white-space:pre;overflow-x:auto;line-height:normal;font-family:Menlo,'DejaVu Sans Mono',consolas,'Courier New',monospace\">Epoch 36, Loss: 0.00010976779170897187, Accuracy: 0.46937342530254844\n",
       "</pre>\n"
      ],
      "text/plain": [
       "Epoch 36, Loss: 0.00010976779170897187, Accuracy: 0.46937342530254844\n"
      ]
     },
     "metadata": {},
     "output_type": "display_data"
    },
    {
     "data": {
      "text/html": [
       "<pre style=\"white-space:pre;overflow-x:auto;line-height:normal;font-family:Menlo,'DejaVu Sans Mono',consolas,'Courier New',monospace\">Epoch 37, Loss: 0.00010966195536685903, Accuracy: 0.47218206600305646\n",
       "</pre>\n"
      ],
      "text/plain": [
       "Epoch 37, Loss: 0.00010966195536685903, Accuracy: 0.47218206600305646\n"
      ]
     },
     "metadata": {},
     "output_type": "display_data"
    },
    {
     "data": {
      "text/html": [
       "<pre style=\"white-space:pre;overflow-x:auto;line-height:normal;font-family:Menlo,'DejaVu Sans Mono',consolas,'Courier New',monospace\">Epoch 38, Loss: 0.00010952021000204189, Accuracy: 0.47193424476477636\n",
       "</pre>\n"
      ],
      "text/plain": [
       "Epoch 38, Loss: 0.00010952021000204189, Accuracy: 0.47193424476477636\n"
      ]
     },
     "metadata": {},
     "output_type": "display_data"
    },
    {
     "data": {
      "text/html": [
       "<pre style=\"white-space:pre;overflow-x:auto;line-height:normal;font-family:Menlo,'DejaVu Sans Mono',consolas,'Courier New',monospace\">Epoch 39, Loss: 0.00010951507943826046, Accuracy: 0.47354508281359714\n",
       "</pre>\n"
      ],
      "text/plain": [
       "Epoch 39, Loss: 0.00010951507943826046, Accuracy: 0.47354508281359714\n"
      ]
     },
     "metadata": {},
     "output_type": "display_data"
    },
    {
     "data": {
      "text/html": [
       "<pre style=\"white-space:pre;overflow-x:auto;line-height:normal;font-family:Menlo,'DejaVu Sans Mono',consolas,'Courier New',monospace\">Epoch 40, Loss: 0.00010919394652042181, Accuracy: 0.4854818057907563\n",
       "</pre>\n"
      ],
      "text/plain": [
       "Epoch 40, Loss: 0.00010919394652042181, Accuracy: 0.4854818057907563\n"
      ]
     },
     "metadata": {},
     "output_type": "display_data"
    },
    {
     "data": {
      "text/html": [
       "<pre style=\"white-space:pre;overflow-x:auto;line-height:normal;font-family:Menlo,'DejaVu Sans Mono',consolas,'Courier New',monospace\">Epoch 41, Loss: 0.00010914640756331089, Accuracy: 0.48577093056874976\n",
       "</pre>\n"
      ],
      "text/plain": [
       "Epoch 41, Loss: 0.00010914640756331089, Accuracy: 0.48577093056874976\n"
      ]
     },
     "metadata": {},
     "output_type": "display_data"
    },
    {
     "data": {
      "text/html": [
       "<pre style=\"white-space:pre;overflow-x:auto;line-height:normal;font-family:Menlo,'DejaVu Sans Mono',consolas,'Courier New',monospace\">Epoch 42, Loss: 0.0001090877261245902, Accuracy: 0.4906860517946388\n",
       "</pre>\n"
      ],
      "text/plain": [
       "Epoch 42, Loss: 0.0001090877261245902, Accuracy: 0.4906860517946388\n"
      ]
     },
     "metadata": {},
     "output_type": "display_data"
    },
    {
     "data": {
      "text/html": [
       "<pre style=\"white-space:pre;overflow-x:auto;line-height:normal;font-family:Menlo,'DejaVu Sans Mono',consolas,'Courier New',monospace\">Epoch 43, Loss: 0.00010899563693610281, Accuracy: 0.49171864028747264\n",
       "</pre>\n"
      ],
      "text/plain": [
       "Epoch 43, Loss: 0.00010899563693610281, Accuracy: 0.49171864028747264\n"
      ]
     },
     "metadata": {},
     "output_type": "display_data"
    },
    {
     "data": {
      "text/html": [
       "<pre style=\"white-space:pre;overflow-x:auto;line-height:normal;font-family:Menlo,'DejaVu Sans Mono',consolas,'Courier New',monospace\">Epoch 44, Loss: 0.00010876933574420478, Accuracy: 0.4975011358473421\n",
       "</pre>\n"
      ],
      "text/plain": [
       "Epoch 44, Loss: 0.00010876933574420478, Accuracy: 0.4975011358473421\n"
      ]
     },
     "metadata": {},
     "output_type": "display_data"
    },
    {
     "data": {
      "text/html": [
       "<pre style=\"white-space:pre;overflow-x:auto;line-height:normal;font-family:Menlo,'DejaVu Sans Mono',consolas,'Courier New',monospace\">Epoch 45, Loss: 0.00010879324555008057, Accuracy: 0.49684027921192847\n",
       "</pre>\n"
      ],
      "text/plain": [
       "Epoch 45, Loss: 0.00010879324555008057, Accuracy: 0.49684027921192847\n"
      ]
     },
     "metadata": {},
     "output_type": "display_data"
    },
    {
     "data": {
      "text/html": [
       "<pre style=\"white-space:pre;overflow-x:auto;line-height:normal;font-family:Menlo,'DejaVu Sans Mono',consolas,'Courier New',monospace\">Epoch 46, Loss: 0.00010862004224668426, Accuracy: 0.5038205774234852\n",
       "</pre>\n"
      ],
      "text/plain": [
       "Epoch 46, Loss: 0.00010862004224668426, Accuracy: 0.5038205774234852\n"
      ]
     },
     "metadata": {},
     "output_type": "display_data"
    },
    {
     "data": {
      "text/html": [
       "<pre style=\"white-space:pre;overflow-x:auto;line-height:normal;font-family:Menlo,'DejaVu Sans Mono',consolas,'Courier New',monospace\">Epoch 47, Loss: 0.00010847494379747639, Accuracy: 0.5080748420139606\n",
       "</pre>\n"
      ],
      "text/plain": [
       "Epoch 47, Loss: 0.00010847494379747639, Accuracy: 0.5080748420139606\n"
      ]
     },
     "metadata": {},
     "output_type": "display_data"
    },
    {
     "data": {
      "text/html": [
       "<pre style=\"white-space:pre;overflow-x:auto;line-height:normal;font-family:Menlo,'DejaVu Sans Mono',consolas,'Courier New',monospace\">Epoch 48, Loss: 0.00010837586286180126, Accuracy: 0.5101813225393417\n",
       "</pre>\n"
      ],
      "text/plain": [
       "Epoch 48, Loss: 0.00010837586286180126, Accuracy: 0.5101813225393417\n"
      ]
     },
     "metadata": {},
     "output_type": "display_data"
    },
    {
     "data": {
      "text/html": [
       "<pre style=\"white-space:pre;overflow-x:auto;line-height:normal;font-family:Menlo,'DejaVu Sans Mono',consolas,'Courier New',monospace\">Epoch 49, Loss: 0.00010825173473039094, Accuracy: 0.5155507827020775\n",
       "</pre>\n"
      ],
      "text/plain": [
       "Epoch 49, Loss: 0.00010825173473039094, Accuracy: 0.5155507827020775\n"
      ]
     },
     "metadata": {},
     "output_type": "display_data"
    },
    {
     "data": {
      "text/html": [
       "<pre style=\"white-space:pre;overflow-x:auto;line-height:normal;font-family:Menlo,'DejaVu Sans Mono',consolas,'Courier New',monospace\">Epoch 50, Loss: 0.00010800488174077349, Accuracy: 0.5221180455165008\n",
       "</pre>\n"
      ],
      "text/plain": [
       "Epoch 50, Loss: 0.00010800488174077349, Accuracy: 0.5221180455165008\n"
      ]
     },
     "metadata": {},
     "output_type": "display_data"
    },
    {
     "data": {
      "text/html": [
       "<pre style=\"white-space:pre;overflow-x:auto;line-height:normal;font-family:Menlo,'DejaVu Sans Mono',consolas,'Courier New',monospace\">Epoch 51, Loss: 0.00010794962724292792, Accuracy: 0.5263723101069762\n",
       "</pre>\n"
      ],
      "text/plain": [
       "Epoch 51, Loss: 0.00010794962724292792, Accuracy: 0.5263723101069762\n"
      ]
     },
     "metadata": {},
     "output_type": "display_data"
    },
    {
     "data": {
      "text/html": [
       "<pre style=\"white-space:pre;overflow-x:auto;line-height:normal;font-family:Menlo,'DejaVu Sans Mono',consolas,'Courier New',monospace\">Epoch 52, Loss: 0.00010795369919709993, Accuracy: 0.5225723844533476\n",
       "</pre>\n"
      ],
      "text/plain": [
       "Epoch 52, Loss: 0.00010795369919709993, Accuracy: 0.5225723844533476\n"
      ]
     },
     "metadata": {},
     "output_type": "display_data"
    },
    {
     "data": {
      "text/html": [
       "<pre style=\"white-space:pre;overflow-x:auto;line-height:normal;font-family:Menlo,'DejaVu Sans Mono',consolas,'Courier New',monospace\">Epoch 53, Loss: 0.00010770692498773246, Accuracy: 0.5358308207013341\n",
       "</pre>\n"
      ],
      "text/plain": [
       "Epoch 53, Loss: 0.00010770692498773246, Accuracy: 0.5358308207013341\n"
      ]
     },
     "metadata": {},
     "output_type": "display_data"
    },
    {
     "data": {
      "text/html": [
       "<pre style=\"white-space:pre;overflow-x:auto;line-height:normal;font-family:Menlo,'DejaVu Sans Mono',consolas,'Courier New',monospace\">Epoch 54, Loss: 0.00010758852319574422, Accuracy: 0.5340134649539465\n",
       "</pre>\n"
      ],
      "text/plain": [
       "Epoch 54, Loss: 0.00010758852319574422, Accuracy: 0.5340134649539465\n"
      ]
     },
     "metadata": {},
     "output_type": "display_data"
    },
    {
     "data": {
      "text/html": [
       "<pre style=\"white-space:pre;overflow-x:auto;line-height:normal;font-family:Menlo,'DejaVu Sans Mono',consolas,'Courier New',monospace\">Epoch 55, Loss: 0.00010757704589807195, Accuracy: 0.536987319813308\n",
       "</pre>\n"
      ],
      "text/plain": [
       "Epoch 55, Loss: 0.00010757704589807195, Accuracy: 0.536987319813308\n"
      ]
     },
     "metadata": {},
     "output_type": "display_data"
    },
    {
     "data": {
      "text/html": [
       "<pre style=\"white-space:pre;overflow-x:auto;line-height:normal;font-family:Menlo,'DejaVu Sans Mono',consolas,'Courier New',monospace\">Epoch 56, Loss: 0.00010736719500712758, Accuracy: 0.5419437445789104\n",
       "</pre>\n"
      ],
      "text/plain": [
       "Epoch 56, Loss: 0.00010736719500712758, Accuracy: 0.5419437445789104\n"
      ]
     },
     "metadata": {},
     "output_type": "display_data"
    },
    {
     "data": {
      "text/html": [
       "<pre style=\"white-space:pre;overflow-x:auto;line-height:normal;font-family:Menlo,'DejaVu Sans Mono',consolas,'Courier New',monospace\">Epoch 57, Loss: 0.00010718589210927789, Accuracy: 0.5520218082689686\n",
       "</pre>\n"
      ],
      "text/plain": [
       "Epoch 57, Loss: 0.00010718589210927789, Accuracy: 0.5520218082689686\n"
      ]
     },
     "metadata": {},
     "output_type": "display_data"
    },
    {
     "data": {
      "text/html": [
       "<pre style=\"white-space:pre;overflow-x:auto;line-height:normal;font-family:Menlo,'DejaVu Sans Mono',consolas,'Courier New',monospace\">Epoch 58, Loss: 0.00010707155734769602, Accuracy: 0.5483457932344802\n",
       "</pre>\n"
      ],
      "text/plain": [
       "Epoch 58, Loss: 0.00010707155734769602, Accuracy: 0.5483457932344802\n"
      ]
     },
     "metadata": {},
     "output_type": "display_data"
    },
    {
     "data": {
      "text/html": [
       "<pre style=\"white-space:pre;overflow-x:auto;line-height:normal;font-family:Menlo,'DejaVu Sans Mono',consolas,'Courier New',monospace\">Epoch 59, Loss: 0.00010704193597369505, Accuracy: 0.5489653463301805\n",
       "</pre>\n"
      ],
      "text/plain": [
       "Epoch 59, Loss: 0.00010704193597369505, Accuracy: 0.5489653463301805\n"
      ]
     },
     "metadata": {},
     "output_type": "display_data"
    },
    {
     "data": {
      "text/html": [
       "<pre style=\"white-space:pre;overflow-x:auto;line-height:normal;font-family:Menlo,'DejaVu Sans Mono',consolas,'Courier New',monospace\">Epoch 60, Loss: 0.00010701009890516275, Accuracy: 0.5501218454421544\n",
       "</pre>\n"
      ],
      "text/plain": [
       "Epoch 60, Loss: 0.00010701009890516275, Accuracy: 0.5501218454421544\n"
      ]
     },
     "metadata": {},
     "output_type": "display_data"
    },
    {
     "data": {
      "text/html": [
       "<pre style=\"white-space:pre;overflow-x:auto;line-height:normal;font-family:Menlo,'DejaVu Sans Mono',consolas,'Courier New',monospace\">Epoch 61, Loss: 0.00010664989098332283, Accuracy: 0.5594977489570856\n",
       "</pre>\n"
      ],
      "text/plain": [
       "Epoch 61, Loss: 0.00010664989098332283, Accuracy: 0.5594977489570856\n"
      ]
     },
     "metadata": {},
     "output_type": "display_data"
    },
    {
     "data": {
      "text/html": [
       "<pre style=\"white-space:pre;overflow-x:auto;line-height:normal;font-family:Menlo,'DejaVu Sans Mono',consolas,'Courier New',monospace\">Epoch 62, Loss: 0.00010662598610121267, Accuracy: 0.5634215852298542\n",
       "</pre>\n"
      ],
      "text/plain": [
       "Epoch 62, Loss: 0.00010662598610121267, Accuracy: 0.5634215852298542\n"
      ]
     },
     "metadata": {},
     "output_type": "display_data"
    },
    {
     "data": {
      "text/html": [
       "<pre style=\"white-space:pre;overflow-x:auto;line-height:normal;font-family:Menlo,'DejaVu Sans Mono',consolas,'Courier New',monospace\">Epoch 63, Loss: 0.0001064091877769712, Accuracy: 0.5645780843418281\n",
       "</pre>\n"
      ],
      "text/plain": [
       "Epoch 63, Loss: 0.0001064091877769712, Accuracy: 0.5645780843418281\n"
      ]
     },
     "metadata": {},
     "output_type": "display_data"
    },
    {
     "data": {
      "text/html": [
       "<pre style=\"white-space:pre;overflow-x:auto;line-height:normal;font-family:Menlo,'DejaVu Sans Mono',consolas,'Courier New',monospace\">Epoch 64, Loss: 0.00010634718772021916, Accuracy: 0.5686258312337368\n",
       "</pre>\n"
      ],
      "text/plain": [
       "Epoch 64, Loss: 0.00010634718772021916, Accuracy: 0.5686258312337368\n"
      ]
     },
     "metadata": {},
     "output_type": "display_data"
    },
    {
     "data": {
      "text/html": [
       "<pre style=\"white-space:pre;overflow-x:auto;line-height:normal;font-family:Menlo,'DejaVu Sans Mono',consolas,'Courier New',monospace\">Epoch 65, Loss: 0.00010619706210630798, Accuracy: 0.5742844161744661\n",
       "</pre>\n"
      ],
      "text/plain": [
       "Epoch 65, Loss: 0.00010619706210630798, Accuracy: 0.5742844161744661\n"
      ]
     },
     "metadata": {},
     "output_type": "display_data"
    },
    {
     "data": {
      "text/html": [
       "<pre style=\"white-space:pre;overflow-x:auto;line-height:normal;font-family:Menlo,'DejaVu Sans Mono',consolas,'Courier New',monospace\">Epoch 66, Loss: 0.0001059463291893779, Accuracy: 0.5769278427161207\n",
       "</pre>\n"
      ],
      "text/plain": [
       "Epoch 66, Loss: 0.0001059463291893779, Accuracy: 0.5769278427161207\n"
      ]
     },
     "metadata": {},
     "output_type": "display_data"
    },
    {
     "data": {
      "text/html": [
       "<pre style=\"white-space:pre;overflow-x:auto;line-height:normal;font-family:Menlo,'DejaVu Sans Mono',consolas,'Courier New',monospace\">Epoch 67, Loss: 0.00010583682956563993, Accuracy: 0.5806451612903226\n",
       "</pre>\n"
      ],
      "text/plain": [
       "Epoch 67, Loss: 0.00010583682956563993, Accuracy: 0.5806451612903226\n"
      ]
     },
     "metadata": {},
     "output_type": "display_data"
    },
    {
     "data": {
      "text/html": [
       "<pre style=\"white-space:pre;overflow-x:auto;line-height:normal;font-family:Menlo,'DejaVu Sans Mono',consolas,'Courier New',monospace\">Epoch 68, Loss: 0.00010569341012051023, Accuracy: 0.5883276196770063\n",
       "</pre>\n"
      ],
      "text/plain": [
       "Epoch 68, Loss: 0.00010569341012051023, Accuracy: 0.5883276196770063\n"
      ]
     },
     "metadata": {},
     "output_type": "display_data"
    },
    {
     "data": {
      "text/html": [
       "<pre style=\"white-space:pre;overflow-x:auto;line-height:normal;font-family:Menlo,'DejaVu Sans Mono',consolas,'Courier New',monospace\">Epoch 69, Loss: 0.00010571894969280795, Accuracy: 0.5840733550865309\n",
       "</pre>\n"
      ],
      "text/plain": [
       "Epoch 69, Loss: 0.00010571894969280795, Accuracy: 0.5840733550865309\n"
      ]
     },
     "metadata": {},
     "output_type": "display_data"
    },
    {
     "data": {
      "text/html": [
       "<pre style=\"white-space:pre;overflow-x:auto;line-height:normal;font-family:Menlo,'DejaVu Sans Mono',consolas,'Courier New',monospace\">Epoch 70, Loss: 0.00010550010800583202, Accuracy: 0.5923340630292016\n",
       "</pre>\n"
      ],
      "text/plain": [
       "Epoch 70, Loss: 0.00010550010800583202, Accuracy: 0.5923340630292016\n"
      ]
     },
     "metadata": {},
     "output_type": "display_data"
    },
    {
     "data": {
      "text/html": [
       "<pre style=\"white-space:pre;overflow-x:auto;line-height:normal;font-family:Menlo,'DejaVu Sans Mono',consolas,'Courier New',monospace\">Epoch 71, Loss: 0.00010525205854116766, Accuracy: 0.5927057948866218\n",
       "</pre>\n"
      ],
      "text/plain": [
       "Epoch 71, Loss: 0.00010525205854116766, Accuracy: 0.5927057948866218\n"
      ]
     },
     "metadata": {},
     "output_type": "display_data"
    },
    {
     "data": {
      "text/html": [
       "<pre style=\"white-space:pre;overflow-x:auto;line-height:normal;font-family:Menlo,'DejaVu Sans Mono',consolas,'Courier New',monospace\">Epoch 72, Loss: 0.00010521307216494763, Accuracy: 0.5946470612531494\n",
       "</pre>\n"
      ],
      "text/plain": [
       "Epoch 72, Loss: 0.00010521307216494763, Accuracy: 0.5946470612531494\n"
      ]
     },
     "metadata": {},
     "output_type": "display_data"
    },
    {
     "data": {
      "text/html": [
       "<pre style=\"white-space:pre;overflow-x:auto;line-height:normal;font-family:Menlo,'DejaVu Sans Mono',consolas,'Courier New',monospace\">Epoch 73, Loss: 0.00010508944133386545, Accuracy: 0.5979513444302177\n",
       "</pre>\n"
      ],
      "text/plain": [
       "Epoch 73, Loss: 0.00010508944133386545, Accuracy: 0.5979513444302177\n"
      ]
     },
     "metadata": {},
     "output_type": "display_data"
    },
    {
     "data": {
      "text/html": [
       "<pre style=\"white-space:pre;overflow-x:auto;line-height:normal;font-family:Menlo,'DejaVu Sans Mono',consolas,'Courier New',monospace\">Epoch 74, Loss: 0.00010498920331326841, Accuracy: 0.5990665400024782\n",
       "</pre>\n"
      ],
      "text/plain": [
       "Epoch 74, Loss: 0.00010498920331326841, Accuracy: 0.5990665400024782\n"
      ]
     },
     "metadata": {},
     "output_type": "display_data"
    },
    {
     "data": {
      "text/html": [
       "<pre style=\"white-space:pre;overflow-x:auto;line-height:normal;font-family:Menlo,'DejaVu Sans Mono',consolas,'Courier New',monospace\">Epoch 75, Loss: 0.00010478724029485554, Accuracy: 0.6050142497212011\n",
       "</pre>\n"
      ],
      "text/plain": [
       "Epoch 75, Loss: 0.00010478724029485554, Accuracy: 0.6050142497212011\n"
      ]
     },
     "metadata": {},
     "output_type": "display_data"
    },
    {
     "data": {
      "text/html": [
       "<pre style=\"white-space:pre;overflow-x:auto;line-height:normal;font-family:Menlo,'DejaVu Sans Mono',consolas,'Courier New',monospace\">Epoch 76, Loss: 0.0001047126944832906, Accuracy: 0.603609929370947\n",
       "</pre>\n"
      ],
      "text/plain": [
       "Epoch 76, Loss: 0.0001047126944832906, Accuracy: 0.603609929370947\n"
      ]
     },
     "metadata": {},
     "output_type": "display_data"
    },
    {
     "data": {
      "text/html": [
       "<pre style=\"white-space:pre;overflow-x:auto;line-height:normal;font-family:Menlo,'DejaVu Sans Mono',consolas,'Courier New',monospace\">Epoch 77, Loss: 0.00010458858604694278, Accuracy: 0.6093511213911033\n",
       "</pre>\n"
      ],
      "text/plain": [
       "Epoch 77, Loss: 0.00010458858604694278, Accuracy: 0.6093511213911033\n"
      ]
     },
     "metadata": {},
     "output_type": "display_data"
    },
    {
     "data": {
      "text/html": [
       "<pre style=\"white-space:pre;overflow-x:auto;line-height:normal;font-family:Menlo,'DejaVu Sans Mono',consolas,'Courier New',monospace\">Epoch 78, Loss: 0.00010438762255295182, Accuracy: 0.6152575275701128\n",
       "</pre>\n"
      ],
      "text/plain": [
       "Epoch 78, Loss: 0.00010438762255295182, Accuracy: 0.6152575275701128\n"
      ]
     },
     "metadata": {},
     "output_type": "display_data"
    },
    {
     "data": {
      "text/html": [
       "<pre style=\"white-space:pre;overflow-x:auto;line-height:normal;font-family:Menlo,'DejaVu Sans Mono',consolas,'Courier New',monospace\">Epoch 79, Loss: 0.0001042801269018233, Accuracy: 0.6180248647309075\n",
       "</pre>\n"
      ],
      "text/plain": [
       "Epoch 79, Loss: 0.0001042801269018233, Accuracy: 0.6180248647309075\n"
      ]
     },
     "metadata": {},
     "output_type": "display_data"
    },
    {
     "data": {
      "text/html": [
       "<pre style=\"white-space:pre;overflow-x:auto;line-height:normal;font-family:Menlo,'DejaVu Sans Mono',consolas,'Courier New',monospace\">Epoch 80, Loss: 0.00010419405455492985, Accuracy: 0.6206682912725621\n",
       "</pre>\n"
      ],
      "text/plain": [
       "Epoch 80, Loss: 0.00010419405455492985, Accuracy: 0.6206682912725621\n"
      ]
     },
     "metadata": {},
     "output_type": "display_data"
    },
    {
     "data": {
      "text/html": [
       "<pre style=\"white-space:pre;overflow-x:auto;line-height:normal;font-family:Menlo,'DejaVu Sans Mono',consolas,'Courier New',monospace\">Epoch 81, Loss: 0.0001038724489555912, Accuracy: 0.6235182355127834\n",
       "</pre>\n"
      ],
      "text/plain": [
       "Epoch 81, Loss: 0.0001038724489555912, Accuracy: 0.6235182355127834\n"
      ]
     },
     "metadata": {},
     "output_type": "display_data"
    },
    {
     "data": {
      "text/html": [
       "<pre style=\"white-space:pre;overflow-x:auto;line-height:normal;font-family:Menlo,'DejaVu Sans Mono',consolas,'Courier New',monospace\">Epoch 82, Loss: 0.00010378282164991638, Accuracy: 0.6199248275577217\n",
       "</pre>\n"
      ],
      "text/plain": [
       "Epoch 82, Loss: 0.00010378282164991638, Accuracy: 0.6199248275577217\n"
      ]
     },
     "metadata": {},
     "output_type": "display_data"
    },
    {
     "data": {
      "text/html": [
       "<pre style=\"white-space:pre;overflow-x:auto;line-height:normal;font-family:Menlo,'DejaVu Sans Mono',consolas,'Courier New',monospace\">Epoch 83, Loss: 0.00010359869251059785, Accuracy: 0.6279377142621123\n",
       "</pre>\n"
      ],
      "text/plain": [
       "Epoch 83, Loss: 0.00010359869251059785, Accuracy: 0.6279377142621123\n"
      ]
     },
     "metadata": {},
     "output_type": "display_data"
    },
    {
     "data": {
      "text/html": [
       "<pre style=\"white-space:pre;overflow-x:auto;line-height:normal;font-family:Menlo,'DejaVu Sans Mono',consolas,'Courier New',monospace\">Epoch 84, Loss: 0.00010338974266876288, Accuracy: 0.6342571558382554\n",
       "</pre>\n"
      ],
      "text/plain": [
       "Epoch 84, Loss: 0.00010338974266876288, Accuracy: 0.6342571558382554\n"
      ]
     },
     "metadata": {},
     "output_type": "display_data"
    },
    {
     "data": {
      "text/html": [
       "<pre style=\"white-space:pre;overflow-x:auto;line-height:normal;font-family:Menlo,'DejaVu Sans Mono',consolas,'Courier New',monospace\">Epoch 85, Loss: 0.00010334095799894878, Accuracy: 0.6355788691090827\n",
       "</pre>\n"
      ],
      "text/plain": [
       "Epoch 85, Loss: 0.00010334095799894878, Accuracy: 0.6355788691090827\n"
      ]
     },
     "metadata": {},
     "output_type": "display_data"
    },
    {
     "data": {
      "text/html": [
       "<pre style=\"white-space:pre;overflow-x:auto;line-height:normal;font-family:Menlo,'DejaVu Sans Mono',consolas,'Courier New',monospace\">Epoch 86, Loss: 0.00010330174020574436, Accuracy: 0.6382635991904506\n",
       "</pre>\n"
      ],
      "text/plain": [
       "Epoch 86, Loss: 0.00010330174020574436, Accuracy: 0.6382635991904506\n"
      ]
     },
     "metadata": {},
     "output_type": "display_data"
    },
    {
     "data": {
      "text/html": [
       "<pre style=\"white-space:pre;overflow-x:auto;line-height:normal;font-family:Menlo,'DejaVu Sans Mono',consolas,'Courier New',monospace\">Epoch 87, Loss: 0.00010302167641698518, Accuracy: 0.6399157407789847\n",
       "</pre>\n"
      ],
      "text/plain": [
       "Epoch 87, Loss: 0.00010302167641698518, Accuracy: 0.6399157407789847\n"
      ]
     },
     "metadata": {},
     "output_type": "display_data"
    },
    {
     "data": {
      "text/html": [
       "<pre style=\"white-space:pre;overflow-x:auto;line-height:normal;font-family:Menlo,'DejaVu Sans Mono',consolas,'Courier New',monospace\">Epoch 88, Loss: 0.00010292094109606002, Accuracy: 0.6438808805914666\n",
       "</pre>\n"
      ],
      "text/plain": [
       "Epoch 88, Loss: 0.00010292094109606002, Accuracy: 0.6438808805914666\n"
      ]
     },
     "metadata": {},
     "output_type": "display_data"
    },
    {
     "data": {
      "text/html": [
       "<pre style=\"white-space:pre;overflow-x:auto;line-height:normal;font-family:Menlo,'DejaVu Sans Mono',consolas,'Courier New',monospace\">Epoch 89, Loss: 0.00010263506726386315, Accuracy: 0.6463177894345545\n",
       "</pre>\n"
      ],
      "text/plain": [
       "Epoch 89, Loss: 0.00010263506726386315, Accuracy: 0.6463177894345545\n"
      ]
     },
     "metadata": {},
     "output_type": "display_data"
    },
    {
     "data": {
      "text/html": [
       "<pre style=\"white-space:pre;overflow-x:auto;line-height:normal;font-family:Menlo,'DejaVu Sans Mono',consolas,'Courier New',monospace\">Epoch 90, Loss: 0.0001025748052963768, Accuracy: 0.6483003593407956\n",
       "</pre>\n"
      ],
      "text/plain": [
       "Epoch 90, Loss: 0.0001025748052963768, Accuracy: 0.6483003593407956\n"
      ]
     },
     "metadata": {},
     "output_type": "display_data"
    },
    {
     "data": {
      "text/html": [
       "<pre style=\"white-space:pre;overflow-x:auto;line-height:normal;font-family:Menlo,'DejaVu Sans Mono',consolas,'Courier New',monospace\">Epoch 91, Loss: 0.00010243549719554411, Accuracy: 0.6479286274833753\n",
       "</pre>\n"
      ],
      "text/plain": [
       "Epoch 91, Loss: 0.00010243549719554411, Accuracy: 0.6479286274833753\n"
      ]
     },
     "metadata": {},
     "output_type": "display_data"
    },
    {
     "data": {
      "text/html": [
       "<pre style=\"white-space:pre;overflow-x:auto;line-height:normal;font-family:Menlo,'DejaVu Sans Mono',consolas,'Courier New',monospace\">Epoch 92, Loss: 0.0001023244613569311, Accuracy: 0.648589484118789\n",
       "</pre>\n"
      ],
      "text/plain": [
       "Epoch 92, Loss: 0.0001023244613569311, Accuracy: 0.648589484118789\n"
      ]
     },
     "metadata": {},
     "output_type": "display_data"
    },
    {
     "data": {
      "text/html": [
       "<pre style=\"white-space:pre;overflow-x:auto;line-height:normal;font-family:Menlo,'DejaVu Sans Mono',consolas,'Courier New',monospace\">Epoch 93, Loss: 0.00010219328239314555, Accuracy: 0.6580479947131469\n",
       "</pre>\n"
      ],
      "text/plain": [
       "Epoch 93, Loss: 0.00010219328239314555, Accuracy: 0.6580479947131469\n"
      ]
     },
     "metadata": {},
     "output_type": "display_data"
    },
    {
     "data": {
      "text/html": [
       "<pre style=\"white-space:pre;overflow-x:auto;line-height:normal;font-family:Menlo,'DejaVu Sans Mono',consolas,'Courier New',monospace\">Epoch 94, Loss: 0.00010192037775960535, Accuracy: 0.6649456858452769\n",
       "</pre>\n"
      ],
      "text/plain": [
       "Epoch 94, Loss: 0.00010192037775960535, Accuracy: 0.6649456858452769\n"
      ]
     },
     "metadata": {},
     "output_type": "display_data"
    },
    {
     "data": {
      "text/html": [
       "<pre style=\"white-space:pre;overflow-x:auto;line-height:normal;font-family:Menlo,'DejaVu Sans Mono',consolas,'Courier New',monospace\">Epoch 95, Loss: 0.00010190341046326104, Accuracy: 0.661682706207922\n",
       "</pre>\n"
      ],
      "text/plain": [
       "Epoch 95, Loss: 0.00010190341046326104, Accuracy: 0.661682706207922\n"
      ]
     },
     "metadata": {},
     "output_type": "display_data"
    },
    {
     "data": {
      "text/html": [
       "<pre style=\"white-space:pre;overflow-x:auto;line-height:normal;font-family:Menlo,'DejaVu Sans Mono',consolas,'Courier New',monospace\">Epoch 96, Loss: 0.0001017473615593028, Accuracy: 0.6635000619553095\n",
       "</pre>\n"
      ],
      "text/plain": [
       "Epoch 96, Loss: 0.0001017473615593028, Accuracy: 0.6635000619553095\n"
      ]
     },
     "metadata": {},
     "output_type": "display_data"
    },
    {
     "data": {
      "text/html": [
       "<pre style=\"white-space:pre;overflow-x:auto;line-height:normal;font-family:Menlo,'DejaVu Sans Mono',consolas,'Courier New',monospace\">Epoch 97, Loss: 0.00010150717042457619, Accuracy: 0.6668869522118046\n",
       "</pre>\n"
      ],
      "text/plain": [
       "Epoch 97, Loss: 0.00010150717042457619, Accuracy: 0.6668869522118046\n"
      ]
     },
     "metadata": {},
     "output_type": "display_data"
    },
    {
     "data": {
      "text/html": [
       "<pre style=\"white-space:pre;overflow-x:auto;line-height:normal;font-family:Menlo,'DejaVu Sans Mono',consolas,'Courier New',monospace\">Epoch 98, Loss: 0.00010154767332060876, Accuracy: 0.6648217752261368\n",
       "</pre>\n"
      ],
      "text/plain": [
       "Epoch 98, Loss: 0.00010154767332060876, Accuracy: 0.6648217752261368\n"
      ]
     },
     "metadata": {},
     "output_type": "display_data"
    },
    {
     "data": {
      "text/html": [
       "<pre style=\"white-space:pre;overflow-x:auto;line-height:normal;font-family:Menlo,'DejaVu Sans Mono',consolas,'Courier New',monospace\">Epoch 99, Loss: 0.00010133788151485189, Accuracy: 0.6674238982280781\n",
       "</pre>\n"
      ],
      "text/plain": [
       "Epoch 99, Loss: 0.00010133788151485189, Accuracy: 0.6674238982280781\n"
      ]
     },
     "metadata": {},
     "output_type": "display_data"
    },
    {
     "data": {
      "text/html": [
       "<pre style=\"white-space:pre;overflow-x:auto;line-height:normal;font-family:Menlo,'DejaVu Sans Mono',consolas,'Courier New',monospace\">Epoch 100, Loss: 0.00010098287801327775, Accuracy: 0.6763041592664492\n",
       "</pre>\n"
      ],
      "text/plain": [
       "Epoch 100, Loss: 0.00010098287801327775, Accuracy: 0.6763041592664492\n"
      ]
     },
     "metadata": {},
     "output_type": "display_data"
    },
    {
     "data": {
      "text/html": [
       "<pre style=\"white-space:pre;overflow-x:auto;line-height:normal;font-family:Menlo,'DejaVu Sans Mono',consolas,'Courier New',monospace\">Epoch 101, Loss: 0.00010095411337449557, Accuracy: 0.6769650159018628\n",
       "</pre>\n"
      ],
      "text/plain": [
       "Epoch 101, Loss: 0.00010095411337449557, Accuracy: 0.6769650159018628\n"
      ]
     },
     "metadata": {},
     "output_type": "display_data"
    },
    {
     "data": {
      "text/html": [
       "<pre style=\"white-space:pre;overflow-x:auto;line-height:normal;font-family:Menlo,'DejaVu Sans Mono',consolas,'Courier New',monospace\">Epoch 102, Loss: 0.00010082521903796009, Accuracy: 0.6769237123621494\n",
       "</pre>\n"
      ],
      "text/plain": [
       "Epoch 102, Loss: 0.00010082521903796009, Accuracy: 0.6769237123621494\n"
      ]
     },
     "metadata": {},
     "output_type": "display_data"
    },
    {
     "data": {
      "text/html": [
       "<pre style=\"white-space:pre;overflow-x:auto;line-height:normal;font-family:Menlo,'DejaVu Sans Mono',consolas,'Courier New',monospace\">Epoch 103, Loss: 0.00010057319609443621, Accuracy: 0.6778736937755566\n",
       "</pre>\n"
      ],
      "text/plain": [
       "Epoch 103, Loss: 0.00010057319609443621, Accuracy: 0.6778736937755566\n"
      ]
     },
     "metadata": {},
     "output_type": "display_data"
    },
    {
     "data": {
      "text/html": [
       "<pre style=\"white-space:pre;overflow-x:auto;line-height:normal;font-family:Menlo,'DejaVu Sans Mono',consolas,'Courier New',monospace\">Epoch 104, Loss: 0.00010038105598844554, Accuracy: 0.6865887406550741\n",
       "</pre>\n"
      ],
      "text/plain": [
       "Epoch 104, Loss: 0.00010038105598844554, Accuracy: 0.6865887406550741\n"
      ]
     },
     "metadata": {},
     "output_type": "display_data"
    },
    {
     "data": {
      "text/html": [
       "<pre style=\"white-space:pre;overflow-x:auto;line-height:normal;font-family:Menlo,'DejaVu Sans Mono',consolas,'Courier New',monospace\">Epoch 105, Loss: 0.0001001966708133145, Accuracy: 0.6851018132253934\n",
       "</pre>\n"
      ],
      "text/plain": [
       "Epoch 105, Loss: 0.0001001966708133145, Accuracy: 0.6851018132253934\n"
      ]
     },
     "metadata": {},
     "output_type": "display_data"
    },
    {
     "data": {
      "text/html": [
       "<pre style=\"white-space:pre;overflow-x:auto;line-height:normal;font-family:Menlo,'DejaVu Sans Mono',consolas,'Courier New',monospace\">Epoch 106, Loss: 0.0001000933899055611, Accuracy: 0.6862583123373673\n",
       "</pre>\n"
      ],
      "text/plain": [
       "Epoch 106, Loss: 0.0001000933899055611, Accuracy: 0.6862583123373673\n"
      ]
     },
     "metadata": {},
     "output_type": "display_data"
    },
    {
     "data": {
      "text/html": [
       "<pre style=\"white-space:pre;overflow-x:auto;line-height:normal;font-family:Menlo,'DejaVu Sans Mono',consolas,'Courier New',monospace\">Epoch 107, Loss: 9.996114740840052e-05, Accuracy: 0.6861344017182273\n",
       "</pre>\n"
      ],
      "text/plain": [
       "Epoch 107, Loss: 9.996114740840052e-05, Accuracy: 0.6861344017182273\n"
      ]
     },
     "metadata": {},
     "output_type": "display_data"
    },
    {
     "data": {
      "text/html": [
       "<pre style=\"white-space:pre;overflow-x:auto;line-height:normal;font-family:Menlo,'DejaVu Sans Mono',consolas,'Courier New',monospace\">Epoch 108, Loss: 9.986092908286599e-05, Accuracy: 0.6895212919747222\n",
       "</pre>\n"
      ],
      "text/plain": [
       "Epoch 108, Loss: 9.986092908286599e-05, Accuracy: 0.6895212919747222\n"
      ]
     },
     "metadata": {},
     "output_type": "display_data"
    },
    {
     "data": {
      "text/html": [
       "<pre style=\"white-space:pre;overflow-x:auto;line-height:normal;font-family:Menlo,'DejaVu Sans Mono',consolas,'Courier New',monospace\">Epoch 109, Loss: 9.960738469576393e-05, Accuracy: 0.6941059848829044\n",
       "</pre>\n"
      ],
      "text/plain": [
       "Epoch 109, Loss: 9.960738469576393e-05, Accuracy: 0.6941059848829044\n"
      ]
     },
     "metadata": {},
     "output_type": "display_data"
    },
    {
     "data": {
      "text/html": [
       "<pre style=\"white-space:pre;overflow-x:auto;line-height:normal;font-family:Menlo,'DejaVu Sans Mono',consolas,'Courier New',monospace\">Epoch 110, Loss: 9.94581650547278e-05, Accuracy: 0.6959646441700054\n",
       "</pre>\n"
      ],
      "text/plain": [
       "Epoch 110, Loss: 9.94581650547278e-05, Accuracy: 0.6959646441700054\n"
      ]
     },
     "metadata": {},
     "output_type": "display_data"
    },
    {
     "data": {
      "text/html": [
       "<pre style=\"white-space:pre;overflow-x:auto;line-height:normal;font-family:Menlo,'DejaVu Sans Mono',consolas,'Courier New',monospace\">Epoch 111, Loss: 9.930829547662913e-05, Accuracy: 0.6986906777910867\n",
       "</pre>\n"
      ],
      "text/plain": [
       "Epoch 111, Loss: 9.930829547662913e-05, Accuracy: 0.6986906777910867\n"
      ]
     },
     "metadata": {},
     "output_type": "display_data"
    },
    {
     "data": {
      "text/html": [
       "<pre style=\"white-space:pre;overflow-x:auto;line-height:normal;font-family:Menlo,'DejaVu Sans Mono',consolas,'Courier New',monospace\">Epoch 112, Loss: 9.919845611306303e-05, Accuracy: 0.7019123538887283\n",
       "</pre>\n"
      ],
      "text/plain": [
       "Epoch 112, Loss: 9.919845611306303e-05, Accuracy: 0.7019123538887283\n"
      ]
     },
     "metadata": {},
     "output_type": "display_data"
    },
    {
     "data": {
      "text/html": [
       "<pre style=\"white-space:pre;overflow-x:auto;line-height:normal;font-family:Menlo,'DejaVu Sans Mono',consolas,'Courier New',monospace\">Epoch 113, Loss: 9.902000407551031e-05, Accuracy: 0.700590640617901\n",
       "</pre>\n"
      ],
      "text/plain": [
       "Epoch 113, Loss: 9.902000407551031e-05, Accuracy: 0.700590640617901\n"
      ]
     },
     "metadata": {},
     "output_type": "display_data"
    },
    {
     "data": {
      "text/html": [
       "<pre style=\"white-space:pre;overflow-x:auto;line-height:normal;font-family:Menlo,'DejaVu Sans Mono',consolas,'Courier New',monospace\">Epoch 114, Loss: 9.87626733126425e-05, Accuracy: 0.7052992441452233\n",
       "</pre>\n"
      ],
      "text/plain": [
       "Epoch 114, Loss: 9.87626733126425e-05, Accuracy: 0.7052992441452233\n"
      ]
     },
     "metadata": {},
     "output_type": "display_data"
    },
    {
     "data": {
      "text/html": [
       "<pre style=\"white-space:pre;overflow-x:auto;line-height:normal;font-family:Menlo,'DejaVu Sans Mono',consolas,'Courier New',monospace\">Epoch 115, Loss: 9.87070396848438e-05, Accuracy: 0.7098426335136921\n",
       "</pre>\n"
      ],
      "text/plain": [
       "Epoch 115, Loss: 9.87070396848438e-05, Accuracy: 0.7098426335136921\n"
      ]
     },
     "metadata": {},
     "output_type": "display_data"
    },
    {
     "data": {
      "text/html": [
       "<pre style=\"white-space:pre;overflow-x:auto;line-height:normal;font-family:Menlo,'DejaVu Sans Mono',consolas,'Courier New',monospace\">Epoch 116, Loss: 9.859185311180878e-05, Accuracy: 0.708892652100285\n",
       "</pre>\n"
      ],
      "text/plain": [
       "Epoch 116, Loss: 9.859185311180878e-05, Accuracy: 0.708892652100285\n"
      ]
     },
     "metadata": {},
     "output_type": "display_data"
    },
    {
     "data": {
      "text/html": [
       "<pre style=\"white-space:pre;overflow-x:auto;line-height:normal;font-family:Menlo,'DejaVu Sans Mono',consolas,'Courier New',monospace\">Epoch 117, Loss: 9.833837765742548e-05, Accuracy: 0.7127338812936269\n",
       "</pre>\n"
      ],
      "text/plain": [
       "Epoch 117, Loss: 9.833837765742548e-05, Accuracy: 0.7127338812936269\n"
      ]
     },
     "metadata": {},
     "output_type": "display_data"
    },
    {
     "data": {
      "text/html": [
       "<pre style=\"white-space:pre;overflow-x:auto;line-height:normal;font-family:Menlo,'DejaVu Sans Mono',consolas,'Courier New',monospace\">Epoch 118, Loss: 9.833468975697223e-05, Accuracy: 0.7093882945768453\n",
       "</pre>\n"
      ],
      "text/plain": [
       "Epoch 118, Loss: 9.833468975697223e-05, Accuracy: 0.7093882945768453\n"
      ]
     },
     "metadata": {},
     "output_type": "display_data"
    },
    {
     "data": {
      "text/html": [
       "<pre style=\"white-space:pre;overflow-x:auto;line-height:normal;font-family:Menlo,'DejaVu Sans Mono',consolas,'Courier New',monospace\">Epoch 119, Loss: 9.807654164901065e-05, Accuracy: 0.714964272438148\n",
       "</pre>\n"
      ],
      "text/plain": [
       "Epoch 119, Loss: 9.807654164901065e-05, Accuracy: 0.714964272438148\n"
      ]
     },
     "metadata": {},
     "output_type": "display_data"
    },
    {
     "data": {
      "text/html": [
       "<pre style=\"white-space:pre;overflow-x:auto;line-height:normal;font-family:Menlo,'DejaVu Sans Mono',consolas,'Courier New',monospace\">Epoch 120, Loss: 9.797639225619486e-05, Accuracy: 0.7190120193300565\n",
       "</pre>\n"
      ],
      "text/plain": [
       "Epoch 120, Loss: 9.797639225619486e-05, Accuracy: 0.7190120193300565\n"
      ]
     },
     "metadata": {},
     "output_type": "display_data"
    },
    {
     "data": {
      "text/html": [
       "<pre style=\"white-space:pre;overflow-x:auto;line-height:normal;font-family:Menlo,'DejaVu Sans Mono',consolas,'Courier New',monospace\">Epoch 121, Loss: 9.757791190415056e-05, Accuracy: 0.7236793193176655\n",
       "</pre>\n"
      ],
      "text/plain": [
       "Epoch 121, Loss: 9.757791190415056e-05, Accuracy: 0.7236793193176655\n"
      ]
     },
     "metadata": {},
     "output_type": "display_data"
    },
    {
     "data": {
      "text/html": [
       "<pre style=\"white-space:pre;overflow-x:auto;line-height:normal;font-family:Menlo,'DejaVu Sans Mono',consolas,'Courier New',monospace\">Epoch 122, Loss: 9.763940973680882e-05, Accuracy: 0.71905332286977\n",
       "</pre>\n"
      ],
      "text/plain": [
       "Epoch 122, Loss: 9.763940973680882e-05, Accuracy: 0.71905332286977\n"
      ]
     },
     "metadata": {},
     "output_type": "display_data"
    },
    {
     "data": {
      "text/html": [
       "<pre style=\"white-space:pre;overflow-x:auto;line-height:normal;font-family:Menlo,'DejaVu Sans Mono',consolas,'Courier New',monospace\">Epoch 123, Loss: 9.725537571310874e-05, Accuracy: 0.7250836396679196\n",
       "</pre>\n"
      ],
      "text/plain": [
       "Epoch 123, Loss: 9.725537571310874e-05, Accuracy: 0.7250836396679196\n"
      ]
     },
     "metadata": {},
     "output_type": "display_data"
    },
    {
     "data": {
      "text/html": [
       "<pre style=\"white-space:pre;overflow-x:auto;line-height:normal;font-family:Menlo,'DejaVu Sans Mono',consolas,'Courier New',monospace\">Epoch 124, Loss: 9.737664313669083e-05, Accuracy: 0.7210358927760109\n",
       "</pre>\n"
      ],
      "text/plain": [
       "Epoch 124, Loss: 9.737664313669083e-05, Accuracy: 0.7210358927760109\n"
      ]
     },
     "metadata": {},
     "output_type": "display_data"
    },
    {
     "data": {
      "text/html": [
       "<pre style=\"white-space:pre;overflow-x:auto;line-height:normal;font-family:Menlo,'DejaVu Sans Mono',consolas,'Courier New',monospace\">Epoch 125, Loss: 9.708215271464994e-05, Accuracy: 0.7221510883482715\n",
       "</pre>\n"
      ],
      "text/plain": [
       "Epoch 125, Loss: 9.708215271464994e-05, Accuracy: 0.7221510883482715\n"
      ]
     },
     "metadata": {},
     "output_type": "display_data"
    },
    {
     "data": {
      "text/html": [
       "<pre style=\"white-space:pre;overflow-x:auto;line-height:normal;font-family:Menlo,'DejaVu Sans Mono',consolas,'Courier New',monospace\">Epoch 126, Loss: 9.699342153431891e-05, Accuracy: 0.7298748502746686\n",
       "</pre>\n"
      ],
      "text/plain": [
       "Epoch 126, Loss: 9.699342153431891e-05, Accuracy: 0.7298748502746686\n"
      ]
     },
     "metadata": {},
     "output_type": "display_data"
    },
    {
     "data": {
      "text/html": [
       "<pre style=\"white-space:pre;overflow-x:auto;line-height:normal;font-family:Menlo,'DejaVu Sans Mono',consolas,'Courier New',monospace\">Epoch 127, Loss: 9.678255142389012e-05, Accuracy: 0.7296683325761018\n",
       "</pre>\n"
      ],
      "text/plain": [
       "Epoch 127, Loss: 9.678255142389012e-05, Accuracy: 0.7296683325761018\n"
      ]
     },
     "metadata": {},
     "output_type": "display_data"
    },
    {
     "data": {
      "text/html": [
       "<pre style=\"white-space:pre;overflow-x:auto;line-height:normal;font-family:Menlo,'DejaVu Sans Mono',consolas,'Courier New',monospace\">Epoch 128, Loss: 9.674879901052964e-05, Accuracy: 0.7296683325761018\n",
       "</pre>\n"
      ],
      "text/plain": [
       "Epoch 128, Loss: 9.674879901052964e-05, Accuracy: 0.7296683325761018\n"
      ]
     },
     "metadata": {},
     "output_type": "display_data"
    },
    {
     "data": {
      "text/html": [
       "<pre style=\"white-space:pre;overflow-x:auto;line-height:normal;font-family:Menlo,'DejaVu Sans Mono',consolas,'Courier New',monospace\">Epoch 129, Loss: 9.655290207136696e-05, Accuracy: 0.7315269918632027\n",
       "</pre>\n"
      ],
      "text/plain": [
       "Epoch 129, Loss: 9.655290207136696e-05, Accuracy: 0.7315269918632027\n"
      ]
     },
     "metadata": {},
     "output_type": "display_data"
    },
    {
     "data": {
      "text/html": [
       "<pre style=\"white-space:pre;overflow-x:auto;line-height:normal;font-family:Menlo,'DejaVu Sans Mono',consolas,'Courier New',monospace\">Epoch 130, Loss: 9.630564040920262e-05, Accuracy: 0.737639915740779\n",
       "</pre>\n"
      ],
      "text/plain": [
       "Epoch 130, Loss: 9.630564040920262e-05, Accuracy: 0.737639915740779\n"
      ]
     },
     "metadata": {},
     "output_type": "display_data"
    },
    {
     "data": {
      "text/html": [
       "<pre style=\"white-space:pre;overflow-x:auto;line-height:normal;font-family:Menlo,'DejaVu Sans Mono',consolas,'Courier New',monospace\">Epoch 131, Loss: 9.618267428647984e-05, Accuracy: 0.7374333980422122\n",
       "</pre>\n"
      ],
      "text/plain": [
       "Epoch 131, Loss: 9.618267428647984e-05, Accuracy: 0.7374333980422122\n"
      ]
     },
     "metadata": {},
     "output_type": "display_data"
    },
    {
     "data": {
      "text/html": [
       "<pre style=\"white-space:pre;overflow-x:auto;line-height:normal;font-family:Menlo,'DejaVu Sans Mono',consolas,'Courier New',monospace\">Epoch 132, Loss: 9.604610872310037e-05, Accuracy: 0.741026805997274\n",
       "</pre>\n"
      ],
      "text/plain": [
       "Epoch 132, Loss: 9.604610872310037e-05, Accuracy: 0.741026805997274\n"
      ]
     },
     "metadata": {},
     "output_type": "display_data"
    },
    {
     "data": {
      "text/html": [
       "<pre style=\"white-space:pre;overflow-x:auto;line-height:normal;font-family:Menlo,'DejaVu Sans Mono',consolas,'Courier New',monospace\">Epoch 133, Loss: 9.560177334178893e-05, Accuracy: 0.7400355210441535\n",
       "</pre>\n"
      ],
      "text/plain": [
       "Epoch 133, Loss: 9.560177334178893e-05, Accuracy: 0.7400355210441535\n"
      ]
     },
     "metadata": {},
     "output_type": "display_data"
    },
    {
     "data": {
      "text/html": [
       "<pre style=\"white-space:pre;overflow-x:auto;line-height:normal;font-family:Menlo,'DejaVu Sans Mono',consolas,'Courier New',monospace\">Epoch 134, Loss: 9.578462230204493e-05, Accuracy: 0.741605055553261\n",
       "</pre>\n"
      ],
      "text/plain": [
       "Epoch 134, Loss: 9.578462230204493e-05, Accuracy: 0.741605055553261\n"
      ]
     },
     "metadata": {},
     "output_type": "display_data"
    },
    {
     "data": {
      "text/html": [
       "<pre style=\"white-space:pre;overflow-x:auto;line-height:normal;font-family:Menlo,'DejaVu Sans Mono',consolas,'Courier New',monospace\">Epoch 135, Loss: 9.550369685430134e-05, Accuracy: 0.7413985378546941\n",
       "</pre>\n"
      ],
      "text/plain": [
       "Epoch 135, Loss: 9.550369685430134e-05, Accuracy: 0.7413985378546941\n"
      ]
     },
     "metadata": {},
     "output_type": "display_data"
    },
    {
     "data": {
      "text/html": [
       "<pre style=\"white-space:pre;overflow-x:auto;line-height:normal;font-family:Menlo,'DejaVu Sans Mono',consolas,'Courier New',monospace\">Epoch 136, Loss: 9.535564906948399e-05, Accuracy: 0.7436702325389286\n",
       "</pre>\n"
      ],
      "text/plain": [
       "Epoch 136, Loss: 9.535564906948399e-05, Accuracy: 0.7436702325389286\n"
      ]
     },
     "metadata": {},
     "output_type": "display_data"
    },
    {
     "data": {
      "text/html": [
       "<pre style=\"white-space:pre;overflow-x:auto;line-height:normal;font-family:Menlo,'DejaVu Sans Mono',consolas,'Courier New',monospace\">Epoch 137, Loss: 9.532894256473311e-05, Accuracy: 0.7436289289992152\n",
       "</pre>\n"
      ],
      "text/plain": [
       "Epoch 137, Loss: 9.532894256473311e-05, Accuracy: 0.7436289289992152\n"
      ]
     },
     "metadata": {},
     "output_type": "display_data"
    },
    {
     "data": {
      "text/html": [
       "<pre style=\"white-space:pre;overflow-x:auto;line-height:normal;font-family:Menlo,'DejaVu Sans Mono',consolas,'Courier New',monospace\">Epoch 138, Loss: 9.507841644595927e-05, Accuracy: 0.7483375325265376\n",
       "</pre>\n"
      ],
      "text/plain": [
       "Epoch 138, Loss: 9.507841644595927e-05, Accuracy: 0.7483375325265376\n"
      ]
     },
     "metadata": {},
     "output_type": "display_data"
    },
    {
     "data": {
      "text/html": [
       "<pre style=\"white-space:pre;overflow-x:auto;line-height:normal;font-family:Menlo,'DejaVu Sans Mono',consolas,'Courier New',monospace\">Epoch 139, Loss: 9.51056596411633e-05, Accuracy: 0.7479658006691173\n",
       "</pre>\n"
      ],
      "text/plain": [
       "Epoch 139, Loss: 9.51056596411633e-05, Accuracy: 0.7479658006691173\n"
      ]
     },
     "metadata": {},
     "output_type": "display_data"
    },
    {
     "data": {
      "text/html": [
       "<pre style=\"white-space:pre;overflow-x:auto;line-height:normal;font-family:Menlo,'DejaVu Sans Mono',consolas,'Courier New',monospace\">Epoch 140, Loss: 9.463324402449157e-05, Accuracy: 0.7519309404815993\n",
       "</pre>\n"
      ],
      "text/plain": [
       "Epoch 140, Loss: 9.463324402449157e-05, Accuracy: 0.7519309404815993\n"
      ]
     },
     "metadata": {},
     "output_type": "display_data"
    },
    {
     "data": {
      "text/html": [
       "<pre style=\"white-space:pre;overflow-x:auto;line-height:normal;font-family:Menlo,'DejaVu Sans Mono',consolas,'Courier New',monospace\">Epoch 141, Loss: 9.465596720285168e-05, Accuracy: 0.7513526909256123\n",
       "</pre>\n"
      ],
      "text/plain": [
       "Epoch 141, Loss: 9.465596720285168e-05, Accuracy: 0.7513526909256123\n"
      ]
     },
     "metadata": {},
     "output_type": "display_data"
    },
    {
     "data": {
      "text/html": [
       "<pre style=\"white-space:pre;overflow-x:auto;line-height:normal;font-family:Menlo,'DejaVu Sans Mono',consolas,'Courier New',monospace\">Epoch 142, Loss: 9.43598371668576e-05, Accuracy: 0.7546156705629673\n",
       "</pre>\n"
      ],
      "text/plain": [
       "Epoch 142, Loss: 9.43598371668576e-05, Accuracy: 0.7546156705629673\n"
      ]
     },
     "metadata": {},
     "output_type": "display_data"
    },
    {
     "data": {
      "text/html": [
       "<pre style=\"white-space:pre;overflow-x:auto;line-height:normal;font-family:Menlo,'DejaVu Sans Mono',consolas,'Courier New',monospace\">Epoch 143, Loss: 9.442808548218796e-05, Accuracy: 0.7566395440089215\n",
       "</pre>\n"
      ],
      "text/plain": [
       "Epoch 143, Loss: 9.442808548218796e-05, Accuracy: 0.7566395440089215\n"
      ]
     },
     "metadata": {},
     "output_type": "display_data"
    },
    {
     "data": {
      "text/html": [
       "<pre style=\"white-space:pre;overflow-x:auto;line-height:normal;font-family:Menlo,'DejaVu Sans Mono',consolas,'Courier New',monospace\">Epoch 144, Loss: 9.418789927122698e-05, Accuracy: 0.7550287059601007\n",
       "</pre>\n"
      ],
      "text/plain": [
       "Epoch 144, Loss: 9.418789927122698e-05, Accuracy: 0.7550287059601007\n"
      ]
     },
     "metadata": {},
     "output_type": "display_data"
    },
    {
     "data": {
      "text/html": [
       "<pre style=\"white-space:pre;overflow-x:auto;line-height:normal;font-family:Menlo,'DejaVu Sans Mono',consolas,'Courier New',monospace\">Epoch 145, Loss: 9.39117695712023e-05, Accuracy: 0.7577547395811821\n",
       "</pre>\n"
      ],
      "text/plain": [
       "Epoch 145, Loss: 9.39117695712023e-05, Accuracy: 0.7577547395811821\n"
      ]
     },
     "metadata": {},
     "output_type": "display_data"
    },
    {
     "data": {
      "text/html": [
       "<pre style=\"white-space:pre;overflow-x:auto;line-height:normal;font-family:Menlo,'DejaVu Sans Mono',consolas,'Courier New',monospace\">Epoch 146, Loss: 9.39324740056561e-05, Accuracy: 0.7573830077237619\n",
       "</pre>\n"
      ],
      "text/plain": [
       "Epoch 146, Loss: 9.39324740056561e-05, Accuracy: 0.7573830077237619\n"
      ]
     },
     "metadata": {},
     "output_type": "display_data"
    },
    {
     "data": {
      "text/html": [
       "<pre style=\"white-space:pre;overflow-x:auto;line-height:normal;font-family:Menlo,'DejaVu Sans Mono',consolas,'Courier New',monospace\">Epoch 147, Loss: 9.366686146900677e-05, Accuracy: 0.7590764528520094\n",
       "</pre>\n"
      ],
      "text/plain": [
       "Epoch 147, Loss: 9.366686146900677e-05, Accuracy: 0.7590764528520094\n"
      ]
     },
     "metadata": {},
     "output_type": "display_data"
    },
    {
     "data": {
      "text/html": [
       "<pre style=\"white-space:pre;overflow-x:auto;line-height:normal;font-family:Menlo,'DejaVu Sans Mono',consolas,'Courier New',monospace\">Epoch 148, Loss: 9.35986082299108e-05, Accuracy: 0.7650654661104457\n",
       "</pre>\n"
      ],
      "text/plain": [
       "Epoch 148, Loss: 9.35986082299108e-05, Accuracy: 0.7650654661104457\n"
      ]
     },
     "metadata": {},
     "output_type": "display_data"
    },
    {
     "data": {
      "text/html": [
       "<pre style=\"white-space:pre;overflow-x:auto;line-height:normal;font-family:Menlo,'DejaVu Sans Mono',consolas,'Courier New',monospace\">Epoch 149, Loss: 9.34181669910455e-05, Accuracy: 0.764528520094172\n",
       "</pre>\n"
      ],
      "text/plain": [
       "Epoch 149, Loss: 9.34181669910455e-05, Accuracy: 0.764528520094172\n"
      ]
     },
     "metadata": {},
     "output_type": "display_data"
    },
    {
     "data": {
      "text/html": [
       "<pre style=\"white-space:pre;overflow-x:auto;line-height:normal;font-family:Menlo,'DejaVu Sans Mono',consolas,'Courier New',monospace\">Epoch 150, Loss: 9.314563656369282e-05, Accuracy: 0.7627111643467845\n",
       "</pre>\n"
      ],
      "text/plain": [
       "Epoch 150, Loss: 9.314563656369282e-05, Accuracy: 0.7627111643467845\n"
      ]
     },
     "metadata": {},
     "output_type": "display_data"
    },
    {
     "data": {
      "text/html": [
       "<pre style=\"white-space:pre;overflow-x:auto;line-height:normal;font-family:Menlo,'DejaVu Sans Mono',consolas,'Courier New',monospace\">Epoch 151, Loss: 9.308848149231595e-05, Accuracy: 0.7644459130147454\n",
       "</pre>\n"
      ],
      "text/plain": [
       "Epoch 151, Loss: 9.308848149231595e-05, Accuracy: 0.7644459130147454\n"
      ]
     },
     "metadata": {},
     "output_type": "display_data"
    },
    {
     "data": {
      "text/html": [
       "<pre style=\"white-space:pre;overflow-x:auto;line-height:normal;font-family:Menlo,'DejaVu Sans Mono',consolas,'Courier New',monospace\">Epoch 152, Loss: 9.292116701260734e-05, Accuracy: 0.769195820081781\n",
       "</pre>\n"
      ],
      "text/plain": [
       "Epoch 152, Loss: 9.292116701260734e-05, Accuracy: 0.769195820081781\n"
      ]
     },
     "metadata": {},
     "output_type": "display_data"
    },
    {
     "data": {
      "text/html": [
       "<pre style=\"white-space:pre;overflow-x:auto;line-height:normal;font-family:Menlo,'DejaVu Sans Mono',consolas,'Courier New',monospace\">Epoch 153, Loss: 9.276219831563338e-05, Accuracy: 0.7703523191937549\n",
       "</pre>\n"
      ],
      "text/plain": [
       "Epoch 153, Loss: 9.276219831563338e-05, Accuracy: 0.7703523191937549\n"
      ]
     },
     "metadata": {},
     "output_type": "display_data"
    },
    {
     "data": {
      "text/html": [
       "<pre style=\"white-space:pre;overflow-x:auto;line-height:normal;font-family:Menlo,'DejaVu Sans Mono',consolas,'Courier New',monospace\">Epoch 154, Loss: 9.262947328944153e-05, Accuracy: 0.7715914253851555\n",
       "</pre>\n"
      ],
      "text/plain": [
       "Epoch 154, Loss: 9.262947328944153e-05, Accuracy: 0.7715914253851555\n"
      ]
     },
     "metadata": {},
     "output_type": "display_data"
    },
    {
     "data": {
      "text/html": [
       "<pre style=\"white-space:pre;overflow-x:auto;line-height:normal;font-family:Menlo,'DejaVu Sans Mono',consolas,'Courier New',monospace\">Epoch 155, Loss: 9.253987552636047e-05, Accuracy: 0.7712609970674487\n",
       "</pre>\n"
      ],
      "text/plain": [
       "Epoch 155, Loss: 9.253987552636047e-05, Accuracy: 0.7712609970674487\n"
      ]
     },
     "metadata": {},
     "output_type": "display_data"
    },
    {
     "data": {
      "text/html": [
       "<pre style=\"white-space:pre;overflow-x:auto;line-height:normal;font-family:Menlo,'DejaVu Sans Mono',consolas,'Courier New',monospace\">Epoch 156, Loss: 9.226921612994536e-05, Accuracy: 0.7731609598942629\n",
       "</pre>\n"
      ],
      "text/plain": [
       "Epoch 156, Loss: 9.226921612994536e-05, Accuracy: 0.7731609598942629\n"
      ]
     },
     "metadata": {},
     "output_type": "display_data"
    },
    {
     "data": {
      "text/html": [
       "<pre style=\"white-space:pre;overflow-x:auto;line-height:normal;font-family:Menlo,'DejaVu Sans Mono',consolas,'Courier New',monospace\">Epoch 157, Loss: 9.229236275214923e-05, Accuracy: 0.7753087439593573\n",
       "</pre>\n"
      ],
      "text/plain": [
       "Epoch 157, Loss: 9.229236275214923e-05, Accuracy: 0.7753087439593573\n"
      ]
     },
     "metadata": {},
     "output_type": "display_data"
    },
    {
     "data": {
      "text/html": [
       "<pre style=\"white-space:pre;overflow-x:auto;line-height:normal;font-family:Menlo,'DejaVu Sans Mono',consolas,'Courier New',monospace\">Epoch 158, Loss: 9.200228894787411e-05, Accuracy: 0.7786130271364256\n",
       "</pre>\n"
      ],
      "text/plain": [
       "Epoch 158, Loss: 9.200228894787411e-05, Accuracy: 0.7786130271364256\n"
      ]
     },
     "metadata": {},
     "output_type": "display_data"
    },
    {
     "data": {
      "text/html": [
       "<pre style=\"white-space:pre;overflow-x:auto;line-height:normal;font-family:Menlo,'DejaVu Sans Mono',consolas,'Courier New',monospace\">Epoch 159, Loss: 9.19013714476208e-05, Accuracy: 0.7746891908636571\n",
       "</pre>\n"
      ],
      "text/plain": [
       "Epoch 159, Loss: 9.19013714476208e-05, Accuracy: 0.7746891908636571\n"
      ]
     },
     "metadata": {},
     "output_type": "display_data"
    },
    {
     "data": {
      "text/html": [
       "<pre style=\"white-space:pre;overflow-x:auto;line-height:normal;font-family:Menlo,'DejaVu Sans Mono',consolas,'Courier New',monospace\">Epoch 160, Loss: 9.168576467466061e-05, Accuracy: 0.7781999917392921\n",
       "</pre>\n"
      ],
      "text/plain": [
       "Epoch 160, Loss: 9.168576467466061e-05, Accuracy: 0.7781999917392921\n"
      ]
     },
     "metadata": {},
     "output_type": "display_data"
    },
    {
     "data": {
      "text/html": [
       "<pre style=\"white-space:pre;overflow-x:auto;line-height:normal;font-family:Menlo,'DejaVu Sans Mono',consolas,'Courier New',monospace\">Epoch 161, Loss: 9.156200582567218e-05, Accuracy: 0.7817107926149272\n",
       "</pre>\n"
      ],
      "text/plain": [
       "Epoch 161, Loss: 9.156200582567218e-05, Accuracy: 0.7817107926149272\n"
      ]
     },
     "metadata": {},
     "output_type": "display_data"
    },
    {
     "data": {
      "text/html": [
       "<pre style=\"white-space:pre;overflow-x:auto;line-height:normal;font-family:Menlo,'DejaVu Sans Mono',consolas,'Courier New',monospace\">Epoch 162, Loss: 9.136594640224388e-05, Accuracy: 0.7836107554417413\n",
       "</pre>\n"
      ],
      "text/plain": [
       "Epoch 162, Loss: 9.136594640224388e-05, Accuracy: 0.7836107554417413\n"
      ]
     },
     "metadata": {},
     "output_type": "display_data"
    },
    {
     "data": {
      "text/html": [
       "<pre style=\"white-space:pre;overflow-x:auto;line-height:normal;font-family:Menlo,'DejaVu Sans Mono',consolas,'Courier New',monospace\">Epoch 163, Loss: 9.144005399866819e-05, Accuracy: 0.7813390607575069\n",
       "</pre>\n"
      ],
      "text/plain": [
       "Epoch 163, Loss: 9.144005399866819e-05, Accuracy: 0.7813390607575069\n"
      ]
     },
     "metadata": {},
     "output_type": "display_data"
    },
    {
     "data": {
      "text/html": [
       "<pre style=\"white-space:pre;overflow-x:auto;line-height:normal;font-family:Menlo,'DejaVu Sans Mono',consolas,'Courier New',monospace\">Epoch 164, Loss: 9.118860221195682e-05, Accuracy: 0.784849861633142\n",
       "</pre>\n"
      ],
      "text/plain": [
       "Epoch 164, Loss: 9.118860221195682e-05, Accuracy: 0.784849861633142\n"
      ]
     },
     "metadata": {},
     "output_type": "display_data"
    },
    {
     "data": {
      "text/html": [
       "<pre style=\"white-space:pre;overflow-x:auto;line-height:normal;font-family:Menlo,'DejaVu Sans Mono',consolas,'Courier New',monospace\">Epoch 165, Loss: 9.10097808919822e-05, Accuracy: 0.7886497872867705\n",
       "</pre>\n"
      ],
      "text/plain": [
       "Epoch 165, Loss: 9.10097808919822e-05, Accuracy: 0.7886497872867705\n"
      ]
     },
     "metadata": {},
     "output_type": "display_data"
    },
    {
     "data": {
      "text/html": [
       "<pre style=\"white-space:pre;overflow-x:auto;line-height:normal;font-family:Menlo,'DejaVu Sans Mono',consolas,'Courier New',monospace\">Epoch 166, Loss: 9.083756726547656e-05, Accuracy: 0.7856346288876956\n",
       "</pre>\n"
      ],
      "text/plain": [
       "Epoch 166, Loss: 9.083756726547656e-05, Accuracy: 0.7856346288876956\n"
      ]
     },
     "metadata": {},
     "output_type": "display_data"
    },
    {
     "data": {
      "text/html": [
       "<pre style=\"white-space:pre;overflow-x:auto;line-height:normal;font-family:Menlo,'DejaVu Sans Mono',consolas,'Courier New',monospace\">Epoch 167, Loss: 9.085200374628954e-05, Accuracy: 0.7870389492379497\n",
       "</pre>\n"
      ],
      "text/plain": [
       "Epoch 167, Loss: 9.085200374628954e-05, Accuracy: 0.7870389492379497\n"
      ]
     },
     "metadata": {},
     "output_type": "display_data"
    },
    {
     "data": {
      "text/html": [
       "<pre style=\"white-space:pre;overflow-x:auto;line-height:normal;font-family:Menlo,'DejaVu Sans Mono',consolas,'Courier New',monospace\">Epoch 168, Loss: 9.0701804275894e-05, Accuracy: 0.7887323943661971\n",
       "</pre>\n"
      ],
      "text/plain": [
       "Epoch 168, Loss: 9.0701804275894e-05, Accuracy: 0.7887323943661971\n"
      ]
     },
     "metadata": {},
     "output_type": "display_data"
    },
    {
     "data": {
      "text/html": [
       "<pre style=\"white-space:pre;overflow-x:auto;line-height:normal;font-family:Menlo,'DejaVu Sans Mono',consolas,'Courier New',monospace\">Epoch 169, Loss: 9.043371016136958e-05, Accuracy: 0.789062822683904\n",
       "</pre>\n"
      ],
      "text/plain": [
       "Epoch 169, Loss: 9.043371016136958e-05, Accuracy: 0.789062822683904\n"
      ]
     },
     "metadata": {},
     "output_type": "display_data"
    },
    {
     "data": {
      "text/html": [
       "<pre style=\"white-space:pre;overflow-x:auto;line-height:normal;font-family:Menlo,'DejaVu Sans Mono',consolas,'Courier New',monospace\">Epoch 170, Loss: 9.034852901605429e-05, Accuracy: 0.7931931766552394\n",
       "</pre>\n"
      ],
      "text/plain": [
       "Epoch 170, Loss: 9.034852901605429e-05, Accuracy: 0.7931931766552394\n"
      ]
     },
     "metadata": {},
     "output_type": "display_data"
    },
    {
     "data": {
      "text/html": [
       "<pre style=\"white-space:pre;overflow-x:auto;line-height:normal;font-family:Menlo,'DejaVu Sans Mono',consolas,'Courier New',monospace\">Epoch 171, Loss: 9.013637872656296e-05, Accuracy: 0.7921192846226922\n",
       "</pre>\n"
      ],
      "text/plain": [
       "Epoch 171, Loss: 9.013637872656296e-05, Accuracy: 0.7921192846226922\n"
      ]
     },
     "metadata": {},
     "output_type": "display_data"
    },
    {
     "data": {
      "text/html": [
       "<pre style=\"white-space:pre;overflow-x:auto;line-height:normal;font-family:Menlo,'DejaVu Sans Mono',consolas,'Courier New',monospace\">Epoch 172, Loss: 9.00782290545298e-05, Accuracy: 0.7914997315269918\n",
       "</pre>\n"
      ],
      "text/plain": [
       "Epoch 172, Loss: 9.00782290545298e-05, Accuracy: 0.7914997315269918\n"
      ]
     },
     "metadata": {},
     "output_type": "display_data"
    },
    {
     "data": {
      "text/html": [
       "<pre style=\"white-space:pre;overflow-x:auto;line-height:normal;font-family:Menlo,'DejaVu Sans Mono',consolas,'Courier New',monospace\">Epoch 173, Loss: 8.987692089694509e-05, Accuracy: 0.7935236049729462\n",
       "</pre>\n"
      ],
      "text/plain": [
       "Epoch 173, Loss: 8.987692089694509e-05, Accuracy: 0.7935236049729462\n"
      ]
     },
     "metadata": {},
     "output_type": "display_data"
    },
    {
     "data": {
      "text/html": [
       "<pre style=\"white-space:pre;overflow-x:auto;line-height:normal;font-family:Menlo,'DejaVu Sans Mono',consolas,'Courier New',monospace\">Epoch 174, Loss: 8.966164401628179e-05, Accuracy: 0.7965800669117343\n",
       "</pre>\n"
      ],
      "text/plain": [
       "Epoch 174, Loss: 8.966164401628179e-05, Accuracy: 0.7965800669117343\n"
      ]
     },
     "metadata": {},
     "output_type": "display_data"
    },
    {
     "data": {
      "text/html": [
       "<pre style=\"white-space:pre;overflow-x:auto;line-height:normal;font-family:Menlo,'DejaVu Sans Mono',consolas,'Courier New',monospace\">Epoch 175, Loss: 8.958805833901375e-05, Accuracy: 0.7983561191194085\n",
       "</pre>\n"
      ],
      "text/plain": [
       "Epoch 175, Loss: 8.958805833901375e-05, Accuracy: 0.7983561191194085\n"
      ]
     },
     "metadata": {},
     "output_type": "display_data"
    },
    {
     "data": {
      "text/html": [
       "<pre style=\"white-space:pre;overflow-x:auto;line-height:normal;font-family:Menlo,'DejaVu Sans Mono',consolas,'Courier New',monospace\">Epoch 176, Loss: 8.951307923607379e-05, Accuracy: 0.7932344801949527\n",
       "</pre>\n"
      ],
      "text/plain": [
       "Epoch 176, Loss: 8.951307923607379e-05, Accuracy: 0.7932344801949527\n"
      ]
     },
     "metadata": {},
     "output_type": "display_data"
    },
    {
     "data": {
      "text/html": [
       "<pre style=\"white-space:pre;overflow-x:auto;line-height:normal;font-family:Menlo,'DejaVu Sans Mono',consolas,'Courier New',monospace\">Epoch 177, Loss: 8.936229383756885e-05, Accuracy: 0.797240923547148\n",
       "</pre>\n"
      ],
      "text/plain": [
       "Epoch 177, Loss: 8.936229383756885e-05, Accuracy: 0.797240923547148\n"
      ]
     },
     "metadata": {},
     "output_type": "display_data"
    },
    {
     "data": {
      "text/html": [
       "<pre style=\"white-space:pre;overflow-x:auto;line-height:normal;font-family:Menlo,'DejaVu Sans Mono',consolas,'Courier New',monospace\">Epoch 178, Loss: 8.911559348468577e-05, Accuracy: 0.7975300483251415\n",
       "</pre>\n"
      ],
      "text/plain": [
       "Epoch 178, Loss: 8.911559348468577e-05, Accuracy: 0.7975300483251415\n"
      ]
     },
     "metadata": {},
     "output_type": "display_data"
    },
    {
     "data": {
      "text/html": [
       "<pre style=\"white-space:pre;overflow-x:auto;line-height:normal;font-family:Menlo,'DejaVu Sans Mono',consolas,'Courier New',monospace\">Epoch 179, Loss: 8.903773397885509e-05, Accuracy: 0.8015777952170501\n",
       "</pre>\n"
      ],
      "text/plain": [
       "Epoch 179, Loss: 8.903773397885509e-05, Accuracy: 0.8015777952170501\n"
      ]
     },
     "metadata": {},
     "output_type": "display_data"
    },
    {
     "data": {
      "text/html": [
       "<pre style=\"white-space:pre;overflow-x:auto;line-height:normal;font-family:Menlo,'DejaVu Sans Mono',consolas,'Courier New',monospace\">Epoch 180, Loss: 8.899644328032248e-05, Accuracy: 0.8002973854859361\n",
       "</pre>\n"
      ],
      "text/plain": [
       "Epoch 180, Loss: 8.899644328032248e-05, Accuracy: 0.8002973854859361\n"
      ]
     },
     "metadata": {},
     "output_type": "display_data"
    },
    {
     "data": {
      "text/html": [
       "<pre style=\"white-space:pre;overflow-x:auto;line-height:normal;font-family:Menlo,'DejaVu Sans Mono',consolas,'Courier New',monospace\">Epoch 181, Loss: 8.890362045075695e-05, Accuracy: 0.8028995084878774\n",
       "</pre>\n"
      ],
      "text/plain": [
       "Epoch 181, Loss: 8.890362045075695e-05, Accuracy: 0.8028995084878774\n"
      ]
     },
     "metadata": {},
     "output_type": "display_data"
    },
    {
     "data": {
      "text/html": [
       "<pre style=\"white-space:pre;overflow-x:auto;line-height:normal;font-family:Menlo,'DejaVu Sans Mono',consolas,'Courier New',monospace\">Epoch 182, Loss: 8.884259037583307e-05, Accuracy: 0.8023212589318904\n",
       "</pre>\n"
      ],
      "text/plain": [
       "Epoch 182, Loss: 8.884259037583307e-05, Accuracy: 0.8023212589318904\n"
      ]
     },
     "metadata": {},
     "output_type": "display_data"
    },
    {
     "data": {
      "text/html": [
       "<pre style=\"white-space:pre;overflow-x:auto;line-height:normal;font-family:Menlo,'DejaVu Sans Mono',consolas,'Courier New',monospace\">Epoch 183, Loss: 8.863349282102934e-05, Accuracy: 0.8043038288381315\n",
       "</pre>\n"
      ],
      "text/plain": [
       "Epoch 183, Loss: 8.863349282102934e-05, Accuracy: 0.8043038288381315\n"
      ]
     },
     "metadata": {},
     "output_type": "display_data"
    },
    {
     "data": {
      "text/html": [
       "<pre style=\"white-space:pre;overflow-x:auto;line-height:normal;font-family:Menlo,'DejaVu Sans Mono',consolas,'Courier New',monospace\">Epoch 184, Loss: 8.841097800489705e-05, Accuracy: 0.8048820783941184\n",
       "</pre>\n"
      ],
      "text/plain": [
       "Epoch 184, Loss: 8.841097800489705e-05, Accuracy: 0.8048820783941184\n"
      ]
     },
     "metadata": {},
     "output_type": "display_data"
    },
    {
     "data": {
      "text/html": [
       "<pre style=\"white-space:pre;overflow-x:auto;line-height:normal;font-family:Menlo,'DejaVu Sans Mono',consolas,'Courier New',monospace\">Epoch 185, Loss: 8.84393438186636e-05, Accuracy: 0.8033951509644377\n",
       "</pre>\n"
      ],
      "text/plain": [
       "Epoch 185, Loss: 8.84393438186636e-05, Accuracy: 0.8033951509644377\n"
      ]
     },
     "metadata": {},
     "output_type": "display_data"
    },
    {
     "data": {
      "text/html": [
       "<pre style=\"white-space:pre;overflow-x:auto;line-height:normal;font-family:Menlo,'DejaVu Sans Mono',consolas,'Courier New',monospace\">Epoch 186, Loss: 8.815507021029492e-05, Accuracy: 0.8102515385568543\n",
       "</pre>\n"
      ],
      "text/plain": [
       "Epoch 186, Loss: 8.815507021029492e-05, Accuracy: 0.8102515385568543\n"
      ]
     },
     "metadata": {},
     "output_type": "display_data"
    },
    {
     "data": {
      "text/html": [
       "<pre style=\"white-space:pre;overflow-x:auto;line-height:normal;font-family:Menlo,'DejaVu Sans Mono',consolas,'Courier New',monospace\">Epoch 187, Loss: 8.808339987785506e-05, Accuracy: 0.8053364173309653\n",
       "</pre>\n"
      ],
      "text/plain": [
       "Epoch 187, Loss: 8.808339987785506e-05, Accuracy: 0.8053364173309653\n"
      ]
     },
     "metadata": {},
     "output_type": "display_data"
    },
    {
     "data": {
      "text/html": [
       "<pre style=\"white-space:pre;overflow-x:auto;line-height:normal;font-family:Menlo,'DejaVu Sans Mono',consolas,'Courier New',monospace\">Epoch 188, Loss: 8.788280074252037e-05, Accuracy: 0.8095080748420139\n",
       "</pre>\n"
      ],
      "text/plain": [
       "Epoch 188, Loss: 8.788280074252037e-05, Accuracy: 0.8095080748420139\n"
      ]
     },
     "metadata": {},
     "output_type": "display_data"
    },
    {
     "data": {
      "text/html": [
       "<pre style=\"white-space:pre;overflow-x:auto;line-height:normal;font-family:Menlo,'DejaVu Sans Mono',consolas,'Courier New',monospace\">Epoch 189, Loss: 8.78288362712686e-05, Accuracy: 0.8118623766056751\n",
       "</pre>\n"
      ],
      "text/plain": [
       "Epoch 189, Loss: 8.78288362712686e-05, Accuracy: 0.8118623766056751\n"
      ]
     },
     "metadata": {},
     "output_type": "display_data"
    },
    {
     "data": {
      "text/html": [
       "<pre style=\"white-space:pre;overflow-x:auto;line-height:normal;font-family:Menlo,'DejaVu Sans Mono',consolas,'Courier New',monospace\">Epoch 190, Loss: 8.76298816736527e-05, Accuracy: 0.8126058403205154\n",
       "</pre>\n"
      ],
      "text/plain": [
       "Epoch 190, Loss: 8.76298816736527e-05, Accuracy: 0.8126058403205154\n"
      ]
     },
     "metadata": {},
     "output_type": "display_data"
    },
    {
     "data": {
      "text/html": [
       "<pre style=\"white-space:pre;overflow-x:auto;line-height:normal;font-family:Menlo,'DejaVu Sans Mono',consolas,'Courier New',monospace\">Epoch 191, Loss: 8.755139192582201e-05, Accuracy: 0.8123167155425219\n",
       "</pre>\n"
      ],
      "text/plain": [
       "Epoch 191, Loss: 8.755139192582201e-05, Accuracy: 0.8123167155425219\n"
      ]
     },
     "metadata": {},
     "output_type": "display_data"
    },
    {
     "data": {
      "text/html": [
       "<pre style=\"white-space:pre;overflow-x:auto;line-height:normal;font-family:Menlo,'DejaVu Sans Mono',consolas,'Courier New',monospace\">Epoch 192, Loss: 8.743240420572436e-05, Accuracy: 0.8112841270496881\n",
       "</pre>\n"
      ],
      "text/plain": [
       "Epoch 192, Loss: 8.743240420572436e-05, Accuracy: 0.8112841270496881\n"
      ]
     },
     "metadata": {},
     "output_type": "display_data"
    },
    {
     "data": {
      "text/html": [
       "<pre style=\"white-space:pre;overflow-x:auto;line-height:normal;font-family:Menlo,'DejaVu Sans Mono',consolas,'Courier New',monospace\">Epoch 193, Loss: 8.747099175692875e-05, Accuracy: 0.8128536615587956\n",
       "</pre>\n"
      ],
      "text/plain": [
       "Epoch 193, Loss: 8.747099175692875e-05, Accuracy: 0.8128536615587956\n"
      ]
     },
     "metadata": {},
     "output_type": "display_data"
    },
    {
     "data": {
      "text/html": [
       "<pre style=\"white-space:pre;overflow-x:auto;line-height:normal;font-family:Menlo,'DejaVu Sans Mono',consolas,'Courier New',monospace\">Epoch 194, Loss: 8.729997460547002e-05, Accuracy: 0.8161992482755772\n",
       "</pre>\n"
      ],
      "text/plain": [
       "Epoch 194, Loss: 8.729997460547002e-05, Accuracy: 0.8161992482755772\n"
      ]
     },
     "metadata": {},
     "output_type": "display_data"
    },
    {
     "data": {
      "text/html": [
       "<pre style=\"white-space:pre;overflow-x:auto;line-height:normal;font-family:Menlo,'DejaVu Sans Mono',consolas,'Courier New',monospace\">Epoch 195, Loss: 8.708375728557231e-05, Accuracy: 0.8188426748172318\n",
       "</pre>\n"
      ],
      "text/plain": [
       "Epoch 195, Loss: 8.708375728557231e-05, Accuracy: 0.8188426748172318\n"
      ]
     },
     "metadata": {},
     "output_type": "display_data"
    },
    {
     "data": {
      "text/html": [
       "<pre style=\"white-space:pre;overflow-x:auto;line-height:normal;font-family:Menlo,'DejaVu Sans Mono',consolas,'Courier New',monospace\">Epoch 196, Loss: 8.689799837983184e-05, Accuracy: 0.816281855355004\n",
       "</pre>\n"
      ],
      "text/plain": [
       "Epoch 196, Loss: 8.689799837983184e-05, Accuracy: 0.816281855355004\n"
      ]
     },
     "metadata": {},
     "output_type": "display_data"
    },
    {
     "data": {
      "text/html": [
       "<pre style=\"white-space:pre;overflow-x:auto;line-height:normal;font-family:Menlo,'DejaVu Sans Mono',consolas,'Courier New',monospace\">Epoch 197, Loss: 8.673297837490457e-05, Accuracy: 0.8192970137540787\n",
       "</pre>\n"
      ],
      "text/plain": [
       "Epoch 197, Loss: 8.673297837490457e-05, Accuracy: 0.8192970137540787\n"
      ]
     },
     "metadata": {},
     "output_type": "display_data"
    },
    {
     "data": {
      "text/html": [
       "<pre style=\"white-space:pre;overflow-x:auto;line-height:normal;font-family:Menlo,'DejaVu Sans Mono',consolas,'Courier New',monospace\">Epoch 198, Loss: 8.682458011059507e-05, Accuracy: 0.8169840155301309\n",
       "</pre>\n"
      ],
      "text/plain": [
       "Epoch 198, Loss: 8.682458011059507e-05, Accuracy: 0.8169840155301309\n"
      ]
     },
     "metadata": {},
     "output_type": "display_data"
    },
    {
     "data": {
      "text/html": [
       "<pre style=\"white-space:pre;overflow-x:auto;line-height:normal;font-family:Menlo,'DejaVu Sans Mono',consolas,'Courier New',monospace\">Epoch 199, Loss: 8.655779571772696e-05, Accuracy: 0.8160340341167238\n",
       "</pre>\n"
      ],
      "text/plain": [
       "Epoch 199, Loss: 8.655779571772696e-05, Accuracy: 0.8160340341167238\n"
      ]
     },
     "metadata": {},
     "output_type": "display_data"
    },
    {
     "data": {
      "text/html": [
       "<pre style=\"white-space:pre;overflow-x:auto;line-height:normal;font-family:Menlo,'DejaVu Sans Mono',consolas,'Courier New',monospace\">Epoch 200, Loss: 8.63639963027206e-05, Accuracy: 0.8217339225971666\n",
       "</pre>\n"
      ],
      "text/plain": [
       "Epoch 200, Loss: 8.63639963027206e-05, Accuracy: 0.8217339225971666\n"
      ]
     },
     "metadata": {},
     "output_type": "display_data"
    },
    {
     "data": {
      "text/html": [
       "<pre style=\"white-space:pre;overflow-x:auto;line-height:normal;font-family:Menlo,'DejaVu Sans Mono',consolas,'Courier New',monospace\">Epoch 201, Loss: 8.634830426167321e-05, Accuracy: 0.8202469951674859\n",
       "</pre>\n"
      ],
      "text/plain": [
       "Epoch 201, Loss: 8.634830426167321e-05, Accuracy: 0.8202469951674859\n"
      ]
     },
     "metadata": {},
     "output_type": "display_data"
    },
    {
     "data": {
      "text/html": [
       "<pre style=\"white-space:pre;overflow-x:auto;line-height:normal;font-family:Menlo,'DejaVu Sans Mono',consolas,'Courier New',monospace\">Epoch 202, Loss: 8.642021093486307e-05, Accuracy: 0.8177274792449712\n",
       "</pre>\n"
      ],
      "text/plain": [
       "Epoch 202, Loss: 8.642021093486307e-05, Accuracy: 0.8177274792449712\n"
      ]
     },
     "metadata": {},
     "output_type": "display_data"
    },
    {
     "data": {
      "text/html": [
       "<pre style=\"white-space:pre;overflow-x:auto;line-height:normal;font-family:Menlo,'DejaVu Sans Mono',consolas,'Courier New',monospace\">Epoch 203, Loss: 8.602474885114699e-05, Accuracy: 0.8255338482507951\n",
       "</pre>\n"
      ],
      "text/plain": [
       "Epoch 203, Loss: 8.602474885114699e-05, Accuracy: 0.8255338482507951\n"
      ]
     },
     "metadata": {},
     "output_type": "display_data"
    },
    {
     "data": {
      "text/html": [
       "<pre style=\"white-space:pre;overflow-x:auto;line-height:normal;font-family:Menlo,'DejaVu Sans Mono',consolas,'Courier New',monospace\">Epoch 204, Loss: 8.601369007355287e-05, Accuracy: 0.8239643137416877\n",
       "</pre>\n"
      ],
      "text/plain": [
       "Epoch 204, Loss: 8.601369007355287e-05, Accuracy: 0.8239643137416877\n"
      ]
     },
     "metadata": {},
     "output_type": "display_data"
    },
    {
     "data": {
      "text/html": [
       "<pre style=\"white-space:pre;overflow-x:auto;line-height:normal;font-family:Menlo,'DejaVu Sans Mono',consolas,'Courier New',monospace\">Epoch 205, Loss: 8.587506145237646e-05, Accuracy: 0.823427367725414\n",
       "</pre>\n"
      ],
      "text/plain": [
       "Epoch 205, Loss: 8.587506145237646e-05, Accuracy: 0.823427367725414\n"
      ]
     },
     "metadata": {},
     "output_type": "display_data"
    },
    {
     "data": {
      "text/html": [
       "<pre style=\"white-space:pre;overflow-x:auto;line-height:normal;font-family:Menlo,'DejaVu Sans Mono',consolas,'Courier New',monospace\">Epoch 207, Loss: 8.562178294861816e-05, Accuracy: 0.8254512411713684\n",
       "</pre>\n"
      ],
      "text/plain": [
       "Epoch 207, Loss: 8.562178294861816e-05, Accuracy: 0.8254512411713684\n"
      ]
     },
     "metadata": {},
     "output_type": "display_data"
    },
    {
     "data": {
      "text/html": [
       "<pre style=\"white-space:pre;overflow-x:auto;line-height:normal;font-family:Menlo,'DejaVu Sans Mono',consolas,'Courier New',monospace\">Epoch 208, Loss: 8.561805565803991e-05, Accuracy: 0.8261120978067821\n",
       "</pre>\n"
      ],
      "text/plain": [
       "Epoch 208, Loss: 8.561805565803991e-05, Accuracy: 0.8261120978067821\n"
      ]
     },
     "metadata": {},
     "output_type": "display_data"
    },
    {
     "data": {
      "text/html": [
       "<pre style=\"white-space:pre;overflow-x:auto;line-height:normal;font-family:Menlo,'DejaVu Sans Mono',consolas,'Courier New',monospace\">Epoch 209, Loss: 8.5502736143333e-05, Accuracy: 0.8257403659493618\n",
       "</pre>\n"
      ],
      "text/plain": [
       "Epoch 209, Loss: 8.5502736143333e-05, Accuracy: 0.8257403659493618\n"
      ]
     },
     "metadata": {},
     "output_type": "display_data"
    },
    {
     "data": {
      "text/html": [
       "<pre style=\"white-space:pre;overflow-x:auto;line-height:normal;font-family:Menlo,'DejaVu Sans Mono',consolas,'Courier New',monospace\">Epoch 210, Loss: 8.53280261676554e-05, Accuracy: 0.8257403659493618\n",
       "</pre>\n"
      ],
      "text/plain": [
       "Epoch 210, Loss: 8.53280261676554e-05, Accuracy: 0.8257403659493618\n"
      ]
     },
     "metadata": {},
     "output_type": "display_data"
    },
    {
     "data": {
      "text/html": [
       "<pre style=\"white-space:pre;overflow-x:auto;line-height:normal;font-family:Menlo,'DejaVu Sans Mono',consolas,'Courier New',monospace\">Epoch 211, Loss: 8.531798168578008e-05, Accuracy: 0.8260707942670686\n",
       "</pre>\n"
      ],
      "text/plain": [
       "Epoch 211, Loss: 8.531798168578008e-05, Accuracy: 0.8260707942670686\n"
      ]
     },
     "metadata": {},
     "output_type": "display_data"
    },
    {
     "data": {
      "text/html": [
       "<pre style=\"white-space:pre;overflow-x:auto;line-height:normal;font-family:Menlo,'DejaVu Sans Mono',consolas,'Courier New',monospace\">Epoch 212, Loss: 8.522540012073017e-05, Accuracy: 0.8268555615216224\n",
       "</pre>\n"
      ],
      "text/plain": [
       "Epoch 212, Loss: 8.522540012073017e-05, Accuracy: 0.8268555615216224\n"
      ]
     },
     "metadata": {},
     "output_type": "display_data"
    },
    {
     "data": {
      "text/html": [
       "<pre style=\"white-space:pre;overflow-x:auto;line-height:normal;font-family:Menlo,'DejaVu Sans Mono',consolas,'Courier New',monospace\">Epoch 213, Loss: 8.504354083736483e-05, Accuracy: 0.8264012225847756\n",
       "</pre>\n"
      ],
      "text/plain": [
       "Epoch 213, Loss: 8.504354083736483e-05, Accuracy: 0.8264012225847756\n"
      ]
     },
     "metadata": {},
     "output_type": "display_data"
    },
    {
     "data": {
      "text/html": [
       "<pre style=\"white-space:pre;overflow-x:auto;line-height:normal;font-family:Menlo,'DejaVu Sans Mono',consolas,'Courier New',monospace\">Epoch 214, Loss: 8.47618620534806e-05, Accuracy: 0.8325141464623518\n",
       "</pre>\n"
      ],
      "text/plain": [
       "Epoch 214, Loss: 8.47618620534806e-05, Accuracy: 0.8325141464623518\n"
      ]
     },
     "metadata": {},
     "output_type": "display_data"
    },
    {
     "data": {
      "text/html": [
       "<pre style=\"white-space:pre;overflow-x:auto;line-height:normal;font-family:Menlo,'DejaVu Sans Mono',consolas,'Courier New',monospace\">Epoch 215, Loss: 8.492480422931406e-05, Accuracy: 0.8297881128412705\n",
       "</pre>\n"
      ],
      "text/plain": [
       "Epoch 215, Loss: 8.492480422931406e-05, Accuracy: 0.8297881128412705\n"
      ]
     },
     "metadata": {},
     "output_type": "display_data"
    },
    {
     "data": {
      "text/html": [
       "<pre style=\"white-space:pre;overflow-x:auto;line-height:normal;font-family:Menlo,'DejaVu Sans Mono',consolas,'Courier New',monospace\">Epoch 216, Loss: 8.463286924163262e-05, Accuracy: 0.8287142208087233\n",
       "</pre>\n"
      ],
      "text/plain": [
       "Epoch 216, Loss: 8.463286924163262e-05, Accuracy: 0.8287142208087233\n"
      ]
     },
     "metadata": {},
     "output_type": "display_data"
    },
    {
     "data": {
      "text/html": [
       "<pre style=\"white-space:pre;overflow-x:auto;line-height:normal;font-family:Menlo,'DejaVu Sans Mono',consolas,'Courier New',monospace\">Epoch 217, Loss: 8.449117311447173e-05, Accuracy: 0.8329684853991988\n",
       "</pre>\n"
      ],
      "text/plain": [
       "Epoch 217, Loss: 8.449117311447173e-05, Accuracy: 0.8329684853991988\n"
      ]
     },
     "metadata": {},
     "output_type": "display_data"
    },
    {
     "data": {
      "text/html": [
       "<pre style=\"white-space:pre;overflow-x:auto;line-height:normal;font-family:Menlo,'DejaVu Sans Mono',consolas,'Courier New',monospace\">Epoch 218, Loss: 8.446924266237726e-05, Accuracy: 0.8335467349551856\n",
       "</pre>\n"
      ],
      "text/plain": [
       "Epoch 218, Loss: 8.446924266237726e-05, Accuracy: 0.8335467349551856\n"
      ]
     },
     "metadata": {},
     "output_type": "display_data"
    },
    {
     "data": {
      "text/html": [
       "<pre style=\"white-space:pre;overflow-x:auto;line-height:normal;font-family:Menlo,'DejaVu Sans Mono',consolas,'Courier New',monospace\">Epoch 219, Loss: 8.425624548519841e-05, Accuracy: 0.8339184668126058\n",
       "</pre>\n"
      ],
      "text/plain": [
       "Epoch 219, Loss: 8.425624548519841e-05, Accuracy: 0.8339184668126058\n"
      ]
     },
     "metadata": {},
     "output_type": "display_data"
    },
    {
     "data": {
      "text/html": [
       "<pre style=\"white-space:pre;overflow-x:auto;line-height:normal;font-family:Menlo,'DejaVu Sans Mono',consolas,'Courier New',monospace\">Epoch 220, Loss: 8.407194893784862e-05, Accuracy: 0.8373053570691008\n",
       "</pre>\n"
      ],
      "text/plain": [
       "Epoch 220, Loss: 8.407194893784862e-05, Accuracy: 0.8373053570691008\n"
      ]
     },
     "metadata": {},
     "output_type": "display_data"
    },
    {
     "data": {
      "text/html": [
       "<pre style=\"white-space:pre;overflow-x:auto;line-height:normal;font-family:Menlo,'DejaVu Sans Mono',consolas,'Courier New',monospace\">Epoch 221, Loss: 8.418839107111806e-05, Accuracy: 0.8367271075131139\n",
       "</pre>\n"
      ],
      "text/plain": [
       "Epoch 221, Loss: 8.418839107111806e-05, Accuracy: 0.8367271075131139\n"
      ]
     },
     "metadata": {},
     "output_type": "display_data"
    },
    {
     "data": {
      "text/html": [
       "<pre style=\"white-space:pre;overflow-x:auto;line-height:normal;font-family:Menlo,'DejaVu Sans Mono',consolas,'Courier New',monospace\">Epoch 222, Loss: 8.406937380842666e-05, Accuracy: 0.8359010367188469\n",
       "</pre>\n"
      ],
      "text/plain": [
       "Epoch 222, Loss: 8.406937380842666e-05, Accuracy: 0.8359010367188469\n"
      ]
     },
     "metadata": {},
     "output_type": "display_data"
    },
    {
     "data": {
      "text/html": [
       "<pre style=\"white-space:pre;overflow-x:auto;line-height:normal;font-family:Menlo,'DejaVu Sans Mono',consolas,'Courier New',monospace\">Epoch 223, Loss: 8.40553903140512e-05, Accuracy: 0.8344554128288795\n",
       "</pre>\n"
      ],
      "text/plain": [
       "Epoch 223, Loss: 8.40553903140512e-05, Accuracy: 0.8344554128288795\n"
      ]
     },
     "metadata": {},
     "output_type": "display_data"
    },
    {
     "data": {
      "text/html": [
       "<pre style=\"white-space:pre;overflow-x:auto;line-height:normal;font-family:Menlo,'DejaVu Sans Mono',consolas,'Courier New',monospace\">Epoch 224, Loss: 8.389724880970227e-05, Accuracy: 0.837553178307381\n",
       "</pre>\n"
      ],
      "text/plain": [
       "Epoch 224, Loss: 8.389724880970227e-05, Accuracy: 0.837553178307381\n"
      ]
     },
     "metadata": {},
     "output_type": "display_data"
    },
    {
     "data": {
      "text/html": [
       "<pre style=\"white-space:pre;overflow-x:auto;line-height:normal;font-family:Menlo,'DejaVu Sans Mono',consolas,'Courier New',monospace\">Epoch 225, Loss: 8.373556219410323e-05, Accuracy: 0.8379662137045145\n",
       "</pre>\n"
      ],
      "text/plain": [
       "Epoch 225, Loss: 8.373556219410323e-05, Accuracy: 0.8379662137045145\n"
      ]
     },
     "metadata": {},
     "output_type": "display_data"
    },
    {
     "data": {
      "text/html": [
       "<pre style=\"white-space:pre;overflow-x:auto;line-height:normal;font-family:Menlo,'DejaVu Sans Mono',consolas,'Courier New',monospace\">Epoch 226, Loss: 8.354066477936246e-05, Accuracy: 0.8389161951179216\n",
       "</pre>\n"
      ],
      "text/plain": [
       "Epoch 226, Loss: 8.354066477936246e-05, Accuracy: 0.8389161951179216\n"
      ]
     },
     "metadata": {},
     "output_type": "display_data"
    },
    {
     "data": {
      "text/html": [
       "<pre style=\"white-space:pre;overflow-x:auto;line-height:normal;font-family:Menlo,'DejaVu Sans Mono',consolas,'Courier New',monospace\">Epoch 227, Loss: 8.36817060456952e-05, Accuracy: 0.8362314650365537\n",
       "</pre>\n"
      ],
      "text/plain": [
       "Epoch 227, Loss: 8.36817060456952e-05, Accuracy: 0.8362314650365537\n"
      ]
     },
     "metadata": {},
     "output_type": "display_data"
    },
    {
     "data": {
      "text/html": [
       "<pre style=\"white-space:pre;overflow-x:auto;line-height:normal;font-family:Menlo,'DejaVu Sans Mono',consolas,'Courier New',monospace\">Epoch 228, Loss: 8.338983014320126e-05, Accuracy: 0.8406096402461691\n",
       "</pre>\n"
      ],
      "text/plain": [
       "Epoch 228, Loss: 8.338983014320126e-05, Accuracy: 0.8406096402461691\n"
      ]
     },
     "metadata": {},
     "output_type": "display_data"
    },
    {
     "data": {
      "text/html": [
       "<pre style=\"white-space:pre;overflow-x:auto;line-height:normal;font-family:Menlo,'DejaVu Sans Mono',consolas,'Courier New',monospace\">Epoch 229, Loss: 8.33303855208087e-05, Accuracy: 0.8395770517533353\n",
       "</pre>\n"
      ],
      "text/plain": [
       "Epoch 229, Loss: 8.33303855208087e-05, Accuracy: 0.8395770517533353\n"
      ]
     },
     "metadata": {},
     "output_type": "display_data"
    },
    {
     "data": {
      "text/html": [
       "<pre style=\"white-space:pre;overflow-x:auto;line-height:normal;font-family:Menlo,'DejaVu Sans Mono',consolas,'Courier New',monospace\">Epoch 230, Loss: 8.333795334857457e-05, Accuracy: 0.8430878526289703\n",
       "</pre>\n"
      ],
      "text/plain": [
       "Epoch 230, Loss: 8.333795334857457e-05, Accuracy: 0.8430878526289703\n"
      ]
     },
     "metadata": {},
     "output_type": "display_data"
    },
    {
     "data": {
      "text/html": [
       "<pre style=\"white-space:pre;overflow-x:auto;line-height:normal;font-family:Menlo,'DejaVu Sans Mono',consolas,'Courier New',monospace\">Epoch 231, Loss: 8.315229784191223e-05, Accuracy: 0.8436247986452439\n",
       "</pre>\n"
      ],
      "text/plain": [
       "Epoch 231, Loss: 8.315229784191223e-05, Accuracy: 0.8436247986452439\n"
      ]
     },
     "metadata": {},
     "output_type": "display_data"
    },
    {
     "data": {
      "text/html": [
       "<pre style=\"white-space:pre;overflow-x:auto;line-height:normal;font-family:Menlo,'DejaVu Sans Mono',consolas,'Courier New',monospace\">Epoch 232, Loss: 8.303510237250214e-05, Accuracy: 0.8406922473255958\n",
       "</pre>\n"
      ],
      "text/plain": [
       "Epoch 232, Loss: 8.303510237250214e-05, Accuracy: 0.8406922473255958\n"
      ]
     },
     "metadata": {},
     "output_type": "display_data"
    },
    {
     "data": {
      "text/html": [
       "<pre style=\"white-space:pre;overflow-x:auto;line-height:normal;font-family:Menlo,'DejaVu Sans Mono',consolas,'Courier New',monospace\">Epoch 233, Loss: 8.283480358687058e-05, Accuracy: 0.84246829953327\n",
       "</pre>\n"
      ],
      "text/plain": [
       "Epoch 233, Loss: 8.283480358687058e-05, Accuracy: 0.84246829953327\n"
      ]
     },
     "metadata": {},
     "output_type": "display_data"
    },
    {
     "data": {
      "text/html": [
       "<pre style=\"white-space:pre;overflow-x:auto;line-height:normal;font-family:Menlo,'DejaVu Sans Mono',consolas,'Courier New',monospace\">Epoch 234, Loss: 8.30080118140325e-05, Accuracy: 0.8408987650241626\n",
       "</pre>\n"
      ],
      "text/plain": [
       "Epoch 234, Loss: 8.30080118140325e-05, Accuracy: 0.8408987650241626\n"
      ]
     },
     "metadata": {},
     "output_type": "display_data"
    },
    {
     "data": {
      "text/html": [
       "<pre style=\"white-space:pre;overflow-x:auto;line-height:normal;font-family:Menlo,'DejaVu Sans Mono',consolas,'Courier New',monospace\">Epoch 235, Loss: 8.275519614424297e-05, Accuracy: 0.8454834579323448\n",
       "</pre>\n"
      ],
      "text/plain": [
       "Epoch 235, Loss: 8.275519614424297e-05, Accuracy: 0.8454834579323448\n"
      ]
     },
     "metadata": {},
     "output_type": "display_data"
    },
    {
     "data": {
      "text/html": [
       "<pre style=\"white-space:pre;overflow-x:auto;line-height:normal;font-family:Menlo,'DejaVu Sans Mono',consolas,'Courier New',monospace\">Epoch 236, Loss: 8.270613820543668e-05, Accuracy: 0.8428813349304035\n",
       "</pre>\n"
      ],
      "text/plain": [
       "Epoch 236, Loss: 8.270613820543668e-05, Accuracy: 0.8428813349304035\n"
      ]
     },
     "metadata": {},
     "output_type": "display_data"
    },
    {
     "data": {
      "text/html": [
       "<pre style=\"white-space:pre;overflow-x:auto;line-height:normal;font-family:Menlo,'DejaVu Sans Mono',consolas,'Courier New',monospace\">Epoch 237, Loss: 8.269601740519416e-05, Accuracy: 0.8445334765189376\n",
       "</pre>\n"
      ],
      "text/plain": [
       "Epoch 237, Loss: 8.269601740519416e-05, Accuracy: 0.8445334765189376\n"
      ]
     },
     "metadata": {},
     "output_type": "display_data"
    },
    {
     "data": {
      "text/html": [
       "<pre style=\"white-space:pre;overflow-x:auto;line-height:normal;font-family:Menlo,'DejaVu Sans Mono',consolas,'Courier New',monospace\">Epoch 238, Loss: 8.246221239448337e-05, Accuracy: 0.8443269588203709\n",
       "</pre>\n"
      ],
      "text/plain": [
       "Epoch 238, Loss: 8.246221239448337e-05, Accuracy: 0.8443269588203709\n"
      ]
     },
     "metadata": {},
     "output_type": "display_data"
    },
    {
     "data": {
      "text/html": [
       "<pre style=\"white-space:pre;overflow-x:auto;line-height:normal;font-family:Menlo,'DejaVu Sans Mono',consolas,'Courier New',monospace\">Epoch 239, Loss: 8.226000318778924e-05, Accuracy: 0.8487877411094131\n",
       "</pre>\n"
      ],
      "text/plain": [
       "Epoch 239, Loss: 8.226000318778924e-05, Accuracy: 0.8487877411094131\n"
      ]
     },
     "metadata": {},
     "output_type": "display_data"
    },
    {
     "data": {
      "text/html": [
       "<pre style=\"white-space:pre;overflow-x:auto;line-height:normal;font-family:Menlo,'DejaVu Sans Mono',consolas,'Courier New',monospace\">Epoch 240, Loss: 8.217633117663807e-05, Accuracy: 0.8463921358060386\n",
       "</pre>\n"
      ],
      "text/plain": [
       "Epoch 240, Loss: 8.217633117663807e-05, Accuracy: 0.8463921358060386\n"
      ]
     },
     "metadata": {},
     "output_type": "display_data"
    },
    {
     "data": {
      "text/html": [
       "<pre style=\"white-space:pre;overflow-x:auto;line-height:normal;font-family:Menlo,'DejaVu Sans Mono',consolas,'Courier New',monospace\">Epoch 241, Loss: 8.231430247510353e-05, Accuracy: 0.8463921358060386\n",
       "</pre>\n"
      ],
      "text/plain": [
       "Epoch 241, Loss: 8.231430247510353e-05, Accuracy: 0.8463921358060386\n"
      ]
     },
     "metadata": {},
     "output_type": "display_data"
    },
    {
     "data": {
      "text/html": [
       "<pre style=\"white-space:pre;overflow-x:auto;line-height:normal;font-family:Menlo,'DejaVu Sans Mono',consolas,'Courier New',monospace\">Epoch 242, Loss: 8.2284924827501e-05, Accuracy: 0.8465160464251786\n",
       "</pre>\n"
      ],
      "text/plain": [
       "Epoch 242, Loss: 8.2284924827501e-05, Accuracy: 0.8465160464251786\n"
      ]
     },
     "metadata": {},
     "output_type": "display_data"
    },
    {
     "data": {
      "text/html": [
       "<pre style=\"white-space:pre;overflow-x:auto;line-height:normal;font-family:Menlo,'DejaVu Sans Mono',consolas,'Courier New',monospace\">Epoch 243, Loss: 8.193597755764581e-05, Accuracy: 0.8488703481888398\n",
       "</pre>\n"
      ],
      "text/plain": [
       "Epoch 243, Loss: 8.193597755764581e-05, Accuracy: 0.8488703481888398\n"
      ]
     },
     "metadata": {},
     "output_type": "display_data"
    },
    {
     "data": {
      "text/html": [
       "<pre style=\"white-space:pre;overflow-x:auto;line-height:normal;font-family:Menlo,'DejaVu Sans Mono',consolas,'Courier New',monospace\">Epoch 244, Loss: 8.205405684298562e-05, Accuracy: 0.8461443145677584\n",
       "</pre>\n"
      ],
      "text/plain": [
       "Epoch 244, Loss: 8.205405684298562e-05, Accuracy: 0.8461443145677584\n"
      ]
     },
     "metadata": {},
     "output_type": "display_data"
    },
    {
     "data": {
      "text/html": [
       "<pre style=\"white-space:pre;overflow-x:auto;line-height:normal;font-family:Menlo,'DejaVu Sans Mono',consolas,'Courier New',monospace\">Epoch 245, Loss: 8.18963067780039e-05, Accuracy: 0.8485812234108463\n",
       "</pre>\n"
      ],
      "text/plain": [
       "Epoch 245, Loss: 8.18963067780039e-05, Accuracy: 0.8485812234108463\n"
      ]
     },
     "metadata": {},
     "output_type": "display_data"
    },
    {
     "data": {
      "text/html": [
       "<pre style=\"white-space:pre;overflow-x:auto;line-height:normal;font-family:Menlo,'DejaVu Sans Mono',consolas,'Courier New',monospace\">Epoch 246, Loss: 8.17790916135313e-05, Accuracy: 0.8504398826979472\n",
       "</pre>\n"
      ],
      "text/plain": [
       "Epoch 246, Loss: 8.17790916135313e-05, Accuracy: 0.8504398826979472\n"
      ]
     },
     "metadata": {},
     "output_type": "display_data"
    },
    {
     "data": {
      "text/html": [
       "<pre style=\"white-space:pre;overflow-x:auto;line-height:normal;font-family:Menlo,'DejaVu Sans Mono',consolas,'Courier New',monospace\">Epoch 247, Loss: 8.178338513715645e-05, Accuracy: 0.8504811862376606\n",
       "</pre>\n"
      ],
      "text/plain": [
       "Epoch 247, Loss: 8.178338513715645e-05, Accuracy: 0.8504811862376606\n"
      ]
     },
     "metadata": {},
     "output_type": "display_data"
    },
    {
     "data": {
      "text/html": [
       "<pre style=\"white-space:pre;overflow-x:auto;line-height:normal;font-family:Menlo,'DejaVu Sans Mono',consolas,'Courier New',monospace\">Epoch 248, Loss: 8.175479529205394e-05, Accuracy: 0.8501920614596671\n",
       "</pre>\n"
      ],
      "text/plain": [
       "Epoch 248, Loss: 8.175479529205394e-05, Accuracy: 0.8501920614596671\n"
      ]
     },
     "metadata": {},
     "output_type": "display_data"
    },
    {
     "data": {
      "text/html": [
       "<pre style=\"white-space:pre;overflow-x:auto;line-height:normal;font-family:Menlo,'DejaVu Sans Mono',consolas,'Courier New',monospace\">Epoch 249, Loss: 8.143094199370739e-05, Accuracy: 0.8519681136673413\n",
       "</pre>\n"
      ],
      "text/plain": [
       "Epoch 249, Loss: 8.143094199370739e-05, Accuracy: 0.8519681136673413\n"
      ]
     },
     "metadata": {},
     "output_type": "display_data"
    },
    {
     "data": {
      "text/html": [
       "<pre style=\"white-space:pre;overflow-x:auto;line-height:normal;font-family:Menlo,'DejaVu Sans Mono',consolas,'Courier New',monospace\">Epoch 250, Loss: 8.151050758432719e-05, Accuracy: 0.852050720746768\n",
       "</pre>\n"
      ],
      "text/plain": [
       "Epoch 250, Loss: 8.151050758432719e-05, Accuracy: 0.852050720746768\n"
      ]
     },
     "metadata": {},
     "output_type": "display_data"
    },
    {
     "data": {
      "text/html": [
       "<pre style=\"white-space:pre;overflow-x:auto;line-height:normal;font-family:Menlo,'DejaVu Sans Mono',consolas,'Courier New',monospace\">Epoch 251, Loss: 8.121712993331757e-05, Accuracy: 0.8548180579075627\n",
       "</pre>\n"
      ],
      "text/plain": [
       "Epoch 251, Loss: 8.121712993331757e-05, Accuracy: 0.8548180579075627\n"
      ]
     },
     "metadata": {},
     "output_type": "display_data"
    },
    {
     "data": {
      "text/html": [
       "<pre style=\"white-space:pre;overflow-x:auto;line-height:normal;font-family:Menlo,'DejaVu Sans Mono',consolas,'Courier New',monospace\">Epoch 252, Loss: 8.131492576616452e-05, Accuracy: 0.8512659534922142\n",
       "</pre>\n"
      ],
      "text/plain": [
       "Epoch 252, Loss: 8.131492576616452e-05, Accuracy: 0.8512659534922142\n"
      ]
     },
     "metadata": {},
     "output_type": "display_data"
    },
    {
     "data": {
      "text/html": [
       "<pre style=\"white-space:pre;overflow-x:auto;line-height:normal;font-family:Menlo,'DejaVu Sans Mono',consolas,'Courier New',monospace\">Epoch 253, Loss: 8.120726763077038e-05, Accuracy: 0.8545702366692826\n",
       "</pre>\n"
      ],
      "text/plain": [
       "Epoch 253, Loss: 8.120726763077038e-05, Accuracy: 0.8545702366692826\n"
      ]
     },
     "metadata": {},
     "output_type": "display_data"
    },
    {
     "data": {
      "text/html": [
       "<pre style=\"white-space:pre;overflow-x:auto;line-height:normal;font-family:Menlo,'DejaVu Sans Mono',consolas,'Courier New',monospace\">Epoch 254, Loss: 8.103692995896792e-05, Accuracy: 0.8550245756061294\n",
       "</pre>\n"
      ],
      "text/plain": [
       "Epoch 254, Loss: 8.103692995896792e-05, Accuracy: 0.8550245756061294\n"
      ]
     },
     "metadata": {},
     "output_type": "display_data"
    },
    {
     "data": {
      "text/html": [
       "<pre style=\"white-space:pre;overflow-x:auto;line-height:normal;font-family:Menlo,'DejaVu Sans Mono',consolas,'Courier New',monospace\">Epoch 255, Loss: 8.094903335691035e-05, Accuracy: 0.8584114658626244\n",
       "</pre>\n"
      ],
      "text/plain": [
       "Epoch 255, Loss: 8.094903335691035e-05, Accuracy: 0.8584114658626244\n"
      ]
     },
     "metadata": {},
     "output_type": "display_data"
    },
    {
     "data": {
      "text/html": [
       "<pre style=\"white-space:pre;overflow-x:auto;line-height:normal;font-family:Menlo,'DejaVu Sans Mono',consolas,'Courier New',monospace\">Epoch 256, Loss: 8.090812178833089e-05, Accuracy: 0.8542811118912891\n",
       "</pre>\n"
      ],
      "text/plain": [
       "Epoch 256, Loss: 8.090812178833089e-05, Accuracy: 0.8542811118912891\n"
      ]
     },
     "metadata": {},
     "output_type": "display_data"
    },
    {
     "data": {
      "text/html": [
       "<pre style=\"white-space:pre;overflow-x:auto;line-height:normal;font-family:Menlo,'DejaVu Sans Mono',consolas,'Courier New',monospace\">Epoch 257, Loss: 8.08729193259938e-05, Accuracy: 0.8560984676386766\n",
       "</pre>\n"
      ],
      "text/plain": [
       "Epoch 257, Loss: 8.08729193259938e-05, Accuracy: 0.8560984676386766\n"
      ]
     },
     "metadata": {},
     "output_type": "display_data"
    },
    {
     "data": {
      "text/html": [
       "<pre style=\"white-space:pre;overflow-x:auto;line-height:normal;font-family:Menlo,'DejaVu Sans Mono',consolas,'Courier New',monospace\">Epoch 258, Loss: 8.08378350340317e-05, Accuracy: 0.8553963074635497\n",
       "</pre>\n"
      ],
      "text/plain": [
       "Epoch 258, Loss: 8.08378350340317e-05, Accuracy: 0.8553963074635497\n"
      ]
     },
     "metadata": {},
     "output_type": "display_data"
    },
    {
     "data": {
      "text/html": [
       "<pre style=\"white-space:pre;overflow-x:auto;line-height:normal;font-family:Menlo,'DejaVu Sans Mono',consolas,'Courier New',monospace\">Epoch 259, Loss: 8.066894494932305e-05, Accuracy: 0.856718020734377\n",
       "</pre>\n"
      ],
      "text/plain": [
       "Epoch 259, Loss: 8.066894494932305e-05, Accuracy: 0.856718020734377\n"
      ]
     },
     "metadata": {},
     "output_type": "display_data"
    },
    {
     "data": {
      "text/html": [
       "<pre style=\"white-space:pre;overflow-x:auto;line-height:normal;font-family:Menlo,'DejaVu Sans Mono',consolas,'Courier New',monospace\">Epoch 260, Loss: 8.062834111609516e-05, Accuracy: 0.8571723596712238\n",
       "</pre>\n"
      ],
      "text/plain": [
       "Epoch 260, Loss: 8.062834111609516e-05, Accuracy: 0.8571723596712238\n"
      ]
     },
     "metadata": {},
     "output_type": "display_data"
    },
    {
     "data": {
      "text/html": [
       "<pre style=\"white-space:pre;overflow-x:auto;line-height:normal;font-family:Menlo,'DejaVu Sans Mono',consolas,'Courier New',monospace\">Epoch 261, Loss: 8.063139385078275e-05, Accuracy: 0.8560158605592499\n",
       "</pre>\n"
      ],
      "text/plain": [
       "Epoch 261, Loss: 8.063139385078275e-05, Accuracy: 0.8560158605592499\n"
      ]
     },
     "metadata": {},
     "output_type": "display_data"
    },
    {
     "data": {
      "text/html": [
       "<pre style=\"white-space:pre;overflow-x:auto;line-height:normal;font-family:Menlo,'DejaVu Sans Mono',consolas,'Courier New',monospace\">Epoch 262, Loss: 8.051401374016173e-05, Accuracy: 0.856965841972657\n",
       "</pre>\n"
      ],
      "text/plain": [
       "Epoch 262, Loss: 8.051401374016173e-05, Accuracy: 0.856965841972657\n"
      ]
     },
     "metadata": {},
     "output_type": "display_data"
    },
    {
     "data": {
      "text/html": [
       "<pre style=\"white-space:pre;overflow-x:auto;line-height:normal;font-family:Menlo,'DejaVu Sans Mono',consolas,'Courier New',monospace\">Epoch 263, Loss: 8.042359370822126e-05, Accuracy: 0.8615918384205526\n",
       "</pre>\n"
      ],
      "text/plain": [
       "Epoch 263, Loss: 8.042359370822126e-05, Accuracy: 0.8615918384205526\n"
      ]
     },
     "metadata": {},
     "output_type": "display_data"
    },
    {
     "data": {
      "text/html": [
       "<pre style=\"white-space:pre;overflow-x:auto;line-height:normal;font-family:Menlo,'DejaVu Sans Mono',consolas,'Courier New',monospace\">Epoch 264, Loss: 8.034157362043732e-05, Accuracy: 0.8591549295774648\n",
       "</pre>\n"
      ],
      "text/plain": [
       "Epoch 264, Loss: 8.034157362043732e-05, Accuracy: 0.8591549295774648\n"
      ]
     },
     "metadata": {},
     "output_type": "display_data"
    },
    {
     "data": {
      "text/html": [
       "<pre style=\"white-space:pre;overflow-x:auto;line-height:normal;font-family:Menlo,'DejaVu Sans Mono',consolas,'Courier New',monospace\">Epoch 265, Loss: 8.035719426688314e-05, Accuracy: 0.8580397340052043\n",
       "</pre>\n"
      ],
      "text/plain": [
       "Epoch 265, Loss: 8.035719426688314e-05, Accuracy: 0.8580397340052043\n"
      ]
     },
     "metadata": {},
     "output_type": "display_data"
    },
    {
     "data": {
      "text/html": [
       "<pre style=\"white-space:pre;overflow-x:auto;line-height:normal;font-family:Menlo,'DejaVu Sans Mono',consolas,'Courier New',monospace\">Epoch 266, Loss: 8.007081082494408e-05, Accuracy: 0.8587831977200446\n",
       "</pre>\n"
      ],
      "text/plain": [
       "Epoch 266, Loss: 8.007081082494408e-05, Accuracy: 0.8587831977200446\n"
      ]
     },
     "metadata": {},
     "output_type": "display_data"
    },
    {
     "data": {
      "text/html": [
       "<pre style=\"white-space:pre;overflow-x:auto;line-height:normal;font-family:Menlo,'DejaVu Sans Mono',consolas,'Courier New',monospace\">Epoch 267, Loss: 8.00735927525223e-05, Accuracy: 0.8621287844368263\n",
       "</pre>\n"
      ],
      "text/plain": [
       "Epoch 267, Loss: 8.00735927525223e-05, Accuracy: 0.8621287844368263\n"
      ]
     },
     "metadata": {},
     "output_type": "display_data"
    },
    {
     "data": {
      "text/html": [
       "<pre style=\"white-space:pre;overflow-x:auto;line-height:normal;font-family:Menlo,'DejaVu Sans Mono',consolas,'Courier New',monospace\">Epoch 268, Loss: 8.001362128720782e-05, Accuracy: 0.8625418198339597\n",
       "</pre>\n"
      ],
      "text/plain": [
       "Epoch 268, Loss: 8.001362128720782e-05, Accuracy: 0.8625418198339597\n"
      ]
     },
     "metadata": {},
     "output_type": "display_data"
    },
    {
     "data": {
      "text/html": [
       "<pre style=\"white-space:pre;overflow-x:auto;line-height:normal;font-family:Menlo,'DejaVu Sans Mono',consolas,'Courier New',monospace\">Epoch 269, Loss: 8.004974449371682e-05, Accuracy: 0.862335302135393\n",
       "</pre>\n"
      ],
      "text/plain": [
       "Epoch 269, Loss: 8.004974449371682e-05, Accuracy: 0.862335302135393\n"
      ]
     },
     "metadata": {},
     "output_type": "display_data"
    },
    {
     "data": {
      "text/html": [
       "<pre style=\"white-space:pre;overflow-x:auto;line-height:normal;font-family:Menlo,'DejaVu Sans Mono',consolas,'Courier New',monospace\">Epoch 270, Loss: 7.992568037125963e-05, Accuracy: 0.8636570154062203\n",
       "</pre>\n"
      ],
      "text/plain": [
       "Epoch 270, Loss: 7.992568037125963e-05, Accuracy: 0.8636570154062203\n"
      ]
     },
     "metadata": {},
     "output_type": "display_data"
    },
    {
     "data": {
      "text/html": [
       "<pre style=\"white-space:pre;overflow-x:auto;line-height:normal;font-family:Menlo,'DejaVu Sans Mono',consolas,'Courier New',monospace\">Epoch 271, Loss: 7.972256765357328e-05, Accuracy: 0.8639874437239271\n",
       "</pre>\n"
      ],
      "text/plain": [
       "Epoch 271, Loss: 7.972256765357328e-05, Accuracy: 0.8639874437239271\n"
      ]
     },
     "metadata": {},
     "output_type": "display_data"
    },
    {
     "data": {
      "text/html": [
       "<pre style=\"white-space:pre;overflow-x:auto;line-height:normal;font-family:Menlo,'DejaVu Sans Mono',consolas,'Courier New',monospace\">Epoch 272, Loss: 7.967436644998576e-05, Accuracy: 0.8640700508033539\n",
       "</pre>\n"
      ],
      "text/plain": [
       "Epoch 272, Loss: 7.967436644998576e-05, Accuracy: 0.8640700508033539\n"
      ]
     },
     "metadata": {},
     "output_type": "display_data"
    },
    {
     "data": {
      "text/html": [
       "<pre style=\"white-space:pre;overflow-x:auto;line-height:normal;font-family:Menlo,'DejaVu Sans Mono',consolas,'Courier New',monospace\">Epoch 273, Loss: 7.953097654744982e-05, Accuracy: 0.8615505348808393\n",
       "</pre>\n"
      ],
      "text/plain": [
       "Epoch 273, Loss: 7.953097654744982e-05, Accuracy: 0.8615505348808393\n"
      ]
     },
     "metadata": {},
     "output_type": "display_data"
    },
    {
     "data": {
      "text/html": [
       "<pre style=\"white-space:pre;overflow-x:auto;line-height:normal;font-family:Menlo,'DejaVu Sans Mono',consolas,'Courier New',monospace\">Epoch 274, Loss: 7.941686581720389e-05, Accuracy: 0.8659700136301681\n",
       "</pre>\n"
      ],
      "text/plain": [
       "Epoch 274, Loss: 7.941686581720389e-05, Accuracy: 0.8659700136301681\n"
      ]
     },
     "metadata": {},
     "output_type": "display_data"
    },
    {
     "data": {
      "text/html": [
       "<pre style=\"white-space:pre;overflow-x:auto;line-height:normal;font-family:Menlo,'DejaVu Sans Mono',consolas,'Courier New',monospace\">Epoch 275, Loss: 7.948847460257342e-05, Accuracy: 0.8675395481392756\n",
       "</pre>\n"
      ],
      "text/plain": [
       "Epoch 275, Loss: 7.948847460257342e-05, Accuracy: 0.8675395481392756\n"
      ]
     },
     "metadata": {},
     "output_type": "display_data"
    },
    {
     "data": {
      "text/html": [
       "<pre style=\"white-space:pre;overflow-x:auto;line-height:normal;font-family:Menlo,'DejaVu Sans Mono',consolas,'Courier New',monospace\">Epoch 276, Loss: 7.932657134128687e-05, Accuracy: 0.8663004419478749\n",
       "</pre>\n"
      ],
      "text/plain": [
       "Epoch 276, Loss: 7.932657134128687e-05, Accuracy: 0.8663004419478749\n"
      ]
     },
     "metadata": {},
     "output_type": "display_data"
    },
    {
     "data": {
      "text/html": [
       "<pre style=\"white-space:pre;overflow-x:auto;line-height:normal;font-family:Menlo,'DejaVu Sans Mono',consolas,'Courier New',monospace\">Epoch 277, Loss: 7.923087795636187e-05, Accuracy: 0.8672504233612821\n",
       "</pre>\n"
      ],
      "text/plain": [
       "Epoch 277, Loss: 7.923087795636187e-05, Accuracy: 0.8672504233612821\n"
      ]
     },
     "metadata": {},
     "output_type": "display_data"
    },
    {
     "data": {
      "text/html": [
       "<pre style=\"white-space:pre;overflow-x:auto;line-height:normal;font-family:Menlo,'DejaVu Sans Mono',consolas,'Courier New',monospace\">Epoch 278, Loss: 7.927623814718366e-05, Accuracy: 0.8666721738052952\n",
       "</pre>\n"
      ],
      "text/plain": [
       "Epoch 278, Loss: 7.927623814718366e-05, Accuracy: 0.8666721738052952\n"
      ]
     },
     "metadata": {},
     "output_type": "display_data"
    },
    {
     "data": {
      "text/html": [
       "<pre style=\"white-space:pre;overflow-x:auto;line-height:normal;font-family:Menlo,'DejaVu Sans Mono',consolas,'Courier New',monospace\">Epoch 279, Loss: 7.91237269688271e-05, Accuracy: 0.8666308702655817\n",
       "</pre>\n"
      ],
      "text/plain": [
       "Epoch 279, Loss: 7.91237269688271e-05, Accuracy: 0.8666308702655817\n"
      ]
     },
     "metadata": {},
     "output_type": "display_data"
    },
    {
     "data": {
      "text/html": [
       "<pre style=\"white-space:pre;overflow-x:auto;line-height:normal;font-family:Menlo,'DejaVu Sans Mono',consolas,'Courier New',monospace\">Epoch 280, Loss: 7.91412408031558e-05, Accuracy: 0.8680764941555491\n",
       "</pre>\n"
      ],
      "text/plain": [
       "Epoch 280, Loss: 7.91412408031558e-05, Accuracy: 0.8680764941555491\n"
      ]
     },
     "metadata": {},
     "output_type": "display_data"
    },
    {
     "data": {
      "text/html": [
       "<pre style=\"white-space:pre;overflow-x:auto;line-height:normal;font-family:Menlo,'DejaVu Sans Mono',consolas,'Courier New',monospace\">Epoch 281, Loss: 7.889220166160076e-05, Accuracy: 0.8693569038866631\n",
       "</pre>\n"
      ],
      "text/plain": [
       "Epoch 281, Loss: 7.889220166160076e-05, Accuracy: 0.8693569038866631\n"
      ]
     },
     "metadata": {},
     "output_type": "display_data"
    },
    {
     "data": {
      "text/html": [
       "<pre style=\"white-space:pre;overflow-x:auto;line-height:normal;font-family:Menlo,'DejaVu Sans Mono',consolas,'Courier New',monospace\">Epoch 282, Loss: 7.901656120999547e-05, Accuracy: 0.8684895295526827\n",
       "</pre>\n"
      ],
      "text/plain": [
       "Epoch 282, Loss: 7.901656120999547e-05, Accuracy: 0.8684895295526827\n"
      ]
     },
     "metadata": {},
     "output_type": "display_data"
    },
    {
     "data": {
      "text/html": [
       "<pre style=\"white-space:pre;overflow-x:auto;line-height:normal;font-family:Menlo,'DejaVu Sans Mono',consolas,'Courier New',monospace\">Epoch 283, Loss: 7.889995166869477e-05, Accuracy: 0.870513402998637\n",
       "</pre>\n"
      ],
      "text/plain": [
       "Epoch 283, Loss: 7.889995166869477e-05, Accuracy: 0.870513402998637\n"
      ]
     },
     "metadata": {},
     "output_type": "display_data"
    },
    {
     "data": {
      "text/html": [
       "<pre style=\"white-space:pre;overflow-x:auto;line-height:normal;font-family:Menlo,'DejaVu Sans Mono',consolas,'Courier New',monospace\">Epoch 284, Loss: 7.875403833627592e-05, Accuracy: 0.8733633472388583\n",
       "</pre>\n"
      ],
      "text/plain": [
       "Epoch 284, Loss: 7.875403833627592e-05, Accuracy: 0.8733633472388583\n"
      ]
     },
     "metadata": {},
     "output_type": "display_data"
    },
    {
     "data": {
      "text/html": [
       "<pre style=\"white-space:pre;overflow-x:auto;line-height:normal;font-family:Menlo,'DejaVu Sans Mono',consolas,'Courier New',monospace\">Epoch 285, Loss: 7.862123452983408e-05, Accuracy: 0.8711742596340506\n",
       "</pre>\n"
      ],
      "text/plain": [
       "Epoch 285, Loss: 7.862123452983408e-05, Accuracy: 0.8711742596340506\n"
      ]
     },
     "metadata": {},
     "output_type": "display_data"
    },
    {
     "data": {
      "text/html": [
       "<pre style=\"white-space:pre;overflow-x:auto;line-height:normal;font-family:Menlo,'DejaVu Sans Mono',consolas,'Courier New',monospace\">Epoch 286, Loss: 7.864524034913955e-05, Accuracy: 0.8690264755689563\n",
       "</pre>\n"
      ],
      "text/plain": [
       "Epoch 286, Loss: 7.864524034913955e-05, Accuracy: 0.8690264755689563\n"
      ]
     },
     "metadata": {},
     "output_type": "display_data"
    },
    {
     "data": {
      "text/html": [
       "<pre style=\"white-space:pre;overflow-x:auto;line-height:normal;font-family:Menlo,'DejaVu Sans Mono',consolas,'Courier New',monospace\">Epoch 287, Loss: 7.865879547590561e-05, Accuracy: 0.8703894923794969\n",
       "</pre>\n"
      ],
      "text/plain": [
       "Epoch 287, Loss: 7.865879547590561e-05, Accuracy: 0.8703894923794969\n"
      ]
     },
     "metadata": {},
     "output_type": "display_data"
    },
    {
     "data": {
      "text/html": [
       "<pre style=\"white-space:pre;overflow-x:auto;line-height:normal;font-family:Menlo,'DejaVu Sans Mono',consolas,'Courier New',monospace\">Epoch 288, Loss: 7.867475093841395e-05, Accuracy: 0.8750567923671059\n",
       "</pre>\n"
      ],
      "text/plain": [
       "Epoch 288, Loss: 7.867475093841395e-05, Accuracy: 0.8750567923671059\n"
      ]
     },
     "metadata": {},
     "output_type": "display_data"
    },
    {
     "data": {
      "text/html": [
       "<pre style=\"white-space:pre;overflow-x:auto;line-height:normal;font-family:Menlo,'DejaVu Sans Mono',consolas,'Courier New',monospace\">Epoch 289, Loss: 7.840372472145975e-05, Accuracy: 0.8718764198091776\n",
       "</pre>\n"
      ],
      "text/plain": [
       "Epoch 289, Loss: 7.840372472145975e-05, Accuracy: 0.8718764198091776\n"
      ]
     },
     "metadata": {},
     "output_type": "display_data"
    },
    {
     "data": {
      "text/html": [
       "<pre style=\"white-space:pre;overflow-x:auto;line-height:normal;font-family:Menlo,'DejaVu Sans Mono',consolas,'Courier New',monospace\">Epoch 290, Loss: 7.846731515450871e-05, Accuracy: 0.8744785428111189\n",
       "</pre>\n"
      ],
      "text/plain": [
       "Epoch 290, Loss: 7.846731515450871e-05, Accuracy: 0.8744785428111189\n"
      ]
     },
     "metadata": {},
     "output_type": "display_data"
    },
    {
     "data": {
      "text/html": [
       "<pre style=\"white-space:pre;overflow-x:auto;line-height:normal;font-family:Menlo,'DejaVu Sans Mono',consolas,'Courier New',monospace\">Epoch 291, Loss: 7.828495610893243e-05, Accuracy: 0.8752220065259593\n",
       "</pre>\n"
      ],
      "text/plain": [
       "Epoch 291, Loss: 7.828495610893243e-05, Accuracy: 0.8752220065259593\n"
      ]
     },
     "metadata": {},
     "output_type": "display_data"
    },
    {
     "data": {
      "text/html": [
       "<pre style=\"white-space:pre;overflow-x:auto;line-height:normal;font-family:Menlo,'DejaVu Sans Mono',consolas,'Courier New',monospace\">Epoch 292, Loss: 7.817002803359272e-05, Accuracy: 0.8739415967948453\n",
       "</pre>\n"
      ],
      "text/plain": [
       "Epoch 292, Loss: 7.817002803359272e-05, Accuracy: 0.8739415967948453\n"
      ]
     },
     "metadata": {},
     "output_type": "display_data"
    },
    {
     "data": {
      "text/html": [
       "<pre style=\"white-space:pre;overflow-x:auto;line-height:normal;font-family:Menlo,'DejaVu Sans Mono',consolas,'Courier New',monospace\">Epoch 293, Loss: 7.82525848118298e-05, Accuracy: 0.8716285985708975\n",
       "</pre>\n"
      ],
      "text/plain": [
       "Epoch 293, Loss: 7.82525848118298e-05, Accuracy: 0.8716285985708975\n"
      ]
     },
     "metadata": {},
     "output_type": "display_data"
    },
    {
     "data": {
      "text/html": [
       "<pre style=\"white-space:pre;overflow-x:auto;line-height:normal;font-family:Menlo,'DejaVu Sans Mono',consolas,'Courier New',monospace\">Epoch 294, Loss: 7.803216998173664e-05, Accuracy: 0.8743546321919788\n",
       "</pre>\n"
      ],
      "text/plain": [
       "Epoch 294, Loss: 7.803216998173664e-05, Accuracy: 0.8743546321919788\n"
      ]
     },
     "metadata": {},
     "output_type": "display_data"
    },
    {
     "data": {
      "text/html": [
       "<pre style=\"white-space:pre;overflow-x:auto;line-height:normal;font-family:Menlo,'DejaVu Sans Mono',consolas,'Courier New',monospace\">Epoch 295, Loss: 7.816503533524881e-05, Accuracy: 0.8742307215728388\n",
       "</pre>\n"
      ],
      "text/plain": [
       "Epoch 295, Loss: 7.816503533524881e-05, Accuracy: 0.8742307215728388\n"
      ]
     },
     "metadata": {},
     "output_type": "display_data"
    },
    {
     "data": {
      "text/html": [
       "<pre style=\"white-space:pre;overflow-x:auto;line-height:normal;font-family:Menlo,'DejaVu Sans Mono',consolas,'Courier New',monospace\">Epoch 296, Loss: 7.803402377949452e-05, Accuracy: 0.876006773780513\n",
       "</pre>\n"
      ],
      "text/plain": [
       "Epoch 296, Loss: 7.803402377949452e-05, Accuracy: 0.876006773780513\n"
      ]
     },
     "metadata": {},
     "output_type": "display_data"
    },
    {
     "data": {
      "text/html": [
       "<pre style=\"white-space:pre;overflow-x:auto;line-height:normal;font-family:Menlo,'DejaVu Sans Mono',consolas,'Courier New',monospace\">Epoch 297, Loss: 7.796031993185148e-05, Accuracy: 0.8765024162570733\n",
       "</pre>\n"
      ],
      "text/plain": [
       "Epoch 297, Loss: 7.796031993185148e-05, Accuracy: 0.8765024162570733\n"
      ]
     },
     "metadata": {},
     "output_type": "display_data"
    },
    {
     "data": {
      "text/html": [
       "<pre style=\"white-space:pre;overflow-x:auto;line-height:normal;font-family:Menlo,'DejaVu Sans Mono',consolas,'Courier New',monospace\">Epoch 298, Loss: 7.794125018758523e-05, Accuracy: 0.8761719879393665\n",
       "</pre>\n"
      ],
      "text/plain": [
       "Epoch 298, Loss: 7.794125018758523e-05, Accuracy: 0.8761719879393665\n"
      ]
     },
     "metadata": {},
     "output_type": "display_data"
    },
    {
     "data": {
      "text/html": [
       "<pre style=\"white-space:pre;overflow-x:auto;line-height:normal;font-family:Menlo,'DejaVu Sans Mono',consolas,'Courier New',monospace\">Epoch 299, Loss: 7.787119977403606e-05, Accuracy: 0.8749328817479658\n",
       "</pre>\n"
      ],
      "text/plain": [
       "Epoch 299, Loss: 7.787119977403606e-05, Accuracy: 0.8749328817479658\n"
      ]
     },
     "metadata": {},
     "output_type": "display_data"
    },
    {
     "data": {
      "text/html": [
       "<pre style=\"white-space:pre;overflow-x:auto;line-height:normal;font-family:Menlo,'DejaVu Sans Mono',consolas,'Courier New',monospace\">Epoch 300, Loss: 7.752019190826675e-05, Accuracy: 0.8799306100532815\n",
       "</pre>\n"
      ],
      "text/plain": [
       "Epoch 300, Loss: 7.752019190826675e-05, Accuracy: 0.8799306100532815\n"
      ]
     },
     "metadata": {},
     "output_type": "display_data"
    },
    {
     "data": {
      "text/html": [
       "<pre style=\"white-space:pre;overflow-x:auto;line-height:normal;font-family:Menlo,'DejaVu Sans Mono',consolas,'Courier New',monospace\">Epoch 301, Loss: 7.765020886336476e-05, Accuracy: 0.8775763082896204\n",
       "</pre>\n"
      ],
      "text/plain": [
       "Epoch 301, Loss: 7.765020886336476e-05, Accuracy: 0.8775763082896204\n"
      ]
     },
     "metadata": {},
     "output_type": "display_data"
    },
    {
     "data": {
      "text/html": [
       "<pre style=\"white-space:pre;overflow-x:auto;line-height:normal;font-family:Menlo,'DejaVu Sans Mono',consolas,'Courier New',monospace\">Epoch 302, Loss: 7.762535369448894e-05, Accuracy: 0.8778654330676139\n",
       "</pre>\n"
      ],
      "text/plain": [
       "Epoch 302, Loss: 7.762535369448894e-05, Accuracy: 0.8778654330676139\n"
      ]
     },
     "metadata": {},
     "output_type": "display_data"
    },
    {
     "data": {
      "text/html": [
       "<pre style=\"white-space:pre;overflow-x:auto;line-height:normal;font-family:Menlo,'DejaVu Sans Mono',consolas,'Courier New',monospace\">Epoch 303, Loss: 7.770727284507757e-05, Accuracy: 0.8794762711164347\n",
       "</pre>\n"
      ],
      "text/plain": [
       "Epoch 303, Loss: 7.770727284507757e-05, Accuracy: 0.8794762711164347\n"
      ]
     },
     "metadata": {},
     "output_type": "display_data"
    },
    {
     "data": {
      "text/html": [
       "<pre style=\"white-space:pre;overflow-x:auto;line-height:normal;font-family:Menlo,'DejaVu Sans Mono',consolas,'Courier New',monospace\">Epoch 304, Loss: 7.765358164281799e-05, Accuracy: 0.8784023790838875\n",
       "</pre>\n"
      ],
      "text/plain": [
       "Epoch 304, Loss: 7.765358164281799e-05, Accuracy: 0.8784023790838875\n"
      ]
     },
     "metadata": {},
     "output_type": "display_data"
    },
    {
     "data": {
      "text/html": [
       "<pre style=\"white-space:pre;overflow-x:auto;line-height:normal;font-family:Menlo,'DejaVu Sans Mono',consolas,'Courier New',monospace\">Epoch 305, Loss: 7.751066195989924e-05, Accuracy: 0.8783197720044608\n",
       "</pre>\n"
      ],
      "text/plain": [
       "Epoch 305, Loss: 7.751066195989924e-05, Accuracy: 0.8783197720044608\n"
      ]
     },
     "metadata": {},
     "output_type": "display_data"
    },
    {
     "data": {
      "text/html": [
       "<pre style=\"white-space:pre;overflow-x:auto;line-height:normal;font-family:Menlo,'DejaVu Sans Mono',consolas,'Courier New',monospace\">Epoch 306, Loss: 7.740019481621593e-05, Accuracy: 0.8800132171327083\n",
       "</pre>\n"
      ],
      "text/plain": [
       "Epoch 306, Loss: 7.740019481621593e-05, Accuracy: 0.8800132171327083\n"
      ]
     },
     "metadata": {},
     "output_type": "display_data"
    },
    {
     "data": {
      "text/html": [
       "<pre style=\"white-space:pre;overflow-x:auto;line-height:normal;font-family:Menlo,'DejaVu Sans Mono',consolas,'Courier New',monospace\">Epoch 307, Loss: 7.750892387063356e-05, Accuracy: 0.8792284498781545\n",
       "</pre>\n"
      ],
      "text/plain": [
       "Epoch 307, Loss: 7.750892387063356e-05, Accuracy: 0.8792284498781545\n"
      ]
     },
     "metadata": {},
     "output_type": "display_data"
    },
    {
     "data": {
      "text/html": [
       "<pre style=\"white-space:pre;overflow-x:auto;line-height:normal;font-family:Menlo,'DejaVu Sans Mono',consolas,'Courier New',monospace\">Epoch 308, Loss: 7.75422749970956e-05, Accuracy: 0.8798480029738549\n",
       "</pre>\n"
      ],
      "text/plain": [
       "Epoch 308, Loss: 7.75422749970956e-05, Accuracy: 0.8798480029738549\n"
      ]
     },
     "metadata": {},
     "output_type": "display_data"
    },
    {
     "data": {
      "text/html": [
       "<pre style=\"white-space:pre;overflow-x:auto;line-height:normal;font-family:Menlo,'DejaVu Sans Mono',consolas,'Courier New',monospace\">Epoch 309, Loss: 7.737820281705115e-05, Accuracy: 0.879269753417868\n",
       "</pre>\n"
      ],
      "text/plain": [
       "Epoch 309, Loss: 7.737820281705115e-05, Accuracy: 0.879269753417868\n"
      ]
     },
     "metadata": {},
     "output_type": "display_data"
    },
    {
     "data": {
      "text/html": [
       "<pre style=\"white-space:pre;overflow-x:auto;line-height:normal;font-family:Menlo,'DejaVu Sans Mono',consolas,'Courier New',monospace\">Epoch 310, Loss: 7.723957173399192e-05, Accuracy: 0.8805501631489818\n",
       "</pre>\n"
      ],
      "text/plain": [
       "Epoch 310, Loss: 7.723957173399192e-05, Accuracy: 0.8805501631489818\n"
      ]
     },
     "metadata": {},
     "output_type": "display_data"
    },
    {
     "data": {
      "text/html": [
       "<pre style=\"white-space:pre;overflow-x:auto;line-height:normal;font-family:Menlo,'DejaVu Sans Mono',consolas,'Courier New',monospace\">Epoch 311, Loss: 7.705506592660307e-05, Accuracy: 0.8816240551815291\n",
       "</pre>\n"
      ],
      "text/plain": [
       "Epoch 311, Loss: 7.705506592660307e-05, Accuracy: 0.8816240551815291\n"
      ]
     },
     "metadata": {},
     "output_type": "display_data"
    },
    {
     "data": {
      "text/html": [
       "<pre style=\"white-space:pre;overflow-x:auto;line-height:normal;font-family:Menlo,'DejaVu Sans Mono',consolas,'Courier New',monospace\">Epoch 312, Loss: 7.693672568168512e-05, Accuracy: 0.8823675188963694\n",
       "</pre>\n"
      ],
      "text/plain": [
       "Epoch 312, Loss: 7.693672568168512e-05, Accuracy: 0.8823675188963694\n"
      ]
     },
     "metadata": {},
     "output_type": "display_data"
    },
    {
     "data": {
      "text/html": [
       "<pre style=\"white-space:pre;overflow-x:auto;line-height:normal;font-family:Menlo,'DejaVu Sans Mono',consolas,'Courier New',monospace\">Epoch 313, Loss: 7.708284581226023e-05, Accuracy: 0.8843913923423238\n",
       "</pre>\n"
      ],
      "text/plain": [
       "Epoch 313, Loss: 7.708284581226023e-05, Accuracy: 0.8843913923423238\n"
      ]
     },
     "metadata": {},
     "output_type": "display_data"
    },
    {
     "data": {
      "text/html": [
       "<pre style=\"white-space:pre;overflow-x:auto;line-height:normal;font-family:Menlo,'DejaVu Sans Mono',consolas,'Courier New',monospace\">Epoch 314, Loss: 7.691060510504365e-05, Accuracy: 0.8808392879269753\n",
       "</pre>\n"
      ],
      "text/plain": [
       "Epoch 314, Loss: 7.691060510504365e-05, Accuracy: 0.8808392879269753\n"
      ]
     },
     "metadata": {},
     "output_type": "display_data"
    },
    {
     "data": {
      "text/html": [
       "<pre style=\"white-space:pre;overflow-x:auto;line-height:normal;font-family:Menlo,'DejaVu Sans Mono',consolas,'Courier New',monospace\">Epoch 315, Loss: 7.689467426136343e-05, Accuracy: 0.8845979100408905\n",
       "</pre>\n"
      ],
      "text/plain": [
       "Epoch 315, Loss: 7.689467426136343e-05, Accuracy: 0.8845979100408905\n"
      ]
     },
     "metadata": {},
     "output_type": "display_data"
    },
    {
     "data": {
      "text/html": [
       "<pre style=\"white-space:pre;overflow-x:auto;line-height:normal;font-family:Menlo,'DejaVu Sans Mono',consolas,'Courier New',monospace\">Epoch 316, Loss: 7.692813371066922e-05, Accuracy: 0.8849696418983107\n",
       "</pre>\n"
      ],
      "text/plain": [
       "Epoch 316, Loss: 7.692813371066922e-05, Accuracy: 0.8849696418983107\n"
      ]
     },
     "metadata": {},
     "output_type": "display_data"
    },
    {
     "data": {
      "text/html": [
       "<pre style=\"white-space:pre;overflow-x:auto;line-height:normal;font-family:Menlo,'DejaVu Sans Mono',consolas,'Courier New',monospace\">Epoch 317, Loss: 7.676086846861686e-05, Accuracy: 0.8853826772954442\n",
       "</pre>\n"
      ],
      "text/plain": [
       "Epoch 317, Loss: 7.676086846861686e-05, Accuracy: 0.8853826772954442\n"
      ]
     },
     "metadata": {},
     "output_type": "display_data"
    },
    {
     "data": {
      "text/html": [
       "<pre style=\"white-space:pre;overflow-x:auto;line-height:normal;font-family:Menlo,'DejaVu Sans Mono',consolas,'Courier New',monospace\">Epoch 318, Loss: 7.658595661854863e-05, Accuracy: 0.8880261038370988\n",
       "</pre>\n"
      ],
      "text/plain": [
       "Epoch 318, Loss: 7.658595661854863e-05, Accuracy: 0.8880261038370988\n"
      ]
     },
     "metadata": {},
     "output_type": "display_data"
    },
    {
     "data": {
      "text/html": [
       "<pre style=\"white-space:pre;overflow-x:auto;line-height:normal;font-family:Menlo,'DejaVu Sans Mono',consolas,'Courier New',monospace\">Epoch 319, Loss: 7.675857399383553e-05, Accuracy: 0.8840609640246169\n",
       "</pre>\n"
      ],
      "text/plain": [
       "Epoch 319, Loss: 7.675857399383553e-05, Accuracy: 0.8840609640246169\n"
      ]
     },
     "metadata": {},
     "output_type": "display_data"
    },
    {
     "data": {
      "text/html": [
       "<pre style=\"white-space:pre;overflow-x:auto;line-height:normal;font-family:Menlo,'DejaVu Sans Mono',consolas,'Courier New',monospace\">Epoch 320, Loss: 7.658719248372055e-05, Accuracy: 0.8845979100408905\n",
       "</pre>\n"
      ],
      "text/plain": [
       "Epoch 320, Loss: 7.658719248372055e-05, Accuracy: 0.8845979100408905\n"
      ]
     },
     "metadata": {},
     "output_type": "display_data"
    },
    {
     "data": {
      "text/html": [
       "<pre style=\"white-space:pre;overflow-x:auto;line-height:normal;font-family:Menlo,'DejaVu Sans Mono',consolas,'Courier New',monospace\">Epoch 321, Loss: 7.653530337967979e-05, Accuracy: 0.8852174631365908\n",
       "</pre>\n"
      ],
      "text/plain": [
       "Epoch 321, Loss: 7.653530337967979e-05, Accuracy: 0.8852174631365908\n"
      ]
     },
     "metadata": {},
     "output_type": "display_data"
    },
    {
     "data": {
      "text/html": [
       "<pre style=\"white-space:pre;overflow-x:auto;line-height:normal;font-family:Menlo,'DejaVu Sans Mono',consolas,'Courier New',monospace\">Epoch 322, Loss: 7.654437049407852e-05, Accuracy: 0.883028375531783\n",
       "</pre>\n"
      ],
      "text/plain": [
       "Epoch 322, Loss: 7.654437049407852e-05, Accuracy: 0.883028375531783\n"
      ]
     },
     "metadata": {},
     "output_type": "display_data"
    },
    {
     "data": {
      "text/html": [
       "<pre style=\"white-space:pre;overflow-x:auto;line-height:normal;font-family:Menlo,'DejaVu Sans Mono',consolas,'Courier New',monospace\">Epoch 323, Loss: 7.656255396053223e-05, Accuracy: 0.8864565693279914\n",
       "</pre>\n"
      ],
      "text/plain": [
       "Epoch 323, Loss: 7.656255396053223e-05, Accuracy: 0.8864565693279914\n"
      ]
     },
     "metadata": {},
     "output_type": "display_data"
    },
    {
     "data": {
      "text/html": [
       "<pre style=\"white-space:pre;overflow-x:auto;line-height:normal;font-family:Menlo,'DejaVu Sans Mono',consolas,'Courier New',monospace\">Epoch 324, Loss: 7.658325347122042e-05, Accuracy: 0.8860848374705712\n",
       "</pre>\n"
      ],
      "text/plain": [
       "Epoch 324, Loss: 7.658325347122042e-05, Accuracy: 0.8860848374705712\n"
      ]
     },
     "metadata": {},
     "output_type": "display_data"
    },
    {
     "data": {
      "text/html": [
       "<pre style=\"white-space:pre;overflow-x:auto;line-height:normal;font-family:Menlo,'DejaVu Sans Mono',consolas,'Courier New',monospace\">Epoch 325, Loss: 7.648114688156864e-05, Accuracy: 0.8863739622485647\n",
       "</pre>\n"
      ],
      "text/plain": [
       "Epoch 325, Loss: 7.648114688156864e-05, Accuracy: 0.8863739622485647\n"
      ]
     },
     "metadata": {},
     "output_type": "display_data"
    },
    {
     "data": {
      "text/html": [
       "<pre style=\"white-space:pre;overflow-x:auto;line-height:normal;font-family:Menlo,'DejaVu Sans Mono',consolas,'Courier New',monospace\">Epoch 326, Loss: 7.628523270922627e-05, Accuracy: 0.8875717649002519\n",
       "</pre>\n"
      ],
      "text/plain": [
       "Epoch 326, Loss: 7.628523270922627e-05, Accuracy: 0.8875717649002519\n"
      ]
     },
     "metadata": {},
     "output_type": "display_data"
    },
    {
     "data": {
      "text/html": [
       "<pre style=\"white-space:pre;overflow-x:auto;line-height:normal;font-family:Menlo,'DejaVu Sans Mono',consolas,'Courier New',monospace\">Epoch 328, Loss: 7.620627766554401e-05, Accuracy: 0.8897608525050597\n",
       "</pre>\n"
      ],
      "text/plain": [
       "Epoch 328, Loss: 7.620627766554401e-05, Accuracy: 0.8897608525050597\n"
      ]
     },
     "metadata": {},
     "output_type": "display_data"
    },
    {
     "data": {
      "text/html": [
       "<pre style=\"white-space:pre;overflow-x:auto;line-height:normal;font-family:Menlo,'DejaVu Sans Mono',consolas,'Courier New',monospace\">Epoch 329, Loss: 7.599490779290426e-05, Accuracy: 0.8904630126801867\n",
       "</pre>\n"
      ],
      "text/plain": [
       "Epoch 329, Loss: 7.599490779290426e-05, Accuracy: 0.8904630126801867\n"
      ]
     },
     "metadata": {},
     "output_type": "display_data"
    },
    {
     "data": {
      "text/html": [
       "<pre style=\"white-space:pre;overflow-x:auto;line-height:normal;font-family:Menlo,'DejaVu Sans Mono',consolas,'Courier New',monospace\">Epoch 330, Loss: 7.616198346998005e-05, Accuracy: 0.8912477799347404\n",
       "</pre>\n"
      ],
      "text/plain": [
       "Epoch 330, Loss: 7.616198346998005e-05, Accuracy: 0.8912477799347404\n"
      ]
     },
     "metadata": {},
     "output_type": "display_data"
    },
    {
     "data": {
      "text/html": [
       "<pre style=\"white-space:pre;overflow-x:auto;line-height:normal;font-family:Menlo,'DejaVu Sans Mono',consolas,'Courier New',monospace\">Epoch 331, Loss: 7.59036851871669e-05, Accuracy: 0.8914129940935939\n",
       "</pre>\n"
      ],
      "text/plain": [
       "Epoch 331, Loss: 7.59036851871669e-05, Accuracy: 0.8914129940935939\n"
      ]
     },
     "metadata": {},
     "output_type": "display_data"
    },
    {
     "data": {
      "text/html": [
       "<pre style=\"white-space:pre;overflow-x:auto;line-height:normal;font-family:Menlo,'DejaVu Sans Mono',consolas,'Courier New',monospace\">Epoch 332, Loss: 7.592520204294885e-05, Accuracy: 0.8908760480773202\n",
       "</pre>\n"
      ],
      "text/plain": [
       "Epoch 332, Loss: 7.592520204294885e-05, Accuracy: 0.8908760480773202\n"
      ]
     },
     "metadata": {},
     "output_type": "display_data"
    },
    {
     "data": {
      "text/html": [
       "<pre style=\"white-space:pre;overflow-x:auto;line-height:normal;font-family:Menlo,'DejaVu Sans Mono',consolas,'Courier New',monospace\">Epoch 333, Loss: 7.588775926725232e-05, Accuracy: 0.89025649498162\n",
       "</pre>\n"
      ],
      "text/plain": [
       "Epoch 333, Loss: 7.588775926725232e-05, Accuracy: 0.89025649498162\n"
      ]
     },
     "metadata": {},
     "output_type": "display_data"
    },
    {
     "data": {
      "text/html": [
       "<pre style=\"white-space:pre;overflow-x:auto;line-height:normal;font-family:Menlo,'DejaVu Sans Mono',consolas,'Courier New',monospace\">Epoch 334, Loss: 7.586713853681414e-05, Accuracy: 0.8901738879021932\n",
       "</pre>\n"
      ],
      "text/plain": [
       "Epoch 334, Loss: 7.586713853681414e-05, Accuracy: 0.8901738879021932\n"
      ]
     },
     "metadata": {},
     "output_type": "display_data"
    },
    {
     "data": {
      "text/html": [
       "<pre style=\"white-space:pre;overflow-x:auto;line-height:normal;font-family:Menlo,'DejaVu Sans Mono',consolas,'Courier New',monospace\">Epoch 335, Loss: 7.580017532431194e-05, Accuracy: 0.8902977985213333\n",
       "</pre>\n"
      ],
      "text/plain": [
       "Epoch 335, Loss: 7.580017532431194e-05, Accuracy: 0.8902977985213333\n"
      ]
     },
     "metadata": {},
     "output_type": "display_data"
    },
    {
     "data": {
      "text/html": [
       "<pre style=\"white-space:pre;overflow-x:auto;line-height:normal;font-family:Menlo,'DejaVu Sans Mono',consolas,'Courier New',monospace\">Epoch 336, Loss: 7.565955750182296e-05, Accuracy: 0.8931064392218413\n",
       "</pre>\n"
      ],
      "text/plain": [
       "Epoch 336, Loss: 7.565955750182296e-05, Accuracy: 0.8931064392218413\n"
      ]
     },
     "metadata": {},
     "output_type": "display_data"
    },
    {
     "data": {
      "text/html": [
       "<pre style=\"white-space:pre;overflow-x:auto;line-height:normal;font-family:Menlo,'DejaVu Sans Mono',consolas,'Courier New',monospace\">Epoch 337, Loss: 7.577018959165471e-05, Accuracy: 0.891784725951014\n",
       "</pre>\n"
      ],
      "text/plain": [
       "Epoch 337, Loss: 7.577018959165471e-05, Accuracy: 0.891784725951014\n"
      ]
     },
     "metadata": {},
     "output_type": "display_data"
    },
    {
     "data": {
      "text/html": [
       "<pre style=\"white-space:pre;overflow-x:auto;line-height:normal;font-family:Menlo,'DejaVu Sans Mono',consolas,'Courier New',monospace\">Epoch 338, Loss: 7.554959996788186e-05, Accuracy: 0.8934781710792615\n",
       "</pre>\n"
      ],
      "text/plain": [
       "Epoch 338, Loss: 7.554959996788186e-05, Accuracy: 0.8934781710792615\n"
      ]
     },
     "metadata": {},
     "output_type": "display_data"
    },
    {
     "data": {
      "text/html": [
       "<pre style=\"white-space:pre;overflow-x:auto;line-height:normal;font-family:Menlo,'DejaVu Sans Mono',consolas,'Courier New',monospace\">Epoch 339, Loss: 7.569385645316783e-05, Accuracy: 0.8901325843624799\n",
       "</pre>\n"
      ],
      "text/plain": [
       "Epoch 339, Loss: 7.569385645316783e-05, Accuracy: 0.8901325843624799\n"
      ]
     },
     "metadata": {},
     "output_type": "display_data"
    },
    {
     "data": {
      "text/html": [
       "<pre style=\"white-space:pre;overflow-x:auto;line-height:normal;font-family:Menlo,'DejaVu Sans Mono',consolas,'Courier New',monospace\">Epoch 340, Loss: 7.550110580023964e-05, Accuracy: 0.8914956011730205\n",
       "</pre>\n"
      ],
      "text/plain": [
       "Epoch 340, Loss: 7.550110580023964e-05, Accuracy: 0.8914956011730205\n"
      ]
     },
     "metadata": {},
     "output_type": "display_data"
    },
    {
     "data": {
      "text/html": [
       "<pre style=\"white-space:pre;overflow-x:auto;line-height:normal;font-family:Menlo,'DejaVu Sans Mono',consolas,'Courier New',monospace\">Epoch 341, Loss: 7.5605319761579e-05, Accuracy: 0.8935607781586882\n",
       "</pre>\n"
      ],
      "text/plain": [
       "Epoch 341, Loss: 7.5605319761579e-05, Accuracy: 0.8935607781586882\n"
      ]
     },
     "metadata": {},
     "output_type": "display_data"
    },
    {
     "data": {
      "text/html": [
       "<pre style=\"white-space:pre;overflow-x:auto;line-height:normal;font-family:Menlo,'DejaVu Sans Mono',consolas,'Courier New',monospace\">Epoch 342, Loss: 7.541019339173666e-05, Accuracy: 0.8965346330180497\n",
       "</pre>\n"
      ],
      "text/plain": [
       "Epoch 342, Loss: 7.541019339173666e-05, Accuracy: 0.8965346330180497\n"
      ]
     },
     "metadata": {},
     "output_type": "display_data"
    },
    {
     "data": {
      "text/html": [
       "<pre style=\"white-space:pre;overflow-x:auto;line-height:normal;font-family:Menlo,'DejaVu Sans Mono',consolas,'Courier New',monospace\">Epoch 343, Loss: 7.549069203594242e-05, Accuracy: 0.8934781710792615\n",
       "</pre>\n"
      ],
      "text/plain": [
       "Epoch 343, Loss: 7.549069203594242e-05, Accuracy: 0.8934781710792615\n"
      ]
     },
     "metadata": {},
     "output_type": "display_data"
    },
    {
     "data": {
      "text/html": [
       "<pre style=\"white-space:pre;overflow-x:auto;line-height:normal;font-family:Menlo,'DejaVu Sans Mono',consolas,'Courier New',monospace\">Epoch 344, Loss: 7.542535612797935e-05, Accuracy: 0.8946346701912354\n",
       "</pre>\n"
      ],
      "text/plain": [
       "Epoch 344, Loss: 7.542535612797935e-05, Accuracy: 0.8946346701912354\n"
      ]
     },
     "metadata": {},
     "output_type": "display_data"
    },
    {
     "data": {
      "text/html": [
       "<pre style=\"white-space:pre;overflow-x:auto;line-height:normal;font-family:Menlo,'DejaVu Sans Mono',consolas,'Courier New',monospace\">Epoch 345, Loss: 7.528146892511526e-05, Accuracy: 0.8963694188591962\n",
       "</pre>\n"
      ],
      "text/plain": [
       "Epoch 345, Loss: 7.528146892511526e-05, Accuracy: 0.8963694188591962\n"
      ]
     },
     "metadata": {},
     "output_type": "display_data"
    },
    {
     "data": {
      "text/html": [
       "<pre style=\"white-space:pre;overflow-x:auto;line-height:normal;font-family:Menlo,'DejaVu Sans Mono',consolas,'Courier New',monospace\">Epoch 346, Loss: 7.526964942573206e-05, Accuracy: 0.8942629383338152\n",
       "</pre>\n"
      ],
      "text/plain": [
       "Epoch 346, Loss: 7.526964942573206e-05, Accuracy: 0.8942629383338152\n"
      ]
     },
     "metadata": {},
     "output_type": "display_data"
    },
    {
     "data": {
      "text/html": [
       "<pre style=\"white-space:pre;overflow-x:auto;line-height:normal;font-family:Menlo,'DejaVu Sans Mono',consolas,'Courier New',monospace\">Epoch 347, Loss: 7.529375125846723e-05, Accuracy: 0.8952542232869357\n",
       "</pre>\n"
      ],
      "text/plain": [
       "Epoch 347, Loss: 7.529375125846723e-05, Accuracy: 0.8952542232869357\n"
      ]
     },
     "metadata": {},
     "output_type": "display_data"
    },
    {
     "data": {
      "text/html": [
       "<pre style=\"white-space:pre;overflow-x:auto;line-height:normal;font-family:Menlo,'DejaVu Sans Mono',consolas,'Courier New',monospace\">Epoch 348, Loss: 7.528859361397487e-05, Accuracy: 0.8946346701912354\n",
       "</pre>\n"
      ],
      "text/plain": [
       "Epoch 348, Loss: 7.528859361397487e-05, Accuracy: 0.8946346701912354\n"
      ]
     },
     "metadata": {},
     "output_type": "display_data"
    },
    {
     "data": {
      "text/html": [
       "<pre style=\"white-space:pre;overflow-x:auto;line-height:normal;font-family:Menlo,'DejaVu Sans Mono',consolas,'Courier New',monospace\">Epoch 349, Loss: 7.527194143863058e-05, Accuracy: 0.8953781339060758\n",
       "</pre>\n"
      ],
      "text/plain": [
       "Epoch 349, Loss: 7.527194143863058e-05, Accuracy: 0.8953781339060758\n"
      ]
     },
     "metadata": {},
     "output_type": "display_data"
    },
    {
     "data": {
      "text/html": [
       "<pre style=\"white-space:pre;overflow-x:auto;line-height:normal;font-family:Menlo,'DejaVu Sans Mono',consolas,'Courier New',monospace\">Epoch 350, Loss: 7.513364763351667e-05, Accuracy: 0.8982280781462971\n",
       "</pre>\n"
      ],
      "text/plain": [
       "Epoch 350, Loss: 7.513364763351667e-05, Accuracy: 0.8982280781462971\n"
      ]
     },
     "metadata": {},
     "output_type": "display_data"
    },
    {
     "data": {
      "text/html": [
       "<pre style=\"white-space:pre;overflow-x:auto;line-height:normal;font-family:Menlo,'DejaVu Sans Mono',consolas,'Courier New',monospace\">Epoch 351, Loss: 7.503541112364626e-05, Accuracy: 0.8985172029242906\n",
       "</pre>\n"
      ],
      "text/plain": [
       "Epoch 351, Loss: 7.503541112364626e-05, Accuracy: 0.8985172029242906\n"
      ]
     },
     "metadata": {},
     "output_type": "display_data"
    },
    {
     "data": {
      "text/html": [
       "<pre style=\"white-space:pre;overflow-x:auto;line-height:normal;font-family:Menlo,'DejaVu Sans Mono',consolas,'Courier New',monospace\">Epoch 352, Loss: 7.499717315980126e-05, Accuracy: 0.8972367931931766\n",
       "</pre>\n"
      ],
      "text/plain": [
       "Epoch 352, Loss: 7.499717315980126e-05, Accuracy: 0.8972367931931766\n"
      ]
     },
     "metadata": {},
     "output_type": "display_data"
    },
    {
     "data": {
      "text/html": [
       "<pre style=\"white-space:pre;overflow-x:auto;line-height:normal;font-family:Menlo,'DejaVu Sans Mono',consolas,'Courier New',monospace\">Epoch 353, Loss: 7.501204047010643e-05, Accuracy: 0.8975259179711701\n",
       "</pre>\n"
      ],
      "text/plain": [
       "Epoch 353, Loss: 7.501204047010643e-05, Accuracy: 0.8975259179711701\n"
      ]
     },
     "metadata": {},
     "output_type": "display_data"
    },
    {
     "data": {
      "text/html": [
       "<pre style=\"white-space:pre;overflow-x:auto;line-height:normal;font-family:Menlo,'DejaVu Sans Mono',consolas,'Courier New',monospace\">Epoch 354, Loss: 7.491625107175173e-05, Accuracy: 0.8979389533683036\n",
       "</pre>\n"
      ],
      "text/plain": [
       "Epoch 354, Loss: 7.491625107175173e-05, Accuracy: 0.8979389533683036\n"
      ]
     },
     "metadata": {},
     "output_type": "display_data"
    },
    {
     "data": {
      "text/html": [
       "<pre style=\"white-space:pre;overflow-x:auto;line-height:normal;font-family:Menlo,'DejaVu Sans Mono',consolas,'Courier New',monospace\">Epoch 355, Loss: 7.497892568439441e-05, Accuracy: 0.8964933294783363\n",
       "</pre>\n"
      ],
      "text/plain": [
       "Epoch 355, Loss: 7.497892568439441e-05, Accuracy: 0.8964933294783363\n"
      ]
     },
     "metadata": {},
     "output_type": "display_data"
    },
    {
     "data": {
      "text/html": [
       "<pre style=\"white-space:pre;overflow-x:auto;line-height:normal;font-family:Menlo,'DejaVu Sans Mono',consolas,'Courier New',monospace\">Epoch 356, Loss: 7.496875318461283e-05, Accuracy: 0.8952542232869357\n",
       "</pre>\n"
      ],
      "text/plain": [
       "Epoch 356, Loss: 7.496875318461283e-05, Accuracy: 0.8952542232869357\n"
      ]
     },
     "metadata": {},
     "output_type": "display_data"
    },
    {
     "data": {
      "text/html": [
       "<pre style=\"white-space:pre;overflow-x:auto;line-height:normal;font-family:Menlo,'DejaVu Sans Mono',consolas,'Courier New',monospace\">Epoch 357, Loss: 7.487346601035189e-05, Accuracy: 0.9002106480525381\n",
       "</pre>\n"
      ],
      "text/plain": [
       "Epoch 357, Loss: 7.487346601035189e-05, Accuracy: 0.9002106480525381\n"
      ]
     },
     "metadata": {},
     "output_type": "display_data"
    },
    {
     "data": {
      "text/html": [
       "<pre style=\"white-space:pre;overflow-x:auto;line-height:normal;font-family:Menlo,'DejaVu Sans Mono',consolas,'Courier New',monospace\">Epoch 358, Loss: 7.490414599396227e-05, Accuracy: 0.8994671843376978\n",
       "</pre>\n"
      ],
      "text/plain": [
       "Epoch 358, Loss: 7.490414599396227e-05, Accuracy: 0.8994671843376978\n"
      ]
     },
     "metadata": {},
     "output_type": "display_data"
    },
    {
     "data": {
      "text/html": [
       "<pre style=\"white-space:pre;overflow-x:auto;line-height:normal;font-family:Menlo,'DejaVu Sans Mono',consolas,'Courier New',monospace\">Epoch 359, Loss: 7.487657044457856e-05, Accuracy: 0.89740200735203\n",
       "</pre>\n"
      ],
      "text/plain": [
       "Epoch 359, Loss: 7.487657044457856e-05, Accuracy: 0.89740200735203\n"
      ]
     },
     "metadata": {},
     "output_type": "display_data"
    },
    {
     "data": {
      "text/html": [
       "<pre style=\"white-space:pre;overflow-x:auto;line-height:normal;font-family:Menlo,'DejaVu Sans Mono',consolas,'Courier New',monospace\">Epoch 360, Loss: 7.464026416093018e-05, Accuracy: 0.9026888604353394\n",
       "</pre>\n"
      ],
      "text/plain": [
       "Epoch 360, Loss: 7.464026416093018e-05, Accuracy: 0.9026888604353394\n"
      ]
     },
     "metadata": {},
     "output_type": "display_data"
    },
    {
     "data": {
      "text/html": [
       "<pre style=\"white-space:pre;overflow-x:auto;line-height:normal;font-family:Menlo,'DejaVu Sans Mono',consolas,'Courier New',monospace\">Epoch 361, Loss: 7.46461160563757e-05, Accuracy: 0.9002106480525381\n",
       "</pre>\n"
      ],
      "text/plain": [
       "Epoch 361, Loss: 7.46461160563757e-05, Accuracy: 0.9002106480525381\n"
      ]
     },
     "metadata": {},
     "output_type": "display_data"
    },
    {
     "data": {
      "text/html": [
       "<pre style=\"white-space:pre;overflow-x:auto;line-height:normal;font-family:Menlo,'DejaVu Sans Mono',consolas,'Courier New',monospace\">Epoch 362, Loss: 7.466902141406395e-05, Accuracy: 0.899962826814258\n",
       "</pre>\n"
      ],
      "text/plain": [
       "Epoch 362, Loss: 7.466902141406395e-05, Accuracy: 0.899962826814258\n"
      ]
     },
     "metadata": {},
     "output_type": "display_data"
    },
    {
     "data": {
      "text/html": [
       "<pre style=\"white-space:pre;overflow-x:auto;line-height:normal;font-family:Menlo,'DejaVu Sans Mono',consolas,'Courier New',monospace\">Epoch 363, Loss: 7.447251638984656e-05, Accuracy: 0.9030605922927595\n",
       "</pre>\n"
      ],
      "text/plain": [
       "Epoch 363, Loss: 7.447251638984656e-05, Accuracy: 0.9030605922927595\n"
      ]
     },
     "metadata": {},
     "output_type": "display_data"
    },
    {
     "data": {
      "text/html": [
       "<pre style=\"white-space:pre;overflow-x:auto;line-height:normal;font-family:Menlo,'DejaVu Sans Mono',consolas,'Courier New',monospace\">Epoch 364, Loss: 7.444578526626756e-05, Accuracy: 0.9029366816736194\n",
       "</pre>\n"
      ],
      "text/plain": [
       "Epoch 364, Loss: 7.444578526626756e-05, Accuracy: 0.9029366816736194\n"
      ]
     },
     "metadata": {},
     "output_type": "display_data"
    },
    {
     "data": {
      "text/html": [
       "<pre style=\"white-space:pre;overflow-x:auto;line-height:normal;font-family:Menlo,'DejaVu Sans Mono',consolas,'Courier New',monospace\">Epoch 365, Loss: 7.441087084421954e-05, Accuracy: 0.9015736648630788\n",
       "</pre>\n"
      ],
      "text/plain": [
       "Epoch 365, Loss: 7.441087084421954e-05, Accuracy: 0.9015736648630788\n"
      ]
     },
     "metadata": {},
     "output_type": "display_data"
    },
    {
     "data": {
      "text/html": [
       "<pre style=\"white-space:pre;overflow-x:auto;line-height:normal;font-family:Menlo,'DejaVu Sans Mono',consolas,'Courier New',monospace\">Epoch 366, Loss: 7.434879200721751e-05, Accuracy: 0.9011193259262319\n",
       "</pre>\n"
      ],
      "text/plain": [
       "Epoch 366, Loss: 7.434879200721751e-05, Accuracy: 0.9011193259262319\n"
      ]
     },
     "metadata": {},
     "output_type": "display_data"
    },
    {
     "data": {
      "text/html": [
       "<pre style=\"white-space:pre;overflow-x:auto;line-height:normal;font-family:Menlo,'DejaVu Sans Mono',consolas,'Courier New',monospace\">Epoch 367, Loss: 7.437154965193701e-05, Accuracy: 0.9014497542439387\n",
       "</pre>\n"
      ],
      "text/plain": [
       "Epoch 367, Loss: 7.437154965193701e-05, Accuracy: 0.9014497542439387\n"
      ]
     },
     "metadata": {},
     "output_type": "display_data"
    },
    {
     "data": {
      "text/html": [
       "<pre style=\"white-space:pre;overflow-x:auto;line-height:normal;font-family:Menlo,'DejaVu Sans Mono',consolas,'Courier New',monospace\">Epoch 368, Loss: 7.441752531346195e-05, Accuracy: 0.9018214861013589\n",
       "</pre>\n"
      ],
      "text/plain": [
       "Epoch 368, Loss: 7.441752531346195e-05, Accuracy: 0.9018214861013589\n"
      ]
     },
     "metadata": {},
     "output_type": "display_data"
    },
    {
     "data": {
      "text/html": [
       "<pre style=\"white-space:pre;overflow-x:auto;line-height:normal;font-family:Menlo,'DejaVu Sans Mono',consolas,'Courier New',monospace\">Epoch 369, Loss: 7.430787797675523e-05, Accuracy: 0.902069307339639\n",
       "</pre>\n"
      ],
      "text/plain": [
       "Epoch 369, Loss: 7.430787797675523e-05, Accuracy: 0.902069307339639\n"
      ]
     },
     "metadata": {},
     "output_type": "display_data"
    },
    {
     "data": {
      "text/html": [
       "<pre style=\"white-space:pre;overflow-x:auto;line-height:normal;font-family:Menlo,'DejaVu Sans Mono',consolas,'Courier New',monospace\">Epoch 370, Loss: 7.423921852699517e-05, Accuracy: 0.9047953409607203\n",
       "</pre>\n"
      ],
      "text/plain": [
       "Epoch 370, Loss: 7.423921852699517e-05, Accuracy: 0.9047953409607203\n"
      ]
     },
     "metadata": {},
     "output_type": "display_data"
    },
    {
     "data": {
      "text/html": [
       "<pre style=\"white-space:pre;overflow-x:auto;line-height:normal;font-family:Menlo,'DejaVu Sans Mono',consolas,'Courier New',monospace\">Epoch 371, Loss: 7.412074287852253e-05, Accuracy: 0.9056214117549874\n",
       "</pre>\n"
      ],
      "text/plain": [
       "Epoch 371, Loss: 7.412074287852253e-05, Accuracy: 0.9056214117549874\n"
      ]
     },
     "metadata": {},
     "output_type": "display_data"
    },
    {
     "data": {
      "text/html": [
       "<pre style=\"white-space:pre;overflow-x:auto;line-height:normal;font-family:Menlo,'DejaVu Sans Mono',consolas,'Courier New',monospace\">Epoch 372, Loss: 7.430669134923956e-05, Accuracy: 0.9029779852133328\n",
       "</pre>\n"
      ],
      "text/plain": [
       "Epoch 372, Loss: 7.430669134923956e-05, Accuracy: 0.9029779852133328\n"
      ]
     },
     "metadata": {},
     "output_type": "display_data"
    },
    {
     "data": {
      "text/html": [
       "<pre style=\"white-space:pre;overflow-x:auto;line-height:normal;font-family:Menlo,'DejaVu Sans Mono',consolas,'Courier New',monospace\">Epoch 373, Loss: 7.428924398574681e-05, Accuracy: 0.9057453223741274\n",
       "</pre>\n"
      ],
      "text/plain": [
       "Epoch 373, Loss: 7.428924398574681e-05, Accuracy: 0.9057453223741274\n"
      ]
     },
     "metadata": {},
     "output_type": "display_data"
    },
    {
     "data": {
      "text/html": [
       "<pre style=\"white-space:pre;overflow-x:auto;line-height:normal;font-family:Menlo,'DejaVu Sans Mono',consolas,'Courier New',monospace\">Epoch 374, Loss: 7.406646821003638e-05, Accuracy: 0.90405187724588\n",
       "</pre>\n"
      ],
      "text/plain": [
       "Epoch 374, Loss: 7.406646821003638e-05, Accuracy: 0.90405187724588\n"
      ]
     },
     "metadata": {},
     "output_type": "display_data"
    },
    {
     "data": {
      "text/html": [
       "<pre style=\"white-space:pre;overflow-x:auto;line-height:normal;font-family:Menlo,'DejaVu Sans Mono',consolas,'Courier New',monospace\">Epoch 375, Loss: 7.396015180077509e-05, Accuracy: 0.9049192515798604\n",
       "</pre>\n"
      ],
      "text/plain": [
       "Epoch 375, Loss: 7.396015180077509e-05, Accuracy: 0.9049192515798604\n"
      ]
     },
     "metadata": {},
     "output_type": "display_data"
    },
    {
     "data": {
      "text/html": [
       "<pre style=\"white-space:pre;overflow-x:auto;line-height:normal;font-family:Menlo,'DejaVu Sans Mono',consolas,'Courier New',monospace\">Epoch 376, Loss: 7.384587858626354e-05, Accuracy: 0.906860517946388\n",
       "</pre>\n"
      ],
      "text/plain": [
       "Epoch 376, Loss: 7.384587858626354e-05, Accuracy: 0.906860517946388\n"
      ]
     },
     "metadata": {},
     "output_type": "display_data"
    },
    {
     "data": {
      "text/html": [
       "<pre style=\"white-space:pre;overflow-x:auto;line-height:normal;font-family:Menlo,'DejaVu Sans Mono',consolas,'Courier New',monospace\">Epoch 377, Loss: 7.387891951549117e-05, Accuracy: 0.9050431621990005\n",
       "</pre>\n"
      ],
      "text/plain": [
       "Epoch 377, Loss: 7.387891951549117e-05, Accuracy: 0.9050431621990005\n"
      ]
     },
     "metadata": {},
     "output_type": "display_data"
    },
    {
     "data": {
      "text/html": [
       "<pre style=\"white-space:pre;overflow-x:auto;line-height:normal;font-family:Menlo,'DejaVu Sans Mono',consolas,'Courier New',monospace\">Epoch 378, Loss: 7.392358053159421e-05, Accuracy: 0.9077278922803684\n",
       "</pre>\n"
      ],
      "text/plain": [
       "Epoch 378, Loss: 7.392358053159421e-05, Accuracy: 0.9077278922803684\n"
      ]
     },
     "metadata": {},
     "output_type": "display_data"
    },
    {
     "data": {
      "text/html": [
       "<pre style=\"white-space:pre;overflow-x:auto;line-height:normal;font-family:Menlo,'DejaVu Sans Mono',consolas,'Courier New',monospace\">Epoch 379, Loss: 7.382302000434872e-05, Accuracy: 0.9062409648506877\n",
       "</pre>\n"
      ],
      "text/plain": [
       "Epoch 379, Loss: 7.382302000434872e-05, Accuracy: 0.9062409648506877\n"
      ]
     },
     "metadata": {},
     "output_type": "display_data"
    },
    {
     "data": {
      "text/html": [
       "<pre style=\"white-space:pre;overflow-x:auto;line-height:normal;font-family:Menlo,'DejaVu Sans Mono',consolas,'Courier New',monospace\">Epoch 380, Loss: 7.36538246461713e-05, Accuracy: 0.9078931064392218\n",
       "</pre>\n"
      ],
      "text/plain": [
       "Epoch 380, Loss: 7.36538246461713e-05, Accuracy: 0.9078931064392218\n"
      ]
     },
     "metadata": {},
     "output_type": "display_data"
    },
    {
     "data": {
      "text/html": [
       "<pre style=\"white-space:pre;overflow-x:auto;line-height:normal;font-family:Menlo,'DejaVu Sans Mono',consolas,'Courier New',monospace\">Epoch 381, Loss: 7.385524358848259e-05, Accuracy: 0.9082235347569286\n",
       "</pre>\n"
      ],
      "text/plain": [
       "Epoch 381, Loss: 7.385524358848259e-05, Accuracy: 0.9082235347569286\n"
      ]
     },
     "metadata": {},
     "output_type": "display_data"
    },
    {
     "data": {
      "text/html": [
       "<pre style=\"white-space:pre;overflow-x:auto;line-height:normal;font-family:Menlo,'DejaVu Sans Mono',consolas,'Courier New',monospace\">Epoch 382, Loss: 7.372118914557195e-05, Accuracy: 0.9095865515674694\n",
       "</pre>\n"
      ],
      "text/plain": [
       "Epoch 382, Loss: 7.372118914557195e-05, Accuracy: 0.9095865515674694\n"
      ]
     },
     "metadata": {},
     "output_type": "display_data"
    },
    {
     "data": {
      "text/html": [
       "<pre style=\"white-space:pre;overflow-x:auto;line-height:normal;font-family:Menlo,'DejaVu Sans Mono',consolas,'Courier New',monospace\">Epoch 383, Loss: 7.363729556496763e-05, Accuracy: 0.9061996613109744\n",
       "</pre>\n"
      ],
      "text/plain": [
       "Epoch 383, Loss: 7.363729556496763e-05, Accuracy: 0.9061996613109744\n"
      ]
     },
     "metadata": {},
     "output_type": "display_data"
    },
    {
     "data": {
      "text/html": [
       "<pre style=\"white-space:pre;overflow-x:auto;line-height:normal;font-family:Menlo,'DejaVu Sans Mono',consolas,'Courier New',monospace\">Epoch 384, Loss: 7.368290686783632e-05, Accuracy: 0.9070670356449547\n",
       "</pre>\n"
      ],
      "text/plain": [
       "Epoch 384, Loss: 7.368290686783632e-05, Accuracy: 0.9070670356449547\n"
      ]
     },
     "metadata": {},
     "output_type": "display_data"
    },
    {
     "data": {
      "text/html": [
       "<pre style=\"white-space:pre;overflow-x:auto;line-height:normal;font-family:Menlo,'DejaVu Sans Mono',consolas,'Courier New',monospace\">Epoch 385, Loss: 7.371645248304053e-05, Accuracy: 0.9068192144066747\n",
       "</pre>\n"
      ],
      "text/plain": [
       "Epoch 385, Loss: 7.371645248304053e-05, Accuracy: 0.9068192144066747\n"
      ]
     },
     "metadata": {},
     "output_type": "display_data"
    },
    {
     "data": {
      "text/html": [
       "<pre style=\"white-space:pre;overflow-x:auto;line-height:normal;font-family:Menlo,'DejaVu Sans Mono',consolas,'Courier New',monospace\">Epoch 386, Loss: 7.35976420185054e-05, Accuracy: 0.9082235347569286\n",
       "</pre>\n"
      ],
      "text/plain": [
       "Epoch 386, Loss: 7.35976420185054e-05, Accuracy: 0.9082235347569286\n"
      ]
     },
     "metadata": {},
     "output_type": "display_data"
    },
    {
     "data": {
      "text/html": [
       "<pre style=\"white-space:pre;overflow-x:auto;line-height:normal;font-family:Menlo,'DejaVu Sans Mono',consolas,'Courier New',monospace\">Epoch 387, Loss: 7.362586750495164e-05, Accuracy: 0.9084300524554955\n",
       "</pre>\n"
      ],
      "text/plain": [
       "Epoch 387, Loss: 7.362586750495164e-05, Accuracy: 0.9084300524554955\n"
      ]
     },
     "metadata": {},
     "output_type": "display_data"
    },
    {
     "data": {
      "text/html": [
       "<pre style=\"white-space:pre;overflow-x:auto;line-height:normal;font-family:Menlo,'DejaVu Sans Mono',consolas,'Courier New',monospace\">Epoch 388, Loss: 7.351556530741677e-05, Accuracy: 0.9108256577588699\n",
       "</pre>\n"
      ],
      "text/plain": [
       "Epoch 388, Loss: 7.351556530741677e-05, Accuracy: 0.9108256577588699\n"
      ]
     },
     "metadata": {},
     "output_type": "display_data"
    },
    {
     "data": {
      "text/html": [
       "<pre style=\"white-space:pre;overflow-x:auto;line-height:normal;font-family:Menlo,'DejaVu Sans Mono',consolas,'Courier New',monospace\">Epoch 389, Loss: 7.347497378360294e-05, Accuracy: 0.9088843913923423\n",
       "</pre>\n"
      ],
      "text/plain": [
       "Epoch 389, Loss: 7.347497378360294e-05, Accuracy: 0.9088843913923423\n"
      ]
     },
     "metadata": {},
     "output_type": "display_data"
    },
    {
     "data": {
      "text/html": [
       "<pre style=\"white-space:pre;overflow-x:auto;line-height:normal;font-family:Menlo,'DejaVu Sans Mono',consolas,'Courier New',monospace\">Epoch 390, Loss: 7.348399412222824e-05, Accuracy: 0.908966998471769\n",
       "</pre>\n"
      ],
      "text/plain": [
       "Epoch 390, Loss: 7.348399412222824e-05, Accuracy: 0.908966998471769\n"
      ]
     },
     "metadata": {},
     "output_type": "display_data"
    },
    {
     "data": {
      "text/html": [
       "<pre style=\"white-space:pre;overflow-x:auto;line-height:normal;font-family:Menlo,'DejaVu Sans Mono',consolas,'Courier New',monospace\">Epoch 391, Loss: 7.340711690763978e-05, Accuracy: 0.9087191772334889\n",
       "</pre>\n"
      ],
      "text/plain": [
       "Epoch 391, Loss: 7.340711690763978e-05, Accuracy: 0.9087191772334889\n"
      ]
     },
     "metadata": {},
     "output_type": "display_data"
    },
    {
     "data": {
      "text/html": [
       "<pre style=\"white-space:pre;overflow-x:auto;line-height:normal;font-family:Menlo,'DejaVu Sans Mono',consolas,'Courier New',monospace\">Epoch 392, Loss: 7.328001728367467e-05, Accuracy: 0.9098756763454628\n",
       "</pre>\n"
      ],
      "text/plain": [
       "Epoch 392, Loss: 7.328001728367467e-05, Accuracy: 0.9098756763454628\n"
      ]
     },
     "metadata": {},
     "output_type": "display_data"
    },
    {
     "data": {
      "text/html": [
       "<pre style=\"white-space:pre;overflow-x:auto;line-height:normal;font-family:Menlo,'DejaVu Sans Mono',consolas,'Courier New',monospace\">Epoch 393, Loss: 7.328465054712795e-05, Accuracy: 0.9111560860765767\n",
       "</pre>\n"
      ],
      "text/plain": [
       "Epoch 393, Loss: 7.328465054712795e-05, Accuracy: 0.9111560860765767\n"
      ]
     },
     "metadata": {},
     "output_type": "display_data"
    },
    {
     "data": {
      "text/html": [
       "<pre style=\"white-space:pre;overflow-x:auto;line-height:normal;font-family:Menlo,'DejaVu Sans Mono',consolas,'Courier New',monospace\">Epoch 394, Loss: 7.327138592253377e-05, Accuracy: 0.9118582462517038\n",
       "</pre>\n"
      ],
      "text/plain": [
       "Epoch 394, Loss: 7.327138592253377e-05, Accuracy: 0.9118582462517038\n"
      ]
     },
     "metadata": {},
     "output_type": "display_data"
    },
    {
     "data": {
      "text/html": [
       "<pre style=\"white-space:pre;overflow-x:auto;line-height:normal;font-family:Menlo,'DejaVu Sans Mono',consolas,'Courier New',monospace\">Epoch 395, Loss: 7.318039227189798e-05, Accuracy: 0.9115691214737103\n",
       "</pre>\n"
      ],
      "text/plain": [
       "Epoch 395, Loss: 7.318039227189798e-05, Accuracy: 0.9115691214737103\n"
      ]
     },
     "metadata": {},
     "output_type": "display_data"
    },
    {
     "data": {
      "text/html": [
       "<pre style=\"white-space:pre;overflow-x:auto;line-height:normal;font-family:Menlo,'DejaVu Sans Mono',consolas,'Courier New',monospace\">Epoch 396, Loss: 7.312325197181797e-05, Accuracy: 0.9135929949196646\n",
       "</pre>\n"
      ],
      "text/plain": [
       "Epoch 396, Loss: 7.312325197181797e-05, Accuracy: 0.9135929949196646\n"
      ]
     },
     "metadata": {},
     "output_type": "display_data"
    },
    {
     "data": {
      "text/html": [
       "<pre style=\"white-space:pre;overflow-x:auto;line-height:normal;font-family:Menlo,'DejaVu Sans Mono',consolas,'Courier New',monospace\">Epoch 397, Loss: 7.321081375781303e-05, Accuracy: 0.9108669612985832\n",
       "</pre>\n"
      ],
      "text/plain": [
       "Epoch 397, Loss: 7.321081375781303e-05, Accuracy: 0.9108669612985832\n"
      ]
     },
     "metadata": {},
     "output_type": "display_data"
    },
    {
     "data": {
      "text/html": [
       "<pre style=\"white-space:pre;overflow-x:auto;line-height:normal;font-family:Menlo,'DejaVu Sans Mono',consolas,'Courier New',monospace\">Epoch 398, Loss: 7.31177004260756e-05, Accuracy: 0.9137995126182313\n",
       "</pre>\n"
      ],
      "text/plain": [
       "Epoch 398, Loss: 7.31177004260756e-05, Accuracy: 0.9137995126182313\n"
      ]
     },
     "metadata": {},
     "output_type": "display_data"
    },
    {
     "data": {
      "text/html": [
       "<pre style=\"white-space:pre;overflow-x:auto;line-height:normal;font-family:Menlo,'DejaVu Sans Mono',consolas,'Courier New',monospace\">Epoch 399, Loss: 7.319189418839835e-05, Accuracy: 0.9117343356325637\n",
       "</pre>\n"
      ],
      "text/plain": [
       "Epoch 399, Loss: 7.319189418839835e-05, Accuracy: 0.9117343356325637\n"
      ]
     },
     "metadata": {},
     "output_type": "display_data"
    },
    {
     "data": {
      "text/html": [
       "<pre style=\"white-space:pre;overflow-x:auto;line-height:normal;font-family:Menlo,'DejaVu Sans Mono',consolas,'Courier New',monospace\">Epoch 400, Loss: 7.300459660590003e-05, Accuracy: 0.9136756019990914\n",
       "</pre>\n"
      ],
      "text/plain": [
       "Epoch 400, Loss: 7.300459660590003e-05, Accuracy: 0.9136756019990914\n"
      ]
     },
     "metadata": {},
     "output_type": "display_data"
    },
    {
     "data": {
      "text/html": [
       "<pre style=\"white-space:pre;overflow-x:auto;line-height:normal;font-family:Menlo,'DejaVu Sans Mono',consolas,'Courier New',monospace\">Epoch 401, Loss: 7.303215246022125e-05, Accuracy: 0.9126017099665441\n",
       "</pre>\n"
      ],
      "text/plain": [
       "Epoch 401, Loss: 7.303215246022125e-05, Accuracy: 0.9126017099665441\n"
      ]
     },
     "metadata": {},
     "output_type": "display_data"
    },
    {
     "data": {
      "text/html": [
       "<pre style=\"white-space:pre;overflow-x:auto;line-height:normal;font-family:Menlo,'DejaVu Sans Mono',consolas,'Courier New',monospace\">Epoch 402, Loss: 7.304083798278403e-05, Accuracy: 0.9136756019990914\n",
       "</pre>\n"
      ],
      "text/plain": [
       "Epoch 402, Loss: 7.304083798278403e-05, Accuracy: 0.9136756019990914\n"
      ]
     },
     "metadata": {},
     "output_type": "display_data"
    },
    {
     "data": {
      "text/html": [
       "<pre style=\"white-space:pre;overflow-x:auto;line-height:normal;font-family:Menlo,'DejaVu Sans Mono',consolas,'Courier New',monospace\">Epoch 403, Loss: 7.296016454489857e-05, Accuracy: 0.9134690843005245\n",
       "</pre>\n"
      ],
      "text/plain": [
       "Epoch 403, Loss: 7.296016454489857e-05, Accuracy: 0.9134690843005245\n"
      ]
     },
     "metadata": {},
     "output_type": "display_data"
    },
    {
     "data": {
      "text/html": [
       "<pre style=\"white-space:pre;overflow-x:auto;line-height:normal;font-family:Menlo,'DejaVu Sans Mono',consolas,'Courier New',monospace\">Epoch 404, Loss: 7.297691027178975e-05, Accuracy: 0.9147494940316385\n",
       "</pre>\n"
      ],
      "text/plain": [
       "Epoch 404, Loss: 7.297691027178975e-05, Accuracy: 0.9147494940316385\n"
      ]
     },
     "metadata": {},
     "output_type": "display_data"
    },
    {
     "data": {
      "text/html": [
       "<pre style=\"white-space:pre;overflow-x:auto;line-height:normal;font-family:Menlo,'DejaVu Sans Mono',consolas,'Courier New',monospace\">Epoch 405, Loss: 7.262825104222363e-05, Accuracy: 0.9155342612861922\n",
       "</pre>\n"
      ],
      "text/plain": [
       "Epoch 405, Loss: 7.262825104222363e-05, Accuracy: 0.9155342612861922\n"
      ]
     },
     "metadata": {},
     "output_type": "display_data"
    },
    {
     "data": {
      "text/html": [
       "<pre style=\"white-space:pre;overflow-x:auto;line-height:normal;font-family:Menlo,'DejaVu Sans Mono',consolas,'Courier New',monospace\">Epoch 406, Loss: 7.269430335808517e-05, Accuracy: 0.9170211887158729\n",
       "</pre>\n"
      ],
      "text/plain": [
       "Epoch 406, Loss: 7.269430335808517e-05, Accuracy: 0.9170211887158729\n"
      ]
     },
     "metadata": {},
     "output_type": "display_data"
    },
    {
     "data": {
      "text/html": [
       "<pre style=\"white-space:pre;overflow-x:auto;line-height:normal;font-family:Menlo,'DejaVu Sans Mono',consolas,'Courier New',monospace\">Epoch 407, Loss: 7.283492364245697e-05, Accuracy: 0.9139234232373714\n",
       "</pre>\n"
      ],
      "text/plain": [
       "Epoch 407, Loss: 7.283492364245697e-05, Accuracy: 0.9139234232373714\n"
      ]
     },
     "metadata": {},
     "output_type": "display_data"
    },
    {
     "data": {
      "text/html": [
       "<pre style=\"white-space:pre;overflow-x:auto;line-height:normal;font-family:Menlo,'DejaVu Sans Mono',consolas,'Courier New',monospace\">Epoch 408, Loss: 7.275114330846203e-05, Accuracy: 0.9145842798727851\n",
       "</pre>\n"
      ],
      "text/plain": [
       "Epoch 408, Loss: 7.275114330846203e-05, Accuracy: 0.9145842798727851\n"
      ]
     },
     "metadata": {},
     "output_type": "display_data"
    },
    {
     "data": {
      "text/html": [
       "<pre style=\"white-space:pre;overflow-x:auto;line-height:normal;font-family:Menlo,'DejaVu Sans Mono',consolas,'Courier New',monospace\">Epoch 409, Loss: 7.264829323020085e-05, Accuracy: 0.9149560117302052\n",
       "</pre>\n"
      ],
      "text/plain": [
       "Epoch 409, Loss: 7.264829323020085e-05, Accuracy: 0.9149560117302052\n"
      ]
     },
     "metadata": {},
     "output_type": "display_data"
    },
    {
     "data": {
      "text/html": [
       "<pre style=\"white-space:pre;overflow-x:auto;line-height:normal;font-family:Menlo,'DejaVu Sans Mono',consolas,'Courier New',monospace\">Epoch 410, Loss: 7.260060163635554e-05, Accuracy: 0.9179298665895668\n",
       "</pre>\n"
      ],
      "text/plain": [
       "Epoch 410, Loss: 7.260060163635554e-05, Accuracy: 0.9179298665895668\n"
      ]
     },
     "metadata": {},
     "output_type": "display_data"
    },
    {
     "data": {
      "text/html": [
       "<pre style=\"white-space:pre;overflow-x:auto;line-height:normal;font-family:Menlo,'DejaVu Sans Mono',consolas,'Courier New',monospace\">Epoch 411, Loss: 7.258547336647222e-05, Accuracy: 0.9173516170335798\n",
       "</pre>\n"
      ],
      "text/plain": [
       "Epoch 411, Loss: 7.258547336647222e-05, Accuracy: 0.9173516170335798\n"
      ]
     },
     "metadata": {},
     "output_type": "display_data"
    },
    {
     "data": {
      "text/html": [
       "<pre style=\"white-space:pre;overflow-x:auto;line-height:normal;font-family:Menlo,'DejaVu Sans Mono',consolas,'Courier New',monospace\">Epoch 412, Loss: 7.24889724839847e-05, Accuracy: 0.9179298665895668\n",
       "</pre>\n"
      ],
      "text/plain": [
       "Epoch 412, Loss: 7.24889724839847e-05, Accuracy: 0.9179298665895668\n"
      ]
     },
     "metadata": {},
     "output_type": "display_data"
    },
    {
     "data": {
      "text/html": [
       "<pre style=\"white-space:pre;overflow-x:auto;line-height:normal;font-family:Menlo,'DejaVu Sans Mono',consolas,'Courier New',monospace\">Epoch 413, Loss: 7.247182793207788e-05, Accuracy: 0.9187559373838338\n",
       "</pre>\n"
      ],
      "text/plain": [
       "Epoch 413, Loss: 7.247182793207788e-05, Accuracy: 0.9187559373838338\n"
      ]
     },
     "metadata": {},
     "output_type": "display_data"
    },
    {
     "data": {
      "text/html": [
       "<pre style=\"white-space:pre;overflow-x:auto;line-height:normal;font-family:Menlo,'DejaVu Sans Mono',consolas,'Courier New',monospace\">Epoch 414, Loss: 7.251780851736845e-05, Accuracy: 0.9187972409235472\n",
       "</pre>\n"
      ],
      "text/plain": [
       "Epoch 414, Loss: 7.251780851736845e-05, Accuracy: 0.9187972409235472\n"
      ]
     },
     "metadata": {},
     "output_type": "display_data"
    },
    {
     "data": {
      "text/html": [
       "<pre style=\"white-space:pre;overflow-x:auto;line-height:normal;font-family:Menlo,'DejaVu Sans Mono',consolas,'Courier New',monospace\">Epoch 415, Loss: 7.259943224201956e-05, Accuracy: 0.9153690471273388\n",
       "</pre>\n"
      ],
      "text/plain": [
       "Epoch 415, Loss: 7.259943224201956e-05, Accuracy: 0.9153690471273388\n"
      ]
     },
     "metadata": {},
     "output_type": "display_data"
    },
    {
     "data": {
      "text/html": [
       "<pre style=\"white-space:pre;overflow-x:auto;line-height:normal;font-family:Menlo,'DejaVu Sans Mono',consolas,'Courier New',monospace\">Epoch 416, Loss: 7.234816017275351e-05, Accuracy: 0.9194994010986741\n",
       "</pre>\n"
      ],
      "text/plain": [
       "Epoch 416, Loss: 7.234816017275351e-05, Accuracy: 0.9194994010986741\n"
      ]
     },
     "metadata": {},
     "output_type": "display_data"
    },
    {
     "data": {
      "text/html": [
       "<pre style=\"white-space:pre;overflow-x:auto;line-height:normal;font-family:Menlo,'DejaVu Sans Mono',consolas,'Courier New',monospace\">Epoch 417, Loss: 7.262059951044214e-05, Accuracy: 0.9137995126182313\n",
       "</pre>\n"
      ],
      "text/plain": [
       "Epoch 417, Loss: 7.262059951044214e-05, Accuracy: 0.9137995126182313\n"
      ]
     },
     "metadata": {},
     "output_type": "display_data"
    },
    {
     "data": {
      "text/html": [
       "<pre style=\"white-space:pre;overflow-x:auto;line-height:normal;font-family:Menlo,'DejaVu Sans Mono',consolas,'Courier New',monospace\">Epoch 418, Loss: 7.232029904496354e-05, Accuracy: 0.9183015984469869\n",
       "</pre>\n"
      ],
      "text/plain": [
       "Epoch 418, Loss: 7.232029904496354e-05, Accuracy: 0.9183015984469869\n"
      ]
     },
     "metadata": {},
     "output_type": "display_data"
    },
    {
     "data": {
      "text/html": [
       "<pre style=\"white-space:pre;overflow-x:auto;line-height:normal;font-family:Menlo,'DejaVu Sans Mono',consolas,'Courier New',monospace\">Epoch 419, Loss: 7.235592248926158e-05, Accuracy: 0.9189211515426872\n",
       "</pre>\n"
      ],
      "text/plain": [
       "Epoch 419, Loss: 7.235592248926158e-05, Accuracy: 0.9189211515426872\n"
      ]
     },
     "metadata": {},
     "output_type": "display_data"
    },
    {
     "data": {
      "text/html": [
       "<pre style=\"white-space:pre;overflow-x:auto;line-height:normal;font-family:Menlo,'DejaVu Sans Mono',consolas,'Courier New',monospace\">Epoch 420, Loss: 7.232767238398722e-05, Accuracy: 0.9199950435752344\n",
       "</pre>\n"
      ],
      "text/plain": [
       "Epoch 420, Loss: 7.232767238398722e-05, Accuracy: 0.9199950435752344\n"
      ]
     },
     "metadata": {},
     "output_type": "display_data"
    },
    {
     "data": {
      "text/html": [
       "<pre style=\"white-space:pre;overflow-x:auto;line-height:normal;font-family:Menlo,'DejaVu Sans Mono',consolas,'Courier New',monospace\">Epoch 421, Loss: 7.242327221736536e-05, Accuracy: 0.9177233488909999\n",
       "</pre>\n"
      ],
      "text/plain": [
       "Epoch 421, Loss: 7.242327221736536e-05, Accuracy: 0.9177233488909999\n"
      ]
     },
     "metadata": {},
     "output_type": "display_data"
    },
    {
     "data": {
      "text/html": [
       "<pre style=\"white-space:pre;overflow-x:auto;line-height:normal;font-family:Menlo,'DejaVu Sans Mono',consolas,'Courier New',monospace\">Epoch 422, Loss: 7.217783234848232e-05, Accuracy: 0.9216471851637685\n",
       "</pre>\n"
      ],
      "text/plain": [
       "Epoch 422, Loss: 7.217783234848232e-05, Accuracy: 0.9216471851637685\n"
      ]
     },
     "metadata": {},
     "output_type": "display_data"
    },
    {
     "data": {
      "text/html": [
       "<pre style=\"white-space:pre;overflow-x:auto;line-height:normal;font-family:Menlo,'DejaVu Sans Mono',consolas,'Courier New',monospace\">Epoch 423, Loss: 7.227013079700877e-05, Accuracy: 0.9202428648135145\n",
       "</pre>\n"
      ],
      "text/plain": [
       "Epoch 423, Loss: 7.227013079700877e-05, Accuracy: 0.9202428648135145\n"
      ]
     },
     "metadata": {},
     "output_type": "display_data"
    },
    {
     "data": {
      "text/html": [
       "<pre style=\"white-space:pre;overflow-x:auto;line-height:normal;font-family:Menlo,'DejaVu Sans Mono',consolas,'Courier New',monospace\">Epoch 424, Loss: 7.212535731633215e-05, Accuracy: 0.9180950807484202\n",
       "</pre>\n"
      ],
      "text/plain": [
       "Epoch 424, Loss: 7.212535731633215e-05, Accuracy: 0.9180950807484202\n"
      ]
     },
     "metadata": {},
     "output_type": "display_data"
    },
    {
     "data": {
      "text/html": [
       "<pre style=\"white-space:pre;overflow-x:auto;line-height:normal;font-family:Menlo,'DejaVu Sans Mono',consolas,'Courier New',monospace\">Epoch 425, Loss: 7.223149893191376e-05, Accuracy: 0.9206972037503615\n",
       "</pre>\n"
      ],
      "text/plain": [
       "Epoch 425, Loss: 7.223149893191376e-05, Accuracy: 0.9206972037503615\n"
      ]
     },
     "metadata": {},
     "output_type": "display_data"
    },
    {
     "data": {
      "text/html": [
       "<pre style=\"white-space:pre;overflow-x:auto;line-height:normal;font-family:Menlo,'DejaVu Sans Mono',consolas,'Courier New',monospace\">Epoch 426, Loss: 7.224406438178917e-05, Accuracy: 0.9197472223369543\n",
       "</pre>\n"
      ],
      "text/plain": [
       "Epoch 426, Loss: 7.224406438178917e-05, Accuracy: 0.9197472223369543\n"
      ]
     },
     "metadata": {},
     "output_type": "display_data"
    },
    {
     "data": {
      "text/html": [
       "<pre style=\"white-space:pre;overflow-x:auto;line-height:normal;font-family:Menlo,'DejaVu Sans Mono',consolas,'Courier New',monospace\">Epoch 427, Loss: 7.21822341949512e-05, Accuracy: 0.9213580603857751\n",
       "</pre>\n"
      ],
      "text/plain": [
       "Epoch 427, Loss: 7.21822341949512e-05, Accuracy: 0.9213580603857751\n"
      ]
     },
     "metadata": {},
     "output_type": "display_data"
    },
    {
     "data": {
      "text/html": [
       "<pre style=\"white-space:pre;overflow-x:auto;line-height:normal;font-family:Menlo,'DejaVu Sans Mono',consolas,'Courier New',monospace\">Epoch 428, Loss: 7.212659318150407e-05, Accuracy: 0.9216471851637685\n",
       "</pre>\n"
      ],
      "text/plain": [
       "Epoch 428, Loss: 7.212659318150407e-05, Accuracy: 0.9216471851637685\n"
      ]
     },
     "metadata": {},
     "output_type": "display_data"
    },
    {
     "data": {
      "text/html": [
       "<pre style=\"white-space:pre;overflow-x:auto;line-height:normal;font-family:Menlo,'DejaVu Sans Mono',consolas,'Courier New',monospace\">Epoch 429, Loss: 7.201751700160987e-05, Accuracy: 0.9210689356077816\n",
       "</pre>\n"
      ],
      "text/plain": [
       "Epoch 429, Loss: 7.201751700160987e-05, Accuracy: 0.9210689356077816\n"
      ]
     },
     "metadata": {},
     "output_type": "display_data"
    },
    {
     "data": {
      "text/html": [
       "<pre style=\"white-space:pre;overflow-x:auto;line-height:normal;font-family:Menlo,'DejaVu Sans Mono',consolas,'Courier New',monospace\">Epoch 430, Loss: 7.218109926697461e-05, Accuracy: 0.9196646152575275\n",
       "</pre>\n"
      ],
      "text/plain": [
       "Epoch 430, Loss: 7.218109926697461e-05, Accuracy: 0.9196646152575275\n"
      ]
     },
     "metadata": {},
     "output_type": "display_data"
    },
    {
     "data": {
      "text/html": [
       "<pre style=\"white-space:pre;overflow-x:auto;line-height:normal;font-family:Menlo,'DejaVu Sans Mono',consolas,'Courier New',monospace\">Epoch 431, Loss: 7.187909764047252e-05, Accuracy: 0.9218537028623353\n",
       "</pre>\n"
      ],
      "text/plain": [
       "Epoch 431, Loss: 7.187909764047252e-05, Accuracy: 0.9218537028623353\n"
      ]
     },
     "metadata": {},
     "output_type": "display_data"
    },
    {
     "data": {
      "text/html": [
       "<pre style=\"white-space:pre;overflow-x:auto;line-height:normal;font-family:Menlo,'DejaVu Sans Mono',consolas,'Courier New',monospace\">Epoch 432, Loss: 7.193714391342755e-05, Accuracy: 0.9223906488786089\n",
       "</pre>\n"
      ],
      "text/plain": [
       "Epoch 432, Loss: 7.193714391342755e-05, Accuracy: 0.9223906488786089\n"
      ]
     },
     "metadata": {},
     "output_type": "display_data"
    },
    {
     "data": {
      "text/html": [
       "<pre style=\"white-space:pre;overflow-x:auto;line-height:normal;font-family:Menlo,'DejaVu Sans Mono',consolas,'Courier New',monospace\">Epoch 433, Loss: 7.201268678753159e-05, Accuracy: 0.9197472223369543\n",
       "</pre>\n"
      ],
      "text/plain": [
       "Epoch 433, Loss: 7.201268678753159e-05, Accuracy: 0.9197472223369543\n"
      ]
     },
     "metadata": {},
     "output_type": "display_data"
    },
    {
     "data": {
      "text/html": [
       "<pre style=\"white-space:pre;overflow-x:auto;line-height:normal;font-family:Menlo,'DejaVu Sans Mono',consolas,'Courier New',monospace\">Epoch 434, Loss: 7.184979631123719e-05, Accuracy: 0.9232580232125893\n",
       "</pre>\n"
      ],
      "text/plain": [
       "Epoch 434, Loss: 7.184979631123719e-05, Accuracy: 0.9232580232125893\n"
      ]
     },
     "metadata": {},
     "output_type": "display_data"
    },
    {
     "data": {
      "text/html": [
       "<pre style=\"white-space:pre;overflow-x:auto;line-height:normal;font-family:Menlo,'DejaVu Sans Mono',consolas,'Courier New',monospace\">Epoch 435, Loss: 7.195489655038907e-05, Accuracy: 0.9210689356077816\n",
       "</pre>\n"
      ],
      "text/plain": [
       "Epoch 435, Loss: 7.195489655038907e-05, Accuracy: 0.9210689356077816\n"
      ]
     },
     "metadata": {},
     "output_type": "display_data"
    },
    {
     "data": {
      "text/html": [
       "<pre style=\"white-space:pre;overflow-x:auto;line-height:normal;font-family:Menlo,'DejaVu Sans Mono',consolas,'Courier New',monospace\">Epoch 436, Loss: 7.181869288378305e-05, Accuracy: 0.9218950064020487\n",
       "</pre>\n"
      ],
      "text/plain": [
       "Epoch 436, Loss: 7.181869288378305e-05, Accuracy: 0.9218950064020487\n"
      ]
     },
     "metadata": {},
     "output_type": "display_data"
    },
    {
     "data": {
      "text/html": [
       "<pre style=\"white-space:pre;overflow-x:auto;line-height:normal;font-family:Menlo,'DejaVu Sans Mono',consolas,'Courier New',monospace\">Epoch 437, Loss: 7.175339636594496e-05, Accuracy: 0.9254471108173971\n",
       "</pre>\n"
      ],
      "text/plain": [
       "Epoch 437, Loss: 7.175339636594496e-05, Accuracy: 0.9254471108173971\n"
      ]
     },
     "metadata": {},
     "output_type": "display_data"
    },
    {
     "data": {
      "text/html": [
       "<pre style=\"white-space:pre;overflow-x:auto;line-height:normal;font-family:Menlo,'DejaVu Sans Mono',consolas,'Courier New',monospace\">Epoch 438, Loss: 7.173180319179582e-05, Accuracy: 0.9235471479905828\n",
       "</pre>\n"
      ],
      "text/plain": [
       "Epoch 438, Loss: 7.173180319179582e-05, Accuracy: 0.9235471479905828\n"
      ]
     },
     "metadata": {},
     "output_type": "display_data"
    },
    {
     "data": {
      "text/html": [
       "<pre style=\"white-space:pre;overflow-x:auto;line-height:normal;font-family:Menlo,'DejaVu Sans Mono',consolas,'Courier New',monospace\">Epoch 439, Loss: 7.16484561491759e-05, Accuracy: 0.9266449134690843\n",
       "</pre>\n"
      ],
      "text/plain": [
       "Epoch 439, Loss: 7.16484561491759e-05, Accuracy: 0.9266449134690843\n"
      ]
     },
     "metadata": {},
     "output_type": "display_data"
    },
    {
     "data": {
      "text/html": [
       "<pre style=\"white-space:pre;overflow-x:auto;line-height:normal;font-family:Menlo,'DejaVu Sans Mono',consolas,'Courier New',monospace\">Epoch 440, Loss: 7.159922834045554e-05, Accuracy: 0.9245797364834166\n",
       "</pre>\n"
      ],
      "text/plain": [
       "Epoch 440, Loss: 7.159922834045554e-05, Accuracy: 0.9245797364834166\n"
      ]
     },
     "metadata": {},
     "output_type": "display_data"
    },
    {
     "data": {
      "text/html": [
       "<pre style=\"white-space:pre;overflow-x:auto;line-height:normal;font-family:Menlo,'DejaVu Sans Mono',consolas,'Courier New',monospace\">Epoch 441, Loss: 7.165739278378557e-05, Accuracy: 0.9235471479905828\n",
       "</pre>\n"
      ],
      "text/plain": [
       "Epoch 441, Loss: 7.165739278378557e-05, Accuracy: 0.9235471479905828\n"
      ]
     },
     "metadata": {},
     "output_type": "display_data"
    },
    {
     "data": {
      "text/html": [
       "<pre style=\"white-space:pre;overflow-x:auto;line-height:normal;font-family:Menlo,'DejaVu Sans Mono',consolas,'Courier New',monospace\">Epoch 442, Loss: 7.162026020532342e-05, Accuracy: 0.9254884143571104\n",
       "</pre>\n"
      ],
      "text/plain": [
       "Epoch 442, Loss: 7.162026020532342e-05, Accuracy: 0.9254884143571104\n"
      ]
     },
     "metadata": {},
     "output_type": "display_data"
    },
    {
     "data": {
      "text/html": [
       "<pre style=\"white-space:pre;overflow-x:auto;line-height:normal;font-family:Menlo,'DejaVu Sans Mono',consolas,'Courier New',monospace\">Epoch 443, Loss: 7.164462792140234e-05, Accuracy: 0.9251166824996903\n",
       "</pre>\n"
      ],
      "text/plain": [
       "Epoch 443, Loss: 7.164462792140234e-05, Accuracy: 0.9251166824996903\n"
      ]
     },
     "metadata": {},
     "output_type": "display_data"
    },
    {
     "data": {
      "text/html": [
       "<pre style=\"white-space:pre;overflow-x:auto;line-height:normal;font-family:Menlo,'DejaVu Sans Mono',consolas,'Courier New',monospace\">Epoch 444, Loss: 7.16305090234722e-05, Accuracy: 0.9254471108173971\n",
       "</pre>\n"
      ],
      "text/plain": [
       "Epoch 444, Loss: 7.16305090234722e-05, Accuracy: 0.9254471108173971\n"
      ]
     },
     "metadata": {},
     "output_type": "display_data"
    },
    {
     "data": {
      "text/html": [
       "<pre style=\"white-space:pre;overflow-x:auto;line-height:normal;font-family:Menlo,'DejaVu Sans Mono',consolas,'Courier New',monospace\">Epoch 445, Loss: 7.160383698508069e-05, Accuracy: 0.9255710214365371\n",
       "</pre>\n"
      ],
      "text/plain": [
       "Epoch 445, Loss: 7.160383698508069e-05, Accuracy: 0.9255710214365371\n"
      ]
     },
     "metadata": {},
     "output_type": "display_data"
    },
    {
     "data": {
      "text/html": [
       "<pre style=\"white-space:pre;overflow-x:auto;line-height:normal;font-family:Menlo,'DejaVu Sans Mono',consolas,'Courier New',monospace\">Epoch 446, Loss: 7.1575092041361e-05, Accuracy: 0.9252405931188303\n",
       "</pre>\n"
      ],
      "text/plain": [
       "Epoch 446, Loss: 7.1575092041361e-05, Accuracy: 0.9252405931188303\n"
      ]
     },
     "metadata": {},
     "output_type": "display_data"
    },
    {
     "data": {
      "text/html": [
       "<pre style=\"white-space:pre;overflow-x:auto;line-height:normal;font-family:Menlo,'DejaVu Sans Mono',consolas,'Courier New',monospace\">Epoch 447, Loss: 7.156456010668878e-05, Accuracy: 0.9262318780719507\n",
       "</pre>\n"
      ],
      "text/plain": [
       "Epoch 447, Loss: 7.156456010668878e-05, Accuracy: 0.9262318780719507\n"
      ]
     },
     "metadata": {},
     "output_type": "display_data"
    },
    {
     "data": {
      "text/html": [
       "<pre style=\"white-space:pre;overflow-x:auto;line-height:normal;font-family:Menlo,'DejaVu Sans Mono',consolas,'Courier New',monospace\">Epoch 448, Loss: 7.135196175452556e-05, Accuracy: 0.9264796993102309\n",
       "</pre>\n"
      ],
      "text/plain": [
       "Epoch 448, Loss: 7.135196175452556e-05, Accuracy: 0.9264796993102309\n"
      ]
     },
     "metadata": {},
     "output_type": "display_data"
    },
    {
     "data": {
      "text/html": [
       "<pre style=\"white-space:pre;overflow-x:auto;line-height:normal;font-family:Menlo,'DejaVu Sans Mono',consolas,'Courier New',monospace\">Epoch 449, Loss: 7.138342215498753e-05, Accuracy: 0.9273470736442113\n",
       "</pre>\n"
      ],
      "text/plain": [
       "Epoch 449, Loss: 7.138342215498753e-05, Accuracy: 0.9273470736442113\n"
      ]
     },
     "metadata": {},
     "output_type": "display_data"
    },
    {
     "data": {
      "text/html": [
       "<pre style=\"white-space:pre;overflow-x:auto;line-height:normal;font-family:Menlo,'DejaVu Sans Mono',consolas,'Courier New',monospace\">Epoch 450, Loss: 7.125065281490505e-05, Accuracy: 0.9290405187724587\n",
       "</pre>\n"
      ],
      "text/plain": [
       "Epoch 450, Loss: 7.125065281490505e-05, Accuracy: 0.9290405187724587\n"
      ]
     },
     "metadata": {},
     "output_type": "display_data"
    },
    {
     "data": {
      "text/html": [
       "<pre style=\"white-space:pre;overflow-x:auto;line-height:normal;font-family:Menlo,'DejaVu Sans Mono',consolas,'Courier New',monospace\">Epoch 451, Loss: 7.13589165734711e-05, Accuracy: 0.9258188426748172\n",
       "</pre>\n"
      ],
      "text/plain": [
       "Epoch 451, Loss: 7.13589165734711e-05, Accuracy: 0.9258188426748172\n"
      ]
     },
     "metadata": {},
     "output_type": "display_data"
    },
    {
     "data": {
      "text/html": [
       "<pre style=\"white-space:pre;overflow-x:auto;line-height:normal;font-family:Menlo,'DejaVu Sans Mono',consolas,'Courier New',monospace\">Epoch 452, Loss: 7.133982713414235e-05, Accuracy: 0.9285035727561852\n",
       "</pre>\n"
      ],
      "text/plain": [
       "Epoch 452, Loss: 7.133982713414235e-05, Accuracy: 0.9285035727561852\n"
      ]
     },
     "metadata": {},
     "output_type": "display_data"
    },
    {
     "data": {
      "text/html": [
       "<pre style=\"white-space:pre;overflow-x:auto;line-height:normal;font-family:Menlo,'DejaVu Sans Mono',consolas,'Courier New',monospace\">Epoch 453, Loss: 7.125198469350666e-05, Accuracy: 0.928834001073892\n",
       "</pre>\n"
      ],
      "text/plain": [
       "Epoch 453, Loss: 7.125198469350666e-05, Accuracy: 0.928834001073892\n"
      ]
     },
     "metadata": {},
     "output_type": "display_data"
    },
    {
     "data": {
      "text/html": [
       "<pre style=\"white-space:pre;overflow-x:auto;line-height:normal;font-family:Menlo,'DejaVu Sans Mono',consolas,'Courier New',monospace\">Epoch 454, Loss: 7.134775932056448e-05, Accuracy: 0.927553591342778\n",
       "</pre>\n"
      ],
      "text/plain": [
       "Epoch 454, Loss: 7.134775932056448e-05, Accuracy: 0.927553591342778\n"
      ]
     },
     "metadata": {},
     "output_type": "display_data"
    },
    {
     "data": {
      "text/html": [
       "<pre style=\"white-space:pre;overflow-x:auto;line-height:normal;font-family:Menlo,'DejaVu Sans Mono',consolas,'Courier New',monospace\">Epoch 455, Loss: 7.119997003344245e-05, Accuracy: 0.927553591342778\n",
       "</pre>\n"
      ],
      "text/plain": [
       "Epoch 455, Loss: 7.119997003344245e-05, Accuracy: 0.927553591342778\n"
      ]
     },
     "metadata": {},
     "output_type": "display_data"
    },
    {
     "data": {
      "text/html": [
       "<pre style=\"white-space:pre;overflow-x:auto;line-height:normal;font-family:Menlo,'DejaVu Sans Mono',consolas,'Courier New',monospace\">Epoch 456, Loss: 7.128331215229674e-05, Accuracy: 0.927884019660485\n",
       "</pre>\n"
      ],
      "text/plain": [
       "Epoch 456, Loss: 7.128331215229674e-05, Accuracy: 0.927884019660485\n"
      ]
     },
     "metadata": {},
     "output_type": "display_data"
    },
    {
     "data": {
      "text/html": [
       "<pre style=\"white-space:pre;overflow-x:auto;line-height:normal;font-family:Menlo,'DejaVu Sans Mono',consolas,'Courier New',monospace\">Epoch 457, Loss: 7.115050096020646e-05, Accuracy: 0.9283796621370451\n",
       "</pre>\n"
      ],
      "text/plain": [
       "Epoch 457, Loss: 7.115050096020646e-05, Accuracy: 0.9283796621370451\n"
      ]
     },
     "metadata": {},
     "output_type": "display_data"
    },
    {
     "data": {
      "text/html": [
       "<pre style=\"white-space:pre;overflow-x:auto;line-height:normal;font-family:Menlo,'DejaVu Sans Mono',consolas,'Courier New',monospace\">Epoch 458, Loss: 7.118628442688732e-05, Accuracy: 0.9288753046136053\n",
       "</pre>\n"
      ],
      "text/plain": [
       "Epoch 458, Loss: 7.118628442688732e-05, Accuracy: 0.9288753046136053\n"
      ]
     },
     "metadata": {},
     "output_type": "display_data"
    },
    {
     "data": {
      "text/html": [
       "<pre style=\"white-space:pre;overflow-x:auto;line-height:normal;font-family:Menlo,'DejaVu Sans Mono',consolas,'Courier New',monospace\">Epoch 459, Loss: 7.109548526499373e-05, Accuracy: 0.9288753046136053\n",
       "</pre>\n"
      ],
      "text/plain": [
       "Epoch 459, Loss: 7.109548526499373e-05, Accuracy: 0.9288753046136053\n"
      ]
     },
     "metadata": {},
     "output_type": "display_data"
    },
    {
     "data": {
      "text/html": [
       "<pre style=\"white-space:pre;overflow-x:auto;line-height:normal;font-family:Menlo,'DejaVu Sans Mono',consolas,'Courier New',monospace\">Epoch 460, Loss: 7.106864089480534e-05, Accuracy: 0.9299491966461526\n",
       "</pre>\n"
      ],
      "text/plain": [
       "Epoch 460, Loss: 7.106864089480534e-05, Accuracy: 0.9299491966461526\n"
      ]
     },
     "metadata": {},
     "output_type": "display_data"
    },
    {
     "data": {
      "text/html": [
       "<pre style=\"white-space:pre;overflow-x:auto;line-height:normal;font-family:Menlo,'DejaVu Sans Mono',consolas,'Courier New',monospace\">Epoch 461, Loss: 7.113008456604173e-05, Accuracy: 0.9285448762958985\n",
       "</pre>\n"
      ],
      "text/plain": [
       "Epoch 461, Loss: 7.113008456604173e-05, Accuracy: 0.9285448762958985\n"
      ]
     },
     "metadata": {},
     "output_type": "display_data"
    },
    {
     "data": {
      "text/html": [
       "<pre style=\"white-space:pre;overflow-x:auto;line-height:normal;font-family:Menlo,'DejaVu Sans Mono',consolas,'Courier New',monospace\">Epoch 462, Loss: 7.085972059556412e-05, Accuracy: 0.9325926231878072\n",
       "</pre>\n"
      ],
      "text/plain": [
       "Epoch 462, Loss: 7.085972059556412e-05, Accuracy: 0.9325926231878072\n"
      ]
     },
     "metadata": {},
     "output_type": "display_data"
    },
    {
     "data": {
      "text/html": [
       "<pre style=\"white-space:pre;overflow-x:auto;line-height:normal;font-family:Menlo,'DejaVu Sans Mono',consolas,'Courier New',monospace\">Epoch 463, Loss: 7.083075654427411e-05, Accuracy: 0.9308578745198464\n",
       "</pre>\n"
      ],
      "text/plain": [
       "Epoch 463, Loss: 7.083075654427411e-05, Accuracy: 0.9308578745198464\n"
      ]
     },
     "metadata": {},
     "output_type": "display_data"
    },
    {
     "data": {
      "text/html": [
       "<pre style=\"white-space:pre;overflow-x:auto;line-height:normal;font-family:Menlo,'DejaVu Sans Mono',consolas,'Courier New',monospace\">Epoch 464, Loss: 7.093518222753535e-05, Accuracy: 0.9299905001858659\n",
       "</pre>\n"
      ],
      "text/plain": [
       "Epoch 464, Loss: 7.093518222753535e-05, Accuracy: 0.9299905001858659\n"
      ]
     },
     "metadata": {},
     "output_type": "display_data"
    },
    {
     "data": {
      "text/html": [
       "<pre style=\"white-space:pre;overflow-x:auto;line-height:normal;font-family:Menlo,'DejaVu Sans Mono',consolas,'Courier New',monospace\">Epoch 465, Loss: 7.095230954626246e-05, Accuracy: 0.9312296063772665\n",
       "</pre>\n"
      ],
      "text/plain": [
       "Epoch 465, Loss: 7.095230954626246e-05, Accuracy: 0.9312296063772665\n"
      ]
     },
     "metadata": {},
     "output_type": "display_data"
    },
    {
     "data": {
      "text/html": [
       "<pre style=\"white-space:pre;overflow-x:auto;line-height:normal;font-family:Menlo,'DejaVu Sans Mono',consolas,'Courier New',monospace\">Epoch 466, Loss: 7.095496591781725e-05, Accuracy: 0.9324274090289538\n",
       "</pre>\n"
      ],
      "text/plain": [
       "Epoch 466, Loss: 7.095496591781725e-05, Accuracy: 0.9324274090289538\n"
      ]
     },
     "metadata": {},
     "output_type": "display_data"
    },
    {
     "data": {
      "text/html": [
       "<pre style=\"white-space:pre;overflow-x:auto;line-height:normal;font-family:Menlo,'DejaVu Sans Mono',consolas,'Courier New',monospace\">Epoch 467, Loss: 7.083133508673507e-05, Accuracy: 0.9326339267275205\n",
       "</pre>\n"
      ],
      "text/plain": [
       "Epoch 467, Loss: 7.083133508673507e-05, Accuracy: 0.9326339267275205\n"
      ]
     },
     "metadata": {},
     "output_type": "display_data"
    },
    {
     "data": {
      "text/html": [
       "<pre style=\"white-space:pre;overflow-x:auto;line-height:normal;font-family:Menlo,'DejaVu Sans Mono',consolas,'Courier New',monospace\">Epoch 468, Loss: 7.093938466149641e-05, Accuracy: 0.9294948577093057\n",
       "</pre>\n"
      ],
      "text/plain": [
       "Epoch 468, Loss: 7.093938466149641e-05, Accuracy: 0.9294948577093057\n"
      ]
     },
     "metadata": {},
     "output_type": "display_data"
    },
    {
     "data": {
      "text/html": [
       "<pre style=\"white-space:pre;overflow-x:auto;line-height:normal;font-family:Menlo,'DejaVu Sans Mono',consolas,'Courier New',monospace\">Epoch 469, Loss: 7.079494107311668e-05, Accuracy: 0.9311469992978398\n",
       "</pre>\n"
      ],
      "text/plain": [
       "Epoch 469, Loss: 7.079494107311668e-05, Accuracy: 0.9311469992978398\n"
      ]
     },
     "metadata": {},
     "output_type": "display_data"
    },
    {
     "data": {
      "text/html": [
       "<pre style=\"white-space:pre;overflow-x:auto;line-height:normal;font-family:Menlo,'DejaVu Sans Mono',consolas,'Courier New',monospace\">Epoch 470, Loss: 7.075354451362313e-05, Accuracy: 0.9318904630126802\n",
       "</pre>\n"
      ],
      "text/plain": [
       "Epoch 470, Loss: 7.075354451362313e-05, Accuracy: 0.9318904630126802\n"
      ]
     },
     "metadata": {},
     "output_type": "display_data"
    },
    {
     "data": {
      "text/html": [
       "<pre style=\"white-space:pre;overflow-x:auto;line-height:normal;font-family:Menlo,'DejaVu Sans Mono',consolas,'Courier New',monospace\">Epoch 471, Loss: 7.077949768223336e-05, Accuracy: 0.9323034984098137\n",
       "</pre>\n"
      ],
      "text/plain": [
       "Epoch 471, Loss: 7.077949768223336e-05, Accuracy: 0.9323034984098137\n"
      ]
     },
     "metadata": {},
     "output_type": "display_data"
    },
    {
     "data": {
      "text/html": [
       "<pre style=\"white-space:pre;overflow-x:auto;line-height:normal;font-family:Menlo,'DejaVu Sans Mono',consolas,'Courier New',monospace\">Epoch 472, Loss: 7.079948817067151e-05, Accuracy: 0.9312709099169799\n",
       "</pre>\n"
      ],
      "text/plain": [
       "Epoch 472, Loss: 7.079948817067151e-05, Accuracy: 0.9312709099169799\n"
      ]
     },
     "metadata": {},
     "output_type": "display_data"
    },
    {
     "data": {
      "text/html": [
       "<pre style=\"white-space:pre;overflow-x:auto;line-height:normal;font-family:Menlo,'DejaVu Sans Mono',consolas,'Courier New',monospace\">Epoch 473, Loss: 7.079671609062456e-05, Accuracy: 0.9327578373466606\n",
       "</pre>\n"
      ],
      "text/plain": [
       "Epoch 473, Loss: 7.079671609062456e-05, Accuracy: 0.9327578373466606\n"
      ]
     },
     "metadata": {},
     "output_type": "display_data"
    },
    {
     "data": {
      "text/html": [
       "<pre style=\"white-space:pre;overflow-x:auto;line-height:normal;font-family:Menlo,'DejaVu Sans Mono',consolas,'Courier New',monospace\">Epoch 474, Loss: 7.066044102941697e-05, Accuracy: 0.9334599975217877\n",
       "</pre>\n"
      ],
      "text/plain": [
       "Epoch 474, Loss: 7.066044102941697e-05, Accuracy: 0.9334599975217877\n"
      ]
     },
     "metadata": {},
     "output_type": "display_data"
    },
    {
     "data": {
      "text/html": [
       "<pre style=\"white-space:pre;overflow-x:auto;line-height:normal;font-family:Menlo,'DejaVu Sans Mono',consolas,'Courier New',monospace\">Epoch 475, Loss: 7.067115021965169e-05, Accuracy: 0.9332947833629343\n",
       "</pre>\n"
      ],
      "text/plain": [
       "Epoch 475, Loss: 7.067115021965169e-05, Accuracy: 0.9332947833629343\n"
      ]
     },
     "metadata": {},
     "output_type": "display_data"
    },
    {
     "data": {
      "text/html": [
       "<pre style=\"white-space:pre;overflow-x:auto;line-height:normal;font-family:Menlo,'DejaVu Sans Mono',consolas,'Courier New',monospace\">Epoch 476, Loss: 7.058565395333639e-05, Accuracy: 0.9345338895543348\n",
       "</pre>\n"
      ],
      "text/plain": [
       "Epoch 476, Loss: 7.058565395333639e-05, Accuracy: 0.9345338895543348\n"
      ]
     },
     "metadata": {},
     "output_type": "display_data"
    },
    {
     "data": {
      "text/html": [
       "<pre style=\"white-space:pre;overflow-x:auto;line-height:normal;font-family:Menlo,'DejaVu Sans Mono',consolas,'Courier New',monospace\">Epoch 477, Loss: 7.054739383254607e-05, Accuracy: 0.936309941762009\n",
       "</pre>\n"
      ],
      "text/plain": [
       "Epoch 477, Loss: 7.054739383254607e-05, Accuracy: 0.936309941762009\n"
      ]
     },
     "metadata": {},
     "output_type": "display_data"
    },
    {
     "data": {
      "text/html": [
       "<pre style=\"white-space:pre;overflow-x:auto;line-height:normal;font-family:Menlo,'DejaVu Sans Mono',consolas,'Courier New',monospace\">Epoch 478, Loss: 7.059371169578196e-05, Accuracy: 0.9327578373466606\n",
       "</pre>\n"
      ],
      "text/plain": [
       "Epoch 478, Loss: 7.059371169578196e-05, Accuracy: 0.9327578373466606\n"
      ]
     },
     "metadata": {},
     "output_type": "display_data"
    },
    {
     "data": {
      "text/html": [
       "<pre style=\"white-space:pre;overflow-x:auto;line-height:normal;font-family:Menlo,'DejaVu Sans Mono',consolas,'Courier New',monospace\">Epoch 479, Loss: 7.066367101966707e-05, Accuracy: 0.9336665152203544\n",
       "</pre>\n"
      ],
      "text/plain": [
       "Epoch 479, Loss: 7.066367101966707e-05, Accuracy: 0.9336665152203544\n"
      ]
     },
     "metadata": {},
     "output_type": "display_data"
    },
    {
     "data": {
      "text/html": [
       "<pre style=\"white-space:pre;overflow-x:auto;line-height:normal;font-family:Menlo,'DejaVu Sans Mono',consolas,'Courier New',monospace\">Epoch 480, Loss: 7.053869846245204e-05, Accuracy: 0.9332534798232208\n",
       "</pre>\n"
      ],
      "text/plain": [
       "Epoch 480, Loss: 7.053869846245204e-05, Accuracy: 0.9332534798232208\n"
      ]
     },
     "metadata": {},
     "output_type": "display_data"
    },
    {
     "data": {
      "text/html": [
       "<pre style=\"white-space:pre;overflow-x:auto;line-height:normal;font-family:Menlo,'DejaVu Sans Mono',consolas,'Courier New',monospace\">Epoch 481, Loss: 7.045354439784768e-05, Accuracy: 0.9339969435380612\n",
       "</pre>\n"
      ],
      "text/plain": [
       "Epoch 481, Loss: 7.045354439784768e-05, Accuracy: 0.9339969435380612\n"
      ]
     },
     "metadata": {},
     "output_type": "display_data"
    },
    {
     "data": {
      "text/html": [
       "<pre style=\"white-space:pre;overflow-x:auto;line-height:normal;font-family:Menlo,'DejaVu Sans Mono',consolas,'Courier New',monospace\">Epoch 482, Loss: 7.041909527165124e-05, Accuracy: 0.9363512453017223\n",
       "</pre>\n"
      ],
      "text/plain": [
       "Epoch 482, Loss: 7.041909527165124e-05, Accuracy: 0.9363512453017223\n"
      ]
     },
     "metadata": {},
     "output_type": "display_data"
    },
    {
     "data": {
      "text/html": [
       "<pre style=\"white-space:pre;overflow-x:auto;line-height:normal;font-family:Menlo,'DejaVu Sans Mono',consolas,'Courier New',monospace\">Epoch 483, Loss: 7.043526491796427e-05, Accuracy: 0.9347404072529015\n",
       "</pre>\n"
      ],
      "text/plain": [
       "Epoch 483, Loss: 7.043526491796427e-05, Accuracy: 0.9347404072529015\n"
      ]
     },
     "metadata": {},
     "output_type": "display_data"
    },
    {
     "data": {
      "text/html": [
       "<pre style=\"white-space:pre;overflow-x:auto;line-height:normal;font-family:Menlo,'DejaVu Sans Mono',consolas,'Courier New',monospace\">Epoch 484, Loss: 7.029895539039731e-05, Accuracy: 0.9355664780471686\n",
       "</pre>\n"
      ],
      "text/plain": [
       "Epoch 484, Loss: 7.029895539039731e-05, Accuracy: 0.9355664780471686\n"
      ]
     },
     "metadata": {},
     "output_type": "display_data"
    },
    {
     "data": {
      "text/html": [
       "<pre style=\"white-space:pre;overflow-x:auto;line-height:normal;font-family:Menlo,'DejaVu Sans Mono',consolas,'Courier New',monospace\">Epoch 485, Loss: 7.035383568205536e-05, Accuracy: 0.9367642806988559\n",
       "</pre>\n"
      ],
      "text/plain": [
       "Epoch 485, Loss: 7.035383568205536e-05, Accuracy: 0.9367642806988559\n"
      ]
     },
     "metadata": {},
     "output_type": "display_data"
    },
    {
     "data": {
      "text/html": [
       "<pre style=\"white-space:pre;overflow-x:auto;line-height:normal;font-family:Menlo,'DejaVu Sans Mono',consolas,'Courier New',monospace\">Epoch 486, Loss: 7.032551664406224e-05, Accuracy: 0.9380033868902565\n",
       "</pre>\n"
      ],
      "text/plain": [
       "Epoch 486, Loss: 7.032551664406224e-05, Accuracy: 0.9380033868902565\n"
      ]
     },
     "metadata": {},
     "output_type": "display_data"
    },
    {
     "data": {
      "text/html": [
       "<pre style=\"white-space:pre;overflow-x:auto;line-height:normal;font-family:Menlo,'DejaVu Sans Mono',consolas,'Courier New',monospace\">Epoch 487, Loss: 7.02907179305064e-05, Accuracy: 0.9365990665400025\n",
       "</pre>\n"
      ],
      "text/plain": [
       "Epoch 487, Loss: 7.02907179305064e-05, Accuracy: 0.9365990665400025\n"
      ]
     },
     "metadata": {},
     "output_type": "display_data"
    },
    {
     "data": {
      "text/html": [
       "<pre style=\"white-space:pre;overflow-x:auto;line-height:normal;font-family:Menlo,'DejaVu Sans Mono',consolas,'Courier New',monospace\">Epoch 488, Loss: 7.030820960788979e-05, Accuracy: 0.934781710792615\n",
       "</pre>\n"
      ],
      "text/plain": [
       "Epoch 488, Loss: 7.030820960788979e-05, Accuracy: 0.934781710792615\n"
      ]
     },
     "metadata": {},
     "output_type": "display_data"
    },
    {
     "data": {
      "text/html": [
       "<pre style=\"white-space:pre;overflow-x:auto;line-height:normal;font-family:Menlo,'DejaVu Sans Mono',consolas,'Courier New',monospace\">Epoch 489, Loss: 7.023229498948106e-05, Accuracy: 0.9378381727314031\n",
       "</pre>\n"
      ],
      "text/plain": [
       "Epoch 489, Loss: 7.023229498948106e-05, Accuracy: 0.9378381727314031\n"
      ]
     },
     "metadata": {},
     "output_type": "display_data"
    },
    {
     "data": {
      "text/html": [
       "<pre style=\"white-space:pre;overflow-x:auto;line-height:normal;font-family:Menlo,'DejaVu Sans Mono',consolas,'Courier New',monospace\">Epoch 490, Loss: 7.019923436519092e-05, Accuracy: 0.9358969063648754\n",
       "</pre>\n"
      ],
      "text/plain": [
       "Epoch 490, Loss: 7.019923436519092e-05, Accuracy: 0.9358969063648754\n"
      ]
     },
     "metadata": {},
     "output_type": "display_data"
    },
    {
     "data": {
      "text/html": [
       "<pre style=\"white-space:pre;overflow-x:auto;line-height:normal;font-family:Menlo,'DejaVu Sans Mono',consolas,'Courier New',monospace\">Epoch 491, Loss: 7.026270662786486e-05, Accuracy: 0.9355251745074553\n",
       "</pre>\n"
      ],
      "text/plain": [
       "Epoch 491, Loss: 7.026270662786486e-05, Accuracy: 0.9355251745074553\n"
      ]
     },
     "metadata": {},
     "output_type": "display_data"
    },
    {
     "data": {
      "text/html": [
       "<pre style=\"white-space:pre;overflow-x:auto;line-height:normal;font-family:Menlo,'DejaVu Sans Mono',consolas,'Courier New',monospace\">Epoch 493, Loss: 7.011096109506302e-05, Accuracy: 0.9390359753830904\n",
       "</pre>\n"
      ],
      "text/plain": [
       "Epoch 493, Loss: 7.011096109506302e-05, Accuracy: 0.9390359753830904\n"
      ]
     },
     "metadata": {},
     "output_type": "display_data"
    },
    {
     "data": {
      "text/html": [
       "<pre style=\"white-space:pre;overflow-x:auto;line-height:normal;font-family:Menlo,'DejaVu Sans Mono',consolas,'Courier New',monospace\">Epoch 494, Loss: 7.020673572212085e-05, Accuracy: 0.9360621205237288\n",
       "</pre>\n"
      ],
      "text/plain": [
       "Epoch 494, Loss: 7.020673572212085e-05, Accuracy: 0.9360621205237288\n"
      ]
     },
     "metadata": {},
     "output_type": "display_data"
    },
    {
     "data": {
      "text/html": [
       "<pre style=\"white-space:pre;overflow-x:auto;line-height:normal;font-family:Menlo,'DejaVu Sans Mono',consolas,'Courier New',monospace\">Epoch 495, Loss: 7.020918037175374e-05, Accuracy: 0.9365990665400025\n",
       "</pre>\n"
      ],
      "text/plain": [
       "Epoch 495, Loss: 7.020918037175374e-05, Accuracy: 0.9365990665400025\n"
      ]
     },
     "metadata": {},
     "output_type": "display_data"
    },
    {
     "data": {
      "text/html": [
       "<pre style=\"white-space:pre;overflow-x:auto;line-height:normal;font-family:Menlo,'DejaVu Sans Mono',consolas,'Courier New',monospace\">Epoch 496, Loss: 7.011341805410998e-05, Accuracy: 0.9365164594605758\n",
       "</pre>\n"
      ],
      "text/plain": [
       "Epoch 496, Loss: 7.011341805410998e-05, Accuracy: 0.9365164594605758\n"
      ]
     },
     "metadata": {},
     "output_type": "display_data"
    },
    {
     "data": {
      "text/html": [
       "<pre style=\"white-space:pre;overflow-x:auto;line-height:normal;font-family:Menlo,'DejaVu Sans Mono',consolas,'Courier New',monospace\">Epoch 497, Loss: 7.013082356559492e-05, Accuracy: 0.9355251745074553\n",
       "</pre>\n"
      ],
      "text/plain": [
       "Epoch 497, Loss: 7.013082356559492e-05, Accuracy: 0.9355251745074553\n"
      ]
     },
     "metadata": {},
     "output_type": "display_data"
    },
    {
     "data": {
      "text/html": [
       "<pre style=\"white-space:pre;overflow-x:auto;line-height:normal;font-family:Menlo,'DejaVu Sans Mono',consolas,'Courier New',monospace\">Epoch 498, Loss: 7.008365635278869e-05, Accuracy: 0.937714262112263\n",
       "</pre>\n"
      ],
      "text/plain": [
       "Epoch 498, Loss: 7.008365635278869e-05, Accuracy: 0.937714262112263\n"
      ]
     },
     "metadata": {},
     "output_type": "display_data"
    },
    {
     "data": {
      "text/html": [
       "<pre style=\"white-space:pre;overflow-x:auto;line-height:normal;font-family:Menlo,'DejaVu Sans Mono',consolas,'Courier New',monospace\">Epoch 499, Loss: 7.002225207167731e-05, Accuracy: 0.9367642806988559\n",
       "</pre>\n"
      ],
      "text/plain": [
       "Epoch 499, Loss: 7.002225207167731e-05, Accuracy: 0.9367642806988559\n"
      ]
     },
     "metadata": {},
     "output_type": "display_data"
    },
    {
     "data": {
      "text/html": [
       "<pre style=\"white-space:pre;overflow-x:auto;line-height:normal;font-family:Menlo,'DejaVu Sans Mono',consolas,'Courier New',monospace\">Epoch 500, Loss: 7.008402563521058e-05, Accuracy: 0.9371773160959894\n",
       "</pre>\n"
      ],
      "text/plain": [
       "Epoch 500, Loss: 7.008402563521058e-05, Accuracy: 0.9371773160959894\n"
      ]
     },
     "metadata": {},
     "output_type": "display_data"
    },
    {
     "data": {
      "text/html": [
       "<pre style=\"white-space:pre;overflow-x:auto;line-height:normal;font-family:Menlo,'DejaVu Sans Mono',consolas,'Courier New',monospace\">Epoch 501, Loss: 6.991593320053319e-05, Accuracy: 0.9384990293668167\n",
       "</pre>\n"
      ],
      "text/plain": [
       "Epoch 501, Loss: 6.991593320053319e-05, Accuracy: 0.9384990293668167\n"
      ]
     },
     "metadata": {},
     "output_type": "display_data"
    },
    {
     "data": {
      "text/html": [
       "<pre style=\"white-space:pre;overflow-x:auto;line-height:normal;font-family:Menlo,'DejaVu Sans Mono',consolas,'Courier New',monospace\">Epoch 502, Loss: 6.997285193116006e-05, Accuracy: 0.9373012267151295\n",
       "</pre>\n"
      ],
      "text/plain": [
       "Epoch 502, Loss: 6.997285193116006e-05, Accuracy: 0.9373012267151295\n"
      ]
     },
     "metadata": {},
     "output_type": "display_data"
    },
    {
     "data": {
      "text/html": [
       "<pre style=\"white-space:pre;overflow-x:auto;line-height:normal;font-family:Menlo,'DejaVu Sans Mono',consolas,'Courier New',monospace\">Epoch 503, Loss: 6.997369143319915e-05, Accuracy: 0.9379620833505431\n",
       "</pre>\n"
      ],
      "text/plain": [
       "Epoch 503, Loss: 6.997369143319915e-05, Accuracy: 0.9379620833505431\n"
      ]
     },
     "metadata": {},
     "output_type": "display_data"
    },
    {
     "data": {
      "text/html": [
       "<pre style=\"white-space:pre;overflow-x:auto;line-height:normal;font-family:Menlo,'DejaVu Sans Mono',consolas,'Courier New',monospace\">Epoch 504, Loss: 6.988279871975867e-05, Accuracy: 0.9398620461773574\n",
       "</pre>\n"
      ],
      "text/plain": [
       "Epoch 504, Loss: 6.988279871975867e-05, Accuracy: 0.9398620461773574\n"
      ]
     },
     "metadata": {},
     "output_type": "display_data"
    },
    {
     "data": {
      "text/html": [
       "<pre style=\"white-space:pre;overflow-x:auto;line-height:normal;font-family:Menlo,'DejaVu Sans Mono',consolas,'Courier New',monospace\">Epoch 505, Loss: 6.98561316051328e-05, Accuracy: 0.9403576886539177\n",
       "</pre>\n"
      ],
      "text/plain": [
       "Epoch 505, Loss: 6.98561316051328e-05, Accuracy: 0.9403576886539177\n"
      ]
     },
     "metadata": {},
     "output_type": "display_data"
    },
    {
     "data": {
      "text/html": [
       "<pre style=\"white-space:pre;overflow-x:auto;line-height:normal;font-family:Menlo,'DejaVu Sans Mono',consolas,'Courier New',monospace\">Epoch 506, Loss: 6.988463036057123e-05, Accuracy: 0.9389946718433769\n",
       "</pre>\n"
      ],
      "text/plain": [
       "Epoch 506, Loss: 6.988463036057123e-05, Accuracy: 0.9389946718433769\n"
      ]
     },
     "metadata": {},
     "output_type": "display_data"
    },
    {
     "data": {
      "text/html": [
       "<pre style=\"white-space:pre;overflow-x:auto;line-height:normal;font-family:Menlo,'DejaVu Sans Mono',consolas,'Courier New',monospace\">Epoch 507, Loss: 6.98329234358586e-05, Accuracy: 0.9406881169716245\n",
       "</pre>\n"
      ],
      "text/plain": [
       "Epoch 507, Loss: 6.98329234358586e-05, Accuracy: 0.9406881169716245\n"
      ]
     },
     "metadata": {},
     "output_type": "display_data"
    },
    {
     "data": {
      "text/html": [
       "<pre style=\"white-space:pre;overflow-x:auto;line-height:normal;font-family:Menlo,'DejaVu Sans Mono',consolas,'Courier New',monospace\">Epoch 508, Loss: 6.98544895292968e-05, Accuracy: 0.9393251001610838\n",
       "</pre>\n"
      ],
      "text/plain": [
       "Epoch 508, Loss: 6.98544895292968e-05, Accuracy: 0.9393251001610838\n"
      ]
     },
     "metadata": {},
     "output_type": "display_data"
    },
    {
     "data": {
      "text/html": [
       "<pre style=\"white-space:pre;overflow-x:auto;line-height:normal;font-family:Menlo,'DejaVu Sans Mono',consolas,'Courier New',monospace\">Epoch 509, Loss: 6.984933188480444e-05, Accuracy: 0.9395729213993639\n",
       "</pre>\n"
      ],
      "text/plain": [
       "Epoch 509, Loss: 6.984933188480444e-05, Accuracy: 0.9395729213993639\n"
      ]
     },
     "metadata": {},
     "output_type": "display_data"
    },
    {
     "data": {
      "text/html": [
       "<pre style=\"white-space:pre;overflow-x:auto;line-height:normal;font-family:Menlo,'DejaVu Sans Mono',consolas,'Courier New',monospace\">Epoch 510, Loss: 6.965472251035276e-05, Accuracy: 0.9392837966213704\n",
       "</pre>\n"
      ],
      "text/plain": [
       "Epoch 510, Loss: 6.965472251035276e-05, Accuracy: 0.9392837966213704\n"
      ]
     },
     "metadata": {},
     "output_type": "display_data"
    },
    {
     "data": {
      "text/html": [
       "<pre style=\"white-space:pre;overflow-x:auto;line-height:normal;font-family:Menlo,'DejaVu Sans Mono',consolas,'Courier New',monospace\">Epoch 511, Loss: 6.969644403837756e-05, Accuracy: 0.9408533311304779\n",
       "</pre>\n"
      ],
      "text/plain": [
       "Epoch 511, Loss: 6.969644403837756e-05, Accuracy: 0.9408533311304779\n"
      ]
     },
     "metadata": {},
     "output_type": "display_data"
    },
    {
     "data": {
      "text/html": [
       "<pre style=\"white-space:pre;overflow-x:auto;line-height:normal;font-family:Menlo,'DejaVu Sans Mono',consolas,'Courier New',monospace\">Epoch 512, Loss: 6.966587483949375e-05, Accuracy: 0.9407707240510512\n",
       "</pre>\n"
      ],
      "text/plain": [
       "Epoch 512, Loss: 6.966587483949375e-05, Accuracy: 0.9407707240510512\n"
      ]
     },
     "metadata": {},
     "output_type": "display_data"
    },
    {
     "data": {
      "text/html": [
       "<pre style=\"white-space:pre;overflow-x:auto;line-height:normal;font-family:Menlo,'DejaVu Sans Mono',consolas,'Courier New',monospace\">Epoch 513, Loss: 6.965915882318103e-05, Accuracy: 0.9410598488290447\n",
       "</pre>\n"
      ],
      "text/plain": [
       "Epoch 513, Loss: 6.965915882318103e-05, Accuracy: 0.9410598488290447\n"
      ]
     },
     "metadata": {},
     "output_type": "display_data"
    },
    {
     "data": {
      "text/html": [
       "<pre style=\"white-space:pre;overflow-x:auto;line-height:normal;font-family:Menlo,'DejaVu Sans Mono',consolas,'Courier New',monospace\">Epoch 514, Loss: 6.96172378826484e-05, Accuracy: 0.9420098302424518\n",
       "</pre>\n"
      ],
      "text/plain": [
       "Epoch 514, Loss: 6.96172378826484e-05, Accuracy: 0.9420098302424518\n"
      ]
     },
     "metadata": {},
     "output_type": "display_data"
    },
    {
     "data": {
      "text/html": [
       "<pre style=\"white-space:pre;overflow-x:auto;line-height:normal;font-family:Menlo,'DejaVu Sans Mono',consolas,'Courier New',monospace\">Epoch 515, Loss: 6.964199703809453e-05, Accuracy: 0.9419685267027385\n",
       "</pre>\n"
      ],
      "text/plain": [
       "Epoch 515, Loss: 6.964199703809453e-05, Accuracy: 0.9419685267027385\n"
      ]
     },
     "metadata": {},
     "output_type": "display_data"
    },
    {
     "data": {
      "text/html": [
       "<pre style=\"white-space:pre;overflow-x:auto;line-height:normal;font-family:Menlo,'DejaVu Sans Mono',consolas,'Courier New',monospace\">Epoch 516, Loss: 6.948813428607386e-05, Accuracy: 0.9422576514807319\n",
       "</pre>\n"
      ],
      "text/plain": [
       "Epoch 516, Loss: 6.948813428607386e-05, Accuracy: 0.9422576514807319\n"
      ]
     },
     "metadata": {},
     "output_type": "display_data"
    },
    {
     "data": {
      "text/html": [
       "<pre style=\"white-space:pre;overflow-x:auto;line-height:normal;font-family:Menlo,'DejaVu Sans Mono',consolas,'Courier New',monospace\">Epoch 517, Loss: 6.962151417309386e-05, Accuracy: 0.9392837966213704\n",
       "</pre>\n"
      ],
      "text/plain": [
       "Epoch 517, Loss: 6.962151417309386e-05, Accuracy: 0.9392837966213704\n"
      ]
     },
     "metadata": {},
     "output_type": "display_data"
    },
    {
     "data": {
      "text/html": [
       "<pre style=\"white-space:pre;overflow-x:auto;line-height:normal;font-family:Menlo,'DejaVu Sans Mono',consolas,'Courier New',monospace\">Epoch 518, Loss: 6.961077051649976e-05, Accuracy: 0.9408946346701912\n",
       "</pre>\n"
      ],
      "text/plain": [
       "Epoch 518, Loss: 6.961077051649976e-05, Accuracy: 0.9408946346701912\n"
      ]
     },
     "metadata": {},
     "output_type": "display_data"
    },
    {
     "data": {
      "text/html": [
       "<pre style=\"white-space:pre;overflow-x:auto;line-height:normal;font-family:Menlo,'DejaVu Sans Mono',consolas,'Courier New',monospace\">Epoch 519, Loss: 6.9471292545753e-05, Accuracy: 0.9412663665276114\n",
       "</pre>\n"
      ],
      "text/plain": [
       "Epoch 519, Loss: 6.9471292545753e-05, Accuracy: 0.9412663665276114\n"
      ]
     },
     "metadata": {},
     "output_type": "display_data"
    },
    {
     "data": {
      "text/html": [
       "<pre style=\"white-space:pre;overflow-x:auto;line-height:normal;font-family:Menlo,'DejaVu Sans Mono',consolas,'Courier New',monospace\">Epoch 520, Loss: 6.930917017689612e-05, Accuracy: 0.9431663293544257\n",
       "</pre>\n"
      ],
      "text/plain": [
       "Epoch 520, Loss: 6.930917017689612e-05, Accuracy: 0.9431663293544257\n"
      ]
     },
     "metadata": {},
     "output_type": "display_data"
    },
    {
     "data": {
      "text/html": [
       "<pre style=\"white-space:pre;overflow-x:auto;line-height:normal;font-family:Menlo,'DejaVu Sans Mono',consolas,'Courier New',monospace\">Epoch 521, Loss: 6.950767424995731e-05, Accuracy: 0.9416380983850317\n",
       "</pre>\n"
      ],
      "text/plain": [
       "Epoch 521, Loss: 6.950767424995731e-05, Accuracy: 0.9416380983850317\n"
      ]
     },
     "metadata": {},
     "output_type": "display_data"
    },
    {
     "data": {
      "text/html": [
       "<pre style=\"white-space:pre;overflow-x:auto;line-height:normal;font-family:Menlo,'DejaVu Sans Mono',consolas,'Courier New',monospace\">Epoch 522, Loss: 6.943787987222065e-05, Accuracy: 0.9423402585601586\n",
       "</pre>\n"
      ],
      "text/plain": [
       "Epoch 522, Loss: 6.943787987222065e-05, Accuracy: 0.9423402585601586\n"
      ]
     },
     "metadata": {},
     "output_type": "display_data"
    },
    {
     "data": {
      "text/html": [
       "<pre style=\"white-space:pre;overflow-x:auto;line-height:normal;font-family:Menlo,'DejaVu Sans Mono',consolas,'Courier New',monospace\">Epoch 523, Loss: 6.945554388140091e-05, Accuracy: 0.9421750444013052\n",
       "</pre>\n"
      ],
      "text/plain": [
       "Epoch 523, Loss: 6.945554388140091e-05, Accuracy: 0.9421750444013052\n"
      ]
     },
     "metadata": {},
     "output_type": "display_data"
    },
    {
     "data": {
      "text/html": [
       "<pre style=\"white-space:pre;overflow-x:auto;line-height:normal;font-family:Menlo,'DejaVu Sans Mono',consolas,'Courier New',monospace\">Epoch 524, Loss: 6.942942330475944e-05, Accuracy: 0.9427119904175788\n",
       "</pre>\n"
      ],
      "text/plain": [
       "Epoch 524, Loss: 6.942942330475944e-05, Accuracy: 0.9427119904175788\n"
      ]
     },
     "metadata": {},
     "output_type": "display_data"
    },
    {
     "data": {
      "text/html": [
       "<pre style=\"white-space:pre;overflow-x:auto;line-height:normal;font-family:Menlo,'DejaVu Sans Mono',consolas,'Courier New',monospace\">Epoch 525, Loss: 6.956237482417004e-05, Accuracy: 0.9411837594481847\n",
       "</pre>\n"
      ],
      "text/plain": [
       "Epoch 525, Loss: 6.956237482417004e-05, Accuracy: 0.9411837594481847\n"
      ]
     },
     "metadata": {},
     "output_type": "display_data"
    },
    {
     "data": {
      "text/html": [
       "<pre style=\"white-space:pre;overflow-x:auto;line-height:normal;font-family:Menlo,'DejaVu Sans Mono',consolas,'Courier New',monospace\">Epoch 526, Loss: 6.930960100638833e-05, Accuracy: 0.9432489364338524\n",
       "</pre>\n"
      ],
      "text/plain": [
       "Epoch 526, Loss: 6.930960100638833e-05, Accuracy: 0.9432489364338524\n"
      ]
     },
     "metadata": {},
     "output_type": "display_data"
    },
    {
     "data": {
      "text/html": [
       "<pre style=\"white-space:pre;overflow-x:auto;line-height:normal;font-family:Menlo,'DejaVu Sans Mono',consolas,'Courier New',monospace\">Epoch 527, Loss: 6.935189369122564e-05, Accuracy: 0.9436619718309859\n",
       "</pre>\n"
      ],
      "text/plain": [
       "Epoch 527, Loss: 6.935189369122564e-05, Accuracy: 0.9436619718309859\n"
      ]
     },
     "metadata": {},
     "output_type": "display_data"
    },
    {
     "data": {
      "text/html": [
       "<pre style=\"white-space:pre;overflow-x:auto;line-height:normal;font-family:Menlo,'DejaVu Sans Mono',consolas,'Courier New',monospace\">Epoch 528, Loss: 6.931103874595087e-05, Accuracy: 0.942959811655859\n",
       "</pre>\n"
      ],
      "text/plain": [
       "Epoch 528, Loss: 6.931103874595087e-05, Accuracy: 0.942959811655859\n"
      ]
     },
     "metadata": {},
     "output_type": "display_data"
    },
    {
     "data": {
      "text/html": [
       "<pre style=\"white-space:pre;overflow-x:auto;line-height:normal;font-family:Menlo,'DejaVu Sans Mono',consolas,'Courier New',monospace\">Epoch 529, Loss: 6.92262711969481e-05, Accuracy: 0.9424641691792986\n",
       "</pre>\n"
      ],
      "text/plain": [
       "Epoch 529, Loss: 6.92262711969481e-05, Accuracy: 0.9424641691792986\n"
      ]
     },
     "metadata": {},
     "output_type": "display_data"
    },
    {
     "data": {
      "text/html": [
       "<pre style=\"white-space:pre;overflow-x:auto;line-height:normal;font-family:Menlo,'DejaVu Sans Mono',consolas,'Courier New',monospace\">Epoch 530, Loss: 6.921166976998668e-05, Accuracy: 0.943785882450126\n",
       "</pre>\n"
      ],
      "text/plain": [
       "Epoch 530, Loss: 6.921166976998668e-05, Accuracy: 0.943785882450126\n"
      ]
     },
     "metadata": {},
     "output_type": "display_data"
    },
    {
     "data": {
      "text/html": [
       "<pre style=\"white-space:pre;overflow-x:auto;line-height:normal;font-family:Menlo,'DejaVu Sans Mono',consolas,'Courier New',monospace\">Epoch 531, Loss: 6.918948820584533e-05, Accuracy: 0.943785882450126\n",
       "</pre>\n"
      ],
      "text/plain": [
       "Epoch 531, Loss: 6.918948820584533e-05, Accuracy: 0.943785882450126\n"
      ]
     },
     "metadata": {},
     "output_type": "display_data"
    },
    {
     "data": {
      "text/html": [
       "<pre style=\"white-space:pre;overflow-x:auto;line-height:normal;font-family:Menlo,'DejaVu Sans Mono',consolas,'Courier New',monospace\">Epoch 532, Loss: 6.925949184362106e-05, Accuracy: 0.9430011151955723\n",
       "</pre>\n"
      ],
      "text/plain": [
       "Epoch 532, Loss: 6.925949184362106e-05, Accuracy: 0.9430011151955723\n"
      ]
     },
     "metadata": {},
     "output_type": "display_data"
    },
    {
     "data": {
      "text/html": [
       "<pre style=\"white-space:pre;overflow-x:auto;line-height:normal;font-family:Menlo,'DejaVu Sans Mono',consolas,'Courier New',monospace\">Epoch 533, Loss: 6.914414524820321e-05, Accuracy: 0.9454380240386601\n",
       "</pre>\n"
      ],
      "text/plain": [
       "Epoch 533, Loss: 6.914414524820321e-05, Accuracy: 0.9454380240386601\n"
      ]
     },
     "metadata": {},
     "output_type": "display_data"
    },
    {
     "data": {
      "text/html": [
       "<pre style=\"white-space:pre;overflow-x:auto;line-height:normal;font-family:Menlo,'DejaVu Sans Mono',consolas,'Courier New',monospace\">Epoch 534, Loss: 6.915967726686778e-05, Accuracy: 0.9454380240386601\n",
       "</pre>\n"
      ],
      "text/plain": [
       "Epoch 534, Loss: 6.915967726686778e-05, Accuracy: 0.9454380240386601\n"
      ]
     },
     "metadata": {},
     "output_type": "display_data"
    },
    {
     "data": {
      "text/html": [
       "<pre style=\"white-space:pre;overflow-x:auto;line-height:normal;font-family:Menlo,'DejaVu Sans Mono',consolas,'Courier New',monospace\">Epoch 535, Loss: 6.922967844276071e-05, Accuracy: 0.9443641320061129\n",
       "</pre>\n"
      ],
      "text/plain": [
       "Epoch 535, Loss: 6.922967844276071e-05, Accuracy: 0.9443641320061129\n"
      ]
     },
     "metadata": {},
     "output_type": "display_data"
    },
    {
     "data": {
      "text/html": [
       "<pre style=\"white-space:pre;overflow-x:auto;line-height:normal;font-family:Menlo,'DejaVu Sans Mono',consolas,'Courier New',monospace\">Epoch 536, Loss: 6.89883179136981e-05, Accuracy: 0.9451488992606666\n",
       "</pre>\n"
      ],
      "text/plain": [
       "Epoch 536, Loss: 6.89883179136981e-05, Accuracy: 0.9451488992606666\n"
      ]
     },
     "metadata": {},
     "output_type": "display_data"
    },
    {
     "data": {
      "text/html": [
       "<pre style=\"white-space:pre;overflow-x:auto;line-height:normal;font-family:Menlo,'DejaVu Sans Mono',consolas,'Courier New',monospace\">Epoch 537, Loss: 6.91767061102824e-05, Accuracy: 0.944488042625253\n",
       "</pre>\n"
      ],
      "text/plain": [
       "Epoch 537, Loss: 6.91767061102824e-05, Accuracy: 0.944488042625253\n"
      ]
     },
     "metadata": {},
     "output_type": "display_data"
    },
    {
     "data": {
      "text/html": [
       "<pre style=\"white-space:pre;overflow-x:auto;line-height:normal;font-family:Menlo,'DejaVu Sans Mono',consolas,'Courier New',monospace\">Epoch 538, Loss: 6.929950482497393e-05, Accuracy: 0.9433315435132791\n",
       "</pre>\n"
      ],
      "text/plain": [
       "Epoch 538, Loss: 6.929950482497393e-05, Accuracy: 0.9433315435132791\n"
      ]
     },
     "metadata": {},
     "output_type": "display_data"
    },
    {
     "data": {
      "text/html": [
       "<pre style=\"white-space:pre;overflow-x:auto;line-height:normal;font-family:Menlo,'DejaVu Sans Mono',consolas,'Courier New',monospace\">Epoch 539, Loss: 6.917395126341514e-05, Accuracy: 0.9425880797984387\n",
       "</pre>\n"
      ],
      "text/plain": [
       "Epoch 539, Loss: 6.917395126341514e-05, Accuracy: 0.9425880797984387\n"
      ]
     },
     "metadata": {},
     "output_type": "display_data"
    },
    {
     "data": {
      "text/html": [
       "<pre style=\"white-space:pre;overflow-x:auto;line-height:normal;font-family:Menlo,'DejaVu Sans Mono',consolas,'Courier New',monospace\">Epoch 540, Loss: 6.909424534547501e-05, Accuracy: 0.9452728098798067\n",
       "</pre>\n"
      ],
      "text/plain": [
       "Epoch 540, Loss: 6.909424534547501e-05, Accuracy: 0.9452728098798067\n"
      ]
     },
     "metadata": {},
     "output_type": "display_data"
    },
    {
     "data": {
      "text/html": [
       "<pre style=\"white-space:pre;overflow-x:auto;line-height:normal;font-family:Menlo,'DejaVu Sans Mono',consolas,'Courier New',monospace\">Epoch 541, Loss: 6.892712043074297e-05, Accuracy: 0.9475858081037545\n",
       "</pre>\n"
      ],
      "text/plain": [
       "Epoch 541, Loss: 6.892712043074297e-05, Accuracy: 0.9475858081037545\n"
      ]
     },
     "metadata": {},
     "output_type": "display_data"
    },
    {
     "data": {
      "text/html": [
       "<pre style=\"white-space:pre;overflow-x:auto;line-height:normal;font-family:Menlo,'DejaVu Sans Mono',consolas,'Courier New',monospace\">Epoch 542, Loss: 6.899509547708114e-05, Accuracy: 0.9451488992606666\n",
       "</pre>\n"
      ],
      "text/plain": [
       "Epoch 542, Loss: 6.899509547708114e-05, Accuracy: 0.9451488992606666\n"
      ]
     },
     "metadata": {},
     "output_type": "display_data"
    },
    {
     "data": {
      "text/html": [
       "<pre style=\"white-space:pre;overflow-x:auto;line-height:normal;font-family:Menlo,'DejaVu Sans Mono',consolas,'Courier New',monospace\">Epoch 543, Loss: 6.886514745470189e-05, Accuracy: 0.9484531824377349\n",
       "</pre>\n"
      ],
      "text/plain": [
       "Epoch 543, Loss: 6.886514745470189e-05, Accuracy: 0.9484531824377349\n"
      ]
     },
     "metadata": {},
     "output_type": "display_data"
    },
    {
     "data": {
      "text/html": [
       "<pre style=\"white-space:pre;overflow-x:auto;line-height:normal;font-family:Menlo,'DejaVu Sans Mono',consolas,'Courier New',monospace\">Epoch 544, Loss: 6.901415783569895e-05, Accuracy: 0.9453967204989467\n",
       "</pre>\n"
      ],
      "text/plain": [
       "Epoch 544, Loss: 6.901415783569895e-05, Accuracy: 0.9453967204989467\n"
      ]
     },
     "metadata": {},
     "output_type": "display_data"
    },
    {
     "data": {
      "text/html": [
       "<pre style=\"white-space:pre;overflow-x:auto;line-height:normal;font-family:Menlo,'DejaVu Sans Mono',consolas,'Courier New',monospace\">Epoch 545, Loss: 6.889314398604655e-05, Accuracy: 0.9471314691669076\n",
       "</pre>\n"
      ],
      "text/plain": [
       "Epoch 545, Loss: 6.889314398604655e-05, Accuracy: 0.9471314691669076\n"
      ]
     },
     "metadata": {},
     "output_type": "display_data"
    },
    {
     "data": {
      "text/html": [
       "<pre style=\"white-space:pre;overflow-x:auto;line-height:normal;font-family:Menlo,'DejaVu Sans Mono',consolas,'Courier New',monospace\">Epoch 546, Loss: 6.895210361752504e-05, Accuracy: 0.9458510594357936\n",
       "</pre>\n"
      ],
      "text/plain": [
       "Epoch 546, Loss: 6.895210361752504e-05, Accuracy: 0.9458510594357936\n"
      ]
     },
     "metadata": {},
     "output_type": "display_data"
    },
    {
     "data": {
      "text/html": [
       "<pre style=\"white-space:pre;overflow-x:auto;line-height:normal;font-family:Menlo,'DejaVu Sans Mono',consolas,'Courier New',monospace\">Epoch 547, Loss: 6.906334871617714e-05, Accuracy: 0.9453141134195201\n",
       "</pre>\n"
      ],
      "text/plain": [
       "Epoch 547, Loss: 6.906334871617714e-05, Accuracy: 0.9453141134195201\n"
      ]
     },
     "metadata": {},
     "output_type": "display_data"
    },
    {
     "data": {
      "text/html": [
       "<pre style=\"white-space:pre;overflow-x:auto;line-height:normal;font-family:Menlo,'DejaVu Sans Mono',consolas,'Courier New',monospace\">Epoch 548, Loss: 6.894491738159512e-05, Accuracy: 0.946594523150634\n",
       "</pre>\n"
      ],
      "text/plain": [
       "Epoch 548, Loss: 6.894491738159512e-05, Accuracy: 0.946594523150634\n"
      ]
     },
     "metadata": {},
     "output_type": "display_data"
    },
    {
     "data": {
      "text/html": [
       "<pre style=\"white-space:pre;overflow-x:auto;line-height:normal;font-family:Menlo,'DejaVu Sans Mono',consolas,'Courier New',monospace\">Epoch 549, Loss: 6.8870374031913e-05, Accuracy: 0.9483705753583082\n",
       "</pre>\n"
      ],
      "text/plain": [
       "Epoch 549, Loss: 6.8870374031913e-05, Accuracy: 0.9483705753583082\n"
      ]
     },
     "metadata": {},
     "output_type": "display_data"
    },
    {
     "data": {
      "text/html": [
       "<pre style=\"white-space:pre;overflow-x:auto;line-height:normal;font-family:Menlo,'DejaVu Sans Mono',consolas,'Courier New',monospace\">Epoch 550, Loss: 6.882150319620046e-05, Accuracy: 0.9472553797860477\n",
       "</pre>\n"
      ],
      "text/plain": [
       "Epoch 550, Loss: 6.882150319620046e-05, Accuracy: 0.9472553797860477\n"
      ]
     },
     "metadata": {},
     "output_type": "display_data"
    },
    {
     "data": {
      "text/html": [
       "<pre style=\"white-space:pre;overflow-x:auto;line-height:normal;font-family:Menlo,'DejaVu Sans Mono',consolas,'Courier New',monospace\">Epoch 551, Loss: 6.882241409284111e-05, Accuracy: 0.9470901656271943\n",
       "</pre>\n"
      ],
      "text/plain": [
       "Epoch 551, Loss: 6.882241409284111e-05, Accuracy: 0.9470901656271943\n"
      ]
     },
     "metadata": {},
     "output_type": "display_data"
    },
    {
     "data": {
      "text/html": [
       "<pre style=\"white-space:pre;overflow-x:auto;line-height:normal;font-family:Menlo,'DejaVu Sans Mono',consolas,'Courier New',monospace\">Epoch 552, Loss: 6.893727323546205e-05, Accuracy: 0.9464293089917806\n",
       "</pre>\n"
      ],
      "text/plain": [
       "Epoch 552, Loss: 6.893727323546205e-05, Accuracy: 0.9464293089917806\n"
      ]
     },
     "metadata": {},
     "output_type": "display_data"
    },
    {
     "data": {
      "text/html": [
       "<pre style=\"white-space:pre;overflow-x:auto;line-height:normal;font-family:Menlo,'DejaVu Sans Mono',consolas,'Courier New',monospace\">Epoch 553, Loss: 6.891816902483644e-05, Accuracy: 0.947296683325761\n",
       "</pre>\n"
      ],
      "text/plain": [
       "Epoch 553, Loss: 6.891816902483644e-05, Accuracy: 0.947296683325761\n"
      ]
     },
     "metadata": {},
     "output_type": "display_data"
    },
    {
     "data": {
      "text/html": [
       "<pre style=\"white-space:pre;overflow-x:auto;line-height:normal;font-family:Menlo,'DejaVu Sans Mono',consolas,'Courier New',monospace\">Epoch 554, Loss: 6.871436697996257e-05, Accuracy: 0.9489901284540085\n",
       "</pre>\n"
      ],
      "text/plain": [
       "Epoch 554, Loss: 6.871436697996257e-05, Accuracy: 0.9489901284540085\n"
      ]
     },
     "metadata": {},
     "output_type": "display_data"
    },
    {
     "data": {
      "text/html": [
       "<pre style=\"white-space:pre;overflow-x:auto;line-height:normal;font-family:Menlo,'DejaVu Sans Mono',consolas,'Courier New',monospace\">Epoch 555, Loss: 6.877027633863628e-05, Accuracy: 0.9489488249142951\n",
       "</pre>\n"
      ],
      "text/plain": [
       "Epoch 555, Loss: 6.877027633863628e-05, Accuracy: 0.9489488249142951\n"
      ]
     },
     "metadata": {},
     "output_type": "display_data"
    },
    {
     "data": {
      "text/html": [
       "<pre style=\"white-space:pre;overflow-x:auto;line-height:normal;font-family:Menlo,'DejaVu Sans Mono',consolas,'Courier New',monospace\">Epoch 556, Loss: 6.860928397399038e-05, Accuracy: 0.9499814134071289\n",
       "</pre>\n"
      ],
      "text/plain": [
       "Epoch 556, Loss: 6.860928397399038e-05, Accuracy: 0.9499814134071289\n"
      ]
     },
     "metadata": {},
     "output_type": "display_data"
    },
    {
     "data": {
      "text/html": [
       "<pre style=\"white-space:pre;overflow-x:auto;line-height:normal;font-family:Menlo,'DejaVu Sans Mono',consolas,'Courier New',monospace\">Epoch 557, Loss: 6.879237666064481e-05, Accuracy: 0.9473379868654743\n",
       "</pre>\n"
      ],
      "text/plain": [
       "Epoch 557, Loss: 6.879237666064481e-05, Accuracy: 0.9473379868654743\n"
      ]
     },
     "metadata": {},
     "output_type": "display_data"
    },
    {
     "data": {
      "text/html": [
       "<pre style=\"white-space:pre;overflow-x:auto;line-height:normal;font-family:Menlo,'DejaVu Sans Mono',consolas,'Courier New',monospace\">Epoch 558, Loss: 6.874153631868221e-05, Accuracy: 0.9472140762463344\n",
       "</pre>\n"
      ],
      "text/plain": [
       "Epoch 558, Loss: 6.874153631868221e-05, Accuracy: 0.9472140762463344\n"
      ]
     },
     "metadata": {},
     "output_type": "display_data"
    },
    {
     "data": {
      "text/html": [
       "<pre style=\"white-space:pre;overflow-x:auto;line-height:normal;font-family:Menlo,'DejaVu Sans Mono',consolas,'Courier New',monospace\">Epoch 559, Loss: 6.870405661474348e-05, Accuracy: 0.9486183965965883\n",
       "</pre>\n"
      ],
      "text/plain": [
       "Epoch 559, Loss: 6.870405661474348e-05, Accuracy: 0.9486183965965883\n"
      ]
     },
     "metadata": {},
     "output_type": "display_data"
    },
    {
     "data": {
      "text/html": [
       "<pre style=\"white-space:pre;overflow-x:auto;line-height:normal;font-family:Menlo,'DejaVu Sans Mono',consolas,'Courier New',monospace\">Epoch 560, Loss: 6.864949390596826e-05, Accuracy: 0.9485357895171617\n",
       "</pre>\n"
      ],
      "text/plain": [
       "Epoch 560, Loss: 6.864949390596826e-05, Accuracy: 0.9485357895171617\n"
      ]
     },
     "metadata": {},
     "output_type": "display_data"
    },
    {
     "data": {
      "text/html": [
       "<pre style=\"white-space:pre;overflow-x:auto;line-height:normal;font-family:Menlo,'DejaVu Sans Mono',consolas,'Courier New',monospace\">Epoch 561, Loss: 6.87318291147522e-05, Accuracy: 0.9482466647391682\n",
       "</pre>\n"
      ],
      "text/plain": [
       "Epoch 561, Loss: 6.87318291147522e-05, Accuracy: 0.9482466647391682\n"
      ]
     },
     "metadata": {},
     "output_type": "display_data"
    },
    {
     "data": {
      "text/html": [
       "<pre style=\"white-space:pre;overflow-x:auto;line-height:normal;font-family:Menlo,'DejaVu Sans Mono',consolas,'Courier New',monospace\">Epoch 562, Loss: 6.866637996017974e-05, Accuracy: 0.9473792904051878\n",
       "</pre>\n"
      ],
      "text/plain": [
       "Epoch 562, Loss: 6.866637996017974e-05, Accuracy: 0.9473792904051878\n"
      ]
     },
     "metadata": {},
     "output_type": "display_data"
    },
    {
     "data": {
      "text/html": [
       "<pre style=\"white-space:pre;overflow-x:auto;line-height:normal;font-family:Menlo,'DejaVu Sans Mono',consolas,'Courier New',monospace\">Epoch 563, Loss: 6.852470106619854e-05, Accuracy: 0.9501879311056958\n",
       "</pre>\n"
      ],
      "text/plain": [
       "Epoch 563, Loss: 6.852470106619854e-05, Accuracy: 0.9501879311056958\n"
      ]
     },
     "metadata": {},
     "output_type": "display_data"
    },
    {
     "data": {
      "text/html": [
       "<pre style=\"white-space:pre;overflow-x:auto;line-height:normal;font-family:Menlo,'DejaVu Sans Mono',consolas,'Courier New',monospace\">Epoch 564, Loss: 6.855532196462142e-05, Accuracy: 0.949857502787989\n",
       "</pre>\n"
      ],
      "text/plain": [
       "Epoch 564, Loss: 6.855532196462142e-05, Accuracy: 0.949857502787989\n"
      ]
     },
     "metadata": {},
     "output_type": "display_data"
    },
    {
     "data": {
      "text/html": [
       "<pre style=\"white-space:pre;overflow-x:auto;line-height:normal;font-family:Menlo,'DejaVu Sans Mono',consolas,'Courier New',monospace\">Epoch 565, Loss: 6.848949368009583e-05, Accuracy: 0.9498161992482755\n",
       "</pre>\n"
      ],
      "text/plain": [
       "Epoch 565, Loss: 6.848949368009583e-05, Accuracy: 0.9498161992482755\n"
      ]
     },
     "metadata": {},
     "output_type": "display_data"
    },
    {
     "data": {
      "text/html": [
       "<pre style=\"white-space:pre;overflow-x:auto;line-height:normal;font-family:Menlo,'DejaVu Sans Mono',consolas,'Courier New',monospace\">Epoch 566, Loss: 6.843031001728138e-05, Accuracy: 0.9504770558836892\n",
       "</pre>\n"
      ],
      "text/plain": [
       "Epoch 566, Loss: 6.843031001728138e-05, Accuracy: 0.9504770558836892\n"
      ]
     },
     "metadata": {},
     "output_type": "display_data"
    },
    {
     "data": {
      "text/html": [
       "<pre style=\"white-space:pre;overflow-x:auto;line-height:normal;font-family:Menlo,'DejaVu Sans Mono',consolas,'Courier New',monospace\">Epoch 567, Loss: 6.844920989163357e-05, Accuracy: 0.9508487877411094\n",
       "</pre>\n"
      ],
      "text/plain": [
       "Epoch 567, Loss: 6.844920989163357e-05, Accuracy: 0.9508487877411094\n"
      ]
     },
     "metadata": {},
     "output_type": "display_data"
    },
    {
     "data": {
      "text/html": [
       "<pre style=\"white-space:pre;overflow-x:auto;line-height:normal;font-family:Menlo,'DejaVu Sans Mono',consolas,'Courier New',monospace\">Epoch 568, Loss: 6.845177763540709e-05, Accuracy: 0.9502705381851224\n",
       "</pre>\n"
      ],
      "text/plain": [
       "Epoch 568, Loss: 6.845177763540709e-05, Accuracy: 0.9502705381851224\n"
      ]
     },
     "metadata": {},
     "output_type": "display_data"
    },
    {
     "data": {
      "text/html": [
       "<pre style=\"white-space:pre;overflow-x:auto;line-height:normal;font-family:Menlo,'DejaVu Sans Mono',consolas,'Courier New',monospace\">Epoch 569, Loss: 6.844555891942252e-05, Accuracy: 0.9503118417248358\n",
       "</pre>\n"
      ],
      "text/plain": [
       "Epoch 569, Loss: 6.844555891942252e-05, Accuracy: 0.9503118417248358\n"
      ]
     },
     "metadata": {},
     "output_type": "display_data"
    },
    {
     "data": {
      "text/html": [
       "<pre style=\"white-space:pre;overflow-x:auto;line-height:normal;font-family:Menlo,'DejaVu Sans Mono',consolas,'Courier New',monospace\">Epoch 570, Loss: 6.847538216781412e-05, Accuracy: 0.9507661806616827\n",
       "</pre>\n"
      ],
      "text/plain": [
       "Epoch 570, Loss: 6.847538216781412e-05, Accuracy: 0.9507661806616827\n"
      ]
     },
     "metadata": {},
     "output_type": "display_data"
    },
    {
     "data": {
      "text/html": [
       "<pre style=\"white-space:pre;overflow-x:auto;line-height:normal;font-family:Menlo,'DejaVu Sans Mono',consolas,'Courier New',monospace\">Epoch 571, Loss: 6.83199462726762e-05, Accuracy: 0.9517574656148032\n",
       "</pre>\n"
      ],
      "text/plain": [
       "Epoch 571, Loss: 6.83199462726762e-05, Accuracy: 0.9517574656148032\n"
      ]
     },
     "metadata": {},
     "output_type": "display_data"
    },
    {
     "data": {
      "text/html": [
       "<pre style=\"white-space:pre;overflow-x:auto;line-height:normal;font-family:Menlo,'DejaVu Sans Mono',consolas,'Courier New',monospace\">Epoch 572, Loss: 6.844360910823494e-05, Accuracy: 0.9508900912808228\n",
       "</pre>\n"
      ],
      "text/plain": [
       "Epoch 572, Loss: 6.844360910823494e-05, Accuracy: 0.9508900912808228\n"
      ]
     },
     "metadata": {},
     "output_type": "display_data"
    },
    {
     "data": {
      "text/html": [
       "<pre style=\"white-space:pre;overflow-x:auto;line-height:normal;font-family:Menlo,'DejaVu Sans Mono',consolas,'Courier New',monospace\">Epoch 573, Loss: 6.843710727572693e-05, Accuracy: 0.9510966089793895\n",
       "</pre>\n"
      ],
      "text/plain": [
       "Epoch 573, Loss: 6.843710727572693e-05, Accuracy: 0.9510966089793895\n"
      ]
     },
     "metadata": {},
     "output_type": "display_data"
    },
    {
     "data": {
      "text/html": [
       "<pre style=\"white-space:pre;overflow-x:auto;line-height:normal;font-family:Menlo,'DejaVu Sans Mono',consolas,'Courier New',monospace\">Epoch 574, Loss: 6.844432797801622e-05, Accuracy: 0.9503118417248358\n",
       "</pre>\n"
      ],
      "text/plain": [
       "Epoch 574, Loss: 6.844432797801622e-05, Accuracy: 0.9503118417248358\n"
      ]
     },
     "metadata": {},
     "output_type": "display_data"
    },
    {
     "data": {
      "text/html": [
       "<pre style=\"white-space:pre;overflow-x:auto;line-height:normal;font-family:Menlo,'DejaVu Sans Mono',consolas,'Courier New',monospace\">Epoch 575, Loss: 6.838836938168626e-05, Accuracy: 0.9495683780099955\n",
       "</pre>\n"
      ],
      "text/plain": [
       "Epoch 575, Loss: 6.838836938168626e-05, Accuracy: 0.9495683780099955\n"
      ]
     },
     "metadata": {},
     "output_type": "display_data"
    },
    {
     "data": {
      "text/html": [
       "<pre style=\"white-space:pre;overflow-x:auto;line-height:normal;font-family:Menlo,'DejaVu Sans Mono',consolas,'Courier New',monospace\">Epoch 576, Loss: 6.834552769698173e-05, Accuracy: 0.9514683408368098\n",
       "</pre>\n"
      ],
      "text/plain": [
       "Epoch 576, Loss: 6.834552769698173e-05, Accuracy: 0.9514683408368098\n"
      ]
     },
     "metadata": {},
     "output_type": "display_data"
    },
    {
     "data": {
      "text/html": [
       "<pre style=\"white-space:pre;overflow-x:auto;line-height:normal;font-family:Menlo,'DejaVu Sans Mono',consolas,'Courier New',monospace\">Epoch 577, Loss: 6.827190262958869e-05, Accuracy: 0.9522531080913634\n",
       "</pre>\n"
      ],
      "text/plain": [
       "Epoch 577, Loss: 6.827190262958869e-05, Accuracy: 0.9522531080913634\n"
      ]
     },
     "metadata": {},
     "output_type": "display_data"
    },
    {
     "data": {
      "text/html": [
       "<pre style=\"white-space:pre;overflow-x:auto;line-height:normal;font-family:Menlo,'DejaVu Sans Mono',consolas,'Courier New',monospace\">Epoch 578, Loss: 6.83547966857711e-05, Accuracy: 0.9509726983602494\n",
       "</pre>\n"
      ],
      "text/plain": [
       "Epoch 578, Loss: 6.83547966857711e-05, Accuracy: 0.9509726983602494\n"
      ]
     },
     "metadata": {},
     "output_type": "display_data"
    },
    {
     "data": {
      "text/html": [
       "<pre style=\"white-space:pre;overflow-x:auto;line-height:normal;font-family:Menlo,'DejaVu Sans Mono',consolas,'Courier New',monospace\">Epoch 579, Loss: 6.833062099655156e-05, Accuracy: 0.9510140018999629\n",
       "</pre>\n"
      ],
      "text/plain": [
       "Epoch 579, Loss: 6.833062099655156e-05, Accuracy: 0.9510140018999629\n"
      ]
     },
     "metadata": {},
     "output_type": "display_data"
    },
    {
     "data": {
      "text/html": [
       "<pre style=\"white-space:pre;overflow-x:auto;line-height:normal;font-family:Menlo,'DejaVu Sans Mono',consolas,'Courier New',monospace\">Epoch 580, Loss: 6.84080053589994e-05, Accuracy: 0.9495270744702821\n",
       "</pre>\n"
      ],
      "text/plain": [
       "Epoch 580, Loss: 6.84080053589994e-05, Accuracy: 0.9495270744702821\n"
      ]
     },
     "metadata": {},
     "output_type": "display_data"
    },
    {
     "data": {
      "text/html": [
       "<pre style=\"white-space:pre;overflow-x:auto;line-height:normal;font-family:Menlo,'DejaVu Sans Mono',consolas,'Courier New',monospace\">Epoch 581, Loss: 6.826545003473692e-05, Accuracy: 0.9507661806616827\n",
       "</pre>\n"
      ],
      "text/plain": [
       "Epoch 581, Loss: 6.826545003473692e-05, Accuracy: 0.9507661806616827\n"
      ]
     },
     "metadata": {},
     "output_type": "display_data"
    },
    {
     "data": {
      "text/html": [
       "<pre style=\"white-space:pre;overflow-x:auto;line-height:normal;font-family:Menlo,'DejaVu Sans Mono',consolas,'Courier New',monospace\">Epoch 582, Loss: 6.832526147766857e-05, Accuracy: 0.9503531452645492\n",
       "</pre>\n"
      ],
      "text/plain": [
       "Epoch 582, Loss: 6.832526147766857e-05, Accuracy: 0.9503531452645492\n"
      ]
     },
     "metadata": {},
     "output_type": "display_data"
    },
    {
     "data": {
      "text/html": [
       "<pre style=\"white-space:pre;overflow-x:auto;line-height:normal;font-family:Menlo,'DejaVu Sans Mono',consolas,'Courier New',monospace\">Epoch 583, Loss: 6.815534478782706e-05, Accuracy: 0.9517574656148032\n",
       "</pre>\n"
      ],
      "text/plain": [
       "Epoch 583, Loss: 6.815534478782706e-05, Accuracy: 0.9517574656148032\n"
      ]
     },
     "metadata": {},
     "output_type": "display_data"
    },
    {
     "data": {
      "text/html": [
       "<pre style=\"white-space:pre;overflow-x:auto;line-height:normal;font-family:Menlo,'DejaVu Sans Mono',consolas,'Courier New',monospace\">Epoch 584, Loss: 6.811654059093517e-05, Accuracy: 0.9520052868530833\n",
       "</pre>\n"
      ],
      "text/plain": [
       "Epoch 584, Loss: 6.811654059093517e-05, Accuracy: 0.9520052868530833\n"
      ]
     },
     "metadata": {},
     "output_type": "display_data"
    },
    {
     "data": {
      "text/html": [
       "<pre style=\"white-space:pre;overflow-x:auto;line-height:normal;font-family:Menlo,'DejaVu Sans Mono',consolas,'Courier New',monospace\">Epoch 585, Loss: 6.818189127019511e-05, Accuracy: 0.9517161620750898\n",
       "</pre>\n"
      ],
      "text/plain": [
       "Epoch 585, Loss: 6.818189127019511e-05, Accuracy: 0.9517161620750898\n"
      ]
     },
     "metadata": {},
     "output_type": "display_data"
    },
    {
     "data": {
      "text/html": [
       "<pre style=\"white-space:pre;overflow-x:auto;line-height:normal;font-family:Menlo,'DejaVu Sans Mono',consolas,'Courier New',monospace\">Epoch 586, Loss: 6.816243008656168e-05, Accuracy: 0.9519226797736566\n",
       "</pre>\n"
      ],
      "text/plain": [
       "Epoch 586, Loss: 6.816243008656168e-05, Accuracy: 0.9519226797736566\n"
      ]
     },
     "metadata": {},
     "output_type": "display_data"
    },
    {
     "data": {
      "text/html": [
       "<pre style=\"white-space:pre;overflow-x:auto;line-height:normal;font-family:Menlo,'DejaVu Sans Mono',consolas,'Courier New',monospace\">Epoch 587, Loss: 6.811684832628674e-05, Accuracy: 0.9506422700425426\n",
       "</pre>\n"
      ],
      "text/plain": [
       "Epoch 587, Loss: 6.811684832628674e-05, Accuracy: 0.9506422700425426\n"
      ]
     },
     "metadata": {},
     "output_type": "display_data"
    },
    {
     "data": {
      "text/html": [
       "<pre style=\"white-space:pre;overflow-x:auto;line-height:normal;font-family:Menlo,'DejaVu Sans Mono',consolas,'Courier New',monospace\">Epoch 588, Loss: 6.818351857473424e-05, Accuracy: 0.9514683408368098\n",
       "</pre>\n"
      ],
      "text/plain": [
       "Epoch 588, Loss: 6.818351857473424e-05, Accuracy: 0.9514683408368098\n"
      ]
     },
     "metadata": {},
     "output_type": "display_data"
    },
    {
     "data": {
      "text/html": [
       "<pre style=\"white-space:pre;overflow-x:auto;line-height:normal;font-family:Menlo,'DejaVu Sans Mono',consolas,'Courier New',monospace\">Epoch 589, Loss: 6.818057908665602e-05, Accuracy: 0.9520465903927967\n",
       "</pre>\n"
      ],
      "text/plain": [
       "Epoch 589, Loss: 6.818057908665602e-05, Accuracy: 0.9520465903927967\n"
      ]
     },
     "metadata": {},
     "output_type": "display_data"
    },
    {
     "data": {
      "text/html": [
       "<pre style=\"white-space:pre;overflow-x:auto;line-height:normal;font-family:Menlo,'DejaVu Sans Mono',consolas,'Courier New',monospace\">Epoch 590, Loss: 6.80247123620259e-05, Accuracy: 0.9525422328693569\n",
       "</pre>\n"
      ],
      "text/plain": [
       "Epoch 590, Loss: 6.80247123620259e-05, Accuracy: 0.9525422328693569\n"
      ]
     },
     "metadata": {},
     "output_type": "display_data"
    },
    {
     "data": {
      "text/html": [
       "<pre style=\"white-space:pre;overflow-x:auto;line-height:normal;font-family:Menlo,'DejaVu Sans Mono',consolas,'Courier New',monospace\">Epoch 591, Loss: 6.799282113207174e-05, Accuracy: 0.9537400355210441\n",
       "</pre>\n"
      ],
      "text/plain": [
       "Epoch 591, Loss: 6.799282113207174e-05, Accuracy: 0.9537400355210441\n"
      ]
     },
     "metadata": {},
     "output_type": "display_data"
    },
    {
     "data": {
      "text/html": [
       "<pre style=\"white-space:pre;overflow-x:auto;line-height:normal;font-family:Menlo,'DejaVu Sans Mono',consolas,'Courier New',monospace\">Epoch 592, Loss: 6.807114593375399e-05, Accuracy: 0.9537400355210441\n",
       "</pre>\n"
      ],
      "text/plain": [
       "Epoch 592, Loss: 6.807114593375399e-05, Accuracy: 0.9537400355210441\n"
      ]
     },
     "metadata": {},
     "output_type": "display_data"
    },
    {
     "data": {
      "text/html": [
       "<pre style=\"white-space:pre;overflow-x:auto;line-height:normal;font-family:Menlo,'DejaVu Sans Mono',consolas,'Courier New',monospace\">Epoch 593, Loss: 6.802528844260406e-05, Accuracy: 0.9536161249019041\n",
       "</pre>\n"
      ],
      "text/plain": [
       "Epoch 593, Loss: 6.802528844260406e-05, Accuracy: 0.9536161249019041\n"
      ]
     },
     "metadata": {},
     "output_type": "display_data"
    },
    {
     "data": {
      "text/html": [
       "<pre style=\"white-space:pre;overflow-x:auto;line-height:normal;font-family:Menlo,'DejaVu Sans Mono',consolas,'Courier New',monospace\">Epoch 594, Loss: 6.805734461870666e-05, Accuracy: 0.9530791788856305\n",
       "</pre>\n"
      ],
      "text/plain": [
       "Epoch 594, Loss: 6.805734461870666e-05, Accuracy: 0.9530791788856305\n"
      ]
     },
     "metadata": {},
     "output_type": "display_data"
    },
    {
     "data": {
      "text/html": [
       "<pre style=\"white-space:pre;overflow-x:auto;line-height:normal;font-family:Menlo,'DejaVu Sans Mono',consolas,'Courier New',monospace\">Epoch 595, Loss: 6.80495823021986e-05, Accuracy: 0.952913964726777\n",
       "</pre>\n"
      ],
      "text/plain": [
       "Epoch 595, Loss: 6.80495823021986e-05, Accuracy: 0.952913964726777\n"
      ]
     },
     "metadata": {},
     "output_type": "display_data"
    },
    {
     "data": {
      "text/html": [
       "<pre style=\"white-space:pre;overflow-x:auto;line-height:normal;font-family:Menlo,'DejaVu Sans Mono',consolas,'Courier New',monospace\">Epoch 596, Loss: 6.801975905380699e-05, Accuracy: 0.9535748213621907\n",
       "</pre>\n"
      ],
      "text/plain": [
       "Epoch 596, Loss: 6.801975905380699e-05, Accuracy: 0.9535748213621907\n"
      ]
     },
     "metadata": {},
     "output_type": "display_data"
    },
    {
     "data": {
      "text/html": [
       "<pre style=\"white-space:pre;overflow-x:auto;line-height:normal;font-family:Menlo,'DejaVu Sans Mono',consolas,'Courier New',monospace\">Epoch 597, Loss: 6.797364306496174e-05, Accuracy: 0.9536574284416175\n",
       "</pre>\n"
      ],
      "text/plain": [
       "Epoch 597, Loss: 6.797364306496174e-05, Accuracy: 0.9536574284416175\n"
      ]
     },
     "metadata": {},
     "output_type": "display_data"
    },
    {
     "data": {
      "text/html": [
       "<pre style=\"white-space:pre;overflow-x:auto;line-height:normal;font-family:Menlo,'DejaVu Sans Mono',consolas,'Courier New',monospace\">Epoch 598, Loss: 6.797990117107131e-05, Accuracy: 0.9532856965841973\n",
       "</pre>\n"
      ],
      "text/plain": [
       "Epoch 598, Loss: 6.797990117107131e-05, Accuracy: 0.9532856965841973\n"
      ]
     },
     "metadata": {},
     "output_type": "display_data"
    },
    {
     "data": {
      "text/html": [
       "<pre style=\"white-space:pre;overflow-x:auto;line-height:normal;font-family:Menlo,'DejaVu Sans Mono',consolas,'Courier New',monospace\">Epoch 599, Loss: 6.794654512084366e-05, Accuracy: 0.9540291602990376\n",
       "</pre>\n"
      ],
      "text/plain": [
       "Epoch 599, Loss: 6.794654512084366e-05, Accuracy: 0.9540291602990376\n"
      ]
     },
     "metadata": {},
     "output_type": "display_data"
    },
    {
     "data": {
      "text/html": [
       "<pre style=\"white-space:pre;overflow-x:auto;line-height:normal;font-family:Menlo,'DejaVu Sans Mono',consolas,'Courier New',monospace\">Epoch 600, Loss: 6.803451804126842e-05, Accuracy: 0.9523770187105035\n",
       "</pre>\n"
      ],
      "text/plain": [
       "Epoch 600, Loss: 6.803451804126842e-05, Accuracy: 0.9523770187105035\n"
      ]
     },
     "metadata": {},
     "output_type": "display_data"
    },
    {
     "data": {
      "text/html": [
       "<pre style=\"white-space:pre;overflow-x:auto;line-height:normal;font-family:Menlo,'DejaVu Sans Mono',consolas,'Courier New',monospace\"></pre>\n"
      ],
      "text/plain": []
     },
     "metadata": {},
     "output_type": "display_data"
    },
    {
     "data": {
      "text/html": [
       "<pre style=\"white-space:pre;overflow-x:auto;line-height:normal;font-family:Menlo,'DejaVu Sans Mono',consolas,'Courier New',monospace\">\n",
       "</pre>\n"
      ],
      "text/plain": [
       "\n"
      ]
     },
     "metadata": {},
     "output_type": "display_data"
    }
   ],
   "source": [
    "# Initialize progress\n",
    "progress = Progress()\n",
    "\n",
    "# Train model\n",
    "losses = []\n",
    "accuracies = []\n",
    "\n",
    "with progress:\n",
    "    task1 = progress.add_task(\"[cyan]Training...\", total=EPOCHS)\n",
    "    for epoch in range(EPOCHS):\n",
    "        running_loss = 0.0\n",
    "        correct = 0\n",
    "        total = 0\n",
    "        for X, y in DataLoader(dataset=train_data, batch_size=BATCH_SIZE, shuffle=True):\n",
    "            X, y = X.to(device), y.to(device)\n",
    "            y_pred = model(X)\n",
    "            loss = criterion(y_pred, y.long())\n",
    "            optimizer.zero_grad()\n",
    "            loss.backward()\n",
    "            optimizer.step()\n",
    "            running_loss += loss.item()\n",
    "            _, predicted = torch.max(y_pred.data, 1)\n",
    "            total += y.size(0)\n",
    "            correct += (predicted == y).sum().item()\n",
    "        progress.update(task1, advance=1)\n",
    "        acc = correct/total\n",
    "        losses.append(running_loss)\n",
    "        accuracies.append(acc)\n",
    "        print(f'Epoch {epoch+1}, Loss: {running_loss/len(train_data)}, Accuracy: {acc}')"
   ]
  },
  {
   "cell_type": "code",
   "execution_count": 13,
   "metadata": {},
   "outputs": [
    {
     "data": {
      "image/png": "[encoded data removed]",
      "text/plain": [
       "<Figure size 1000x500 with 2 Axes>"
      ]
     },
     "metadata": {},
     "output_type": "display_data"
    },
    {
     "data": {
      "text/plain": [
       "<Figure size 640x480 with 0 Axes>"
      ]
     },
     "metadata": {},
     "output_type": "display_data"
    }
   ],
   "source": [
    "# Plot loss and accuracy\n",
    "fig, ax1 = plt.subplots(figsize=(10, 5))\n",
    "\n",
    "color = 'tab:red'\n",
    "ax1.set_xlabel('Epoch')\n",
    "ax1.set_ylabel('Loss', color=color)\n",
    "ax1.plot(losses, color=color)\n",
    "ax1.tick_params(axis='y', labelcolor=color)\n",
    "\n",
    "ax2 = ax1.twinx()  # Create another axes that shares the same x-axis\n",
    "color = 'tab:blue'\n",
    "ax2.set_ylabel('Accuracy', color=color)  \n",
    "ax2.plot(accuracies, color=color)\n",
    "ax2.tick_params(axis='y', labelcolor=color)\n",
    "\n",
    "plt.title(\"Loss-Accuracy-Epoch\")\n",
    "\n",
    "fig.tight_layout()  \n",
    "plt.show()\n",
    "plt.savefig(\"Plot/Loss-Accuracy-Epoch.png\")"
   ]
  },
  {
   "cell_type": "code",
   "execution_count": 15,
   "metadata": {},
   "outputs": [],
   "source": [
    "# Define the name of the model\n",
    "now = datetime.datetime.now()\n",
    "filename = f'Epochs_{EPOCHS}_Batch_size_{BATCH_SIZE}_Learning_rate_{LEARNING_RATE}_Weight_decay_{WEIGHT_DECAY}.bin'\n",
    "\n",
    "# Save the model\n",
    "if not os.path.exists(\"ckpt\"):\n",
    "    os.makedirs(\"ckpt\")\n",
    "torch.save(model.state_dict(), f\"ckpt/{filename}\")"
   ]
  },
  {
   "cell_type": "code",
   "execution_count": 16,
   "metadata": {},
   "outputs": [
    {
     "name": "stdout",
     "output_type": "stream",
     "text": [
      "Accuracy: 0.8155294117647058, F1 Score: 0.7966269541367352\n"
     ]
    }
   ],
   "source": [
    "# Test the model\n",
    "model.load_state_dict(torch.load(f\"ckpt/{filename}\"))\n",
    "model.eval()\n",
    "correct = 0\n",
    "total = 0\n",
    "y_true = []\n",
    "y_pred_list = []\n",
    "with torch.no_grad():\n",
    "    for X, y in DataLoader(dataset=test_data, batch_size=BATCH_SIZE):\n",
    "        X, y = X.to(device), y.to(device)\n",
    "        y_pred = model(X)\n",
    "        _, predicted = torch.max(y_pred.data, 1)\n",
    "        total += y.size(0)\n",
    "        correct += (predicted == y).sum().item()\n",
    "        y_true.extend(y.cpu().tolist())\n",
    "        y_pred_list.extend(predicted.cpu().tolist())\n",
    "\n",
    "accuracy = correct / total\n",
    "f1 = f1_score(y_true, y_pred_list, average='weighted')\n",
    "\n",
    "print(f'Accuracy: {accuracy}, F1 Score: {f1}')"
   ]
  },
  {
   "cell_type": "code",
   "execution_count": 25,
   "metadata": {},
   "outputs": [
    {
     "name": "stdout",
     "output_type": "stream",
     "text": [
      "[0, 1, 2, 3, 4, 5, 6, 7, 8, 9, 10, 11, 12, 13, 14, 15, 16, 17, 18, 340, 341, 342, 343, 344, 345, 346, 347, 348, 349, 350, 351, 353, 354, 355, 356, 357, 358, 359, 380, 382, 384, 483, 1180, 1181, 1182, 1183, 1184, 1185, 1186, 1187, 1188, 1189, 1190, 1191, 1192, 1193, 1194, 1195, 1196, 1197, 1198, 1199, 1200, 1201, 1202, 1203, 1204, 1205, 1206, 1207, 1208, 1209, 1210, 1211, 1212, 1213, 1214, 1215, 1216, 1217, 1218, 1219, 1220, 1221, 1222, 1223, 1224, 1225, 1226, 1227, 1228, 1229, 1230, 1231, 1232, 1233, 1234, 1235, 1236, 1237, 1238, 1239, 1240, 1241, 1249, 1252, 1253, 1254, 1255, 1256, 1257, 1258, 1259, 1260, 1261, 1262, 1263, 1264, 1265, 1266, 1267, 1268, 1269, 1270, 1271, 1272, 1273, 1274, 1275, 1276, 1277, 1278, 1279, 1280, 1281, 1282, 1307, 1308, 1309, 1310, 1311, 1314, 1421, 1422, 1423, 1424, 1429, 1430, 1431, 1453, 1454, 1455, 1456, 1458, 1459, 1460, 1461, 1462, 1463, 1464, 1465, 1466, 1467, 1468, 1469, 1470, 1471, 2250, 2251, 2252, 2253, 2254, 2255, 2256, 2257, 2258, 2259, 2260, 2261, 2262, 2263, 2264, 2265, 2266, 2267, 2285, 2380, 2381, 2382, 2383, 2384, 2385, 2386, 2387, 2388, 2389, 2390, 2391, 2392, 2393, 2394, 2395, 2396, 2397, 2398, 2399, 2400, 2405, 2407, 2409, 2411, 2413, 2421, 2422, 2423, 2424, 2425, 2426, 2427, 2428, 2429, 2430, 2431, 2432, 2433, 2434, 2435, 2436, 2437, 2438, 2439, 2440, 2441, 2442, 2443, 2444, 2445, 2446, 2447, 2448, 2450, 2474, 2475, 2476, 2477, 2478, 2479, 2480, 2481, 2482, 2483, 2484, 2485, 2486, 2487, 2488, 2489, 2490, 2491, 2492, 2493, 2494, 2495, 2496, 2497, 2498, 2499, 2501, 2502, 2503, 2504, 2505, 2506, 2507, 2508, 2509, 2510, 2512, 2513, 2514, 2515, 2534, 2535, 2536, 2537, 2538, 2539, 2540, 2541, 2542, 2543, 2544, 2545, 2546, 2548, 2549, 2551, 2552, 2592, 2613, 2614, 2615, 2616, 2617, 2618, 2619, 2620, 2621, 2622, 2623, 2624, 2625, 2626, 2627, 2628, 2629, 2630, 2631, 2632, 2633, 2646, 2647, 2648, 2652, 2653, 2674, 2675, 2676, 2677, 2678, 2679, 2680, 2681, 2682, 2684, 2691, 2692, 2699, 2700, 2701, 2702, 2703, 2704, 2705, 2706, 2707, 2708, 2709, 2710, 2711, 2712, 2714, 2772, 2773, 2774, 2775, 2786, 2808, 2812, 2813, 2814, 2815, 2816, 2817, 2818, 2819, 2820, 2821, 2823, 2825, 2826, 2827, 2828, 2829, 2830, 2831, 2832, 2852, 2853, 2854, 2855, 2856, 2857, 2858, 2859, 2860, 2861, 2866, 2867, 2868, 2870, 2871, 2872, 2873, 2874, 2875, 2876, 2877, 2878, 2879, 2880, 2881, 2882, 2883, 2884, 2885, 2886, 2887, 2888, 2889, 2890, 2891, 2892, 2893, 2894, 2895, 2896, 2897, 2898, 2909, 2910, 2911, 2912, 2913, 2914, 2915, 2916, 2917, 2918, 2919, 2921, 2923, 2925, 2926, 2927, 2928, 2952, 2957, 2972, 2986, 3008, 3029, 3031, 3032, 3034, 3035, 3036, 3037, 3054, 3055, 3056, 3057, 3058, 3059, 3060, 3061, 3062, 3063, 3064, 3065, 3066, 3067, 3068, 3089, 3092, 3093, 3094, 3095, 3096, 3097, 3099, 3106, 3107, 3108, 3112, 3152, 3206, 3208, 3209, 3210, 3211, 3212, 3213, 3214, 3215, 3216, 3217, 3218, 3219, 3220, 3221, 3222, 3223, 3224, 3225, 3226, 3227, 3228, 3229, 3230, 3231, 3232, 3233, 3234, 3235, 3236, 3237, 3238, 3239, 3240, 3241, 3242, 3243, 3244, 3245, 3246, 3247, 3248, 3249, 3250, 3251, 3252, 3253, 3254, 3255, 3256, 3257, 3258, 3259, 3260, 3261, 3262, 3263, 3264, 3265, 3266, 3267, 3268, 3269, 3270, 3271, 3272, 3273, 3274, 3275, 3276, 3277, 3278, 3279, 3280, 3281, 3282, 3283, 3284, 3285, 3286, 3287, 3288, 3289, 3290, 3291, 3292, 3293, 3294, 3295, 3296, 3297, 3298, 3299, 3300, 3301, 3302, 3303, 3304, 3305, 3306, 3307, 3308, 3309, 3310, 3311, 3312, 3318, 3319, 3320, 3321, 3322, 3323, 3324, 3325, 3326, 3327, 3328, 3329, 3330, 3331, 3332, 3333, 3334, 3335, 3336, 3337, 3338, 3339, 3340, 3341, 3342, 3343, 3344, 3345, 3346, 3347, 3348, 3349, 3350, 3351, 3352, 3353, 3354, 3355, 3356, 3357, 3358, 3359, 3360, 3361, 3362, 3363, 3364, 3365, 3366, 3367, 3368, 3369, 3370, 3371, 3372, 3373, 3374, 3375, 3376, 3377, 3378, 3379, 3380, 3381, 3382, 3383, 3388, 3389, 3390, 3391, 3392, 3393, 3394, 3395, 3396, 3397, 3398, 3399, 3400, 3401, 3402, 3403, 3404, 3405, 3406, 3407, 3408, 3409, 3410, 3411, 3412, 3413, 3414, 3415, 3416, 3417, 3418, 3419, 3420, 3421, 3422, 3423, 3424, 3425, 3426, 3427, 3428, 3429, 3430, 3431, 3432, 3433, 3434, 3435, 3436, 3437, 3438, 3439, 3440, 3441, 3442, 3443, 3444, 3445, 3446, 3447, 3448, 3449, 3450, 3451, 3452, 3453, 3454, 3455, 3456, 3457, 3458, 3459, 3460, 3461, 3462, 3463, 3464, 3465, 3466, 3467, 3468, 3469, 3470, 3471, 3472, 3473, 3474, 3475, 3476, 3477, 3478, 3479, 3480, 3481, 3482, 3483, 3484, 3485, 3486, 3487, 3488, 3489, 3490, 3491, 3492, 3493, 3494, 3495, 3496, 3497, 3498, 3499, 3508, 3547, 3548, 3549, 3550, 3551, 3552, 3553, 3554, 3555, 3556, 3557, 3558, 3559, 3560, 3561, 3562, 3563, 3564, 3565, 3566, 3567, 3568, 3569, 3570, 3571, 3572, 3573, 3574, 3575, 3576, 3577, 3578, 3579, 3580, 3581, 3582, 3583, 3584, 3585, 3586, 3587, 3588, 3589, 3590, 3591, 3592, 3593, 3594, 3595, 3596, 3597, 3598, 3599, 3600, 3601, 3602, 3603, 3604, 3605, 3606, 3607, 3608, 3609, 3610, 3611, 3612, 3613, 3614, 3615, 3616, 3617, 3618, 3619, 3620, 3621, 3622, 3623, 3624, 3625, 3626, 3627, 3628, 3629, 3630, 3631, 3632, 3633, 3634, 3635, 3636, 3637, 3638, 3639, 3640, 3641, 3642, 3643, 3644, 3645, 3646, 3647, 3648, 3649, 3650, 3651, 3652, 3653, 3654, 3655, 3656, 3657, 3658, 3659, 3660, 3661, 3662, 3663, 3664, 3665, 3666, 3667, 3668, 3669, 3670, 3671, 3672, 3673, 3674, 3675, 3676, 3677, 3678, 3679, 3680, 3681, 3682, 3683, 3684, 3685, 3686, 3687, 3688, 3689, 3690, 3691, 3692, 3693, 3694, 3695, 3696, 3697, 3698, 3699, 3700, 3701, 3702, 3703, 3704, 3705, 3706, 3707, 3708, 3709, 3710, 3711, 3712, 3713, 3714, 3715, 3716, 3717, 3718, 3719, 3720, 3721, 3722, 3723, 3724, 3725, 3726, 3727, 3728, 3729, 3730, 3731, 3732, 3733, 3734, 3735, 3736, 3737, 3738, 3739, 3740, 3741, 3742, 3743, 3744, 3745, 3746, 3747, 3748, 3749, 3750, 3751, 3752, 3753, 3754, 3755, 3756, 3757, 3758, 3759, 3760, 3761, 3762, 3763, 3764, 3765, 3766, 3767, 3768, 3769, 3770, 3771, 3772, 3773, 3774, 3775, 3776, 3777, 3778, 3779, 3780, 3781, 3782, 3783, 3784, 3785, 3786, 3787, 3788, 3789, 3790, 3791, 3792, 3793, 3794, 3795, 3796, 3797, 3798, 3799, 3800, 3801, 3802, 3803, 3804, 3805, 3806, 3807, 3808, 3809, 3810, 3811, 3812, 3813, 3814, 3815, 3816, 3817, 3818, 3819, 3820, 3821, 3822, 3823, 3824, 3825, 3826, 3827, 3828, 3829, 3830, 3831, 3832, 3833, 3834, 3835, 3836, 3837, 3838, 3839, 3840, 3841, 3842, 3843, 3844, 3845, 3846, 3847, 3848, 3849, 3850, 3851, 3852, 3853, 3854, 3855, 3856, 3857, 3858, 3859, 3860, 3861, 3862, 3863, 3864, 3865, 3866, 3867, 3868, 3869, 3870, 3871, 3872, 3873, 3874, 3875, 3876, 3877, 3878, 3879, 3880, 3881, 3882, 3883, 3884, 3885, 3886, 3887, 3888, 3889, 3890, 3891, 3892, 3893, 3894, 3895, 3896, 3897, 3898, 3899, 3900, 3901, 3902, 3903, 3904, 3905, 3906, 3907, 3908, 3909, 3910, 3911, 3912, 3913, 3914, 3915, 3916, 3917, 3918, 3919, 3920, 3921, 3922, 3923, 3924, 3925, 3926, 3927, 3928, 3929, 3930, 3931, 3932, 3933, 3934, 3935, 3936, 3937, 3938, 3939, 3940, 3941, 3942, 3943, 3944, 3945, 3946, 3947, 3948, 3949, 3950, 3951, 3952, 3953, 3954, 3955, 3956, 3957, 3958, 3959, 3960, 3961, 3962, 3963, 3964, 3965, 3966, 3967, 3968, 3969, 3970, 3971, 3972, 3973, 3974, 3975, 3976, 3977, 3978, 3979, 3980, 3981, 3982, 3983, 3984, 3985, 3986, 3987, 3988, 3989, 3990, 3991, 3992, 3993, 3994, 3995, 3996, 3997, 3998, 3999, 4000, 4001, 4002, 4003, 4004, 4005, 4006, 4007, 4008, 4009, 4010, 4011, 4012, 4013, 4014, 4015, 4016, 4017, 4018, 4019, 4020, 4021, 4022, 4023, 4024, 4025, 4026, 4027, 4028, 4029, 4030, 4031, 4032, 4033, 4034, 4035, 4036, 4037, 4038, 4039, 4040, 4045, 4046, 4047, 4048, 4049, 4050, 4051, 4052, 4053, 4054, 4055, 4056, 4057, 4058, 4059, 4060, 4061, 4062, 4063, 4064, 4065, 4066, 4067, 4068, 4069, 4070, 4071, 4072, 4073, 4074, 4075, 4076, 4077, 4078, 4079, 4080, 4081, 4082, 4083, 4084, 4156, 4157, 4158, 4159, 4184, 4185, 4186, 4187, 4188, 4189, 4190, 4191, 4192, 4193, 4194, 4254, 4255, 4256, 4364, 4365, 4366, 4367, 4368, 4369, 4370, 4371, 4372, 4373, 4374, 4375, 4376, 4377, 4378, 4379, 4380, 4392, 4394, 4395, 4396, 4398, 4399, 4400, 4401, 4403, 4406, 4554, 4555, 4556, 4557, 4558, 4559, 4560, 4561, 4562, 4563, 4564, 4565, 4566, 4567, 4568, 4569, 4570, 4571, 4596, 4607, 4608, 4609, 4610, 4611, 4612, 4613, 4614, 4615, 4616, 4617, 4618, 4619, 4620, 4621, 4622, 4623, 4624, 4625, 4626, 5074, 5075, 5076, 5077, 5078, 5079, 5080, 5081, 5082, 5083, 5084, 5085, 5086, 5087, 5401, 5402, 5403, 5404, 5405, 5406, 5407, 5408, 5409, 5410, 5411, 5412, 5413, 5414, 5415, 5416, 5417, 5418, 5419, 5448, 5452, 5453, 5454, 5455, 5456, 5459, 5480, 5481, 5482, 5483, 5484, 5485, 5486, 5487, 5488, 5489, 5490, 5501, 5502, 5503, 5504, 5505, 5506, 5516, 5517, 5519, 5982, 5983, 5984, 5985, 5986, 5987, 5988, 5989, 5990, 5991, 5992, 5993, 5994, 5995, 5996, 5997, 5998, 6652, 6653, 6658, 6659, 6661, 6663, 6665, 6666, 8269, 8272, 8273, 8274, 8275, 8276, 8277, 8278, 8279, 8280, 8281, 8282, 8283, 8284, 8285, 8286, 8287, 8288, 8289, 8290, 8291, 8292, 8293, 8294, 8295, 8296, 8297, 8298, 8299, 8301, 8303, 8304, 8305, 8306, 8307, 8309, 8310, 8311, 8312, 8313, 8314, 8315, 8317, 8318, 8320, 8322, 8326, 8328, 8331, 8332, 8333, 8334, 8335, 8336, 8337, 8338, 8339, 8340, 8341, 8342, 8343, 8344, 8345, 8346, 8347, 8348, 8384, 8385, 8386, 8387, 8388, 8389, 8390, 8391, 8392, 8393, 8394, 8395, 8396, 8397, 8398, 8399, 8400, 8401, 8402, 8403, 8404, 8416, 8419, 8420, 8421, 8422, 8423, 8424, 8425, 8426, 8427, 8428, 8429, 8430, 8431, 8432, 8433, 8434]\n",
      "      BandAccX  BandAccY  BandAccZ  altitude  course  hacc  latitude  \\\n",
      "0     0.407986  0.648027  0.377289  1.000000     0.0   0.0  0.000000   \n",
      "1     0.408303  0.648412  0.376941  0.999879     0.0   0.0  0.000121   \n",
      "2     0.408398  0.648517  0.376845  0.999848     0.0   0.0  0.000152   \n",
      "3     0.408756  0.648910  0.376454  0.999727     0.0   0.0  0.000273   \n",
      "4     0.408825  0.648991  0.376359  0.999696     0.0   0.0  0.000304   \n",
      "...        ...       ...       ...       ...     ...   ...       ...   \n",
      "8430  0.485244  0.477277  0.496126  0.008259     0.0   0.0  0.991741   \n",
      "8431  0.486371  0.477622  0.497965  0.008229     0.0   0.0  0.991771   \n",
      "8432  0.488406  0.486910  0.517729  0.007925     0.0   0.0  0.992075   \n",
      "8433  0.485935  0.489330  0.519460  0.007865     0.0   0.0  0.992135   \n",
      "8434  0.481222  0.492784  0.520517  0.007774     0.0   0.0  0.992226   \n",
      "\n",
      "      longitude  speed      rate  ...  AngularVelocity_X_diff_rolling_min  \\\n",
      "0      0.000000    0.0  0.299192  ...                            1.000000   \n",
      "1      0.000121    0.0  0.299449  ...                            1.000000   \n",
      "2      0.000152    0.0  0.299511  ...                            1.000000   \n",
      "3      0.000273    0.0  0.299758  ...                            1.000000   \n",
      "4      0.000304    0.0  0.299819  ...                            1.000000   \n",
      "...         ...    ...       ...  ...                                 ...   \n",
      "8430   0.991741    0.0  0.767449  ...                            0.997433   \n",
      "8431   0.991771    0.0  0.767418  ...                            0.997433   \n",
      "8432   0.992075    0.0  0.767094  ...                            0.997433   \n",
      "8433   0.992135    0.0  0.767028  ...                            0.997433   \n",
      "8434   0.992226    0.0  0.766928  ...                            0.999859   \n",
      "\n",
      "      AngularVelocity_X_diff_rolling_max  AngularVelocity_Y_diff_rolling_mean  \\\n",
      "0                               0.000000                             0.486825   \n",
      "1                               0.000000                             0.486825   \n",
      "2                               0.000000                             0.486825   \n",
      "3                               0.000000                             0.486825   \n",
      "4                               0.000000                             0.486825   \n",
      "...                                  ...                                  ...   \n",
      "8430                            0.003153                             0.486825   \n",
      "8431                            0.003153                             0.486825   \n",
      "8432                            0.003153                             0.486825   \n",
      "8433                            0.003153                             0.486825   \n",
      "8434                            0.003153                             0.488813   \n",
      "\n",
      "      AngularVelocity_Y_diff_rolling_std  AngularVelocity_Y_diff_rolling_min  \\\n",
      "0                               0.000000                            1.000000   \n",
      "1                               0.000000                            1.000000   \n",
      "2                               0.000000                            1.000000   \n",
      "3                               0.000000                            1.000000   \n",
      "4                               0.000000                            1.000000   \n",
      "...                                  ...                                 ...   \n",
      "8430                            0.004128                            0.994715   \n",
      "8431                            0.004128                            0.994715   \n",
      "8432                            0.004128                            0.994715   \n",
      "8433                            0.004128                            0.994715   \n",
      "8434                            0.001569                            0.999861   \n",
      "\n",
      "      AngularVelocity_Y_diff_rolling_max  AngularVelocity_Z_diff_rolling_mean  \\\n",
      "0                               0.000000                             0.533893   \n",
      "1                               0.000000                             0.533893   \n",
      "2                               0.000000                             0.533893   \n",
      "3                               0.000000                             0.533893   \n",
      "4                               0.000000                             0.533893   \n",
      "...                                  ...                                  ...   \n",
      "8430                            0.001524                             0.533893   \n",
      "8431                            0.001524                             0.533893   \n",
      "8432                            0.001524                             0.533893   \n",
      "8433                            0.001524                             0.533893   \n",
      "8434                            0.001524                             0.543619   \n",
      "\n",
      "      AngularVelocity_Z_diff_rolling_std  AngularVelocity_Z_diff_rolling_min  \\\n",
      "0                               0.000000                            1.000000   \n",
      "1                               0.000000                            1.000000   \n",
      "2                               0.000000                            1.000000   \n",
      "3                               0.000000                            1.000000   \n",
      "4                               0.000000                            1.000000   \n",
      "...                                  ...                                 ...   \n",
      "8430                            0.023755                            0.975678   \n",
      "8431                            0.023755                            0.975678   \n",
      "8432                            0.023755                            0.975678   \n",
      "8433                            0.023755                            0.975678   \n",
      "8434                            0.014130                            0.995245   \n",
      "\n",
      "      AngularVelocity_Z_diff_rolling_max  \n",
      "0                               0.000000  \n",
      "1                               0.000000  \n",
      "2                               0.000000  \n",
      "3                               0.000000  \n",
      "4                               0.000000  \n",
      "...                                  ...  \n",
      "8430                            0.015373  \n",
      "8431                            0.015373  \n",
      "8432                            0.015373  \n",
      "8433                            0.015373  \n",
      "8434                            0.015373  \n",
      "\n",
      "[1568 rows x 232 columns]\n",
      "0       3\n",
      "1       3\n",
      "2       3\n",
      "3       3\n",
      "4       3\n",
      "       ..\n",
      "8430    0\n",
      "8431    0\n",
      "8432    0\n",
      "8433    0\n",
      "8434    0\n",
      "Name: act, Length: 1568, dtype: int64\n",
      "0       0\n",
      "1       0\n",
      "2       0\n",
      "3       0\n",
      "4       0\n",
      "       ..\n",
      "8430    3\n",
      "8431    3\n",
      "8432    3\n",
      "8433    3\n",
      "8434    3\n",
      "Length: 1568, dtype: int64\n"
     ]
    },
    {
     "data": {
      "image/png": "[encoded data removed]",
      "text/plain": [
       "<Figure size 1000x800 with 2 Axes>"
      ]
     },
     "metadata": {},
     "output_type": "display_data"
    },
    {
     "data": {
      "text/plain": [
       "<Figure size 640x480 with 0 Axes>"
      ]
     },
     "metadata": {},
     "output_type": "display_data"
    }
   ],
   "source": [
    "# Check the error classification\n",
    "error_index = []\n",
    "for i in range(len(y_true)):\n",
    "    if y_true[i] != y_pred_list[i]:\n",
    "        error_index.append(i)\n",
    "print(error_index)\n",
    "# Print the error classification\n",
    "print(test_features.iloc[error_index])\n",
    "print(test_labels.iloc[error_index])\n",
    "print(pd.Series(y_pred_list)[error_index])\n",
    "\n",
    "# Make confusion matrix\n",
    "cm = confusion_matrix(y_true, y_pred_list)\n",
    "plt.figure(figsize=(10, 8))\n",
    "ax = sns.heatmap(cm, annot=True, fmt='d', cmap='Blues')\n",
    "plt.xlabel('Predicted labels')\n",
    "\n",
    "plt.ylabel('True labels')\n",
    "plt.title('Confusion Matrix')\n",
    "ax.invert_yaxis()  # Invert y axis\n",
    "plt.show()\n",
    "plt.savefig(\"Plot/Confusion-Matrix.png\")"
   ]
  }
 ],
 "metadata": {
  "kernelspec": {
   "display_name": "Python 3",
   "language": "python",
   "name": "python3"
  },
  "language_info": {
   "codemirror_mode": {
    "name": "ipython",
    "version": 3
   },
   "file_extension": ".py",
   "mimetype": "text/x-python",
   "name": "python",
   "nbconvert_exporter": "python",
   "pygments_lexer": "ipython3",
   "version": "3.10.11"
  }
 },
 "nbformat": 4,
 "nbformat_minor": 2
}
